{
 "cells": [
  {
   "cell_type": "code",
   "execution_count": 1,
   "id": "b477c821-0a39-41b3-9eb2-72857f2faaf1",
   "metadata": {},
   "outputs": [],
   "source": [
    "name = 'Data Science Masters'"
   ]
  },
  {
   "cell_type": "code",
   "execution_count": 2,
   "id": "030e4eb9-b54c-45cc-8675-5d31e9a2aa34",
   "metadata": {},
   "outputs": [
    {
     "data": {
      "text/plain": [
       "'dATA sCIENCE mASTERS'"
      ]
     },
     "execution_count": 2,
     "metadata": {},
     "output_type": "execute_result"
    }
   ],
   "source": [
    "name.swapcase()"
   ]
  },
  {
   "cell_type": "code",
   "execution_count": 3,
   "id": "4f1deac8-9d55-4596-9bdb-441b1a97c18a",
   "metadata": {},
   "outputs": [
    {
     "data": {
      "text/plain": [
       "'Data Science Masters'"
      ]
     },
     "execution_count": 3,
     "metadata": {},
     "output_type": "execute_result"
    }
   ],
   "source": [
    "name.title()"
   ]
  },
  {
   "cell_type": "code",
   "execution_count": 4,
   "id": "c44673c5-00d4-4fb3-b42e-2d9ff73e597b",
   "metadata": {},
   "outputs": [
    {
     "data": {
      "text/plain": [
       "'Data science masters'"
      ]
     },
     "execution_count": 4,
     "metadata": {},
     "output_type": "execute_result"
    }
   ],
   "source": [
    "name.capitalize()"
   ]
  },
  {
   "cell_type": "code",
   "execution_count": 6,
   "id": "5c665cf2-9324-4ebd-9199-cbfc1130a6fb",
   "metadata": {},
   "outputs": [
    {
     "data": {
      "text/plain": [
       "['Data', 'Science', 'Masters']"
      ]
     },
     "execution_count": 6,
     "metadata": {},
     "output_type": "execute_result"
    }
   ],
   "source": [
    "name.split()"
   ]
  },
  {
   "cell_type": "code",
   "execution_count": 7,
   "id": "4cafbf05-d8a6-464d-8f5b-cb10d2dc8209",
   "metadata": {},
   "outputs": [
    {
     "data": {
      "text/plain": [
       "('Data ', 'S', 'cience Masters')"
      ]
     },
     "execution_count": 7,
     "metadata": {},
     "output_type": "execute_result"
    }
   ],
   "source": [
    "name.partition('S')"
   ]
  },
  {
   "cell_type": "code",
   "execution_count": 8,
   "id": "dd2a3b49-e4b1-43dd-8cd5-d46f19229491",
   "metadata": {},
   "outputs": [
    {
     "data": {
      "text/plain": [
       "'D a a a t a a a   a S a c a i a e a n a c a e a   a M a a a s a t a e a r a s'"
      ]
     },
     "execution_count": 8,
     "metadata": {},
     "output_type": "execute_result"
    }
   ],
   "source": [
    "' a '.join(name)"
   ]
  },
  {
   "cell_type": "markdown",
   "id": "1bd64a61-93e3-4ba8-9a43-2198a4dc46f0",
   "metadata": {},
   "source": [
    " ## Reversing a String"
   ]
  },
  {
   "cell_type": "code",
   "execution_count": 9,
   "id": "835fc18c-1152-4cde-afde-4822423b5932",
   "metadata": {},
   "outputs": [
    {
     "data": {
      "text/plain": [
       "<reversed at 0x7fdeb809a8f0>"
      ]
     },
     "execution_count": 9,
     "metadata": {},
     "output_type": "execute_result"
    }
   ],
   "source": [
    "reversed(name)"
   ]
  },
  {
   "cell_type": "code",
   "execution_count": 10,
   "id": "daa47f1d-ede1-469b-b91c-170dae1a87f2",
   "metadata": {},
   "outputs": [
    {
     "data": {
      "text/plain": [
       "'sretsaM ecneicS ataD'"
      ]
     },
     "execution_count": 10,
     "metadata": {},
     "output_type": "execute_result"
    }
   ],
   "source": [
    "''.join(reversed(name))"
   ]
  },
  {
   "cell_type": "code",
   "execution_count": 11,
   "id": "316dac53-2747-4a93-8ba1-1c69345eb582",
   "metadata": {},
   "outputs": [
    {
     "data": {
      "text/plain": [
       "'Rstarostarhstaristart'"
      ]
     },
     "execution_count": 11,
     "metadata": {},
     "output_type": "execute_result"
    }
   ],
   "source": [
    "\"star\".join(\"Rohit\")"
   ]
  },
  {
   "cell_type": "code",
   "execution_count": 12,
   "id": "7ea38480-6579-475f-b9da-5ec7a6080da4",
   "metadata": {},
   "outputs": [
    {
     "data": {
      "text/plain": [
       "['r', 'a', 'm', 'u', 'K']"
      ]
     },
     "execution_count": 12,
     "metadata": {},
     "output_type": "execute_result"
    }
   ],
   "source": [
    "## Typecasting\n",
    "list(reversed(\"Kumar\"))"
   ]
  },
  {
   "cell_type": "code",
   "execution_count": 13,
   "id": "38e77136-1b90-4d7f-91cf-7019c860b655",
   "metadata": {},
   "outputs": [
    {
     "name": "stdout",
     "output_type": "stream",
     "text": [
      "['s', 'r', 'e', 't', 's', 'a', 'M', ' ', 'e', 'c', 'n', 'e', 'i', 'c', 'S', ' ', 'a', 't', 'a', 'D']\n"
     ]
    }
   ],
   "source": [
    "a = list(reversed(name))\n",
    "print(a)"
   ]
  },
  {
   "cell_type": "code",
   "execution_count": 14,
   "id": "6a2c1832-0b68-41cd-88a0-efe629ee286b",
   "metadata": {},
   "outputs": [
    {
     "name": "stdout",
     "output_type": "stream",
     "text": [
      "sretsaM ecneicS ataD"
     ]
    }
   ],
   "source": [
    " for i in list(reversed(name)):\n",
    "        print(i,end=\"\")"
   ]
  },
  {
   "cell_type": "markdown",
   "id": "651069c7-0030-4ad8-a767-0d40176ae22d",
   "metadata": {},
   "source": [
    "#### Removing characters from the end of the string"
   ]
  },
  {
   "cell_type": "code",
   "execution_count": 15,
   "id": "55841b2f-094b-45ae-b1b6-8e26cccde92d",
   "metadata": {},
   "outputs": [
    {
     "data": {
      "text/plain": [
       "'PWSkills'"
      ]
     },
     "execution_count": 15,
     "metadata": {},
     "output_type": "execute_result"
    }
   ],
   "source": [
    "course = \" PWSkills \"\n",
    "course.strip(' ')"
   ]
  },
  {
   "cell_type": "code",
   "execution_count": 16,
   "id": "75a66f11-9760-46c8-8331-3474d65f4cd4",
   "metadata": {},
   "outputs": [
    {
     "data": {
      "text/plain": [
       "'PWSkills '"
      ]
     },
     "execution_count": 16,
     "metadata": {},
     "output_type": "execute_result"
    }
   ],
   "source": [
    "course.lstrip(' ')"
   ]
  },
  {
   "cell_type": "code",
   "execution_count": 17,
   "id": "9dd73853-fa08-419f-a57c-d5cc8247a9e1",
   "metadata": {},
   "outputs": [
    {
     "data": {
      "text/plain": [
       "' PWSkills'"
      ]
     },
     "execution_count": 17,
     "metadata": {},
     "output_type": "execute_result"
    }
   ],
   "source": [
    "course.rstrip(' ')"
   ]
  },
  {
   "cell_type": "code",
   "execution_count": 18,
   "id": "e9b97697-fb24-45e5-829e-afd774d969c0",
   "metadata": {},
   "outputs": [],
   "source": [
    "str1= \"Welcome to PWskills and Dat cience Masters\""
   ]
  },
  {
   "cell_type": "code",
   "execution_count": 19,
   "id": "dd2f64ca-c8d8-4c23-b5ac-b7ebbb39721c",
   "metadata": {},
   "outputs": [
    {
     "data": {
      "text/plain": [
       "'Welcome to PWskills and Data Science Masters'"
      ]
     },
     "execution_count": 19,
     "metadata": {},
     "output_type": "execute_result"
    }
   ],
   "source": [
    "str1.replace(\"Dat\",\"Data\").replace(\"cience\",\"Science\")"
   ]
  },
  {
   "cell_type": "code",
   "execution_count": 20,
   "id": "60c657e8-2645-4538-bbf2-112691bd936c",
   "metadata": {},
   "outputs": [],
   "source": [
    "str2=\"rohit.kumar.iitism@gmail.com\""
   ]
  },
  {
   "cell_type": "code",
   "execution_count": 21,
   "id": "b636ea1e-8a2d-455e-b8b4-99df206cc00a",
   "metadata": {},
   "outputs": [
    {
     "data": {
      "text/plain": [
       "'rohit.kumarFROMiitism@gmail.com'"
      ]
     },
     "execution_count": 21,
     "metadata": {},
     "output_type": "execute_result"
    }
   ],
   "source": [
    "str2.replace(\".i\",\"FROMi\")"
   ]
  },
  {
   "cell_type": "code",
   "execution_count": 22,
   "id": "c6b0bbe3-f888-4298-a42e-f69afc0036bd",
   "metadata": {},
   "outputs": [],
   "source": [
    "str3=\"PWskills\""
   ]
  },
  {
   "cell_type": "code",
   "execution_count": 23,
   "id": "9717c349-692b-47e4-b5d4-50ded90b2b56",
   "metadata": {},
   "outputs": [
    {
     "name": "stdout",
     "output_type": "stream",
     "text": [
      "slliksWP"
     ]
    }
   ],
   "source": [
    "for i in range(len(str3)-1,-1,-1):\n",
    "    print(str3[i],end=\"\")"
   ]
  },
  {
   "cell_type": "code",
   "execution_count": 24,
   "id": "96767b03-b245-4c29-8bc6-e0566e6c878e",
   "metadata": {},
   "outputs": [
    {
     "name": "stdout",
     "output_type": "stream",
     "text": [
      "8\n"
     ]
    }
   ],
   "source": [
    "count=0\n",
    "\n",
    "for i in str3:\n",
    "    count=count+1\n",
    "print(count)"
   ]
  },
  {
   "cell_type": "code",
   "execution_count": 25,
   "id": "73a64c50-3236-4de9-bef9-eb28b5f237b9",
   "metadata": {},
   "outputs": [
    {
     "name": "stdout",
     "output_type": "stream",
     "text": [
      "0 = P\n",
      "1 = W\n",
      "2 = s\n",
      "3 = k\n",
      "4 = i\n",
      "5 = l\n",
      "6 = l\n",
      "7 = s\n"
     ]
    }
   ],
   "source": [
    "for i in range(len(str3)):\n",
    "    print(i,\"=\",str3[i])"
   ]
  },
  {
   "cell_type": "code",
   "execution_count": 26,
   "id": "07ad086d-53d1-4926-b65c-e74798ef29e0",
   "metadata": {},
   "outputs": [
    {
     "name": "stdout",
     "output_type": "stream",
     "text": [
      "slliksWP"
     ]
    }
   ],
   "source": [
    "pw=len(str3)-1\n",
    "\n",
    "while pw>=0:\n",
    "    print(str3[pw],end=\"\")\n",
    "    pw=pw-1"
   ]
  },
  {
   "cell_type": "code",
   "execution_count": 27,
   "id": "39edba97-6e28-468c-8508-619896a094d9",
   "metadata": {},
   "outputs": [
    {
     "name": "stdout",
     "output_type": "stream",
     "text": [
      "s\n",
      "l\n",
      "l\n",
      "i\n",
      "k\n",
      "s\n",
      "W\n",
      "P\n"
     ]
    }
   ],
   "source": [
    "for i in range(len(str3)):\n",
    "    print(str3[len(str3)-(i+1)])"
   ]
  },
  {
   "cell_type": "code",
   "execution_count": 28,
   "id": "f69ec061-3a4c-465c-9bcf-c86a4ac0370a",
   "metadata": {},
   "outputs": [
    {
     "name": "stdout",
     "output_type": "stream",
     "text": [
      "P is not a vowel\n",
      "W is not a vowel\n",
      "s is not a vowel\n",
      "k is not a vowel\n",
      "i is a vowel\n",
      "l is not a vowel\n",
      "l is not a vowel\n",
      "s is not a vowel\n"
     ]
    }
   ],
   "source": [
    "Name = \"PWskills\"\n",
    "Vowels = \"AaEeIiOoUu\"\n",
    "\n",
    "for i in Name:\n",
    "    if i in Vowels:\n",
    "        print(f\"{i} is a vowel\")\n",
    "    else:\n",
    "        print(\"{} is not a vowel\".format(i))"
   ]
  },
  {
   "cell_type": "markdown",
   "id": "d9e846dd-eaa4-4041-a463-bc6d34f17797",
   "metadata": {},
   "source": [
    "# List"
   ]
  },
  {
   "cell_type": "code",
   "execution_count": 1,
   "id": "743225ec-87cb-47fb-add1-c3771b9b2b6c",
   "metadata": {},
   "outputs": [],
   "source": [
    "lst=[1,2,3,4,5,6]"
   ]
  },
  {
   "cell_type": "code",
   "execution_count": 2,
   "id": "58353a7d-e656-4bdb-847b-c434ad5fcff5",
   "metadata": {},
   "outputs": [
    {
     "data": {
      "text/plain": [
       "[1, 2, 3, 4, 5, 6, 8, 9]"
      ]
     },
     "execution_count": 2,
     "metadata": {},
     "output_type": "execute_result"
    }
   ],
   "source": [
    "lst + [8,9]"
   ]
  },
  {
   "cell_type": "code",
   "execution_count": 3,
   "id": "3fb13e05-9b9d-46f3-bb30-8d169de2a5c2",
   "metadata": {},
   "outputs": [
    {
     "data": {
      "text/plain": [
       "[1, 2, 3, 4, 5, 6]"
      ]
     },
     "execution_count": 3,
     "metadata": {},
     "output_type": "execute_result"
    }
   ],
   "source": [
    "lst"
   ]
  },
  {
   "cell_type": "code",
   "execution_count": 4,
   "id": "c256b79d-1c74-4813-9873-9ebd75c1c43b",
   "metadata": {},
   "outputs": [
    {
     "data": {
      "text/plain": [
       "True"
      ]
     },
     "execution_count": 4,
     "metadata": {},
     "output_type": "execute_result"
    }
   ],
   "source": [
    "2 in lst"
   ]
  },
  {
   "cell_type": "code",
   "execution_count": 5,
   "id": "f92b337f-e6f1-4e51-b0b8-9d4131035954",
   "metadata": {},
   "outputs": [
    {
     "name": "stdout",
     "output_type": "stream",
     "text": [
      "Present\n"
     ]
    }
   ],
   "source": [
    "if 2 in lst:\n",
    "    print(\"Present\")"
   ]
  },
  {
   "cell_type": "code",
   "execution_count": 6,
   "id": "f21b06b5-22ae-491c-b196-16f2c4313cc9",
   "metadata": {},
   "outputs": [],
   "source": [
    "lst.append('PW')"
   ]
  },
  {
   "cell_type": "code",
   "execution_count": 7,
   "id": "cdc3fb13-d990-4bc3-924d-4d1c4ea415ed",
   "metadata": {},
   "outputs": [
    {
     "data": {
      "text/plain": [
       "[1, 2, 3, 4, 5, 6, 'PW']"
      ]
     },
     "execution_count": 7,
     "metadata": {},
     "output_type": "execute_result"
    }
   ],
   "source": [
    "lst"
   ]
  },
  {
   "cell_type": "code",
   "execution_count": 8,
   "id": "42129c94-d94b-4b7f-b09e-27577f2d8d64",
   "metadata": {},
   "outputs": [],
   "source": [
    "lst.append(['PW','Skills'])"
   ]
  },
  {
   "cell_type": "code",
   "execution_count": 9,
   "id": "b64b8428-21a9-42bb-bf36-afeea74020b9",
   "metadata": {},
   "outputs": [
    {
     "data": {
      "text/plain": [
       "[1, 2, 3, 4, 5, 6, 'PW', ['PW', 'Skills']]"
      ]
     },
     "execution_count": 9,
     "metadata": {},
     "output_type": "execute_result"
    }
   ],
   "source": [
    "lst"
   ]
  },
  {
   "cell_type": "code",
   "execution_count": 10,
   "id": "114099ea-b20d-41a2-a739-f069d72c3775",
   "metadata": {},
   "outputs": [],
   "source": [
    "lst.extend(['Skills','Masters'])"
   ]
  },
  {
   "cell_type": "code",
   "execution_count": 11,
   "id": "d078097f-e4e9-4aab-9989-39b6c4097042",
   "metadata": {},
   "outputs": [
    {
     "data": {
      "text/plain": [
       "[1, 2, 3, 4, 5, 6, 'PW', ['PW', 'Skills'], 'Skills', 'Masters']"
      ]
     },
     "execution_count": 11,
     "metadata": {},
     "output_type": "execute_result"
    }
   ],
   "source": [
    "lst"
   ]
  },
  {
   "cell_type": "code",
   "execution_count": 12,
   "id": "70c06702-7a05-4812-baa7-2bbe3cfaff06",
   "metadata": {},
   "outputs": [
    {
     "data": {
      "text/plain": [
       "'Masters'"
      ]
     },
     "execution_count": 12,
     "metadata": {},
     "output_type": "execute_result"
    }
   ],
   "source": [
    "lst.pop()"
   ]
  },
  {
   "cell_type": "code",
   "execution_count": 13,
   "id": "feed852a-9803-4a8f-98b8-ba6939f59ee2",
   "metadata": {},
   "outputs": [
    {
     "data": {
      "text/plain": [
       "[1, 2, 3, 4, 5, 6, 'PW', ['PW', 'Skills'], 'Skills']"
      ]
     },
     "execution_count": 13,
     "metadata": {},
     "output_type": "execute_result"
    }
   ],
   "source": [
    "lst"
   ]
  },
  {
   "cell_type": "code",
   "execution_count": 14,
   "id": "05d659a2-7f3f-4ee5-a43f-cbd7d56bf7bb",
   "metadata": {},
   "outputs": [],
   "source": [
    "lst.reverse()"
   ]
  },
  {
   "cell_type": "code",
   "execution_count": 15,
   "id": "52b7dbb4-99bc-47f7-b681-caf3f6d21e7c",
   "metadata": {},
   "outputs": [
    {
     "data": {
      "text/plain": [
       "['Skills', ['PW', 'Skills'], 'PW', 6, 5, 4, 3, 2, 1]"
      ]
     },
     "execution_count": 15,
     "metadata": {},
     "output_type": "execute_result"
    }
   ],
   "source": [
    "lst"
   ]
  },
  {
   "cell_type": "code",
   "execution_count": 16,
   "id": "36da3cdd-0d35-4173-a9ff-609ed57b4165",
   "metadata": {},
   "outputs": [
    {
     "data": {
      "text/plain": [
       "1"
      ]
     },
     "execution_count": 16,
     "metadata": {},
     "output_type": "execute_result"
    }
   ],
   "source": [
    "lst.pop()"
   ]
  },
  {
   "cell_type": "code",
   "execution_count": 17,
   "id": "6a65c59d-53df-450c-a0cf-612ccbdb3312",
   "metadata": {},
   "outputs": [
    {
     "data": {
      "text/plain": [
       "2"
      ]
     },
     "execution_count": 17,
     "metadata": {},
     "output_type": "execute_result"
    }
   ],
   "source": [
    "lst.pop()"
   ]
  },
  {
   "cell_type": "code",
   "execution_count": 18,
   "id": "306f97b8-8de4-4408-af89-00449d54f67b",
   "metadata": {},
   "outputs": [
    {
     "data": {
      "text/plain": [
       "['Skills', ['PW', 'Skills'], 'PW', 6, 5, 4, 3]"
      ]
     },
     "execution_count": 18,
     "metadata": {},
     "output_type": "execute_result"
    }
   ],
   "source": [
    "lst"
   ]
  },
  {
   "cell_type": "code",
   "execution_count": 19,
   "id": "4ff9eae7-f4e7-4a15-a1e0-a0ea15976031",
   "metadata": {},
   "outputs": [],
   "source": [
    "### Inplace Operations\n",
    "lst.reverse()"
   ]
  },
  {
   "cell_type": "code",
   "execution_count": 20,
   "id": "2e732463-ed86-464d-a2c9-c372e3c8df77",
   "metadata": {},
   "outputs": [
    {
     "data": {
      "text/plain": [
       "[3, 4, 5, 6, 'PW', ['PW', 'Skills'], 'Skills']"
      ]
     },
     "execution_count": 20,
     "metadata": {},
     "output_type": "execute_result"
    }
   ],
   "source": [
    "lst"
   ]
  },
  {
   "cell_type": "code",
   "execution_count": 22,
   "id": "33df9484-5b0f-46d9-b2ca-a1d77ccb5619",
   "metadata": {},
   "outputs": [],
   "source": [
    "lst1=[4,3,6,5,2,1]"
   ]
  },
  {
   "cell_type": "code",
   "execution_count": 24,
   "id": "4d54addd-7739-4fb5-8e71-b5f057e84258",
   "metadata": {},
   "outputs": [],
   "source": [
    "lst1.sort()"
   ]
  },
  {
   "cell_type": "code",
   "execution_count": 59,
   "id": "7c169087-a50e-484b-9768-769fb87b5b83",
   "metadata": {},
   "outputs": [
    {
     "data": {
      "text/plain": [
       "[1, 2, 3, 4, 5, 6]"
      ]
     },
     "execution_count": 59,
     "metadata": {},
     "output_type": "execute_result"
    }
   ],
   "source": [
    "lst"
   ]
  },
  {
   "cell_type": "markdown",
   "id": "35e02f72-b5b3-4f88-9107-57a76bd4e1c0",
   "metadata": {},
   "source": [
    "# Nested List"
   ]
  },
  {
   "cell_type": "code",
   "execution_count": 60,
   "id": "05887caa-27d1-43be-b0c7-1a71c570b371",
   "metadata": {},
   "outputs": [],
   "source": [
    "l1=[1,2,3]\n",
    "l2=[4,5,6]\n",
    "l3=[7,8,9]\n",
    "\n",
    "matrix = [l1,l2,l3]"
   ]
  },
  {
   "cell_type": "code",
   "execution_count": 61,
   "id": "ce6fecaf-884b-40bc-b047-b1428d6ffcf1",
   "metadata": {},
   "outputs": [
    {
     "data": {
      "text/plain": [
       "[[1, 2, 3], [4, 5, 6], [7, 8, 9]]"
      ]
     },
     "execution_count": 61,
     "metadata": {},
     "output_type": "execute_result"
    }
   ],
   "source": [
    "matrix"
   ]
  },
  {
   "cell_type": "code",
   "execution_count": 62,
   "id": "c75a0200-b716-4917-a0f2-ba213fa54a37",
   "metadata": {},
   "outputs": [
    {
     "data": {
      "text/plain": [
       "[1, 2, 3]"
      ]
     },
     "execution_count": 62,
     "metadata": {},
     "output_type": "execute_result"
    }
   ],
   "source": [
    "matrix[0]"
   ]
  },
  {
   "cell_type": "code",
   "execution_count": 63,
   "id": "5e4521f1-3887-407a-9c41-54876fac4fc1",
   "metadata": {},
   "outputs": [
    {
     "data": {
      "text/plain": [
       "[2, 3]"
      ]
     },
     "execution_count": 63,
     "metadata": {},
     "output_type": "execute_result"
    }
   ],
   "source": [
    "matrix[0][1:]"
   ]
  },
  {
   "cell_type": "code",
   "execution_count": 98,
   "id": "8aadb248-d38c-4e35-bfd9-00bb39212643",
   "metadata": {},
   "outputs": [
    {
     "data": {
      "text/plain": [
       "[1, 4, 7]"
      ]
     },
     "execution_count": 98,
     "metadata": {},
     "output_type": "execute_result"
    }
   ],
   "source": [
    "[list[0] for list in matrix]"
   ]
  },
  {
   "cell_type": "markdown",
   "id": "531cf0d2-376f-4acf-b9d2-af340563e90a",
   "metadata": {},
   "source": [
    "## List Comprehension"
   ]
  },
  {
   "cell_type": "code",
   "execution_count": 25,
   "id": "d6028b62-7d49-44e9-8329-715a10e1e195",
   "metadata": {},
   "outputs": [
    {
     "data": {
      "text/plain": [
       "[0, 1, 2, 3, 4, 5, 6, 7, 8, 9, 10, 11, 12, 13, 14]"
      ]
     },
     "execution_count": 25,
     "metadata": {},
     "output_type": "execute_result"
    }
   ],
   "source": [
    "[i for i in range(15)]"
   ]
  },
  {
   "cell_type": "code",
   "execution_count": 26,
   "id": "22bc7811-0e95-4f4d-b902-d4318f244777",
   "metadata": {},
   "outputs": [
    {
     "data": {
      "text/plain": [
       "[0,\n",
       " 'ODD',\n",
       " 2,\n",
       " 'ODD',\n",
       " 4,\n",
       " 'ODD',\n",
       " 6,\n",
       " 'ODD',\n",
       " 8,\n",
       " 'ODD',\n",
       " 10,\n",
       " 'ODD',\n",
       " 12,\n",
       " 'ODD',\n",
       " 14,\n",
       " 'ODD',\n",
       " 16,\n",
       " 'ODD',\n",
       " 18,\n",
       " 'ODD']"
      ]
     },
     "execution_count": 26,
     "metadata": {},
     "output_type": "execute_result"
    }
   ],
   "source": [
    "[i if i%2==0 else \"ODD\" for i in range(20)]"
   ]
  },
  {
   "cell_type": "code",
   "execution_count": 27,
   "id": "17ca114b-8e73-415b-86d7-51552aba4b51",
   "metadata": {},
   "outputs": [],
   "source": [
    "## Sum of even numbers and odd numbers\n",
    "lst2= [1,2,3,4,5,6,7,8]"
   ]
  },
  {
   "cell_type": "code",
   "execution_count": 28,
   "id": "4a890515-1b5f-465b-97f2-0c01e30bc25b",
   "metadata": {},
   "outputs": [
    {
     "name": "stdout",
     "output_type": "stream",
     "text": [
      "Even_sum = 20\n",
      "Odd_sum = 16\n"
     ]
    }
   ],
   "source": [
    "sum=0\n",
    "sum2=0\n",
    "\n",
    "for i in lst2:\n",
    "    if i%2==0:\n",
    "        sum +=i\n",
    "    else:\n",
    "        sum2 +=i\n",
    "print(\"Even_sum\",'=',sum)\n",
    "print(\"Odd_sum\",'=',sum2)"
   ]
  },
  {
   "cell_type": "code",
   "execution_count": 29,
   "id": "efd01386-9f8f-4414-99a7-8ee2c0314bce",
   "metadata": {},
   "outputs": [
    {
     "ename": "TypeError",
     "evalue": "'int' object is not callable",
     "output_type": "error",
     "traceback": [
      "\u001b[0;31m---------------------------------------------------------------------------\u001b[0m",
      "\u001b[0;31mTypeError\u001b[0m                                 Traceback (most recent call last)",
      "Cell \u001b[0;32mIn[29], line 1\u001b[0m\n\u001b[0;32m----> 1\u001b[0m even_sum\u001b[38;5;241m=\u001b[39m\u001b[38;5;28;43msum\u001b[39;49m\u001b[43m(\u001b[49m\u001b[43m[\u001b[49m\u001b[43mi\u001b[49m\u001b[43m \u001b[49m\u001b[38;5;28;43;01mfor\u001b[39;49;00m\u001b[43m \u001b[49m\u001b[43mi\u001b[49m\u001b[43m \u001b[49m\u001b[38;5;129;43;01min\u001b[39;49;00m\u001b[43m \u001b[49m\u001b[43mlst2\u001b[49m\u001b[43m \u001b[49m\u001b[38;5;28;43;01mif\u001b[39;49;00m\u001b[43m \u001b[49m\u001b[43mi\u001b[49m\u001b[38;5;241;43m%\u001b[39;49m\u001b[38;5;241;43m2\u001b[39;49m\u001b[38;5;241;43m==\u001b[39;49m\u001b[38;5;241;43m0\u001b[39;49m\u001b[43m]\u001b[49m\u001b[43m)\u001b[49m\n",
      "\u001b[0;31mTypeError\u001b[0m: 'int' object is not callable"
     ]
    }
   ],
   "source": [
    "even_sum=sum([i for i in lst2 if i%2==0])"
   ]
  },
  {
   "cell_type": "code",
   "execution_count": 30,
   "id": "c415c42b-147e-47ff-96d9-c1cc1984a3c6",
   "metadata": {},
   "outputs": [
    {
     "ename": "TypeError",
     "evalue": "'int' object is not callable",
     "output_type": "error",
     "traceback": [
      "\u001b[0;31m---------------------------------------------------------------------------\u001b[0m",
      "\u001b[0;31mTypeError\u001b[0m                                 Traceback (most recent call last)",
      "Cell \u001b[0;32mIn[30], line 1\u001b[0m\n\u001b[0;32m----> 1\u001b[0m odd_sum \u001b[38;5;241m=\u001b[39m \u001b[38;5;28;43msum\u001b[39;49m\u001b[43m(\u001b[49m\u001b[43m[\u001b[49m\u001b[43mnum\u001b[49m\u001b[43m \u001b[49m\u001b[38;5;28;43;01mfor\u001b[39;49;00m\u001b[43m \u001b[49m\u001b[43mnum\u001b[49m\u001b[43m \u001b[49m\u001b[38;5;129;43;01min\u001b[39;49;00m\u001b[43m \u001b[49m\u001b[43mlst2\u001b[49m\u001b[43m \u001b[49m\u001b[38;5;28;43;01mif\u001b[39;49;00m\u001b[43m \u001b[49m\u001b[43mnum\u001b[49m\u001b[38;5;241;43m%\u001b[39;49m\u001b[38;5;241;43m2\u001b[39;49m\u001b[38;5;241;43m!=\u001b[39;49m\u001b[38;5;241;43m0\u001b[39;49m\u001b[43m]\u001b[49m\u001b[43m)\u001b[49m\n",
      "\u001b[0;31mTypeError\u001b[0m: 'int' object is not callable"
     ]
    }
   ],
   "source": [
    "odd_sum = sum([num for num in lst2 if num%2!=0])"
   ]
  },
  {
   "cell_type": "code",
   "execution_count": 31,
   "id": "141effa7-47d5-435b-b86c-2004c41421b4",
   "metadata": {},
   "outputs": [
    {
     "data": {
      "text/plain": [
       "[1, 4, 9, 16, 25, 36, 49, 64]"
      ]
     },
     "execution_count": 31,
     "metadata": {},
     "output_type": "execute_result"
    }
   ],
   "source": [
    "[i**2 for i in lst2]"
   ]
  },
  {
   "cell_type": "code",
   "execution_count": 94,
   "id": "478bbbbd-b560-4305-8137-adea55dc9cdd",
   "metadata": {},
   "outputs": [
    {
     "data": {
      "text/plain": [
       "[1, 2, 3, 4, 5]"
      ]
     },
     "execution_count": 94,
     "metadata": {},
     "output_type": "execute_result"
    }
   ],
   "source": [
    "## List of Positive numbers\n",
    "numbers=[-3,-2,-1,0,1,2,3,4,5]\n",
    "\n",
    "[i for i in numbers  if i>0]"
   ]
  },
  {
   "cell_type": "code",
   "execution_count": 95,
   "id": "a569424d-fdda-4460-8274-f980cc6e0dd6",
   "metadata": {},
   "outputs": [],
   "source": [
    "## Create a list of only the first letters of words in a list\n",
    "\n",
    "words=['apple','banana','cherry','dates']"
   ]
  },
  {
   "cell_type": "code",
   "execution_count": 100,
   "id": "89aaf4cb-cd3c-4cd5-9125-817f74d22ec3",
   "metadata": {},
   "outputs": [
    {
     "data": {
      "text/plain": [
       "['a', 'b', 'c', 'd']"
      ]
     },
     "execution_count": 100,
     "metadata": {},
     "output_type": "execute_result"
    }
   ],
   "source": [
    "[list[0] for list in words]"
   ]
  },
  {
   "cell_type": "code",
   "execution_count": 101,
   "id": "4a90b2b2-9869-4e42-af11-ac74a8e561e6",
   "metadata": {},
   "outputs": [
    {
     "data": {
      "text/plain": [
       "['a', 'b', 'c', 'd']"
      ]
     },
     "execution_count": 101,
     "metadata": {},
     "output_type": "execute_result"
    }
   ],
   "source": [
    "[word[0] for word in words]"
   ]
  },
  {
   "cell_type": "code",
   "execution_count": 1,
   "id": "3a6c8b3c-9954-403e-b8ff-0f00464037c4",
   "metadata": {},
   "outputs": [],
   "source": [
    "## Flatten a list of lists into single list\n",
    "\n",
    "lst3=[[1, 2, 3], [4, 5, 6], [7, 8, 9]]"
   ]
  },
  {
   "cell_type": "code",
   "execution_count": 2,
   "id": "a1bc1a20-8f6c-409a-80db-e825c1f4894e",
   "metadata": {},
   "outputs": [
    {
     "data": {
      "text/plain": [
       "[1, 2, 3, 4, 5, 6, 7, 8, 9]"
      ]
     },
     "execution_count": 2,
     "metadata": {},
     "output_type": "execute_result"
    }
   ],
   "source": [
    "[i for j in lst3 for i in j]"
   ]
  },
  {
   "cell_type": "code",
   "execution_count": 3,
   "id": "b17aa4f1-1164-42e7-9b4f-8591cd95633d",
   "metadata": {},
   "outputs": [
    {
     "data": {
      "text/plain": [
       "[[1, 2, 3], [4, 5, 6], [7, 8, 9]]"
      ]
     },
     "execution_count": 3,
     "metadata": {},
     "output_type": "execute_result"
    }
   ],
   "source": [
    "[list for list in lst3]"
   ]
  },
  {
   "cell_type": "code",
   "execution_count": 5,
   "id": "7882d565-37b3-427f-bc91-bc572e3caa75",
   "metadata": {},
   "outputs": [
    {
     "name": "stdout",
     "output_type": "stream",
     "text": [
      "123456789"
     ]
    }
   ],
   "source": [
    "for i in lst3:\n",
    "    for j in i:\n",
    "        print(j,end=\"\")"
   ]
  },
  {
   "cell_type": "code",
   "execution_count": 114,
   "id": "69d4bffd-013a-464e-b540-df8186f23df3",
   "metadata": {},
   "outputs": [
    {
     "name": "stdout",
     "output_type": "stream",
     "text": [
      "[1, 2, 3]\n",
      "[4, 5, 6]\n",
      "[7, 8, 9]\n"
     ]
    }
   ],
   "source": [
    "for i in lst3:\n",
    "    print(i)"
   ]
  },
  {
   "cell_type": "code",
   "execution_count": 7,
   "id": "41256b6e-d2a0-4ba0-abde-bdd2fd72ce4c",
   "metadata": {},
   "outputs": [],
   "source": [
    "## Create a list of only the prime numbers from the given list\n",
    "\n",
    "numbers=[1,2,3,4,5,6,7,8,9,10]"
   ]
  },
  {
   "cell_type": "code",
   "execution_count": 8,
   "id": "ce0f000b-6309-4e0a-8e1a-7ce435f561bf",
   "metadata": {},
   "outputs": [
    {
     "data": {
      "text/plain": [
       "[1, 2, 3, 4, 5, 6, 7, 8, 9, 10]"
      ]
     },
     "execution_count": 8,
     "metadata": {},
     "output_type": "execute_result"
    }
   ],
   "source": [
    "[num for num in numbers if num%num==0 and num%1==0]"
   ]
  },
  {
   "cell_type": "code",
   "execution_count": null,
   "id": "e12aaa9b-948c-4fd5-aff1-8cc3e28ece35",
   "metadata": {},
   "outputs": [],
   "source": []
  },
  {
   "cell_type": "code",
   "execution_count": 9,
   "id": "9b28119e-dc1a-44b5-b06a-487d22a2704b",
   "metadata": {},
   "outputs": [],
   "source": [
    "## Create a list of all the possible Combinations of 2 elements from a list\n",
    "\n",
    "numbers=[1,2,3,4,5]"
   ]
  },
  {
   "cell_type": "code",
   "execution_count": 15,
   "id": "c5422705-eafc-49c5-b2ff-1fd40edfc7fa",
   "metadata": {},
   "outputs": [
    {
     "name": "stdout",
     "output_type": "stream",
     "text": [
      "(1, 1)(1, 2)(1, 3)(1, 4)(1, 5)(2, 1)(2, 2)(2, 3)(2, 4)(2, 5)(3, 1)(3, 2)(3, 3)(3, 4)(3, 5)(4, 1)(4, 2)(4, 3)(4, 4)(4, 5)(5, 1)(5, 2)(5, 3)(5, 4)(5, 5)"
     ]
    }
   ],
   "source": [
    "for i in numbers:\n",
    "    for j in numbers:\n",
    "        print((i,j),end=\"\")"
   ]
  },
  {
   "cell_type": "code",
   "execution_count": 10,
   "id": "248e98a3-ca27-4797-9985-8ea2244296a8",
   "metadata": {},
   "outputs": [
    {
     "data": {
      "text/plain": [
       "[(1, 1),\n",
       " (1, 2),\n",
       " (1, 3),\n",
       " (1, 4),\n",
       " (1, 5),\n",
       " (2, 1),\n",
       " (2, 2),\n",
       " (2, 3),\n",
       " (2, 4),\n",
       " (2, 5),\n",
       " (3, 1),\n",
       " (3, 2),\n",
       " (3, 3),\n",
       " (3, 4),\n",
       " (3, 5),\n",
       " (4, 1),\n",
       " (4, 2),\n",
       " (4, 3),\n",
       " (4, 4),\n",
       " (4, 5),\n",
       " (5, 1),\n",
       " (5, 2),\n",
       " (5, 3),\n",
       " (5, 4),\n",
       " (5, 5)]"
      ]
     },
     "execution_count": 10,
     "metadata": {},
     "output_type": "execute_result"
    }
   ],
   "source": [
    "[(i,j) for i in numbers for j in numbers]"
   ]
  },
  {
   "cell_type": "markdown",
   "id": "91183e08-8716-49f5-b9b9-84bedcd6e295",
   "metadata": {},
   "source": [
    "## Tuples"
   ]
  },
  {
   "cell_type": "code",
   "execution_count": 40,
   "id": "1505576c-683c-45e3-8f02-69554f2a9bb4",
   "metadata": {},
   "outputs": [],
   "source": [
    "t1=(1,2,3,4,5,2+4j,'PW','Rohit',True)"
   ]
  },
  {
   "cell_type": "code",
   "execution_count": 41,
   "id": "9ee36889-b002-48cb-94aa-9478b7acb717",
   "metadata": {},
   "outputs": [
    {
     "data": {
      "text/plain": [
       "tuple"
      ]
     },
     "execution_count": 41,
     "metadata": {},
     "output_type": "execute_result"
    }
   ],
   "source": [
    "type(t1)"
   ]
  },
  {
   "cell_type": "code",
   "execution_count": 42,
   "id": "268393df-2b5a-46c2-ad93-f47dcc669fda",
   "metadata": {},
   "outputs": [
    {
     "data": {
      "text/plain": [
       "2"
      ]
     },
     "execution_count": 42,
     "metadata": {},
     "output_type": "execute_result"
    }
   ],
   "source": [
    "t1[1]"
   ]
  },
  {
   "cell_type": "code",
   "execution_count": 43,
   "id": "95bad3cc-4bbf-42c7-8eb9-10181f83d63f",
   "metadata": {},
   "outputs": [
    {
     "data": {
      "text/plain": [
       "(3, 4, 5, (2+4j), 'PW', 'Rohit', True)"
      ]
     },
     "execution_count": 43,
     "metadata": {},
     "output_type": "execute_result"
    }
   ],
   "source": [
    "t1[2:]"
   ]
  },
  {
   "cell_type": "code",
   "execution_count": 44,
   "id": "90fbea00-ef5d-412a-8877-2333f7439c60",
   "metadata": {},
   "outputs": [],
   "source": [
    "t1= t1[::-1]"
   ]
  },
  {
   "cell_type": "code",
   "execution_count": 45,
   "id": "0ddb117c-f965-4bb3-b0f1-3b5fcb9d0c40",
   "metadata": {},
   "outputs": [
    {
     "data": {
      "text/plain": [
       "(True, 'Rohit', 'PW', (2+4j), 5, 4, 3, 2, 1)"
      ]
     },
     "execution_count": 45,
     "metadata": {},
     "output_type": "execute_result"
    }
   ],
   "source": [
    "t1"
   ]
  },
  {
   "cell_type": "code",
   "execution_count": 46,
   "id": "3dd02ef8-fc22-4626-a4a4-d68d52c22486",
   "metadata": {},
   "outputs": [
    {
     "data": {
      "text/plain": [
       "True"
      ]
     },
     "execution_count": 46,
     "metadata": {},
     "output_type": "execute_result"
    }
   ],
   "source": [
    "t1[0]"
   ]
  },
  {
   "cell_type": "code",
   "execution_count": 48,
   "id": "e7da39e4-3e24-4128-8d62-bbe5a103c50e",
   "metadata": {},
   "outputs": [
    {
     "data": {
      "text/plain": [
       "1"
      ]
     },
     "execution_count": 48,
     "metadata": {},
     "output_type": "execute_result"
    }
   ],
   "source": [
    "t1.count(4)"
   ]
  },
  {
   "cell_type": "code",
   "execution_count": 51,
   "id": "07478c5e-3f7c-4281-bb91-ac5f2258bc5f",
   "metadata": {},
   "outputs": [
    {
     "data": {
      "text/plain": [
       "0"
      ]
     },
     "execution_count": 51,
     "metadata": {},
     "output_type": "execute_result"
    }
   ],
   "source": [
    "t1.index(1)"
   ]
  },
  {
   "cell_type": "code",
   "execution_count": 52,
   "id": "44d47063-4713-44f8-bb59-64eccbaaf8f6",
   "metadata": {},
   "outputs": [
    {
     "data": {
      "text/plain": [
       "2"
      ]
     },
     "execution_count": 52,
     "metadata": {},
     "output_type": "execute_result"
    }
   ],
   "source": [
    "t1.count(1)"
   ]
  },
  {
   "cell_type": "code",
   "execution_count": 53,
   "id": "abd5f8a8-897e-451c-a7e0-20ad3c6c4856",
   "metadata": {},
   "outputs": [
    {
     "data": {
      "text/plain": [
       "(2+4j)"
      ]
     },
     "execution_count": 53,
     "metadata": {},
     "output_type": "execute_result"
    }
   ],
   "source": [
    "t1[3]"
   ]
  },
  {
   "cell_type": "code",
   "execution_count": 55,
   "id": "a14ad6be-c31b-4b42-8a0e-cf10b39afca2",
   "metadata": {},
   "outputs": [
    {
     "data": {
      "text/plain": [
       "4"
      ]
     },
     "execution_count": 55,
     "metadata": {},
     "output_type": "execute_result"
    }
   ],
   "source": [
    "t1[5]"
   ]
  },
  {
   "cell_type": "code",
   "execution_count": 57,
   "id": "f8568d27-49af-4c5a-92d6-03ba453a1086",
   "metadata": {},
   "outputs": [
    {
     "ename": "TypeError",
     "evalue": "'tuple' object does not support item assignment",
     "output_type": "error",
     "traceback": [
      "\u001b[0;31m---------------------------------------------------------------------------\u001b[0m",
      "\u001b[0;31mTypeError\u001b[0m                                 Traceback (most recent call last)",
      "Cell \u001b[0;32mIn[57], line 3\u001b[0m\n\u001b[1;32m      1\u001b[0m \u001b[38;5;66;03m## Tuple is Immutable\u001b[39;00m\n\u001b[0;32m----> 3\u001b[0m \u001b[43mt1\u001b[49m\u001b[43m[\u001b[49m\u001b[38;5;241;43m5\u001b[39;49m\u001b[43m]\u001b[49m \u001b[38;5;241m=\u001b[39m \u001b[38;5;241m9\u001b[39m\n",
      "\u001b[0;31mTypeError\u001b[0m: 'tuple' object does not support item assignment"
     ]
    }
   ],
   "source": [
    "## Tuple is Immutable\n",
    "\n",
    "t1[5] = 9"
   ]
  },
  {
   "cell_type": "code",
   "execution_count": 59,
   "id": "c00a530e-6bee-440b-9b89-dea5fa46e3b5",
   "metadata": {},
   "outputs": [
    {
     "name": "stdout",
     "output_type": "stream",
     "text": [
      "True <class 'bool'>\n",
      "Rohit <class 'str'>\n",
      "PW <class 'str'>\n",
      "(2+4j) <class 'complex'>\n",
      "5 <class 'int'>\n",
      "4 <class 'int'>\n",
      "3 <class 'int'>\n",
      "2 <class 'int'>\n",
      "1 <class 'int'>\n"
     ]
    }
   ],
   "source": [
    "for i in t1:\n",
    "    print(i,type(i))"
   ]
  },
  {
   "cell_type": "code",
   "execution_count": 60,
   "id": "3eff2093-3150-4f95-b027-3371b552c233",
   "metadata": {},
   "outputs": [],
   "source": [
    "t2 = (1,2,3,4,5)"
   ]
  },
  {
   "cell_type": "code",
   "execution_count": 61,
   "id": "bbe61930-3415-485f-becf-f927272c26a8",
   "metadata": {},
   "outputs": [
    {
     "data": {
      "text/plain": [
       "(1, 2, 3, 4, 5, 1, 2, 3, 4, 5, 1, 2, 3, 4, 5)"
      ]
     },
     "execution_count": 61,
     "metadata": {},
     "output_type": "execute_result"
    }
   ],
   "source": [
    "t2* 3"
   ]
  },
  {
   "cell_type": "code",
   "execution_count": 62,
   "id": "efa6ad24-1289-41f4-898f-32d07eb1d6a2",
   "metadata": {},
   "outputs": [
    {
     "data": {
      "text/plain": [
       "5"
      ]
     },
     "execution_count": 62,
     "metadata": {},
     "output_type": "execute_result"
    }
   ],
   "source": [
    "max(t2)"
   ]
  },
  {
   "cell_type": "code",
   "execution_count": 63,
   "id": "2acab493-fd96-4d80-bd62-0e00429beccb",
   "metadata": {},
   "outputs": [
    {
     "data": {
      "text/plain": [
       "1"
      ]
     },
     "execution_count": 63,
     "metadata": {},
     "output_type": "execute_result"
    }
   ],
   "source": [
    "min(t2)"
   ]
  },
  {
   "cell_type": "code",
   "execution_count": 65,
   "id": "14859c74-1002-485e-bc70-6726d4814019",
   "metadata": {},
   "outputs": [],
   "source": [
    "t3 = ((1,2,3,4,5),(4,7,8,9))"
   ]
  },
  {
   "cell_type": "code",
   "execution_count": 66,
   "id": "e5c35e58-2e41-4b3e-839b-00f42ca099d5",
   "metadata": {},
   "outputs": [
    {
     "data": {
      "text/plain": [
       "((1, 2, 3, 4, 5), (4, 7, 8, 9))"
      ]
     },
     "execution_count": 66,
     "metadata": {},
     "output_type": "execute_result"
    }
   ],
   "source": [
    "t3"
   ]
  },
  {
   "cell_type": "code",
   "execution_count": 67,
   "id": "026e3154-1a26-4b64-9344-acfeb9d80f3f",
   "metadata": {},
   "outputs": [],
   "source": [
    "del t3"
   ]
  },
  {
   "cell_type": "code",
   "execution_count": 68,
   "id": "82e2b77b-c303-4e15-a69a-ef4e53bb183c",
   "metadata": {},
   "outputs": [
    {
     "ename": "NameError",
     "evalue": "name 't3' is not defined",
     "output_type": "error",
     "traceback": [
      "\u001b[0;31m---------------------------------------------------------------------------\u001b[0m",
      "\u001b[0;31mNameError\u001b[0m                                 Traceback (most recent call last)",
      "Cell \u001b[0;32mIn[68], line 1\u001b[0m\n\u001b[0;32m----> 1\u001b[0m \u001b[43mt3\u001b[49m\n",
      "\u001b[0;31mNameError\u001b[0m: name 't3' is not defined"
     ]
    }
   ],
   "source": [
    "t3"
   ]
  },
  {
   "cell_type": "code",
   "execution_count": 69,
   "id": "265be6ed-724b-445c-b5a3-95e141b2f1ea",
   "metadata": {},
   "outputs": [
    {
     "data": {
      "text/plain": [
       "5"
      ]
     },
     "execution_count": 69,
     "metadata": {},
     "output_type": "execute_result"
    }
   ],
   "source": [
    "len(t2)"
   ]
  },
  {
   "cell_type": "code",
   "execution_count": 70,
   "id": "9b3ef2aa-debf-4bee-a895-b2c5e72002cb",
   "metadata": {},
   "outputs": [
    {
     "data": {
      "text/plain": [
       "9"
      ]
     },
     "execution_count": 70,
     "metadata": {},
     "output_type": "execute_result"
    }
   ],
   "source": [
    "len(t1)"
   ]
  },
  {
   "cell_type": "code",
   "execution_count": 71,
   "id": "382451f6-57d7-4a19-9999-2eae4b7aab87",
   "metadata": {},
   "outputs": [
    {
     "data": {
      "text/plain": [
       "(1, 2, 3, 4, 5)"
      ]
     },
     "execution_count": 71,
     "metadata": {},
     "output_type": "execute_result"
    }
   ],
   "source": [
    "t2"
   ]
  },
  {
   "cell_type": "code",
   "execution_count": 72,
   "id": "de8b12ea-71fa-4b25-828c-7c932da8cfea",
   "metadata": {},
   "outputs": [
    {
     "data": {
      "text/plain": [
       "False"
      ]
     },
     "execution_count": 72,
     "metadata": {},
     "output_type": "execute_result"
    }
   ],
   "source": [
    "'PW' in t2"
   ]
  },
  {
   "cell_type": "code",
   "execution_count": 73,
   "id": "44b4cc4d-22fa-4d13-89bf-32a52dc6354f",
   "metadata": {},
   "outputs": [
    {
     "data": {
      "text/plain": [
       "True"
      ]
     },
     "execution_count": 73,
     "metadata": {},
     "output_type": "execute_result"
    }
   ],
   "source": [
    "2 in t2"
   ]
  },
  {
   "cell_type": "markdown",
   "id": "298c19b8-97c2-4e57-8b2d-80026eb89e1f",
   "metadata": {},
   "source": [
    "## Set"
   ]
  },
  {
   "cell_type": "code",
   "execution_count": 8,
   "id": "915c14e0-69ae-4ec0-9ed5-a26728bf0ff1",
   "metadata": {},
   "outputs": [],
   "source": [
    "s= {1,2,3,4}"
   ]
  },
  {
   "cell_type": "code",
   "execution_count": 9,
   "id": "b8c1ba57-fff8-466d-99c8-0366240068be",
   "metadata": {},
   "outputs": [
    {
     "data": {
      "text/plain": [
       "set"
      ]
     },
     "execution_count": 9,
     "metadata": {},
     "output_type": "execute_result"
    }
   ],
   "source": [
    "type(s)"
   ]
  },
  {
   "cell_type": "code",
   "execution_count": 10,
   "id": "bf697dc9-9543-4fe4-a5ad-86461a54355e",
   "metadata": {},
   "outputs": [],
   "source": [
    "s1 = {1,2,2,3,4,3,4,3,4,5,5,6,6,6,7,8,9,9,9}"
   ]
  },
  {
   "cell_type": "code",
   "execution_count": 9,
   "id": "9184dec5-2c8e-4d9a-8b91-64119bd91d31",
   "metadata": {},
   "outputs": [
    {
     "data": {
      "text/plain": [
       "{1, 2, 3, 4, 5, 6, 7, 8, 9}"
      ]
     },
     "execution_count": 9,
     "metadata": {},
     "output_type": "execute_result"
    }
   ],
   "source": [
    "s1"
   ]
  },
  {
   "cell_type": "code",
   "execution_count": 10,
   "id": "ad5b10fa-f0c4-4634-9418-44c7d8414e03",
   "metadata": {},
   "outputs": [],
   "source": [
    "s2 = {1,2,2,2,3,4,\"Rohit\",'rohit'}"
   ]
  },
  {
   "cell_type": "code",
   "execution_count": 11,
   "id": "6514b952-d071-4bda-b3ba-2c5649bff06c",
   "metadata": {},
   "outputs": [
    {
     "data": {
      "text/plain": [
       "{1, 2, 3, 4, 'Rohit', 'rohit'}"
      ]
     },
     "execution_count": 11,
     "metadata": {},
     "output_type": "execute_result"
    }
   ],
   "source": [
    "s2"
   ]
  },
  {
   "cell_type": "code",
   "execution_count": 14,
   "id": "787a2680-9814-4055-a779-26d48eff529d",
   "metadata": {},
   "outputs": [],
   "source": [
    "l = list(s2)"
   ]
  },
  {
   "cell_type": "code",
   "execution_count": 15,
   "id": "6b427556-dc95-4317-b046-1d0d6205e94c",
   "metadata": {},
   "outputs": [
    {
     "data": {
      "text/plain": [
       "(1, 2, 3, 4, 5, 6, 7, 8, 9)"
      ]
     },
     "execution_count": 15,
     "metadata": {},
     "output_type": "execute_result"
    }
   ],
   "source": [
    "tuple(s1)"
   ]
  },
  {
   "cell_type": "code",
   "execution_count": 16,
   "id": "4c3355e6-7670-4d1f-bad3-b9e9db59a367",
   "metadata": {},
   "outputs": [
    {
     "data": {
      "text/plain": [
       "[1, 2, 3, 4, 'rohit', 'Rohit']"
      ]
     },
     "execution_count": 16,
     "metadata": {},
     "output_type": "execute_result"
    }
   ],
   "source": [
    "l"
   ]
  },
  {
   "cell_type": "code",
   "execution_count": 17,
   "id": "7a12603e-d7f7-4311-a370-d18ee29ff40d",
   "metadata": {},
   "outputs": [
    {
     "data": {
      "text/plain": [
       "{1, 2, 3, 4, 'Rohit', 'rohit'}"
      ]
     },
     "execution_count": 17,
     "metadata": {},
     "output_type": "execute_result"
    }
   ],
   "source": [
    "set(l)"
   ]
  },
  {
   "cell_type": "code",
   "execution_count": 18,
   "id": "cfa41855-3c75-4344-8007-708c392a4986",
   "metadata": {},
   "outputs": [
    {
     "ename": "TypeError",
     "evalue": "unhashable type: 'list'",
     "output_type": "error",
     "traceback": [
      "\u001b[0;31m---------------------------------------------------------------------------\u001b[0m",
      "\u001b[0;31mTypeError\u001b[0m                                 Traceback (most recent call last)",
      "Cell \u001b[0;32mIn[18], line 1\u001b[0m\n\u001b[0;32m----> 1\u001b[0m s3 \u001b[38;5;241m=\u001b[39m {\u001b[38;5;241m1\u001b[39m,\u001b[38;5;241m2\u001b[39m,\u001b[38;5;241m3\u001b[39m,\u001b[38;5;241m4\u001b[39m,[\u001b[38;5;241m5\u001b[39m,\u001b[38;5;241m6\u001b[39m,\u001b[38;5;241m7\u001b[39m,\u001b[38;5;241m8\u001b[39m]}\n",
      "\u001b[0;31mTypeError\u001b[0m: unhashable type: 'list'"
     ]
    }
   ],
   "source": [
    "s3 = {1,2,3,4,[5,6,7,8]}"
   ]
  },
  {
   "cell_type": "code",
   "execution_count": 19,
   "id": "b2892032-3a60-49e4-8221-19c4f0116c66",
   "metadata": {},
   "outputs": [],
   "source": [
    "s4 = {2,3,4,5,(1,6,7,8)}"
   ]
  },
  {
   "cell_type": "code",
   "execution_count": 20,
   "id": "ac0bd108-b9f8-4e62-b278-23c6a4e0225d",
   "metadata": {},
   "outputs": [
    {
     "data": {
      "text/plain": [
       "{(1, 6, 7, 8), 2, 3, 4, 5}"
      ]
     },
     "execution_count": 20,
     "metadata": {},
     "output_type": "execute_result"
    }
   ],
   "source": [
    "s4"
   ]
  },
  {
   "cell_type": "code",
   "execution_count": 21,
   "id": "333f2473-1d13-4d5e-9afa-251bd8981c4d",
   "metadata": {},
   "outputs": [
    {
     "ename": "TypeError",
     "evalue": "'set' object is not subscriptable",
     "output_type": "error",
     "traceback": [
      "\u001b[0;31m---------------------------------------------------------------------------\u001b[0m",
      "\u001b[0;31mTypeError\u001b[0m                                 Traceback (most recent call last)",
      "Cell \u001b[0;32mIn[21], line 1\u001b[0m\n\u001b[0;32m----> 1\u001b[0m \u001b[43ms4\u001b[49m\u001b[43m[\u001b[49m\u001b[38;5;241;43m0\u001b[39;49m\u001b[43m]\u001b[49m\n",
      "\u001b[0;31mTypeError\u001b[0m: 'set' object is not subscriptable"
     ]
    }
   ],
   "source": [
    "s4[0]"
   ]
  },
  {
   "cell_type": "code",
   "execution_count": 22,
   "id": "30d4b9be-0c1b-48d4-9bec-489a7f4061dc",
   "metadata": {},
   "outputs": [
    {
     "name": "stdout",
     "output_type": "stream",
     "text": [
      "2\n",
      "3\n",
      "4\n",
      "5\n",
      "(1, 6, 7, 8)\n"
     ]
    }
   ],
   "source": [
    "for i in s4:\n",
    "    print(i)"
   ]
  },
  {
   "cell_type": "code",
   "execution_count": 23,
   "id": "0517c8c4-4a5e-45cc-a7ac-9ea1f39e5b31",
   "metadata": {},
   "outputs": [],
   "source": [
    "s5 = {1,2,3,4,6,'Rohit'}"
   ]
  },
  {
   "cell_type": "code",
   "execution_count": 24,
   "id": "529257cc-a8a0-4496-86a7-eff6be4ba447",
   "metadata": {},
   "outputs": [],
   "source": [
    "s5.add(8)"
   ]
  },
  {
   "cell_type": "code",
   "execution_count": 25,
   "id": "ac09be5f-a99b-444c-8b4a-c3e2a576e429",
   "metadata": {},
   "outputs": [
    {
     "data": {
      "text/plain": [
       "{1, 2, 3, 4, 6, 8, 'Rohit'}"
      ]
     },
     "execution_count": 25,
     "metadata": {},
     "output_type": "execute_result"
    }
   ],
   "source": [
    "s5"
   ]
  },
  {
   "cell_type": "code",
   "execution_count": 26,
   "id": "579d6bb6-d1bd-45a4-9989-b2033909c90d",
   "metadata": {},
   "outputs": [],
   "source": [
    "s5.add(4)"
   ]
  },
  {
   "cell_type": "code",
   "execution_count": 27,
   "id": "7c15a8f2-8a02-4f58-b315-ac315f19ab2b",
   "metadata": {},
   "outputs": [
    {
     "data": {
      "text/plain": [
       "{1, 2, 3, 4, 6, 8, 'Rohit'}"
      ]
     },
     "execution_count": 27,
     "metadata": {},
     "output_type": "execute_result"
    }
   ],
   "source": [
    "s5"
   ]
  },
  {
   "cell_type": "code",
   "execution_count": 28,
   "id": "71b72962-300b-492d-b206-19c9bcc9f5d6",
   "metadata": {},
   "outputs": [
    {
     "data": {
      "text/plain": [
       "1"
      ]
     },
     "execution_count": 28,
     "metadata": {},
     "output_type": "execute_result"
    }
   ],
   "source": [
    "s5.pop()"
   ]
  },
  {
   "cell_type": "code",
   "execution_count": 29,
   "id": "9bfb4fae-88d6-484b-a4e6-8e6c21dafc2a",
   "metadata": {},
   "outputs": [
    {
     "data": {
      "text/plain": [
       "2"
      ]
     },
     "execution_count": 29,
     "metadata": {},
     "output_type": "execute_result"
    }
   ],
   "source": [
    "s5.pop()"
   ]
  },
  {
   "cell_type": "code",
   "execution_count": 30,
   "id": "abadfd75-7dd3-410e-914f-6a7540e1c20d",
   "metadata": {},
   "outputs": [
    {
     "data": {
      "text/plain": [
       "3"
      ]
     },
     "execution_count": 30,
     "metadata": {},
     "output_type": "execute_result"
    }
   ],
   "source": [
    "s5.pop()"
   ]
  },
  {
   "cell_type": "code",
   "execution_count": 31,
   "id": "0088d19e-7ba3-4ccf-bffd-d4d951c17944",
   "metadata": {},
   "outputs": [
    {
     "data": {
      "text/plain": [
       "{4, 6, 8, 'Rohit'}"
      ]
     },
     "execution_count": 31,
     "metadata": {},
     "output_type": "execute_result"
    }
   ],
   "source": [
    "s5"
   ]
  },
  {
   "cell_type": "code",
   "execution_count": 32,
   "id": "35983e6b-dec6-4741-b962-999c2022c455",
   "metadata": {},
   "outputs": [],
   "source": [
    "s5.clear()"
   ]
  },
  {
   "cell_type": "code",
   "execution_count": 33,
   "id": "c1372957-3850-4233-a4a7-1f1f66a60078",
   "metadata": {},
   "outputs": [
    {
     "data": {
      "text/plain": [
       "set()"
      ]
     },
     "execution_count": 33,
     "metadata": {},
     "output_type": "execute_result"
    }
   ],
   "source": [
    "s5"
   ]
  },
  {
   "cell_type": "code",
   "execution_count": 34,
   "id": "0d9325ea-0a68-4513-8125-6e9bb81decb8",
   "metadata": {},
   "outputs": [],
   "source": [
    "s6 = {1,2,3,4}\n",
    "s7 = {1,2,3,5}"
   ]
  },
  {
   "cell_type": "code",
   "execution_count": 35,
   "id": "c317df32-ebc9-4c75-8da2-f43517024f60",
   "metadata": {},
   "outputs": [
    {
     "data": {
      "text/plain": [
       "{1, 2, 3}"
      ]
     },
     "execution_count": 35,
     "metadata": {},
     "output_type": "execute_result"
    }
   ],
   "source": [
    "s6.intersection(s7)"
   ]
  },
  {
   "cell_type": "code",
   "execution_count": 36,
   "id": "06652095-6efe-4173-b262-a44d1c55f69d",
   "metadata": {},
   "outputs": [
    {
     "data": {
      "text/plain": [
       "{4}"
      ]
     },
     "execution_count": 36,
     "metadata": {},
     "output_type": "execute_result"
    }
   ],
   "source": [
    "s6.difference(s7)"
   ]
  },
  {
   "cell_type": "code",
   "execution_count": 37,
   "id": "1eb48bfa-8f6a-42c7-b2af-42f7d87bbb49",
   "metadata": {},
   "outputs": [
    {
     "data": {
      "text/plain": [
       "{4, 5}"
      ]
     },
     "execution_count": 37,
     "metadata": {},
     "output_type": "execute_result"
    }
   ],
   "source": [
    "s6.symmetric_difference(s7)"
   ]
  },
  {
   "cell_type": "markdown",
   "id": "011af6f3-b9d6-4e58-9700-837ed8e01b5a",
   "metadata": {},
   "source": [
    "## Dictionary"
   ]
  },
  {
   "cell_type": "code",
   "execution_count": 14,
   "id": "3d9c8b4a-1775-4925-a218-16a6c8aed72e",
   "metadata": {},
   "outputs": [],
   "source": [
    "d = {}"
   ]
  },
  {
   "cell_type": "code",
   "execution_count": 15,
   "id": "65dd6bb4-4cae-4e4b-a722-055b0880291e",
   "metadata": {},
   "outputs": [
    {
     "data": {
      "text/plain": [
       "dict"
      ]
     },
     "execution_count": 15,
     "metadata": {},
     "output_type": "execute_result"
    }
   ],
   "source": [
    "type(d)"
   ]
  },
  {
   "cell_type": "code",
   "execution_count": 16,
   "id": "ac9c6869-29ae-4a25-8898-0bdc37a36759",
   "metadata": {},
   "outputs": [],
   "source": [
    "d1= {'name':'Rohit','email_id':'rk@gmail.com','course':'Data Science'}"
   ]
  },
  {
   "cell_type": "code",
   "execution_count": 17,
   "id": "c5b21ff6-4b47-4508-8d21-467e4b6782b3",
   "metadata": {},
   "outputs": [
    {
     "data": {
      "text/plain": [
       "{'name': 'Rohit', 'email_id': 'rk@gmail.com', 'course': 'Data Science'}"
      ]
     },
     "execution_count": 17,
     "metadata": {},
     "output_type": "execute_result"
    }
   ],
   "source": [
    "d1"
   ]
  },
  {
   "cell_type": "code",
   "execution_count": 18,
   "id": "de9acc90-4179-42e0-95cb-26b73f5549f2",
   "metadata": {},
   "outputs": [],
   "source": [
    "d2 = {\"name\":\"Rohit\",\"name\":\"Rohit Kumar\"}"
   ]
  },
  {
   "cell_type": "code",
   "execution_count": 19,
   "id": "9f8d0f8d-c2c0-4588-9bbe-3db0688be411",
   "metadata": {},
   "outputs": [
    {
     "data": {
      "text/plain": [
       "{'name': 'Rohit Kumar'}"
      ]
     },
     "execution_count": 19,
     "metadata": {},
     "output_type": "execute_result"
    }
   ],
   "source": [
    "d2"
   ]
  },
  {
   "cell_type": "code",
   "execution_count": 20,
   "id": "5698fcab-1720-490f-9f8a-0d4ce4cae33a",
   "metadata": {},
   "outputs": [],
   "source": [
    "d3= {'course_name':{'data science masters','web dev','JDS'}, 'start_date':(24,25,28), 'mentors':['sudhanshu','krish','rithik']}"
   ]
  },
  {
   "cell_type": "code",
   "execution_count": 3,
   "id": "02d581cd-9e8d-4f0d-aa5a-d1a3c06df832",
   "metadata": {},
   "outputs": [
    {
     "data": {
      "text/plain": [
       "{'course_name': {'JDS', 'data science masters', 'web dev'},\n",
       " 'start_date': (24, 25, 28),\n",
       " 'mentors': ['sudhanshu', 'krish', 'rithik']}"
      ]
     },
     "execution_count": 3,
     "metadata": {},
     "output_type": "execute_result"
    }
   ],
   "source": [
    "d3"
   ]
  },
  {
   "cell_type": "code",
   "execution_count": 4,
   "id": "0e9fb16d-c908-4985-9dc7-60c311a5e0b9",
   "metadata": {},
   "outputs": [],
   "source": [
    "d3['class_timing'] = (6,8,9)"
   ]
  },
  {
   "cell_type": "code",
   "execution_count": 5,
   "id": "aa039eaf-c552-4b44-b473-182467006243",
   "metadata": {},
   "outputs": [
    {
     "data": {
      "text/plain": [
       "{'course_name': {'JDS', 'data science masters', 'web dev'},\n",
       " 'start_date': (24, 25, 28),\n",
       " 'mentors': ['sudhanshu', 'krish', 'rithik'],\n",
       " 'class_timing': (6, 8, 9)}"
      ]
     },
     "execution_count": 5,
     "metadata": {},
     "output_type": "execute_result"
    }
   ],
   "source": [
    "d3"
   ]
  },
  {
   "cell_type": "code",
   "execution_count": 6,
   "id": "05ec40cf-062c-4d55-af5b-b9565fbba72b",
   "metadata": {},
   "outputs": [],
   "source": [
    "d3['name'] = \"Rohit\""
   ]
  },
  {
   "cell_type": "code",
   "execution_count": 7,
   "id": "31beb9ba-4ea1-42d9-a2ed-2469c74314da",
   "metadata": {},
   "outputs": [
    {
     "data": {
      "text/plain": [
       "{'course_name': {'JDS', 'data science masters', 'web dev'},\n",
       " 'start_date': (24, 25, 28),\n",
       " 'mentors': ['sudhanshu', 'krish', 'rithik'],\n",
       " 'class_timing': (6, 8, 9),\n",
       " 'name': 'Rohit'}"
      ]
     },
     "execution_count": 7,
     "metadata": {},
     "output_type": "execute_result"
    }
   ],
   "source": [
    "d3"
   ]
  },
  {
   "cell_type": "code",
   "execution_count": 8,
   "id": "ab630dcb-7e98-4de0-a445-fcd76710d38b",
   "metadata": {},
   "outputs": [
    {
     "data": {
      "text/plain": [
       "{'JDS', 'data science masters', 'web dev'}"
      ]
     },
     "execution_count": 8,
     "metadata": {},
     "output_type": "execute_result"
    }
   ],
   "source": [
    "d3['course_name']"
   ]
  },
  {
   "cell_type": "code",
   "execution_count": 9,
   "id": "0e925b93-79e0-4743-9c4c-4f5185400c99",
   "metadata": {},
   "outputs": [
    {
     "data": {
      "text/plain": [
       "'ROHIT'"
      ]
     },
     "execution_count": 9,
     "metadata": {},
     "output_type": "execute_result"
    }
   ],
   "source": [
    "d3['name'].upper()"
   ]
  },
  {
   "cell_type": "code",
   "execution_count": 10,
   "id": "47c54f83-95cb-426a-92b5-e87bec425dba",
   "metadata": {},
   "outputs": [],
   "source": [
    "del d3['name']"
   ]
  },
  {
   "cell_type": "code",
   "execution_count": 11,
   "id": "02379378-33e3-458c-80ee-ff6a11632c01",
   "metadata": {},
   "outputs": [
    {
     "data": {
      "text/plain": [
       "{'course_name': {'JDS', 'data science masters', 'web dev'},\n",
       " 'start_date': (24, 25, 28),\n",
       " 'mentors': ['sudhanshu', 'krish', 'rithik'],\n",
       " 'class_timing': (6, 8, 9)}"
      ]
     },
     "execution_count": 11,
     "metadata": {},
     "output_type": "execute_result"
    }
   ],
   "source": [
    "d3"
   ]
  },
  {
   "cell_type": "code",
   "execution_count": 21,
   "id": "c99a201a-7de9-4ac7-949b-ec2703cb77fd",
   "metadata": {},
   "outputs": [],
   "source": [
    "d2.clear()"
   ]
  },
  {
   "cell_type": "code",
   "execution_count": 22,
   "id": "f7afafd8-f8e6-4d27-82e9-081b674fefda",
   "metadata": {},
   "outputs": [
    {
     "data": {
      "text/plain": [
       "{}"
      ]
     },
     "execution_count": 22,
     "metadata": {},
     "output_type": "execute_result"
    }
   ],
   "source": [
    "d2"
   ]
  },
  {
   "cell_type": "code",
   "execution_count": 23,
   "id": "95f94427-9a06-42ba-a564-b051afb4bb01",
   "metadata": {},
   "outputs": [
    {
     "data": {
      "text/plain": [
       "3"
      ]
     },
     "execution_count": 23,
     "metadata": {},
     "output_type": "execute_result"
    }
   ],
   "source": [
    "len(d3)"
   ]
  },
  {
   "cell_type": "code",
   "execution_count": 24,
   "id": "bd9292f0-8bbe-4e12-91ff-783cbd8bbc2f",
   "metadata": {},
   "outputs": [
    {
     "data": {
      "text/plain": [
       "dict_keys(['course_name', 'start_date', 'mentors'])"
      ]
     },
     "execution_count": 24,
     "metadata": {},
     "output_type": "execute_result"
    }
   ],
   "source": [
    "d3.keys()"
   ]
  },
  {
   "cell_type": "code",
   "execution_count": 25,
   "id": "922a69a4-2f5d-4980-82fe-6c2059d3b7ed",
   "metadata": {},
   "outputs": [
    {
     "data": {
      "text/plain": [
       "dict_values([{'JDS', 'data science masters', 'web dev'}, (24, 25, 28), ['sudhanshu', 'krish', 'rithik']])"
      ]
     },
     "execution_count": 25,
     "metadata": {},
     "output_type": "execute_result"
    }
   ],
   "source": [
    "d3.values()"
   ]
  },
  {
   "cell_type": "code",
   "execution_count": 26,
   "id": "20d3729b-482b-4194-a38a-b64096bb506b",
   "metadata": {},
   "outputs": [
    {
     "data": {
      "text/plain": [
       "[{'JDS', 'data science masters', 'web dev'},\n",
       " (24, 25, 28),\n",
       " ['sudhanshu', 'krish', 'rithik']]"
      ]
     },
     "execution_count": 26,
     "metadata": {},
     "output_type": "execute_result"
    }
   ],
   "source": [
    "list(d3.values())"
   ]
  },
  {
   "cell_type": "code",
   "execution_count": 27,
   "id": "dff7d9f6-46c1-447e-9248-0481f4735e0d",
   "metadata": {},
   "outputs": [
    {
     "data": {
      "text/plain": [
       "['course_name', 'start_date', 'mentors']"
      ]
     },
     "execution_count": 27,
     "metadata": {},
     "output_type": "execute_result"
    }
   ],
   "source": [
    "list(d3.keys())"
   ]
  },
  {
   "cell_type": "code",
   "execution_count": 30,
   "id": "0dca87c1-44d1-4ebb-adbe-53be784187a2",
   "metadata": {},
   "outputs": [
    {
     "data": {
      "text/plain": [
       "[('course_name', {'JDS', 'data science masters', 'web dev'}),\n",
       " ('start_date', (24, 25, 28)),\n",
       " ('mentors', ['sudhanshu', 'krish', 'rithik'])]"
      ]
     },
     "execution_count": 30,
     "metadata": {},
     "output_type": "execute_result"
    }
   ],
   "source": [
    "list(d3.items())"
   ]
  },
  {
   "cell_type": "code",
   "execution_count": 31,
   "id": "774a51e8-a29a-40f0-9c48-9f6e5cbf9760",
   "metadata": {},
   "outputs": [],
   "source": [
    "d3['name'] = \"Rohit\""
   ]
  },
  {
   "cell_type": "code",
   "execution_count": 32,
   "id": "aab072a2-a176-4264-af75-02ce60264075",
   "metadata": {},
   "outputs": [
    {
     "data": {
      "text/plain": [
       "{'course_name': {'JDS', 'data science masters', 'web dev'},\n",
       " 'start_date': (24, 25, 28),\n",
       " 'mentors': ['sudhanshu', 'krish', 'rithik'],\n",
       " 'name': 'Rohit'}"
      ]
     },
     "execution_count": 32,
     "metadata": {},
     "output_type": "execute_result"
    }
   ],
   "source": [
    "d3"
   ]
  },
  {
   "cell_type": "code",
   "execution_count": 33,
   "id": "1a5bb204-2422-4876-9c73-77ee7c6a124b",
   "metadata": {},
   "outputs": [],
   "source": [
    "d4 = d3.copy()"
   ]
  },
  {
   "cell_type": "code",
   "execution_count": 34,
   "id": "079df4fd-2dab-488d-8074-b15d66adb483",
   "metadata": {},
   "outputs": [
    {
     "data": {
      "text/plain": [
       "{'course_name': {'JDS', 'data science masters', 'web dev'},\n",
       " 'start_date': (24, 25, 28),\n",
       " 'mentors': ['sudhanshu', 'krish', 'rithik'],\n",
       " 'name': 'Rohit'}"
      ]
     },
     "execution_count": 34,
     "metadata": {},
     "output_type": "execute_result"
    }
   ],
   "source": [
    "d4"
   ]
  },
  {
   "cell_type": "code",
   "execution_count": 35,
   "id": "b158110b-ff84-45bd-9558-7dabdc152291",
   "metadata": {},
   "outputs": [],
   "source": [
    "d5 = d3"
   ]
  },
  {
   "cell_type": "code",
   "execution_count": 36,
   "id": "4a0d6762-fc81-4cd2-90d9-e84ce201ec50",
   "metadata": {},
   "outputs": [
    {
     "data": {
      "text/plain": [
       "{'course_name': {'JDS', 'data science masters', 'web dev'},\n",
       " 'start_date': (24, 25, 28),\n",
       " 'mentors': ['sudhanshu', 'krish', 'rithik'],\n",
       " 'name': 'Rohit'}"
      ]
     },
     "execution_count": 36,
     "metadata": {},
     "output_type": "execute_result"
    }
   ],
   "source": [
    "d5"
   ]
  },
  {
   "cell_type": "code",
   "execution_count": 37,
   "id": "12b1e87d-79c8-4a8b-ab70-e7e5fc6ebc87",
   "metadata": {},
   "outputs": [],
   "source": [
    "del d3['name']"
   ]
  },
  {
   "cell_type": "code",
   "execution_count": 38,
   "id": "40b763c8-2059-4527-a3c8-c2c7cd33a2ba",
   "metadata": {},
   "outputs": [
    {
     "data": {
      "text/plain": [
       "{'course_name': {'JDS', 'data science masters', 'web dev'},\n",
       " 'start_date': (24, 25, 28),\n",
       " 'mentors': ['sudhanshu', 'krish', 'rithik']}"
      ]
     },
     "execution_count": 38,
     "metadata": {},
     "output_type": "execute_result"
    }
   ],
   "source": [
    "d3"
   ]
  },
  {
   "cell_type": "code",
   "execution_count": 39,
   "id": "3aa63c6f-8c74-4eec-80b6-a4252c4d893f",
   "metadata": {},
   "outputs": [
    {
     "data": {
      "text/plain": [
       "{'course_name': {'JDS', 'data science masters', 'web dev'},\n",
       " 'start_date': (24, 25, 28),\n",
       " 'mentors': ['sudhanshu', 'krish', 'rithik'],\n",
       " 'name': 'Rohit'}"
      ]
     },
     "execution_count": 39,
     "metadata": {},
     "output_type": "execute_result"
    }
   ],
   "source": [
    "d4"
   ]
  },
  {
   "cell_type": "code",
   "execution_count": 40,
   "id": "cacd8f82-9b61-4fa1-85df-24b993344fce",
   "metadata": {},
   "outputs": [
    {
     "data": {
      "text/plain": [
       "{'course_name': {'JDS', 'data science masters', 'web dev'},\n",
       " 'start_date': (24, 25, 28),\n",
       " 'mentors': ['sudhanshu', 'krish', 'rithik']}"
      ]
     },
     "execution_count": 40,
     "metadata": {},
     "output_type": "execute_result"
    }
   ],
   "source": [
    "d5"
   ]
  },
  {
   "cell_type": "code",
   "execution_count": 41,
   "id": "2014bfea-e21a-4d6f-91d2-cf958d9c15bb",
   "metadata": {},
   "outputs": [
    {
     "ename": "TypeError",
     "evalue": "pop expected at least 1 argument, got 0",
     "output_type": "error",
     "traceback": [
      "\u001b[0;31m---------------------------------------------------------------------------\u001b[0m",
      "\u001b[0;31mTypeError\u001b[0m                                 Traceback (most recent call last)",
      "Cell \u001b[0;32mIn[41], line 1\u001b[0m\n\u001b[0;32m----> 1\u001b[0m \u001b[43md5\u001b[49m\u001b[38;5;241;43m.\u001b[39;49m\u001b[43mpop\u001b[49m\u001b[43m(\u001b[49m\u001b[43m)\u001b[49m\n",
      "\u001b[0;31mTypeError\u001b[0m: pop expected at least 1 argument, got 0"
     ]
    }
   ],
   "source": [
    "d5.pop()"
   ]
  },
  {
   "cell_type": "code",
   "execution_count": 42,
   "id": "f58dbcb4-4691-474d-bff1-13909e646005",
   "metadata": {},
   "outputs": [
    {
     "data": {
      "text/plain": [
       "(24, 25, 28)"
      ]
     },
     "execution_count": 42,
     "metadata": {},
     "output_type": "execute_result"
    }
   ],
   "source": [
    "d5.pop('start_date')"
   ]
  },
  {
   "cell_type": "code",
   "execution_count": 43,
   "id": "a5941677-910a-4cb4-a582-ce3ca1298e06",
   "metadata": {},
   "outputs": [
    {
     "data": {
      "text/plain": [
       "['sudhanshu', 'krish', 'rithik']"
      ]
     },
     "execution_count": 43,
     "metadata": {},
     "output_type": "execute_result"
    }
   ],
   "source": [
    "d5.pop('mentors')"
   ]
  },
  {
   "cell_type": "code",
   "execution_count": 45,
   "id": "ab8ff321-4250-4d56-a17c-a034e4b2fa46",
   "metadata": {},
   "outputs": [],
   "source": [
    "d2 = {1 : [\"data\"],2 : [\"science\"],3 : [\"masters\"]}"
   ]
  },
  {
   "cell_type": "code",
   "execution_count": 46,
   "id": "0727ab26-deca-4cb2-836e-2fd2c4fcf354",
   "metadata": {},
   "outputs": [
    {
     "data": {
      "text/plain": [
       "{1: ['data'], 2: ['science'], 3: ['masters']}"
      ]
     },
     "execution_count": 46,
     "metadata": {},
     "output_type": "execute_result"
    }
   ],
   "source": [
    "d2"
   ]
  },
  {
   "cell_type": "code",
   "execution_count": 48,
   "id": "cd77fecc-9baa-4285-b90f-df49cf0cc33f",
   "metadata": {},
   "outputs": [
    {
     "data": {
      "text/plain": [
       "{'course_name': {'JDS', 'data science masters', 'web dev'},\n",
       " 'start_date': (24, 25, 28),\n",
       " 'mentors': ['sudhanshu', 'krish', 'rithik'],\n",
       " 'name': 'Rohit'}"
      ]
     },
     "execution_count": 48,
     "metadata": {},
     "output_type": "execute_result"
    }
   ],
   "source": [
    "d4"
   ]
  },
  {
   "cell_type": "code",
   "execution_count": 49,
   "id": "29b27e46-784f-4f81-b24a-117f525ed483",
   "metadata": {},
   "outputs": [],
   "source": [
    "d2.update(d4)"
   ]
  },
  {
   "cell_type": "code",
   "execution_count": 50,
   "id": "8fc95f63-1589-428f-aae0-0e03cfa05550",
   "metadata": {},
   "outputs": [
    {
     "data": {
      "text/plain": [
       "{1: ['data'],\n",
       " 2: ['science'],\n",
       " 3: ['masters'],\n",
       " 'course_name': {'JDS', 'data science masters', 'web dev'},\n",
       " 'start_date': (24, 25, 28),\n",
       " 'mentors': ['sudhanshu', 'krish', 'rithik'],\n",
       " 'name': 'Rohit'}"
      ]
     },
     "execution_count": 50,
     "metadata": {},
     "output_type": "execute_result"
    }
   ],
   "source": [
    "d2"
   ]
  },
  {
   "cell_type": "code",
   "execution_count": 51,
   "id": "c7651efb-cf81-47ef-b2dc-5a93df63dd7b",
   "metadata": {},
   "outputs": [
    {
     "data": {
      "text/plain": [
       "{'course_name': {'JDS', 'data science masters', 'web dev'},\n",
       " 'start_date': (24, 25, 28),\n",
       " 'mentors': ['sudhanshu', 'krish', 'rithik'],\n",
       " 'name': 'Rohit'}"
      ]
     },
     "execution_count": 51,
     "metadata": {},
     "output_type": "execute_result"
    }
   ],
   "source": [
    "d4"
   ]
  },
  {
   "cell_type": "code",
   "execution_count": 52,
   "id": "7cbc0612-1f2f-4db8-b1f5-aaf87ceac095",
   "metadata": {},
   "outputs": [],
   "source": [
    "d4.update(d2)"
   ]
  },
  {
   "cell_type": "code",
   "execution_count": 53,
   "id": "661225b0-770a-47c1-b8d4-d9f27a64921b",
   "metadata": {},
   "outputs": [
    {
     "data": {
      "text/plain": [
       "{'course_name': {'JDS', 'data science masters', 'web dev'},\n",
       " 'start_date': (24, 25, 28),\n",
       " 'mentors': ['sudhanshu', 'krish', 'rithik'],\n",
       " 'name': 'Rohit',\n",
       " 1: ['data'],\n",
       " 2: ['science'],\n",
       " 3: ['masters']}"
      ]
     },
     "execution_count": 53,
     "metadata": {},
     "output_type": "execute_result"
    }
   ],
   "source": [
    "d4"
   ]
  },
  {
   "cell_type": "code",
   "execution_count": 54,
   "id": "9557df90-6ce3-4333-b088-eb32507b6a83",
   "metadata": {},
   "outputs": [
    {
     "data": {
      "text/plain": [
       "{1: ['data'],\n",
       " 2: ['science'],\n",
       " 3: ['masters'],\n",
       " 'course_name': {'JDS', 'data science masters', 'web dev'},\n",
       " 'start_date': (24, 25, 28),\n",
       " 'mentors': ['sudhanshu', 'krish', 'rithik'],\n",
       " 'name': 'Rohit'}"
      ]
     },
     "execution_count": 54,
     "metadata": {},
     "output_type": "execute_result"
    }
   ],
   "source": [
    "d2"
   ]
  },
  {
   "cell_type": "code",
   "execution_count": 55,
   "id": "dfe9a555-6777-4cba-b521-0df0de1c110c",
   "metadata": {},
   "outputs": [
    {
     "data": {
      "text/plain": [
       "{1: ('a', 'b', 'c'), 2: ('a', 'b', 'c'), 3: ('a', 'b', 'c')}"
      ]
     },
     "execution_count": 55,
     "metadata": {},
     "output_type": "execute_result"
    }
   ],
   "source": [
    "d.fromkeys((1,2,3),('a','b','c'))"
   ]
  },
  {
   "cell_type": "code",
   "execution_count": 56,
   "id": "e6f0fbd7-9b43-49c9-8fdb-220b17efe5d3",
   "metadata": {},
   "outputs": [],
   "source": [
    "d3.get('name')"
   ]
  },
  {
   "cell_type": "code",
   "execution_count": 57,
   "id": "53fafe13-4c9c-4a1e-979c-a3ba9f5bf8d7",
   "metadata": {},
   "outputs": [
    {
     "ename": "KeyError",
     "evalue": "'name'",
     "output_type": "error",
     "traceback": [
      "\u001b[0;31m---------------------------------------------------------------------------\u001b[0m",
      "\u001b[0;31mKeyError\u001b[0m                                  Traceback (most recent call last)",
      "Cell \u001b[0;32mIn[57], line 1\u001b[0m\n\u001b[0;32m----> 1\u001b[0m \u001b[43md3\u001b[49m\u001b[43m[\u001b[49m\u001b[38;5;124;43m'\u001b[39;49m\u001b[38;5;124;43mname\u001b[39;49m\u001b[38;5;124;43m'\u001b[39;49m\u001b[43m]\u001b[49m\n",
      "\u001b[0;31mKeyError\u001b[0m: 'name'"
     ]
    }
   ],
   "source": [
    "d3['name']"
   ]
  },
  {
   "cell_type": "code",
   "execution_count": 58,
   "id": "76696953-dd14-4bbc-affd-505ed851b220",
   "metadata": {},
   "outputs": [
    {
     "data": {
      "text/plain": [
       "['sudhanshu', 'krish', 'rithik']"
      ]
     },
     "execution_count": 58,
     "metadata": {},
     "output_type": "execute_result"
    }
   ],
   "source": [
    "d4.get('mentors')"
   ]
  },
  {
   "cell_type": "code",
   "execution_count": 59,
   "id": "74f2dd8c-b172-410f-92c3-51732aea467a",
   "metadata": {},
   "outputs": [
    {
     "data": {
      "text/plain": [
       "['sudhanshu', 'krish', 'rithik']"
      ]
     },
     "execution_count": 59,
     "metadata": {},
     "output_type": "execute_result"
    }
   ],
   "source": [
    "d4['mentors']"
   ]
  },
  {
   "cell_type": "markdown",
   "id": "56bf566e-3de9-4dcf-bf76-72d7abfae262",
   "metadata": {},
   "source": [
    "## Dictionary Comprehension"
   ]
  },
  {
   "cell_type": "code",
   "execution_count": 60,
   "id": "674998f1-84b3-4af1-9411-894ba3ea6c2a",
   "metadata": {},
   "outputs": [
    {
     "data": {
      "text/plain": [
       "[1, 2, 3, 4, 5, 6, 7, 8, 9, 10]"
      ]
     },
     "execution_count": 60,
     "metadata": {},
     "output_type": "execute_result"
    }
   ],
   "source": [
    "list(range(1,11))"
   ]
  },
  {
   "cell_type": "code",
   "execution_count": 61,
   "id": "176fe12a-e8cc-4334-8f88-dd7e2f30a47e",
   "metadata": {},
   "outputs": [
    {
     "data": {
      "text/plain": [
       "{1: 1, 2: 4, 3: 9, 4: 16, 5: 25, 6: 36, 7: 49, 8: 64, 9: 81, 10: 100}"
      ]
     },
     "execution_count": 61,
     "metadata": {},
     "output_type": "execute_result"
    }
   ],
   "source": [
    "{i : i**2 for i in range(1,11)}"
   ]
  },
  {
   "cell_type": "code",
   "execution_count": 62,
   "id": "46207e8f-9574-42bb-86f3-445d33f21421",
   "metadata": {},
   "outputs": [
    {
     "data": {
      "text/plain": [
       "{1: 21, 2: 22, 3: 23, 4: 24, 5: 25, 6: 26, 7: 27, 8: 28, 9: 29, 10: 30}"
      ]
     },
     "execution_count": 62,
     "metadata": {},
     "output_type": "execute_result"
    }
   ],
   "source": [
    "{i : i+20 for i in range(1,11)}"
   ]
  },
  {
   "cell_type": "code",
   "execution_count": 68,
   "id": "3dda0e25-3db5-493b-81dc-f0608574f886",
   "metadata": {},
   "outputs": [],
   "source": [
    "import math\n",
    "d6 = {i : math.log2(i) for i in range(1,11)}"
   ]
  },
  {
   "cell_type": "code",
   "execution_count": 69,
   "id": "263834da-f78d-45b6-bb66-75479f49f6de",
   "metadata": {},
   "outputs": [
    {
     "data": {
      "text/plain": [
       "{'course_name': {'JDS', 'data science masters', 'web dev'},\n",
       " 'start_date': (24, 25, 28),\n",
       " 'mentors': ['sudhanshu', 'krish', 'rithik'],\n",
       " 'name': 'Rohit',\n",
       " 1: ['data'],\n",
       " 2: ['science'],\n",
       " 3: ['masters']}"
      ]
     },
     "execution_count": 69,
     "metadata": {},
     "output_type": "execute_result"
    }
   ],
   "source": [
    "d4"
   ]
  },
  {
   "cell_type": "code",
   "execution_count": 70,
   "id": "f70593d4-42e8-40d2-8fa5-a1653b8942ae",
   "metadata": {},
   "outputs": [
    {
     "data": {
      "text/plain": [
       "True"
      ]
     },
     "execution_count": 70,
     "metadata": {},
     "output_type": "execute_result"
    }
   ],
   "source": [
    "'course_name' in d4"
   ]
  },
  {
   "cell_type": "code",
   "execution_count": 71,
   "id": "c4af0145-846d-4230-92cf-6017ec949d07",
   "metadata": {},
   "outputs": [
    {
     "data": {
      "text/plain": [
       "{1: 0.0,\n",
       " 2: 1.0,\n",
       " 3: 1.584962500721156,\n",
       " 4: 2.0,\n",
       " 5: 2.321928094887362,\n",
       " 6: 2.584962500721156,\n",
       " 7: 2.807354922057604,\n",
       " 8: 3.0,\n",
       " 9: 3.169925001442312,\n",
       " 10: 3.321928094887362}"
      ]
     },
     "execution_count": 71,
     "metadata": {},
     "output_type": "execute_result"
    }
   ],
   "source": [
    "d6"
   ]
  },
  {
   "cell_type": "code",
   "execution_count": 72,
   "id": "d56fba72-8410-4ee2-8c32-49236caa2401",
   "metadata": {},
   "outputs": [
    {
     "name": "stdout",
     "output_type": "stream",
     "text": [
      "1.0\n",
      "2.0\n",
      "2.584962500721156\n",
      "3.0\n",
      "3.321928094887362\n"
     ]
    }
   ],
   "source": [
    "for i in d6.keys():\n",
    "    if i % 2 == 0:\n",
    "        print(d6[i])"
   ]
  },
  {
   "cell_type": "code",
   "execution_count": null,
   "id": "00a856c6-0c1b-48c8-b72e-13653d9f9980",
   "metadata": {},
   "outputs": [],
   "source": []
  },
  {
   "cell_type": "code",
   "execution_count": null,
   "id": "4fce49ec-b15c-4df1-a3df-1a6c55e6eb4f",
   "metadata": {},
   "outputs": [],
   "source": []
  },
  {
   "cell_type": "code",
   "execution_count": null,
   "id": "3b047d0f-7812-4f76-8cab-fbc622a70ec1",
   "metadata": {},
   "outputs": [],
   "source": []
  },
  {
   "cell_type": "code",
   "execution_count": null,
   "id": "cd32736a-9d58-45bd-a0c6-d6f19964b145",
   "metadata": {},
   "outputs": [],
   "source": []
  },
  {
   "cell_type": "code",
   "execution_count": null,
   "id": "5e9962c9-5f2f-4571-9789-2e1703890148",
   "metadata": {},
   "outputs": [],
   "source": []
  },
  {
   "cell_type": "code",
   "execution_count": null,
   "id": "96dd57c5-e971-45dd-80b4-c9131ee39ec5",
   "metadata": {},
   "outputs": [],
   "source": []
  },
  {
   "cell_type": "code",
   "execution_count": null,
   "id": "bfd08064-4155-4b20-b210-031a57712f35",
   "metadata": {},
   "outputs": [],
   "source": []
  }
 ],
 "metadata": {
  "kernelspec": {
   "display_name": "Python 3 (ipykernel)",
   "language": "python",
   "name": "python3"
  },
  "language_info": {
   "codemirror_mode": {
    "name": "ipython",
    "version": 3
   },
   "file_extension": ".py",
   "mimetype": "text/x-python",
   "name": "python",
   "nbconvert_exporter": "python",
   "pygments_lexer": "ipython3",
   "version": "3.10.8"
  }
 },
 "nbformat": 4,
 "nbformat_minor": 5
}
