{
 "cells": [
  {
   "cell_type": "code",
   "execution_count": 13,
   "id": "ccb36b6a-d9e7-4c0f-a80f-8b0fb00359bd",
   "metadata": {},
   "outputs": [],
   "source": [
    "data = {\n",
    "    \"name\" : \"Rohit\",\n",
    "    \"email_id\" : \"rohit@gmail.com\",\n",
    "    \"contact_number\" : 9878987876,\n",
    "    \"enrolled_courses\" : [\"Data Science Masters\" , \"Big Data\" , \"Introduction to AI\"]\n",
    "}"
   ]
  },
  {
   "cell_type": "code",
   "execution_count": 14,
   "id": "41596495-73cd-495b-8898-faddf396c2e3",
   "metadata": {},
   "outputs": [],
   "source": [
    "import json"
   ]
  },
  {
   "cell_type": "code",
   "execution_count": 15,
   "id": "9bf7cd38-8db3-4247-b3a5-0fe309d70353",
   "metadata": {},
   "outputs": [],
   "source": [
    "with open(\"test.json\" , 'w') as f :\n",
    "    json.dump(data, f)"
   ]
  },
  {
   "cell_type": "code",
   "execution_count": 16,
   "id": "1d3546a5-7631-4e46-81d9-e6dc52a0cb3e",
   "metadata": {},
   "outputs": [],
   "source": [
    "with open(\"test.json\" , 'r') as f :\n",
    "    data1 = json.load(f)"
   ]
  },
  {
   "cell_type": "code",
   "execution_count": 17,
   "id": "9e43e632-c9bd-4568-8974-1457fe9b45a2",
   "metadata": {},
   "outputs": [
    {
     "data": {
      "text/plain": [
       "{'name': 'Rohit',\n",
       " 'email_id': 'rohit@gmail.com',\n",
       " 'contact_number': 9878987876,\n",
       " 'enrolled_courses': ['Data Science Masters',\n",
       "  'Big Data',\n",
       "  'Introduction to AI']}"
      ]
     },
     "execution_count": 17,
     "metadata": {},
     "output_type": "execute_result"
    }
   ],
   "source": [
    "data1"
   ]
  },
  {
   "cell_type": "code",
   "execution_count": 18,
   "id": "9e2146cc-c588-4072-81cf-34aa40723fef",
   "metadata": {},
   "outputs": [
    {
     "data": {
      "text/plain": [
       "['Data Science Masters', 'Big Data', 'Introduction to AI']"
      ]
     },
     "execution_count": 18,
     "metadata": {},
     "output_type": "execute_result"
    }
   ],
   "source": [
    "data1['enrolled_courses']"
   ]
  },
  {
   "cell_type": "code",
   "execution_count": 19,
   "id": "446d7d8f-6368-40a7-b939-4aeae73ceea1",
   "metadata": {},
   "outputs": [
    {
     "data": {
      "text/plain": [
       "'Big Data'"
      ]
     },
     "execution_count": 19,
     "metadata": {},
     "output_type": "execute_result"
    }
   ],
   "source": [
    "data1['enrolled_courses'][1]"
   ]
  },
  {
   "cell_type": "code",
   "execution_count": 32,
   "id": "5af310e8-eb0f-4842-937d-7ebab25467e4",
   "metadata": {},
   "outputs": [],
   "source": [
    "data2 = [[\"name\" , \"email_id\" , \"number\"],\n",
    "         [\"Rohit\" , \"rohit@gmail.com\" , 8987676545],\n",
    "         [\"Mayank\" , \"mayank@gmail.com\" , 9898787876]\n",
    "]"
   ]
  },
  {
   "cell_type": "code",
   "execution_count": 33,
   "id": "30f9b621-6b8b-41d2-96e0-41933a2bf32c",
   "metadata": {},
   "outputs": [],
   "source": [
    "import csv"
   ]
  },
  {
   "cell_type": "code",
   "execution_count": 34,
   "id": "9a7be845-c851-4cb6-a9a5-afc4f74a1bf3",
   "metadata": {},
   "outputs": [],
   "source": [
    "with open(\"test2.csv\" , \"w\") as f :\n",
    "    w = csv.writer(f)\n",
    "    for i in data2:\n",
    "        w.writerow(i)"
   ]
  },
  {
   "cell_type": "code",
   "execution_count": 36,
   "id": "3f8f7b54-4fa7-4b8f-b8a9-0463ceba9d36",
   "metadata": {},
   "outputs": [
    {
     "name": "stdout",
     "output_type": "stream",
     "text": [
      "['name', 'email_id', 'number']\n",
      "['Rohit', 'rohit@gmail.com', '8987676545']\n",
      "['Mayank', 'mayank@gmail.com', '9898787876']\n"
     ]
    }
   ],
   "source": [
    "with open(\"test2.csv\" , 'r') as f :\n",
    "    read = csv.reader(f)\n",
    "    for i in read:\n",
    "        print(i)"
   ]
  },
  {
   "cell_type": "code",
   "execution_count": 38,
   "id": "79ed9bc4-a848-4cd5-9b35-0bab6df61dc7",
   "metadata": {},
   "outputs": [],
   "source": [
    "with open(\"test3.bin\" , 'wb') as f :\n",
    "    f.write(b\"\\x01\\x02\\x03\")"
   ]
  },
  {
   "cell_type": "code",
   "execution_count": 40,
   "id": "770f1486-9023-4465-ba52-ec6a7123b05a",
   "metadata": {},
   "outputs": [
    {
     "name": "stdout",
     "output_type": "stream",
     "text": [
      "b'\\x01\\x02\\x03'\n"
     ]
    }
   ],
   "source": [
    "with open(\"test3.bin\" , 'rb') as f :\n",
    "    print(f.read())"
   ]
  },
  {
   "cell_type": "markdown",
   "id": "0612e6df-f29e-4f4f-94ed-7eb75b847823",
   "metadata": {},
   "source": [
    "## Buffered Read & Write and Other File Methods"
   ]
  },
  {
   "cell_type": "code",
   "execution_count": 1,
   "id": "b2fddd67-64c4-405a-ba17-b4b44bd9f440",
   "metadata": {},
   "outputs": [],
   "source": [
    "import io"
   ]
  },
  {
   "cell_type": "code",
   "execution_count": 7,
   "id": "51d50e67-ef7c-4f06-a677-6d8496496a60",
   "metadata": {},
   "outputs": [],
   "source": [
    "with open(\"test.txt\" , 'wb') as f :\n",
    "    file = io.BufferedWriter(f)\n",
    "    file.write(b\"this is my buffered line \\n\")\n",
    "    file.write(b\"this is my second line which I wanna print along with first\")\n",
    "    file.flush()"
   ]
  },
  {
   "cell_type": "code",
   "execution_count": 11,
   "id": "78febbbd-c07b-4c05-a6cf-1fd9908a0a96",
   "metadata": {},
   "outputs": [
    {
     "name": "stdout",
     "output_type": "stream",
     "text": [
      "b'this is my buffered line \\nthis is my second line which I wanna print along with first'\n"
     ]
    }
   ],
   "source": [
    "with open(\"test.txt\" , \"rb\") as f :\n",
    "    file1 = io.BufferedReader(f)\n",
    "    data = file1.read()\n",
    "    print(data)"
   ]
  },
  {
   "cell_type": "code",
   "execution_count": 20,
   "id": "c33e449d-7869-4d44-ac71-034b61534056",
   "metadata": {},
   "outputs": [],
   "source": [
    "with open(\"test.txt\" , 'wb') as f :\n",
    "    file2 = io.BufferedWriter(f)\n",
    "    file2.write(b\"Dive deep into data science with our Full Stack Data Science Pro curriculum. Acquire end-to-end expertise from data exploration and engineering to machine learning, deep learning, CV, NLP, and prompt engineering implementations. Develop versatile skills for modern data challenges.Cultivate a full spectrum of skills for impactful data-driven results.\\n\")\n",
    "    file2.write(b\"this is my second line which I wanna print along with first\")\n",
    "    file2.flush()"
   ]
  },
  {
   "cell_type": "code",
   "execution_count": 23,
   "id": "0915fbeb-d906-4cc7-ad9e-32c443431218",
   "metadata": {},
   "outputs": [
    {
     "name": "stdout",
     "output_type": "stream",
     "text": [
      "b'Dive deep into data science with our Full Stack Data Science Pro curriculum. Acquire end-to-end expertise from data exploration and engineering to machine learning, deep learning, CV, NLP, and prompt engineering implementations. Develop versatile skills for modern data challenges.Cultivate a full spectrum of skills for impactful data-driven results.\\nthis is my second line which I wanna print along with first'\n"
     ]
    }
   ],
   "source": [
    "with open(\"test.txt\" , \"rb\") as f :\n",
    "    file2 = io.BufferedReader(f)\n",
    "    data1 = file2.read()\n",
    "    print(data1)"
   ]
  },
  {
   "cell_type": "code",
   "execution_count": 24,
   "id": "fbd102fa-6b90-4b08-b108-3af42894eac8",
   "metadata": {},
   "outputs": [
    {
     "name": "stdout",
     "output_type": "stream",
     "text": [
      "b'Dive deep into data science with our Full Stack Data Science Pro curriculum. Acquire end-to-end expe'\n"
     ]
    }
   ],
   "source": [
    "with open(\"test.txt\" , \"rb\") as f :\n",
    "    file2 = io.BufferedReader(f)\n",
    "    data1 = file2.read(100)\n",
    "    print(data1)"
   ]
  },
  {
   "cell_type": "code",
   "execution_count": null,
   "id": "d5f3e1aa-5550-4f25-b5ba-4647c154464d",
   "metadata": {},
   "outputs": [],
   "source": []
  }
 ],
 "metadata": {
  "kernelspec": {
   "display_name": "Python 3 (ipykernel)",
   "language": "python",
   "name": "python3"
  },
  "language_info": {
   "codemirror_mode": {
    "name": "ipython",
    "version": 3
   },
   "file_extension": ".py",
   "mimetype": "text/x-python",
   "name": "python",
   "nbconvert_exporter": "python",
   "pygments_lexer": "ipython3",
   "version": "3.10.8"
  }
 },
 "nbformat": 4,
 "nbformat_minor": 5
}
