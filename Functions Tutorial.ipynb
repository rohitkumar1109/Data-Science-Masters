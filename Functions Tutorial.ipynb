{
 "cells": [
  {
   "cell_type": "code",
   "execution_count": 1,
   "id": "850e1aef-ca0d-495a-bd9f-9efbb77b5dc2",
   "metadata": {},
   "outputs": [
    {
     "name": "stdout",
     "output_type": "stream",
     "text": [
      "Let's learn to define Functions in Python\n"
     ]
    }
   ],
   "source": [
    "print(\"Let's learn to define Functions in Python\")"
   ]
  },
  {
   "cell_type": "code",
   "execution_count": 2,
   "id": "e6494758-26d7-4a14-a734-d7f9b7c9add3",
   "metadata": {},
   "outputs": [],
   "source": [
    "l = [1,2,3,4,5,6,7,88,99]"
   ]
  },
  {
   "cell_type": "code",
   "execution_count": 3,
   "id": "4d101210-e36c-4f9c-8cfa-8d71c349be11",
   "metadata": {},
   "outputs": [
    {
     "data": {
      "text/plain": [
       "9"
      ]
     },
     "execution_count": 3,
     "metadata": {},
     "output_type": "execute_result"
    }
   ],
   "source": [
    "len(l)"
   ]
  },
  {
   "cell_type": "code",
   "execution_count": 4,
   "id": "7a63a3be-8b88-4a35-a5df-0ad27b47abd8",
   "metadata": {},
   "outputs": [],
   "source": [
    "def test():\n",
    "    pass"
   ]
  },
  {
   "cell_type": "code",
   "execution_count": 5,
   "id": "9a05cc25-e832-4d26-8d5e-b7cb8dc55099",
   "metadata": {},
   "outputs": [],
   "source": [
    "def test1():\n",
    "    print('This is my very first function')"
   ]
  },
  {
   "cell_type": "code",
   "execution_count": 6,
   "id": "eed885bf-e55f-4b0c-922f-fcaa678a8ed8",
   "metadata": {},
   "outputs": [
    {
     "name": "stdout",
     "output_type": "stream",
     "text": [
      "This is my very first function\n"
     ]
    }
   ],
   "source": [
    "test1()"
   ]
  },
  {
   "cell_type": "code",
   "execution_count": 7,
   "id": "7a60b355-ac1e-478e-8af8-af75304e1826",
   "metadata": {},
   "outputs": [
    {
     "name": "stdout",
     "output_type": "stream",
     "text": [
      "This is my very first function\n"
     ]
    },
    {
     "ename": "TypeError",
     "evalue": "unsupported operand type(s) for +: 'NoneType' and 'str'",
     "output_type": "error",
     "traceback": [
      "\u001b[0;31m---------------------------------------------------------------------------\u001b[0m",
      "\u001b[0;31mTypeError\u001b[0m                                 Traceback (most recent call last)",
      "Cell \u001b[0;32mIn[7], line 1\u001b[0m\n\u001b[0;32m----> 1\u001b[0m \u001b[43mtest1\u001b[49m\u001b[43m(\u001b[49m\u001b[43m)\u001b[49m\u001b[43m \u001b[49m\u001b[38;5;241;43m+\u001b[39;49m\u001b[43m \u001b[49m\u001b[38;5;124;43m\"\u001b[39;49m\u001b[38;5;124;43mData\u001b[39;49m\u001b[38;5;124;43m\"\u001b[39;49m\n",
      "\u001b[0;31mTypeError\u001b[0m: unsupported operand type(s) for +: 'NoneType' and 'str'"
     ]
    }
   ],
   "source": [
    "test1() + \"Data\""
   ]
  },
  {
   "cell_type": "code",
   "execution_count": 8,
   "id": "3f775af6-9e46-4e9d-acb8-bbe5a0bad425",
   "metadata": {},
   "outputs": [],
   "source": [
    "def test2():\n",
    "    return \"This is my function with return\""
   ]
  },
  {
   "cell_type": "code",
   "execution_count": 9,
   "id": "7942e5bd-7859-444f-9853-f0955a817953",
   "metadata": {},
   "outputs": [
    {
     "data": {
      "text/plain": [
       "'This is my function with return Data type'"
      ]
     },
     "execution_count": 9,
     "metadata": {},
     "output_type": "execute_result"
    }
   ],
   "source": [
    "test2() + \" Data type\""
   ]
  },
  {
   "cell_type": "code",
   "execution_count": 10,
   "id": "b4579127-b34f-4bcd-be8f-fa1219b4e578",
   "metadata": {},
   "outputs": [],
   "source": [
    "def test3():\n",
    "    return 1,2,\"amit\",45.67,True"
   ]
  },
  {
   "cell_type": "code",
   "execution_count": 11,
   "id": "0701a91b-bee2-4126-a3d2-f9c4de6b1055",
   "metadata": {},
   "outputs": [
    {
     "data": {
      "text/plain": [
       "(1, 2, 'amit', 45.67, True)"
      ]
     },
     "execution_count": 11,
     "metadata": {},
     "output_type": "execute_result"
    }
   ],
   "source": [
    "test3()"
   ]
  },
  {
   "cell_type": "code",
   "execution_count": 12,
   "id": "982a3fad-7e36-4425-98ac-a05b157d599e",
   "metadata": {},
   "outputs": [],
   "source": [
    "a,b,c,d = 2,4,\"Earth\",True"
   ]
  },
  {
   "cell_type": "code",
   "execution_count": 13,
   "id": "2a74089b-d1d9-4051-9534-406bd9d6fb47",
   "metadata": {},
   "outputs": [
    {
     "data": {
      "text/plain": [
       "2"
      ]
     },
     "execution_count": 13,
     "metadata": {},
     "output_type": "execute_result"
    }
   ],
   "source": [
    "a"
   ]
  },
  {
   "cell_type": "code",
   "execution_count": 14,
   "id": "b3665f6b-6a52-4bd0-a3da-7fa076bd1675",
   "metadata": {},
   "outputs": [
    {
     "data": {
      "text/plain": [
       "4"
      ]
     },
     "execution_count": 14,
     "metadata": {},
     "output_type": "execute_result"
    }
   ],
   "source": [
    "b"
   ]
  },
  {
   "cell_type": "code",
   "execution_count": 15,
   "id": "e1b0ab6b-cfbd-49ab-982f-f201d9b0f046",
   "metadata": {},
   "outputs": [
    {
     "data": {
      "text/plain": [
       "'Earth'"
      ]
     },
     "execution_count": 15,
     "metadata": {},
     "output_type": "execute_result"
    }
   ],
   "source": [
    "c"
   ]
  },
  {
   "cell_type": "code",
   "execution_count": 16,
   "id": "452e77af-7a37-4fea-81b1-93e99da32213",
   "metadata": {},
   "outputs": [
    {
     "data": {
      "text/plain": [
       "True"
      ]
     },
     "execution_count": 16,
     "metadata": {},
     "output_type": "execute_result"
    }
   ],
   "source": [
    "d"
   ]
  },
  {
   "cell_type": "code",
   "execution_count": 17,
   "id": "81f2167f-1bc8-4e77-9b89-1518e63bb102",
   "metadata": {},
   "outputs": [
    {
     "data": {
      "text/plain": [
       "(1, 2, 'amit', 45.67, True)"
      ]
     },
     "execution_count": 17,
     "metadata": {},
     "output_type": "execute_result"
    }
   ],
   "source": [
    "test3()"
   ]
  },
  {
   "cell_type": "code",
   "execution_count": 18,
   "id": "6415b29f-9bf8-4d36-8596-6bf98ca4f95e",
   "metadata": {},
   "outputs": [
    {
     "data": {
      "text/plain": [
       "1"
      ]
     },
     "execution_count": 18,
     "metadata": {},
     "output_type": "execute_result"
    }
   ],
   "source": [
    "test3()[0]"
   ]
  },
  {
   "cell_type": "code",
   "execution_count": 19,
   "id": "9e38187c-0979-421b-b5a5-4a2e64ada665",
   "metadata": {},
   "outputs": [
    {
     "data": {
      "text/plain": [
       "'amit'"
      ]
     },
     "execution_count": 19,
     "metadata": {},
     "output_type": "execute_result"
    }
   ],
   "source": [
    "test3()[2]"
   ]
  },
  {
   "cell_type": "code",
   "execution_count": 20,
   "id": "b99710be-65fc-429e-ad9d-d13e541274c2",
   "metadata": {},
   "outputs": [
    {
     "data": {
      "text/plain": [
       "tuple"
      ]
     },
     "execution_count": 20,
     "metadata": {},
     "output_type": "execute_result"
    }
   ],
   "source": [
    "type(test3())"
   ]
  },
  {
   "cell_type": "code",
   "execution_count": 21,
   "id": "59e06c90-e5ab-481d-ad4f-856db2d89eff",
   "metadata": {},
   "outputs": [],
   "source": [
    "def test4():\n",
    "    a = 5*6 + 43\n",
    "    return a"
   ]
  },
  {
   "cell_type": "code",
   "execution_count": 23,
   "id": "7c4ddf06-98c0-444a-88bc-f3609ebc8069",
   "metadata": {},
   "outputs": [
    {
     "data": {
      "text/plain": [
       "73"
      ]
     },
     "execution_count": 23,
     "metadata": {},
     "output_type": "execute_result"
    }
   ],
   "source": [
    "test4()"
   ]
  },
  {
   "cell_type": "code",
   "execution_count": 24,
   "id": "5575bcd5-4afc-4233-9548-f1f53a040252",
   "metadata": {},
   "outputs": [
    {
     "data": {
      "text/plain": [
       "int"
      ]
     },
     "execution_count": 24,
     "metadata": {},
     "output_type": "execute_result"
    }
   ],
   "source": [
    "type(test4())"
   ]
  },
  {
   "cell_type": "code",
   "execution_count": 25,
   "id": "00775a53-b8ea-4c62-9ec0-59c827d5eb99",
   "metadata": {},
   "outputs": [],
   "source": [
    "def test5(a,b):\n",
    "    c = a + b\n",
    "    return c"
   ]
  },
  {
   "cell_type": "code",
   "execution_count": 26,
   "id": "c7d751b9-9e7e-4949-89b7-3988619bfccb",
   "metadata": {},
   "outputs": [
    {
     "data": {
      "text/plain": [
       "5"
      ]
     },
     "execution_count": 26,
     "metadata": {},
     "output_type": "execute_result"
    }
   ],
   "source": [
    "test5(2,3)"
   ]
  },
  {
   "cell_type": "code",
   "execution_count": 27,
   "id": "c73b65fd-64e0-4254-aec5-fb314bfedf16",
   "metadata": {},
   "outputs": [
    {
     "data": {
      "text/plain": [
       "str"
      ]
     },
     "execution_count": 27,
     "metadata": {},
     "output_type": "execute_result"
    }
   ],
   "source": [
    "type(test5(\"Rohit\",\" Kumar\"))"
   ]
  },
  {
   "cell_type": "code",
   "execution_count": 28,
   "id": "b258d012-47db-4770-ba27-07bb0f98176c",
   "metadata": {},
   "outputs": [
    {
     "data": {
      "text/plain": [
       "[1, 2, 3, 4, 6, 7, 8, 9]"
      ]
     },
     "execution_count": 28,
     "metadata": {},
     "output_type": "execute_result"
    }
   ],
   "source": [
    "test5([1,2,3,4],[6,7,8,9])"
   ]
  },
  {
   "cell_type": "code",
   "execution_count": 29,
   "id": "fcda76b0-cfc8-4fca-9145-91ee3a19a680",
   "metadata": {},
   "outputs": [],
   "source": [
    "## Create a function which will take List as an input and give me a final list with all the numeric values\n",
    "\n",
    "l = [1,2,3,4,5,\"PWskills\",[4,5,6,7,8,9]]"
   ]
  },
  {
   "cell_type": "code",
   "execution_count": 30,
   "id": "15a1d2ec-280d-42b9-8d31-c170fae079d6",
   "metadata": {},
   "outputs": [],
   "source": [
    "def test6(a):\n",
    "    n = []\n",
    "    for i in a:\n",
    "        if type(i)== int or type(i)== float:\n",
    "            n.append(i)\n",
    "    return n"
   ]
  },
  {
   "cell_type": "code",
   "execution_count": 31,
   "id": "43d2ae6a-5a24-4b04-9512-0f52f815ccda",
   "metadata": {},
   "outputs": [
    {
     "data": {
      "text/plain": [
       "[1, 2, 3, 4, 5]"
      ]
     },
     "execution_count": 31,
     "metadata": {},
     "output_type": "execute_result"
    }
   ],
   "source": [
    "test6(l)"
   ]
  },
  {
   "cell_type": "code",
   "execution_count": 32,
   "id": "52d56215-c1ba-42e0-9907-03ee99556f6f",
   "metadata": {},
   "outputs": [],
   "source": [
    "def test7(a):\n",
    "    n = []\n",
    "    for i in a:\n",
    "        if type(i) == int or type(i) == float:\n",
    "            n.append(i)\n",
    "        else:\n",
    "            if type(i) == list:\n",
    "                for j in i:\n",
    "                    if type(j) == int or type(j) == float:\n",
    "                        n.append(j)\n",
    "    return n"
   ]
  },
  {
   "cell_type": "code",
   "execution_count": 33,
   "id": "0c7e2322-2375-4e47-8af7-e98f9bc49955",
   "metadata": {},
   "outputs": [
    {
     "data": {
      "text/plain": [
       "[1, 2, 3, 4, 5, 4, 5, 6, 7, 8, 9]"
      ]
     },
     "execution_count": 33,
     "metadata": {},
     "output_type": "execute_result"
    }
   ],
   "source": [
    "test7(l)"
   ]
  },
  {
   "cell_type": "markdown",
   "id": "bc6aa836-2447-4063-a1ff-9432e308d75d",
   "metadata": {},
   "source": [
    "## How to put multiple arguments in a Function"
   ]
  },
  {
   "cell_type": "code",
   "execution_count": 34,
   "id": "2bd9c0a5-e524-4977-89a3-9dac79c3bcd8",
   "metadata": {},
   "outputs": [],
   "source": [
    "def test(a,b,c,d):\n",
    "    pass "
   ]
  },
  {
   "cell_type": "code",
   "execution_count": 35,
   "id": "25757b41-1274-44eb-b632-8e6b51cf6679",
   "metadata": {},
   "outputs": [],
   "source": [
    "test(1,2,3,4)"
   ]
  },
  {
   "cell_type": "code",
   "execution_count": 36,
   "id": "371f30d1-ddd5-4374-baa3-0a7f30265093",
   "metadata": {},
   "outputs": [
    {
     "ename": "TypeError",
     "evalue": "test() takes 4 positional arguments but 6 were given",
     "output_type": "error",
     "traceback": [
      "\u001b[0;31m---------------------------------------------------------------------------\u001b[0m",
      "\u001b[0;31mTypeError\u001b[0m                                 Traceback (most recent call last)",
      "Cell \u001b[0;32mIn[36], line 1\u001b[0m\n\u001b[0;32m----> 1\u001b[0m \u001b[43mtest\u001b[49m\u001b[43m(\u001b[49m\u001b[38;5;241;43m1\u001b[39;49m\u001b[43m,\u001b[49m\u001b[38;5;241;43m2\u001b[39;49m\u001b[43m,\u001b[49m\u001b[38;5;241;43m3\u001b[39;49m\u001b[43m,\u001b[49m\u001b[38;5;241;43m4\u001b[39;49m\u001b[43m,\u001b[49m\u001b[38;5;241;43m5\u001b[39;49m\u001b[43m,\u001b[49m\u001b[38;5;241;43m6\u001b[39;49m\u001b[43m)\u001b[49m\n",
      "\u001b[0;31mTypeError\u001b[0m: test() takes 4 positional arguments but 6 were given"
     ]
    }
   ],
   "source": [
    "test(1,2,3,4,5,6)"
   ]
  },
  {
   "cell_type": "code",
   "execution_count": 37,
   "id": "879eb4f1-d75b-4b86-8f19-363b3de911c5",
   "metadata": {},
   "outputs": [],
   "source": [
    "def test1(*args):\n",
    "    return args"
   ]
  },
  {
   "cell_type": "code",
   "execution_count": 38,
   "id": "786766f0-d34f-4238-bc22-2df4933b7318",
   "metadata": {},
   "outputs": [
    {
     "data": {
      "text/plain": [
       "(5,)"
      ]
     },
     "execution_count": 38,
     "metadata": {},
     "output_type": "execute_result"
    }
   ],
   "source": [
    "test1(5)"
   ]
  },
  {
   "cell_type": "code",
   "execution_count": 39,
   "id": "6449c8fe-a7ea-44e5-8af8-e9bcaf708930",
   "metadata": {},
   "outputs": [
    {
     "data": {
      "text/plain": [
       "(2, 3, 4, 5, 6, 7, 89, 22)"
      ]
     },
     "execution_count": 39,
     "metadata": {},
     "output_type": "execute_result"
    }
   ],
   "source": [
    "test1(2,3,4,5,6,7,89,22)"
   ]
  },
  {
   "cell_type": "code",
   "execution_count": 40,
   "id": "bc4624d4-a940-4e08-9a1b-a6bac22551b4",
   "metadata": {},
   "outputs": [
    {
     "data": {
      "text/plain": [
       "(2, 3, 'masters', (2, 3, 4, 5, 9), True)"
      ]
     },
     "execution_count": 40,
     "metadata": {},
     "output_type": "execute_result"
    }
   ],
   "source": [
    "test1(2,3,\"masters\",(2,3,4,5,9),True)"
   ]
  },
  {
   "cell_type": "code",
   "execution_count": 41,
   "id": "3b4697b8-96d5-433a-ad67-c8a381375b23",
   "metadata": {},
   "outputs": [],
   "source": [
    "def test2(*rk):\n",
    "    return rk"
   ]
  },
  {
   "cell_type": "code",
   "execution_count": 42,
   "id": "6ea0d195-41c3-48f4-aa84-5e5a81a84635",
   "metadata": {},
   "outputs": [
    {
     "data": {
      "text/plain": [
       "('Rohit', 2, 3, 4, 5, 67, 998, 656, 23)"
      ]
     },
     "execution_count": 42,
     "metadata": {},
     "output_type": "execute_result"
    }
   ],
   "source": [
    "test2(\"Rohit\", 2,3,4,5,67,998,656,23)"
   ]
  },
  {
   "cell_type": "code",
   "execution_count": 43,
   "id": "c49354e8-72ef-4f7a-ac5f-be49409e429c",
   "metadata": {},
   "outputs": [],
   "source": [
    "def test3(*args, a):\n",
    "    return args, a"
   ]
  },
  {
   "cell_type": "code",
   "execution_count": 44,
   "id": "b1790470-b2c4-4797-844f-4dd5b2b335d3",
   "metadata": {},
   "outputs": [
    {
     "ename": "TypeError",
     "evalue": "test3() missing 1 required keyword-only argument: 'a'",
     "output_type": "error",
     "traceback": [
      "\u001b[0;31m---------------------------------------------------------------------------\u001b[0m",
      "\u001b[0;31mTypeError\u001b[0m                                 Traceback (most recent call last)",
      "Cell \u001b[0;32mIn[44], line 1\u001b[0m\n\u001b[0;32m----> 1\u001b[0m \u001b[43mtest3\u001b[49m\u001b[43m(\u001b[49m\u001b[38;5;241;43m23\u001b[39;49m\u001b[43m,\u001b[49m\u001b[38;5;241;43m44\u001b[39;49m\u001b[43m,\u001b[49m\u001b[38;5;241;43m5\u001b[39;49m\u001b[43m,\u001b[49m\u001b[38;5;241;43m677\u001b[39;49m\u001b[43m)\u001b[49m\n",
      "\u001b[0;31mTypeError\u001b[0m: test3() missing 1 required keyword-only argument: 'a'"
     ]
    }
   ],
   "source": [
    "test3(23,44,5,677)"
   ]
  },
  {
   "cell_type": "code",
   "execution_count": 45,
   "id": "b9c680f9-827e-4418-98fc-0dfa5bd3e3a7",
   "metadata": {},
   "outputs": [
    {
     "data": {
      "text/plain": [
       "((2, 1, 3, 4), 'Skills')"
      ]
     },
     "execution_count": 45,
     "metadata": {},
     "output_type": "execute_result"
    }
   ],
   "source": [
    "test3(2,1,3,4, a=\"Skills\")"
   ]
  },
  {
   "cell_type": "code",
   "execution_count": 46,
   "id": "5dae43e6-fbcf-441e-8f28-1666a93766fe",
   "metadata": {},
   "outputs": [],
   "source": [
    "def test4(*args):\n",
    "    l = []\n",
    "    for i in args:\n",
    "        if type(i) == list:\n",
    "            l.append(i)\n",
    "    return l"
   ]
  },
  {
   "cell_type": "code",
   "execution_count": 47,
   "id": "e637d476-d282-4f83-8321-0b829561cad2",
   "metadata": {},
   "outputs": [
    {
     "data": {
      "text/plain": [
       "[[3, 4, 55, 66, 77], ['Masters', 2, 1, 2, 3, 4]]"
      ]
     },
     "execution_count": 47,
     "metadata": {},
     "output_type": "execute_result"
    }
   ],
   "source": [
    "test4(1,2,[3,4,55,66,77],(\"skills\",'Data'),[\"Masters\",2,1,2,3,4])"
   ]
  },
  {
   "cell_type": "code",
   "execution_count": 48,
   "id": "6b2b65eb-1bc4-4812-a572-cf72e2dcca53",
   "metadata": {},
   "outputs": [],
   "source": [
    "def test5(**kwargs):\n",
    "    return kwargs"
   ]
  },
  {
   "cell_type": "code",
   "execution_count": 49,
   "id": "ffb0dc30-8532-48c6-9501-1eb1a2e7b279",
   "metadata": {},
   "outputs": [
    {
     "data": {
      "text/plain": [
       "{'a': 56, 'b': 89, 'c': 'skills', 'd': [2, 3, 4, 5, 6]}"
      ]
     },
     "execution_count": 49,
     "metadata": {},
     "output_type": "execute_result"
    }
   ],
   "source": [
    "test5(a = 56, b = 89, c = 'skills', d = [2,3,4,5,6])"
   ]
  },
  {
   "cell_type": "code",
   "execution_count": 50,
   "id": "9d345541-3ed0-44cf-9acb-69d1193b53c6",
   "metadata": {},
   "outputs": [
    {
     "data": {
      "text/plain": [
       "{}"
      ]
     },
     "execution_count": 50,
     "metadata": {},
     "output_type": "execute_result"
    }
   ],
   "source": [
    "test5()"
   ]
  },
  {
   "cell_type": "code",
   "execution_count": 51,
   "id": "f37a735c-6835-4f53-9015-74c48e91f4a6",
   "metadata": {},
   "outputs": [
    {
     "data": {
      "text/plain": [
       "dict"
      ]
     },
     "execution_count": 51,
     "metadata": {},
     "output_type": "execute_result"
    }
   ],
   "source": [
    "type(test5())"
   ]
  },
  {
   "cell_type": "code",
   "execution_count": 52,
   "id": "77358246-1daa-48c7-b356-b88b7e0d70d4",
   "metadata": {},
   "outputs": [],
   "source": [
    "def test6(**kwargs):\n",
    "    for i in kwargs.keys():\n",
    "        if type(kwargs[i])== list:\n",
    "            return i ,kwargs[i]"
   ]
  },
  {
   "cell_type": "code",
   "execution_count": 53,
   "id": "2df08fb5-130d-449a-8e94-6fd6182947e2",
   "metadata": {},
   "outputs": [
    {
     "data": {
      "text/plain": [
       "('d', [2, 3, 4, 5, 6])"
      ]
     },
     "execution_count": 53,
     "metadata": {},
     "output_type": "execute_result"
    }
   ],
   "source": [
    "test6(a = 56, b = 89, c = 'skills', d = [2,3,4,5,6])"
   ]
  },
  {
   "cell_type": "code",
   "execution_count": 54,
   "id": "951f1ac1-0535-47cc-845c-ef3bebe23654",
   "metadata": {},
   "outputs": [],
   "source": [
    "def test7(*args, **kwargs):\n",
    "    return args, kwargs"
   ]
  },
  {
   "cell_type": "code",
   "execution_count": 55,
   "id": "2dfcbb4a-b33f-40a2-a80c-ec2fc2b2c34d",
   "metadata": {},
   "outputs": [
    {
     "data": {
      "text/plain": [
       "((22, 33, 4, 5, 6, 77), {'a': 'PW', 'b': 'Skills'})"
      ]
     },
     "execution_count": 55,
     "metadata": {},
     "output_type": "execute_result"
    }
   ],
   "source": [
    "test7(22,33,4,5,6,77, a = \"PW\", b = 'Skills')"
   ]
  },
  {
   "cell_type": "markdown",
   "id": "671ac778-c52c-4c7c-ac9d-20e3b072fb26",
   "metadata": {},
   "source": [
    "## Generator Function"
   ]
  },
  {
   "cell_type": "code",
   "execution_count": 56,
   "id": "19b0b7a8-2dbc-4335-803a-a60a642490c3",
   "metadata": {},
   "outputs": [
    {
     "data": {
      "text/plain": [
       "range(1, 10)"
      ]
     },
     "execution_count": 56,
     "metadata": {},
     "output_type": "execute_result"
    }
   ],
   "source": [
    "range(1,10)"
   ]
  },
  {
   "cell_type": "code",
   "execution_count": 57,
   "id": "22e3c1b5-79cb-4f30-9b3d-4ac447d1b032",
   "metadata": {},
   "outputs": [
    {
     "name": "stdout",
     "output_type": "stream",
     "text": [
      "1\n",
      "2\n",
      "3\n",
      "4\n",
      "5\n",
      "6\n",
      "7\n",
      "8\n",
      "9\n"
     ]
    }
   ],
   "source": [
    "for i in range(1,10):\n",
    "    print(i)"
   ]
  },
  {
   "cell_type": "code",
   "execution_count": 58,
   "id": "dc53c15a-be9e-4c9a-85e0-e4e3df96c5db",
   "metadata": {},
   "outputs": [],
   "source": [
    "l = [1,2,3,4,5,6,44,3,33,'amit','aman']"
   ]
  },
  {
   "cell_type": "code",
   "execution_count": 59,
   "id": "4d1f01a2-cb94-406f-943c-3476bf8b8d26",
   "metadata": {},
   "outputs": [],
   "source": [
    "def test(a):\n",
    "    n = []\n",
    "    for i in a:\n",
    "        if type(i) == int:\n",
    "            n.append(i)\n",
    "    return n"
   ]
  },
  {
   "cell_type": "code",
   "execution_count": 60,
   "id": "4e12cc0a-0137-4956-9426-a15ec7d38630",
   "metadata": {},
   "outputs": [
    {
     "data": {
      "text/plain": [
       "[1, 2, 3, 4, 5, 6, 44, 3, 33]"
      ]
     },
     "execution_count": 60,
     "metadata": {},
     "output_type": "execute_result"
    }
   ],
   "source": [
    "test(l)"
   ]
  },
  {
   "cell_type": "code",
   "execution_count": 61,
   "id": "3a551899-57ae-470e-831a-4bc8edd4b0c1",
   "metadata": {},
   "outputs": [],
   "source": [
    "## Fibonacci Series\n",
    "\n",
    "def test_fib(n):\n",
    "    a, b = 0,1\n",
    "    for i in range(n):\n",
    "        yield a\n",
    "        a, b = b, a+b"
   ]
  },
  {
   "cell_type": "code",
   "execution_count": 62,
   "id": "3e4af965-151d-405e-b13d-24eb2e30e0c3",
   "metadata": {},
   "outputs": [
    {
     "data": {
      "text/plain": [
       "<generator object test_fib at 0x7ff3e0256b90>"
      ]
     },
     "execution_count": 62,
     "metadata": {},
     "output_type": "execute_result"
    }
   ],
   "source": [
    "test_fib(10)"
   ]
  },
  {
   "cell_type": "code",
   "execution_count": 63,
   "id": "6eb2e333-62b1-40d4-bb5a-35183d6412d1",
   "metadata": {},
   "outputs": [
    {
     "name": "stdout",
     "output_type": "stream",
     "text": [
      "0\n",
      "1\n",
      "1\n",
      "2\n",
      "3\n",
      "5\n",
      "8\n",
      "13\n",
      "21\n",
      "34\n"
     ]
    }
   ],
   "source": [
    "for i in test_fib(10):\n",
    "    print (i)"
   ]
  },
  {
   "cell_type": "code",
   "execution_count": 64,
   "id": "aa085472-0bd7-4938-bd50-cd86e448ca4b",
   "metadata": {},
   "outputs": [
    {
     "data": {
      "text/plain": [
       "[0, 1, 1, 2, 3, 5, 8, 13, 21, 34]"
      ]
     },
     "execution_count": 64,
     "metadata": {},
     "output_type": "execute_result"
    }
   ],
   "source": [
    "list(test_fib(10))"
   ]
  },
  {
   "cell_type": "markdown",
   "id": "0e3709eb-7c06-49fb-b8da-956056ac8401",
   "metadata": {},
   "source": [
    "## Lambda Function"
   ]
  },
  {
   "cell_type": "code",
   "execution_count": 65,
   "id": "885fa0e1-4535-47ae-9266-55d68d4a3b2d",
   "metadata": {},
   "outputs": [],
   "source": [
    "def test_sq(n,p):\n",
    "    return n**p"
   ]
  },
  {
   "cell_type": "code",
   "execution_count": 66,
   "id": "682c3078-2f7c-4758-adef-486759c1ed03",
   "metadata": {},
   "outputs": [
    {
     "data": {
      "text/plain": [
       "81"
      ]
     },
     "execution_count": 66,
     "metadata": {},
     "output_type": "execute_result"
    }
   ],
   "source": [
    "test_sq(3,4)"
   ]
  },
  {
   "cell_type": "code",
   "execution_count": 67,
   "id": "c5c61bd9-dad8-4867-8bf4-a1eaee7a206b",
   "metadata": {},
   "outputs": [
    {
     "data": {
      "text/plain": [
       "10077696"
      ]
     },
     "execution_count": 67,
     "metadata": {},
     "output_type": "execute_result"
    }
   ],
   "source": [
    "test_sq(6,9)"
   ]
  },
  {
   "cell_type": "code",
   "execution_count": 68,
   "id": "f5527cc5-a5a4-4b7e-b733-cc76cc9d6f42",
   "metadata": {},
   "outputs": [],
   "source": [
    "a = lambda n,p : n**p"
   ]
  },
  {
   "cell_type": "code",
   "execution_count": 69,
   "id": "8f35bb5b-f203-404a-8a62-4d62552f8512",
   "metadata": {},
   "outputs": [
    {
     "data": {
      "text/plain": [
       "81"
      ]
     },
     "execution_count": 69,
     "metadata": {},
     "output_type": "execute_result"
    }
   ],
   "source": [
    "a(3,4)"
   ]
  },
  {
   "cell_type": "code",
   "execution_count": 70,
   "id": "156dc997-9f57-442e-843b-e4618a935221",
   "metadata": {},
   "outputs": [
    {
     "data": {
      "text/plain": [
       "134217728"
      ]
     },
     "execution_count": 70,
     "metadata": {},
     "output_type": "execute_result"
    }
   ],
   "source": [
    "a(8,9)"
   ]
  },
  {
   "cell_type": "code",
   "execution_count": 71,
   "id": "aacac02f-7510-41c5-86e3-2a041191369c",
   "metadata": {},
   "outputs": [],
   "source": [
    "add = lambda x,y : x+y"
   ]
  },
  {
   "cell_type": "code",
   "execution_count": 72,
   "id": "88c7d299-49c7-4dd0-96e9-10fb9b79fb80",
   "metadata": {},
   "outputs": [
    {
     "data": {
      "text/plain": [
       "8890"
      ]
     },
     "execution_count": 72,
     "metadata": {},
     "output_type": "execute_result"
    }
   ],
   "source": [
    "add(3334,5556)"
   ]
  },
  {
   "cell_type": "code",
   "execution_count": 73,
   "id": "1bdc6c12-2318-4729-be6e-b248607272d3",
   "metadata": {},
   "outputs": [],
   "source": [
    "c_to_f = lambda c : (9/5)*c+32"
   ]
  },
  {
   "cell_type": "code",
   "execution_count": 74,
   "id": "20e1e34d-d04b-41cf-987a-3391c7310ed6",
   "metadata": {},
   "outputs": [
    {
     "data": {
      "text/plain": [
       "212.0"
      ]
     },
     "execution_count": 74,
     "metadata": {},
     "output_type": "execute_result"
    }
   ],
   "source": [
    "c_to_f(100)"
   ]
  },
  {
   "cell_type": "code",
   "execution_count": 75,
   "id": "dc0abb19-96e8-4b58-9f4c-4e434dd11a6c",
   "metadata": {},
   "outputs": [],
   "source": [
    "max = lambda x,y : x if x>y else y"
   ]
  },
  {
   "cell_type": "code",
   "execution_count": 76,
   "id": "2e4cbce9-e913-42f5-b8c5-7ee5411446ee",
   "metadata": {},
   "outputs": [
    {
     "data": {
      "text/plain": [
       "89"
      ]
     },
     "execution_count": 76,
     "metadata": {},
     "output_type": "execute_result"
    }
   ],
   "source": [
    "max(55,89)"
   ]
  },
  {
   "cell_type": "code",
   "execution_count": 77,
   "id": "78a65944-172d-46c6-91da-116ae2b97f4a",
   "metadata": {},
   "outputs": [],
   "source": [
    "s = \"Data Science Masters\""
   ]
  },
  {
   "cell_type": "code",
   "execution_count": 78,
   "id": "786f90ba-cfc7-406a-b4c0-333453b1007f",
   "metadata": {},
   "outputs": [],
   "source": [
    "len_str = lambda s: len(s)"
   ]
  },
  {
   "cell_type": "code",
   "execution_count": 79,
   "id": "adf374e0-4b79-4327-b92a-43deeff2e152",
   "metadata": {},
   "outputs": [
    {
     "data": {
      "text/plain": [
       "20"
      ]
     },
     "execution_count": 79,
     "metadata": {},
     "output_type": "execute_result"
    }
   ],
   "source": [
    "len_str(s)"
   ]
  },
  {
   "cell_type": "markdown",
   "id": "cdcec27d-376b-4d40-8d4c-a95155c5be4f",
   "metadata": {},
   "source": [
    "## Map Function"
   ]
  },
  {
   "cell_type": "code",
   "execution_count": 80,
   "id": "bba3b35b-600a-4828-9188-3abc04eac7e9",
   "metadata": {},
   "outputs": [],
   "source": [
    "l = [2,3,4,5,6,7,8,9]"
   ]
  },
  {
   "cell_type": "code",
   "execution_count": 81,
   "id": "c6350d4a-4401-499a-a71d-3280bcb6f3c1",
   "metadata": {},
   "outputs": [],
   "source": [
    "def test(a):\n",
    "    l1=[]\n",
    "    for i in a:\n",
    "        l1.append(i**2)\n",
    "    return l1"
   ]
  },
  {
   "cell_type": "code",
   "execution_count": 82,
   "id": "374d4b58-1fe3-4d94-acd3-23f289ed7aa0",
   "metadata": {},
   "outputs": [
    {
     "data": {
      "text/plain": [
       "[4, 9, 16, 25, 36, 49, 64, 81]"
      ]
     },
     "execution_count": 82,
     "metadata": {},
     "output_type": "execute_result"
    }
   ],
   "source": [
    "test(l)"
   ]
  },
  {
   "cell_type": "code",
   "execution_count": 83,
   "id": "eff15847-eb2c-4ed3-abde-0986826b2dcd",
   "metadata": {},
   "outputs": [],
   "source": [
    "def sq(x):\n",
    "    return x**2"
   ]
  },
  {
   "cell_type": "code",
   "execution_count": 84,
   "id": "6a1bfd8a-ba47-4253-92c1-8adbff85165e",
   "metadata": {},
   "outputs": [
    {
     "data": {
      "text/plain": [
       "<map at 0x7ff3e052dc60>"
      ]
     },
     "execution_count": 84,
     "metadata": {},
     "output_type": "execute_result"
    }
   ],
   "source": [
    "map(sq, l)"
   ]
  },
  {
   "cell_type": "code",
   "execution_count": 85,
   "id": "5cb78010-4506-43b3-b59a-8346d7fda8b4",
   "metadata": {},
   "outputs": [
    {
     "data": {
      "text/plain": [
       "[4, 9, 16, 25, 36, 49, 64, 81]"
      ]
     },
     "execution_count": 85,
     "metadata": {},
     "output_type": "execute_result"
    }
   ],
   "source": [
    "list(map(sq, l))"
   ]
  },
  {
   "cell_type": "code",
   "execution_count": 86,
   "id": "13c365e3-6308-4720-b086-d9e2577c91ea",
   "metadata": {},
   "outputs": [
    {
     "data": {
      "text/plain": [
       "[4, 9, 16, 25, 36, 49, 64, 81]"
      ]
     },
     "execution_count": 86,
     "metadata": {},
     "output_type": "execute_result"
    }
   ],
   "source": [
    "list(map(lambda x: x**2, l))"
   ]
  },
  {
   "cell_type": "code",
   "execution_count": 87,
   "id": "227cf962-2fb7-4bd8-a479-600ab687296e",
   "metadata": {},
   "outputs": [
    {
     "data": {
      "text/plain": [
       "[12, 13, 14, 15, 16, 17, 18, 19]"
      ]
     },
     "execution_count": 87,
     "metadata": {},
     "output_type": "execute_result"
    }
   ],
   "source": [
    "list(map(lambda x: x+10, l))"
   ]
  },
  {
   "cell_type": "code",
   "execution_count": 88,
   "id": "935725cf-fb40-4537-a575-ea1cb7cc1bca",
   "metadata": {},
   "outputs": [
    {
     "data": {
      "text/plain": [
       "['2', '3', '4', '5', '6', '7', '8', '9']"
      ]
     },
     "execution_count": 88,
     "metadata": {},
     "output_type": "execute_result"
    }
   ],
   "source": [
    "list(map(lambda x: str(x), l))"
   ]
  },
  {
   "cell_type": "code",
   "execution_count": 89,
   "id": "091490a2-9390-4489-be7a-3f62a146e828",
   "metadata": {},
   "outputs": [],
   "source": [
    "l1= [1,2,3,4]\n",
    "l2= [5,6,7,8]"
   ]
  },
  {
   "cell_type": "code",
   "execution_count": 90,
   "id": "b89d40b7-43fb-4416-96a6-801925d6e361",
   "metadata": {},
   "outputs": [
    {
     "data": {
      "text/plain": [
       "[6, 8, 10, 12]"
      ]
     },
     "execution_count": 90,
     "metadata": {},
     "output_type": "execute_result"
    }
   ],
   "source": [
    "list(map(lambda x,y : x+y, l1,l2))"
   ]
  },
  {
   "cell_type": "code",
   "execution_count": 91,
   "id": "d1c4116b-548d-4390-8e4f-8401d996039c",
   "metadata": {},
   "outputs": [],
   "source": [
    "f = lambda x,y : x+y "
   ]
  },
  {
   "cell_type": "code",
   "execution_count": 92,
   "id": "827f7ebd-16fd-4e04-9c05-e7dd4de977e8",
   "metadata": {},
   "outputs": [
    {
     "data": {
      "text/plain": [
       "[6, 8, 10, 12]"
      ]
     },
     "execution_count": 92,
     "metadata": {},
     "output_type": "execute_result"
    }
   ],
   "source": [
    "list(map(f, l1,l2))"
   ]
  },
  {
   "cell_type": "code",
   "execution_count": 93,
   "id": "6cdd661d-e78b-488b-a7b8-da9e79324f58",
   "metadata": {},
   "outputs": [],
   "source": [
    "s = \"pwskills\""
   ]
  },
  {
   "cell_type": "code",
   "execution_count": 104,
   "id": "9e8169bd-e0ed-4b26-b76f-bd6e33c59c5a",
   "metadata": {},
   "outputs": [
    {
     "data": {
      "text/plain": [
       "['P', 'W', 'S', 'K', 'I', 'L', 'L', 'S']"
      ]
     },
     "execution_count": 104,
     "metadata": {},
     "output_type": "execute_result"
    }
   ],
   "source": [
    "list(map(lambda x: x.upper(), s))"
   ]
  },
  {
   "cell_type": "markdown",
   "id": "23ed4e82-c607-4be4-a48a-21f979932d3b",
   "metadata": {},
   "source": [
    "## Reduce Function"
   ]
  },
  {
   "cell_type": "code",
   "execution_count": 105,
   "id": "fb81d59b-6660-4014-a3c5-551032e9e42d",
   "metadata": {},
   "outputs": [],
   "source": [
    "from functools import reduce"
   ]
  },
  {
   "cell_type": "code",
   "execution_count": 106,
   "id": "e13ac371-ab1d-443a-a34d-7287a85bc948",
   "metadata": {},
   "outputs": [],
   "source": [
    "l = [1,2,3,4,5,6,7,8]"
   ]
  },
  {
   "cell_type": "code",
   "execution_count": 107,
   "id": "ddb97379-8a6a-4b55-a374-52b946a1a71a",
   "metadata": {},
   "outputs": [
    {
     "data": {
      "text/plain": [
       "36"
      ]
     },
     "execution_count": 107,
     "metadata": {},
     "output_type": "execute_result"
    }
   ],
   "source": [
    "reduce(lambda x,y : x+y, l)"
   ]
  },
  {
   "cell_type": "code",
   "execution_count": 108,
   "id": "00214ed8-c450-447d-8d24-459ef7c58cd1",
   "metadata": {},
   "outputs": [],
   "source": [
    "def add(x,y):\n",
    "    return x+y"
   ]
  },
  {
   "cell_type": "code",
   "execution_count": 109,
   "id": "29e98be1-7fe3-4e79-9f78-4a047fcdd700",
   "metadata": {},
   "outputs": [
    {
     "data": {
      "text/plain": [
       "36"
      ]
     },
     "execution_count": 109,
     "metadata": {},
     "output_type": "execute_result"
    }
   ],
   "source": [
    "reduce(add, l)"
   ]
  },
  {
   "cell_type": "code",
   "execution_count": 110,
   "id": "6061ef51-2877-464c-afde-3538476e59f1",
   "metadata": {},
   "outputs": [
    {
     "ename": "TypeError",
     "evalue": "<lambda>() missing 1 required positional argument: 'z'",
     "output_type": "error",
     "traceback": [
      "\u001b[0;31m---------------------------------------------------------------------------\u001b[0m",
      "\u001b[0;31mTypeError\u001b[0m                                 Traceback (most recent call last)",
      "Cell \u001b[0;32mIn[110], line 1\u001b[0m\n\u001b[0;32m----> 1\u001b[0m \u001b[43mreduce\u001b[49m\u001b[43m(\u001b[49m\u001b[38;5;28;43;01mlambda\u001b[39;49;00m\u001b[43m \u001b[49m\u001b[43mx\u001b[49m\u001b[43m,\u001b[49m\u001b[43my\u001b[49m\u001b[43m,\u001b[49m\u001b[43mz\u001b[49m\u001b[43m \u001b[49m\u001b[43m:\u001b[49m\u001b[43m \u001b[49m\u001b[43mx\u001b[49m\u001b[38;5;241;43m+\u001b[39;49m\u001b[43my\u001b[49m\u001b[38;5;241;43m+\u001b[39;49m\u001b[43mz\u001b[49m\u001b[43m,\u001b[49m\u001b[43m \u001b[49m\u001b[43ml\u001b[49m\u001b[43m)\u001b[49m\n",
      "\u001b[0;31mTypeError\u001b[0m: <lambda>() missing 1 required positional argument: 'z'"
     ]
    }
   ],
   "source": [
    "reduce(lambda x,y,z : x+y+z, l)"
   ]
  },
  {
   "cell_type": "code",
   "execution_count": 111,
   "id": "8e1ce45a-2ef5-4469-87f2-66ef15caa09b",
   "metadata": {},
   "outputs": [
    {
     "data": {
      "text/plain": [
       "[1, 2, 3, 4, 5, 6, 7, 8]"
      ]
     },
     "execution_count": 111,
     "metadata": {},
     "output_type": "execute_result"
    }
   ],
   "source": [
    "l"
   ]
  },
  {
   "cell_type": "code",
   "execution_count": 112,
   "id": "1d27203d-635a-4157-8e1d-a0623b54111f",
   "metadata": {},
   "outputs": [
    {
     "ename": "TypeError",
     "evalue": "reduce() of empty iterable with no initial value",
     "output_type": "error",
     "traceback": [
      "\u001b[0;31m---------------------------------------------------------------------------\u001b[0m",
      "\u001b[0;31mTypeError\u001b[0m                                 Traceback (most recent call last)",
      "Cell \u001b[0;32mIn[112], line 1\u001b[0m\n\u001b[0;32m----> 1\u001b[0m \u001b[43mreduce\u001b[49m\u001b[43m(\u001b[49m\u001b[38;5;28;43;01mlambda\u001b[39;49;00m\u001b[43m \u001b[49m\u001b[43mx\u001b[49m\u001b[43m,\u001b[49m\u001b[43my\u001b[49m\u001b[43m \u001b[49m\u001b[43m:\u001b[49m\u001b[43m \u001b[49m\u001b[43mx\u001b[49m\u001b[38;5;241;43m+\u001b[39;49m\u001b[43my\u001b[49m\u001b[43m,\u001b[49m\u001b[43m \u001b[49m\u001b[43m[\u001b[49m\u001b[43m]\u001b[49m\u001b[43m)\u001b[49m\n",
      "\u001b[0;31mTypeError\u001b[0m: reduce() of empty iterable with no initial value"
     ]
    }
   ],
   "source": [
    "reduce(lambda x,y : x+y, [])"
   ]
  },
  {
   "cell_type": "code",
   "execution_count": 114,
   "id": "b1a0381e-ce1d-4025-8c96-9acb81c372e3",
   "metadata": {},
   "outputs": [
    {
     "data": {
      "text/plain": [
       "2"
      ]
     },
     "execution_count": 114,
     "metadata": {},
     "output_type": "execute_result"
    }
   ],
   "source": [
    "reduce(lambda x,y : x+y, [2])"
   ]
  },
  {
   "cell_type": "code",
   "execution_count": 115,
   "id": "23133a59-1012-4f3d-86e0-d565bded5e67",
   "metadata": {},
   "outputs": [
    {
     "data": {
      "text/plain": [
       "[1, 2, 3, 4, 5, 6, 7, 8]"
      ]
     },
     "execution_count": 115,
     "metadata": {},
     "output_type": "execute_result"
    }
   ],
   "source": [
    "l"
   ]
  },
  {
   "cell_type": "code",
   "execution_count": 116,
   "id": "43bdffc8-c123-438d-9897-ace8fa5f08d3",
   "metadata": {},
   "outputs": [
    {
     "data": {
      "text/plain": [
       "8"
      ]
     },
     "execution_count": 116,
     "metadata": {},
     "output_type": "execute_result"
    }
   ],
   "source": [
    "reduce(lambda x,y : x if x>y else y, l)"
   ]
  },
  {
   "cell_type": "markdown",
   "id": "20bd3828-7ded-4e36-ac39-1f7476dc4ee8",
   "metadata": {},
   "source": [
    "## Filter Function"
   ]
  },
  {
   "cell_type": "code",
   "execution_count": 119,
   "id": "32f4f1ac-a915-43bd-a3ef-281f6d324c17",
   "metadata": {},
   "outputs": [
    {
     "data": {
      "text/plain": [
       "[1, 2, 3, 4, 5, 6, 7, 8]"
      ]
     },
     "execution_count": 119,
     "metadata": {},
     "output_type": "execute_result"
    }
   ],
   "source": [
    "l"
   ]
  },
  {
   "cell_type": "code",
   "execution_count": 121,
   "id": "0f20336c-d824-4cf5-92f9-61a7dcfab2a1",
   "metadata": {},
   "outputs": [
    {
     "data": {
      "text/plain": [
       "[2, 4, 6, 8]"
      ]
     },
     "execution_count": 121,
     "metadata": {},
     "output_type": "execute_result"
    }
   ],
   "source": [
    "list(filter(lambda x: x%2 ==0, l))"
   ]
  },
  {
   "cell_type": "code",
   "execution_count": 122,
   "id": "909a31e5-5c46-4650-b8e9-90c85c39d1e8",
   "metadata": {},
   "outputs": [
    {
     "data": {
      "text/plain": [
       "[1, 3, 5, 7]"
      ]
     },
     "execution_count": 122,
     "metadata": {},
     "output_type": "execute_result"
    }
   ],
   "source": [
    "list(filter(lambda x: x%2 !=0, l))"
   ]
  },
  {
   "cell_type": "code",
   "execution_count": 123,
   "id": "7f31e51d-5209-416a-ac91-ea56863186f3",
   "metadata": {},
   "outputs": [],
   "source": [
    "l1 = [-2,-4,2,3,4,5,-7,-9]"
   ]
  },
  {
   "cell_type": "code",
   "execution_count": 126,
   "id": "4de927ed-7144-4055-be30-90a707f9d1cb",
   "metadata": {},
   "outputs": [
    {
     "data": {
      "text/plain": [
       "[2, 3, 4, 5]"
      ]
     },
     "execution_count": 126,
     "metadata": {},
     "output_type": "execute_result"
    }
   ],
   "source": [
    "list(filter(lambda x: x>=0 , l1))"
   ]
  },
  {
   "cell_type": "code",
   "execution_count": 127,
   "id": "2677b50f-d615-4cb5-a573-41584891a890",
   "metadata": {},
   "outputs": [
    {
     "data": {
      "text/plain": [
       "[-2, -4, -7, -9]"
      ]
     },
     "execution_count": 127,
     "metadata": {},
     "output_type": "execute_result"
    }
   ],
   "source": [
    "list(filter(lambda x: x<0 , l1))"
   ]
  },
  {
   "cell_type": "code",
   "execution_count": 128,
   "id": "85a884f6-6153-44eb-a897-d9221005583e",
   "metadata": {},
   "outputs": [],
   "source": [
    "l2 = [\"sudh\", \"pwskills\", 'rohit',\"data science\"]"
   ]
  },
  {
   "cell_type": "code",
   "execution_count": null,
   "id": "6db0ebdd-56f1-4b0a-80a5-b27cb2344b86",
   "metadata": {},
   "outputs": [],
   "source": []
  },
  {
   "cell_type": "code",
   "execution_count": null,
   "id": "ea1ab9bb-242c-47f7-87f6-8101c40e9766",
   "metadata": {},
   "outputs": [],
   "source": []
  },
  {
   "cell_type": "code",
   "execution_count": null,
   "id": "a520cafe-1a4e-4c8c-8db5-ec92373d2368",
   "metadata": {},
   "outputs": [],
   "source": []
  },
  {
   "cell_type": "code",
   "execution_count": null,
   "id": "688dab8c-4ccc-4e1a-bfd8-46f22ec8ed65",
   "metadata": {},
   "outputs": [],
   "source": []
  },
  {
   "cell_type": "code",
   "execution_count": null,
   "id": "f302d173-cf91-4908-a7c2-6967d8582bb6",
   "metadata": {},
   "outputs": [],
   "source": []
  },
  {
   "cell_type": "code",
   "execution_count": null,
   "id": "794fc5eb-39a9-4c63-ab47-69af6ad42633",
   "metadata": {},
   "outputs": [],
   "source": []
  },
  {
   "cell_type": "code",
   "execution_count": null,
   "id": "3a3bd39f-5c4a-4dff-85f2-7eb5a029b63a",
   "metadata": {},
   "outputs": [],
   "source": []
  }
 ],
 "metadata": {
  "kernelspec": {
   "display_name": "Python 3 (ipykernel)",
   "language": "python",
   "name": "python3"
  },
  "language_info": {
   "codemirror_mode": {
    "name": "ipython",
    "version": 3
   },
   "file_extension": ".py",
   "mimetype": "text/x-python",
   "name": "python",
   "nbconvert_exporter": "python",
   "pygments_lexer": "ipython3",
   "version": "3.10.8"
  }
 },
 "nbformat": 4,
 "nbformat_minor": 5
}
