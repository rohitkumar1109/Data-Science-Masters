{
 "cells": [
  {
   "cell_type": "markdown",
   "id": "d3b4dea0-fb2f-4df6-ba09-73709b25f0dc",
   "metadata": {},
   "source": [
    "## Class Method"
   ]
  },
  {
   "cell_type": "code",
   "execution_count": 1,
   "id": "47abe8be-6acd-4cf1-ae7e-0710127e69f6",
   "metadata": {},
   "outputs": [],
   "source": [
    "class pwskills:\n",
    "    \n",
    "    def __init__(self, name, email):\n",
    "        \n",
    "        self.name = name\n",
    "        self.email = email\n",
    "        \n",
    "    def student_details(self):\n",
    "        return self.name, self.email"
   ]
  },
  {
   "cell_type": "code",
   "execution_count": 2,
   "id": "e204c1b4-8505-41c2-8915-9d27b1548ccf",
   "metadata": {},
   "outputs": [],
   "source": [
    "student= pwskills('rohan', 'rk@gmail.com')"
   ]
  },
  {
   "cell_type": "code",
   "execution_count": 3,
   "id": "3b3a8b1a-9c63-42f7-a148-bd242165c2fe",
   "metadata": {},
   "outputs": [
    {
     "data": {
      "text/plain": [
       "'rohan'"
      ]
     },
     "execution_count": 3,
     "metadata": {},
     "output_type": "execute_result"
    }
   ],
   "source": [
    "student.name"
   ]
  },
  {
   "cell_type": "code",
   "execution_count": 4,
   "id": "05393330-b758-4ed6-9b08-f45e639c5624",
   "metadata": {},
   "outputs": [
    {
     "data": {
      "text/plain": [
       "('rohan', 'rk@gmail.com')"
      ]
     },
     "execution_count": 4,
     "metadata": {},
     "output_type": "execute_result"
    }
   ],
   "source": [
    "student.student_details()"
   ]
  },
  {
   "cell_type": "code",
   "execution_count": 5,
   "id": "35986b37-ed38-4145-853c-7d7d466940c8",
   "metadata": {},
   "outputs": [],
   "source": [
    "class pwskills1:\n",
    "    \n",
    "    def __init__(self, name, email):\n",
    "        \n",
    "        self.name = name\n",
    "        self.email = email\n",
    "        \n",
    "    @classmethod    \n",
    "    def details(cls, name1, email1):\n",
    "        return cls(name1, email1)\n",
    "        \n",
    "    def student_details(self):\n",
    "        return self.name, self.email"
   ]
  },
  {
   "cell_type": "code",
   "execution_count": 7,
   "id": "34e57973-b36b-4ce6-8a54-8799c04e830d",
   "metadata": {},
   "outputs": [],
   "source": [
    "std = pwskills1.details(\"rohit\",\"r@gmail.com\")"
   ]
  },
  {
   "cell_type": "code",
   "execution_count": 8,
   "id": "20e6205d-056c-41dd-abca-af8cc04ca287",
   "metadata": {},
   "outputs": [
    {
     "data": {
      "text/plain": [
       "'rohit'"
      ]
     },
     "execution_count": 8,
     "metadata": {},
     "output_type": "execute_result"
    }
   ],
   "source": [
    "std.name"
   ]
  },
  {
   "cell_type": "code",
   "execution_count": 9,
   "id": "8eb6e389-ad09-4551-9612-59fea81f7ed1",
   "metadata": {},
   "outputs": [
    {
     "data": {
      "text/plain": [
       "('rohit', 'r@gmail.com')"
      ]
     },
     "execution_count": 9,
     "metadata": {},
     "output_type": "execute_result"
    }
   ],
   "source": [
    "std.student_details()"
   ]
  },
  {
   "cell_type": "code",
   "execution_count": 22,
   "id": "a2e1ea12-0372-4dde-abcf-4367905c91a2",
   "metadata": {},
   "outputs": [],
   "source": [
    "class pwskills2:\n",
    "    \n",
    "    mobile_number = 9898767654\n",
    "    \n",
    "    def __init__(self, name, email):\n",
    "        \n",
    "        self.name = name\n",
    "        self.email = email\n",
    "        \n",
    "    @classmethod\n",
    "    def change_number(cls, number):\n",
    "        pwskills2.mobile_number = number\n",
    "        \n",
    "    @classmethod\n",
    "    def details(cls, name1, email1):\n",
    "        return cls(name1, email1)\n",
    "    \n",
    "    def student_details(self):\n",
    "        return (self.name, self.email, pwskills2.mobile_number)"
   ]
  },
  {
   "cell_type": "code",
   "execution_count": 23,
   "id": "8396dbd0-7672-4171-b6d0-4a7a5b3b3eea",
   "metadata": {},
   "outputs": [
    {
     "data": {
      "text/plain": [
       "9898767654"
      ]
     },
     "execution_count": 23,
     "metadata": {},
     "output_type": "execute_result"
    }
   ],
   "source": [
    "pwskills2.mobile_number"
   ]
  },
  {
   "cell_type": "code",
   "execution_count": 24,
   "id": "49040c44-bcba-46a5-9fe7-59de25f606e9",
   "metadata": {},
   "outputs": [],
   "source": [
    "pw2 = pwskills2.details('rohan','r@gmail.com')"
   ]
  },
  {
   "cell_type": "code",
   "execution_count": 25,
   "id": "969a2db4-94b9-4afb-a222-72ba5d4f4586",
   "metadata": {},
   "outputs": [
    {
     "data": {
      "text/plain": [
       "('rohan', 'r@gmail.com', 9898767654)"
      ]
     },
     "execution_count": 25,
     "metadata": {},
     "output_type": "execute_result"
    }
   ],
   "source": [
    "pw2.student_details()"
   ]
  },
  {
   "cell_type": "code",
   "execution_count": 26,
   "id": "89f34500-ad65-44ee-9ced-6dacc9c57e2a",
   "metadata": {},
   "outputs": [],
   "source": [
    "pw2_obj = pwskills2('sohan','s@gmail.com')"
   ]
  },
  {
   "cell_type": "code",
   "execution_count": 27,
   "id": "f5b139d7-4747-436f-8963-788dfd8f54f0",
   "metadata": {},
   "outputs": [
    {
     "data": {
      "text/plain": [
       "('sohan', 's@gmail.com', 9898767654)"
      ]
     },
     "execution_count": 27,
     "metadata": {},
     "output_type": "execute_result"
    }
   ],
   "source": [
    "pw2_obj.student_details()"
   ]
  },
  {
   "cell_type": "code",
   "execution_count": 28,
   "id": "1919f556-a580-461c-8ddd-e1fed55e13cd",
   "metadata": {},
   "outputs": [
    {
     "data": {
      "text/plain": [
       "9898767654"
      ]
     },
     "execution_count": 28,
     "metadata": {},
     "output_type": "execute_result"
    }
   ],
   "source": [
    "pw2_obj.mobile_number"
   ]
  },
  {
   "cell_type": "code",
   "execution_count": 29,
   "id": "53d1795f-bf4a-4b5b-ae50-e67163ee9db6",
   "metadata": {},
   "outputs": [],
   "source": [
    "pw2_obj.change_number(7656545465)"
   ]
  },
  {
   "cell_type": "code",
   "execution_count": 30,
   "id": "4c2792b2-d33e-4944-915f-c82ab7b4053c",
   "metadata": {},
   "outputs": [
    {
     "data": {
      "text/plain": [
       "7656545465"
      ]
     },
     "execution_count": 30,
     "metadata": {},
     "output_type": "execute_result"
    }
   ],
   "source": [
    "pw2_obj.mobile_number"
   ]
  },
  {
   "cell_type": "code",
   "execution_count": 31,
   "id": "9f01bf1f-453d-4fa2-9e4e-f4525537220d",
   "metadata": {},
   "outputs": [
    {
     "data": {
      "text/plain": [
       "7656545465"
      ]
     },
     "execution_count": 31,
     "metadata": {},
     "output_type": "execute_result"
    }
   ],
   "source": [
    "pwskills2.mobile_number"
   ]
  },
  {
   "cell_type": "code",
   "execution_count": 33,
   "id": "b18b4d03-8c1d-4981-9ffc-9a4252b32939",
   "metadata": {},
   "outputs": [],
   "source": [
    "class pwskills3:\n",
    "    \n",
    "    mobile_number = 9898767654\n",
    "    \n",
    "    def __init__(self, name, email):\n",
    "        \n",
    "        self.name = name\n",
    "        self.email = email\n",
    "        \n",
    "    @classmethod\n",
    "    def change_number(cls, number):\n",
    "        pwskills2.mobile_number = number\n",
    "        \n",
    "    @classmethod\n",
    "    def details(cls, name1, email1):\n",
    "        return cls(name1, email1)\n",
    "    \n",
    "    def student_details(self):\n",
    "        return (self.name, self.email, pwskills2.mobile_number)"
   ]
  },
  {
   "cell_type": "code",
   "execution_count": 40,
   "id": "d6b9cd28-93c3-4eed-9d90-5c8e3501fe15",
   "metadata": {},
   "outputs": [],
   "source": [
    "def course_details(cls, course_name):\n",
    "    print(\"course_details\", course_name)"
   ]
  },
  {
   "cell_type": "code",
   "execution_count": 41,
   "id": "036abed5-9bda-47ec-ae47-1569a616ecc0",
   "metadata": {},
   "outputs": [],
   "source": [
    "pwskills3.course_details = classmethod(course_details)"
   ]
  },
  {
   "cell_type": "code",
   "execution_count": 42,
   "id": "ac25ae41-a36b-4fc4-9e17-d4003a8ffb98",
   "metadata": {},
   "outputs": [
    {
     "name": "stdout",
     "output_type": "stream",
     "text": [
      "course_details data science masters\n"
     ]
    }
   ],
   "source": [
    "pwskills3.course_details('data science masters')"
   ]
  },
  {
   "cell_type": "code",
   "execution_count": 43,
   "id": "07e02e4d-4ca7-4604-b170-0d643df8c365",
   "metadata": {},
   "outputs": [],
   "source": [
    "class pwskills4:\n",
    "    \n",
    "    mobile_number = 9898767654\n",
    "    \n",
    "    def __init__(self, name, email):\n",
    "        \n",
    "        self.name = name\n",
    "        self.email = email\n",
    "        \n",
    "    @classmethod\n",
    "    def change_number(cls, number):\n",
    "        pwskills2.mobile_number = number\n",
    "        \n",
    "    @classmethod\n",
    "    def details(cls, name1, email1):\n",
    "        return cls(name1, email1)\n",
    "    \n",
    "    def student_details(self):\n",
    "        return (self.name, self.email, pwskills2.mobile_number)"
   ]
  },
  {
   "cell_type": "code",
   "execution_count": 44,
   "id": "61be7dc0-fdf3-4d6e-aa06-f531cf0fa799",
   "metadata": {},
   "outputs": [],
   "source": [
    "del pwskills4.change_number"
   ]
  },
  {
   "cell_type": "code",
   "execution_count": 46,
   "id": "d54bb367-8fdd-4e82-bc36-3e1979c0ef09",
   "metadata": {},
   "outputs": [
    {
     "ename": "AttributeError",
     "evalue": "type object 'pwskills4' has no attribute 'change_number'",
     "output_type": "error",
     "traceback": [
      "\u001b[0;31m---------------------------------------------------------------------------\u001b[0m",
      "\u001b[0;31mAttributeError\u001b[0m                            Traceback (most recent call last)",
      "Cell \u001b[0;32mIn[46], line 1\u001b[0m\n\u001b[0;32m----> 1\u001b[0m \u001b[43mpwskills4\u001b[49m\u001b[38;5;241;43m.\u001b[39;49m\u001b[43mchange_number\u001b[49m(\u001b[38;5;241m8776778887\u001b[39m)\n",
      "\u001b[0;31mAttributeError\u001b[0m: type object 'pwskills4' has no attribute 'change_number'"
     ]
    }
   ],
   "source": [
    "pwskills4.change_number(8776778887)"
   ]
  },
  {
   "cell_type": "code",
   "execution_count": 47,
   "id": "02bdaa15-4c71-461e-b290-ad867727c4d4",
   "metadata": {},
   "outputs": [],
   "source": [
    "delattr(pwskills4, \"details\")"
   ]
  },
  {
   "cell_type": "code",
   "execution_count": 48,
   "id": "7cd1e703-db91-4187-8145-c6d0c65e1a1f",
   "metadata": {},
   "outputs": [
    {
     "data": {
      "text/plain": [
       "9898767654"
      ]
     },
     "execution_count": 48,
     "metadata": {},
     "output_type": "execute_result"
    }
   ],
   "source": [
    "pwskills4.mobile_number"
   ]
  },
  {
   "cell_type": "code",
   "execution_count": 49,
   "id": "04d30599-19db-4b94-82d5-2f933f085805",
   "metadata": {},
   "outputs": [],
   "source": [
    "delattr(pwskills4, \"mobile_number\")"
   ]
  },
  {
   "cell_type": "code",
   "execution_count": 50,
   "id": "0c8caa7f-200b-4062-9c81-db47037c4cd2",
   "metadata": {},
   "outputs": [
    {
     "ename": "AttributeError",
     "evalue": "type object 'pwskills4' has no attribute 'mobile_number'",
     "output_type": "error",
     "traceback": [
      "\u001b[0;31m---------------------------------------------------------------------------\u001b[0m",
      "\u001b[0;31mAttributeError\u001b[0m                            Traceback (most recent call last)",
      "Cell \u001b[0;32mIn[50], line 1\u001b[0m\n\u001b[0;32m----> 1\u001b[0m \u001b[43mpwskills4\u001b[49m\u001b[38;5;241;43m.\u001b[39;49m\u001b[43mmobile_number\u001b[49m\n",
      "\u001b[0;31mAttributeError\u001b[0m: type object 'pwskills4' has no attribute 'mobile_number'"
     ]
    }
   ],
   "source": [
    "pwskills4.mobile_number"
   ]
  },
  {
   "cell_type": "markdown",
   "id": "9b5818fb-d554-4942-8353-ce53981a26e1",
   "metadata": {},
   "source": [
    "## Static Method"
   ]
  },
  {
   "cell_type": "code",
   "execution_count": 12,
   "id": "be0e5cb7-681f-422a-a394-d4703c436dac",
   "metadata": {},
   "outputs": [],
   "source": [
    "class pwskills:\n",
    "    \n",
    "    def student_details(self, name, email, number):\n",
    "        print(name, email, number)"
   ]
  },
  {
   "cell_type": "code",
   "execution_count": 16,
   "id": "e60176fa-b8ba-4fc4-ba9e-cb386e93e017",
   "metadata": {},
   "outputs": [],
   "source": [
    "pw = pwskills()"
   ]
  },
  {
   "cell_type": "code",
   "execution_count": 17,
   "id": "03049634-d93b-447f-b831-efa65f3cab56",
   "metadata": {},
   "outputs": [
    {
     "name": "stdout",
     "output_type": "stream",
     "text": [
      "rohan rn@gmail.com 9876544567\n"
     ]
    }
   ],
   "source": [
    "pw.student_details(\"rohan\",\"rn@gmail.com\",9876544567)"
   ]
  },
  {
   "cell_type": "code",
   "execution_count": 22,
   "id": "05f4d783-3f8a-4665-8dd1-deeacb4a9ab0",
   "metadata": {},
   "outputs": [],
   "source": [
    "class pwskills1:\n",
    "    \n",
    "    def student_details(self, name, email, number):\n",
    "        print(name, email, number)\n",
    "        \n",
    "    @staticmethod\n",
    "    def mentor_class(mentor_list):\n",
    "        print(mentor_list)"
   ]
  },
  {
   "cell_type": "code",
   "execution_count": 23,
   "id": "e85d3134-5c25-4818-ae2a-e062d48a2364",
   "metadata": {},
   "outputs": [
    {
     "name": "stdout",
     "output_type": "stream",
     "text": [
      "['sudh', 'krish']\n"
     ]
    }
   ],
   "source": [
    "pwskills1.mentor_class(['sudh','krish'])"
   ]
  },
  {
   "cell_type": "code",
   "execution_count": 28,
   "id": "cc1c6176-bd4e-40db-942f-42823530032f",
   "metadata": {},
   "outputs": [],
   "source": [
    "class pwskills2:\n",
    "    \n",
    "    def student_details(self, name, email, number):\n",
    "        print(name, email, number)\n",
    "        \n",
    "    @staticmethod\n",
    "    def mentor_mail_id(mail_id):\n",
    "        print(mail_id)\n",
    "        \n",
    "    @staticmethod\n",
    "    def mentor_class(mentor_list):\n",
    "        print(mentor_list)\n",
    "        pwskills2.mentor_mail_id([\"su@gmail.com\",\"kr@gmail.com\"])\n",
    "        \n",
    "    @classmethod\n",
    "    def mentors(cls,mentors_list):\n",
    "        cls.mentor_class(['sudh','krish'])\n",
    "        \n",
    "    def mentor(self, mentors):\n",
    "        print(mentors)\n",
    "        self.mentor_class(['sudh','krish'])"
   ]
  },
  {
   "cell_type": "code",
   "execution_count": 29,
   "id": "ecc121ee-8af5-490d-a238-d74dc91acfd9",
   "metadata": {},
   "outputs": [],
   "source": [
    "pw2 = pwskills2()"
   ]
  },
  {
   "cell_type": "code",
   "execution_count": 30,
   "id": "318a240c-9eaf-4810-af3e-4d5de852d5d9",
   "metadata": {},
   "outputs": [
    {
     "name": "stdout",
     "output_type": "stream",
     "text": [
      "tony ty@gmail.com 8987665548\n"
     ]
    }
   ],
   "source": [
    "pw2.student_details(\"tony\",\"ty@gmail.com\", 8987665548)"
   ]
  },
  {
   "cell_type": "code",
   "execution_count": 33,
   "id": "98e4221a-259a-4c68-96cc-900172f0d2f0",
   "metadata": {},
   "outputs": [
    {
     "name": "stdout",
     "output_type": "stream",
     "text": [
      "['sudh', 'krish']\n",
      "['su@gmail.com', 'kr@gmail.com']\n"
     ]
    }
   ],
   "source": [
    "pw2.mentors([\"krish\",\"sudh\"])"
   ]
  },
  {
   "cell_type": "code",
   "execution_count": 34,
   "id": "20f9a60f-3835-4860-bf39-1440b39d158e",
   "metadata": {},
   "outputs": [
    {
     "name": "stdout",
     "output_type": "stream",
     "text": [
      "['kr@gmail.com', 'su@gmail.com']\n"
     ]
    }
   ],
   "source": [
    "pw2.mentor_mail_id([\"kr@gmail.com\",\"su@gmail.com\"])"
   ]
  },
  {
   "cell_type": "markdown",
   "id": "ec8c121a-b48f-4913-b6f1-ac6c3ed17ad7",
   "metadata": {},
   "source": [
    "## Special(Magic / Dunder) Methods"
   ]
  },
  {
   "cell_type": "code",
   "execution_count": 35,
   "id": "358a97c1-b465-4072-9360-2e61f08dd7e2",
   "metadata": {},
   "outputs": [
    {
     "data": {
      "text/plain": [
       "['__abs__',\n",
       " '__add__',\n",
       " '__and__',\n",
       " '__bool__',\n",
       " '__ceil__',\n",
       " '__class__',\n",
       " '__delattr__',\n",
       " '__dir__',\n",
       " '__divmod__',\n",
       " '__doc__',\n",
       " '__eq__',\n",
       " '__float__',\n",
       " '__floor__',\n",
       " '__floordiv__',\n",
       " '__format__',\n",
       " '__ge__',\n",
       " '__getattribute__',\n",
       " '__getnewargs__',\n",
       " '__gt__',\n",
       " '__hash__',\n",
       " '__index__',\n",
       " '__init__',\n",
       " '__init_subclass__',\n",
       " '__int__',\n",
       " '__invert__',\n",
       " '__le__',\n",
       " '__lshift__',\n",
       " '__lt__',\n",
       " '__mod__',\n",
       " '__mul__',\n",
       " '__ne__',\n",
       " '__neg__',\n",
       " '__new__',\n",
       " '__or__',\n",
       " '__pos__',\n",
       " '__pow__',\n",
       " '__radd__',\n",
       " '__rand__',\n",
       " '__rdivmod__',\n",
       " '__reduce__',\n",
       " '__reduce_ex__',\n",
       " '__repr__',\n",
       " '__rfloordiv__',\n",
       " '__rlshift__',\n",
       " '__rmod__',\n",
       " '__rmul__',\n",
       " '__ror__',\n",
       " '__round__',\n",
       " '__rpow__',\n",
       " '__rrshift__',\n",
       " '__rshift__',\n",
       " '__rsub__',\n",
       " '__rtruediv__',\n",
       " '__rxor__',\n",
       " '__setattr__',\n",
       " '__sizeof__',\n",
       " '__str__',\n",
       " '__sub__',\n",
       " '__subclasshook__',\n",
       " '__truediv__',\n",
       " '__trunc__',\n",
       " '__xor__',\n",
       " 'as_integer_ratio',\n",
       " 'bit_count',\n",
       " 'bit_length',\n",
       " 'conjugate',\n",
       " 'denominator',\n",
       " 'from_bytes',\n",
       " 'imag',\n",
       " 'numerator',\n",
       " 'real',\n",
       " 'to_bytes']"
      ]
     },
     "execution_count": 35,
     "metadata": {},
     "output_type": "execute_result"
    }
   ],
   "source": [
    "dir(int)"
   ]
  },
  {
   "cell_type": "code",
   "execution_count": 38,
   "id": "c2b17813-2e4c-495c-abb1-4de53f80f926",
   "metadata": {},
   "outputs": [],
   "source": [
    "class pwskills:\n",
    "    \n",
    "    def __new__(cls):\n",
    "        print(\"this is my new\")\n",
    "    \n",
    "    def __init__(self):\n",
    "        print(\"this is my init\")"
   ]
  },
  {
   "cell_type": "code",
   "execution_count": 39,
   "id": "d1945ac2-d092-4096-8a48-fbc730f99715",
   "metadata": {},
   "outputs": [
    {
     "name": "stdout",
     "output_type": "stream",
     "text": [
      "this is my new\n"
     ]
    }
   ],
   "source": [
    "pw = pwskills()"
   ]
  },
  {
   "cell_type": "code",
   "execution_count": 40,
   "id": "946b6305-88ee-4134-8d11-d0a8105def5b",
   "metadata": {},
   "outputs": [
    {
     "data": {
      "text/plain": [
       "['__add__',\n",
       " '__class__',\n",
       " '__contains__',\n",
       " '__delattr__',\n",
       " '__dir__',\n",
       " '__doc__',\n",
       " '__eq__',\n",
       " '__format__',\n",
       " '__ge__',\n",
       " '__getattribute__',\n",
       " '__getitem__',\n",
       " '__getnewargs__',\n",
       " '__gt__',\n",
       " '__hash__',\n",
       " '__init__',\n",
       " '__init_subclass__',\n",
       " '__iter__',\n",
       " '__le__',\n",
       " '__len__',\n",
       " '__lt__',\n",
       " '__mod__',\n",
       " '__mul__',\n",
       " '__ne__',\n",
       " '__new__',\n",
       " '__reduce__',\n",
       " '__reduce_ex__',\n",
       " '__repr__',\n",
       " '__rmod__',\n",
       " '__rmul__',\n",
       " '__setattr__',\n",
       " '__sizeof__',\n",
       " '__str__',\n",
       " '__subclasshook__',\n",
       " 'capitalize',\n",
       " 'casefold',\n",
       " 'center',\n",
       " 'count',\n",
       " 'encode',\n",
       " 'endswith',\n",
       " 'expandtabs',\n",
       " 'find',\n",
       " 'format',\n",
       " 'format_map',\n",
       " 'index',\n",
       " 'isalnum',\n",
       " 'isalpha',\n",
       " 'isascii',\n",
       " 'isdecimal',\n",
       " 'isdigit',\n",
       " 'isidentifier',\n",
       " 'islower',\n",
       " 'isnumeric',\n",
       " 'isprintable',\n",
       " 'isspace',\n",
       " 'istitle',\n",
       " 'isupper',\n",
       " 'join',\n",
       " 'ljust',\n",
       " 'lower',\n",
       " 'lstrip',\n",
       " 'maketrans',\n",
       " 'partition',\n",
       " 'removeprefix',\n",
       " 'removesuffix',\n",
       " 'replace',\n",
       " 'rfind',\n",
       " 'rindex',\n",
       " 'rjust',\n",
       " 'rpartition',\n",
       " 'rsplit',\n",
       " 'rstrip',\n",
       " 'split',\n",
       " 'splitlines',\n",
       " 'startswith',\n",
       " 'strip',\n",
       " 'swapcase',\n",
       " 'title',\n",
       " 'translate',\n",
       " 'upper',\n",
       " 'zfill']"
      ]
     },
     "execution_count": 40,
     "metadata": {},
     "output_type": "execute_result"
    }
   ],
   "source": [
    "dir(str)"
   ]
  },
  {
   "cell_type": "code",
   "execution_count": 45,
   "id": "4ff4d0b5-dea3-4253-9a35-df25064ea74f",
   "metadata": {},
   "outputs": [],
   "source": [
    "class pwskills1:\n",
    "    \n",
    "    def __init__(self):\n",
    "        self.mobile = 9887665679\n",
    "        \n",
    "    def __str__(self):\n",
    "        return \"this is my magic method which will print something for my object\""
   ]
  },
  {
   "cell_type": "code",
   "execution_count": 48,
   "id": "a4a143aa-6795-453f-bc38-f108dbcadd35",
   "metadata": {},
   "outputs": [],
   "source": [
    "pw1 = pwskills1()"
   ]
  },
  {
   "cell_type": "code",
   "execution_count": 49,
   "id": "f51a14ad-0c5a-444f-8bb6-968518dace62",
   "metadata": {},
   "outputs": [
    {
     "data": {
      "text/plain": [
       "<__main__.pwskills1 at 0x7f87b0165900>"
      ]
     },
     "execution_count": 49,
     "metadata": {},
     "output_type": "execute_result"
    }
   ],
   "source": [
    "pw1"
   ]
  },
  {
   "cell_type": "code",
   "execution_count": 50,
   "id": "8aa763b9-6892-4a08-908d-3facb9ab67d2",
   "metadata": {},
   "outputs": [
    {
     "name": "stdout",
     "output_type": "stream",
     "text": [
      "this is my magic method which will print something for my object\n"
     ]
    }
   ],
   "source": [
    "print(pw1)"
   ]
  },
  {
   "cell_type": "markdown",
   "id": "0e2f0b9c-7d96-4c74-8e2f-0f8e10431b7d",
   "metadata": {},
   "source": [
    "## Property Decorators Getters, Setters, And Deletes"
   ]
  },
  {
   "cell_type": "code",
   "execution_count": 68,
   "id": "5ebc49df-1d0f-4955-885b-d7ecd1c6c94d",
   "metadata": {},
   "outputs": [],
   "source": [
    "class pwskills:\n",
    "    \n",
    "    def __init__(self, course_price, course_name):\n",
    "        self.__course_price = course_price\n",
    "        self.course_name = course_name\n",
    "        \n",
    "    @property\n",
    "    def course_price_access(self):\n",
    "        return self.__course_price\n",
    "    \n",
    "    @course_price_access.setter\n",
    "    def course_price_set(self, price):\n",
    "        if price <= 3500:\n",
    "            pass\n",
    "        else:\n",
    "            self.__course_price = price\n",
    "    \n",
    "    @course_price_access.deleter\n",
    "    def course_price_del(self):\n",
    "        del self.__course_price"
   ]
  },
  {
   "cell_type": "code",
   "execution_count": 69,
   "id": "5efdb825-eb05-4ff6-b1e8-7ed1f1912ba9",
   "metadata": {},
   "outputs": [],
   "source": [
    "pw = pwskills(3500, \"Data Science Masters\")"
   ]
  },
  {
   "cell_type": "code",
   "execution_count": 70,
   "id": "fbe85cd8-31e0-44e9-9f2a-0ea0769090db",
   "metadata": {},
   "outputs": [
    {
     "data": {
      "text/plain": [
       "'Data Science Masters'"
      ]
     },
     "execution_count": 70,
     "metadata": {},
     "output_type": "execute_result"
    }
   ],
   "source": [
    "pw.course_name"
   ]
  },
  {
   "cell_type": "code",
   "execution_count": 71,
   "id": "4f7fb0fb-90af-43e6-a78e-2884465b7bcc",
   "metadata": {},
   "outputs": [
    {
     "data": {
      "text/plain": [
       "3500"
      ]
     },
     "execution_count": 71,
     "metadata": {},
     "output_type": "execute_result"
    }
   ],
   "source": [
    "pw.course_price_access"
   ]
  },
  {
   "cell_type": "code",
   "execution_count": 72,
   "id": "6e7286d0-2960-4a1e-a53a-2820b4c1a4ef",
   "metadata": {},
   "outputs": [],
   "source": [
    "pw.course_price_set = 3000"
   ]
  },
  {
   "cell_type": "code",
   "execution_count": 73,
   "id": "90e44acc-5fae-4b3b-9dad-88da8edb621b",
   "metadata": {},
   "outputs": [
    {
     "data": {
      "text/plain": [
       "3500"
      ]
     },
     "execution_count": 73,
     "metadata": {},
     "output_type": "execute_result"
    }
   ],
   "source": [
    "pw.course_price_access"
   ]
  },
  {
   "cell_type": "code",
   "execution_count": 74,
   "id": "b5ab3a74-a334-423e-a23d-9c35451dae50",
   "metadata": {},
   "outputs": [],
   "source": [
    "pw.course_price_set = 5000"
   ]
  },
  {
   "cell_type": "code",
   "execution_count": 75,
   "id": "d409ca9a-d6d9-49ae-ad4b-1e087f4e9559",
   "metadata": {},
   "outputs": [
    {
     "data": {
      "text/plain": [
       "5000"
      ]
     },
     "execution_count": 75,
     "metadata": {},
     "output_type": "execute_result"
    }
   ],
   "source": [
    "pw.course_price_access"
   ]
  },
  {
   "cell_type": "code",
   "execution_count": 78,
   "id": "25b413ae-d8d9-4839-8aae-b7469f305c7c",
   "metadata": {},
   "outputs": [],
   "source": [
    "del pw.course_price_del"
   ]
  },
  {
   "cell_type": "code",
   "execution_count": 79,
   "id": "981c6858-3562-4e91-8ebd-4757f4228315",
   "metadata": {},
   "outputs": [
    {
     "ename": "AttributeError",
     "evalue": "'pwskills' object has no attribute '_pwskills__course_price'",
     "output_type": "error",
     "traceback": [
      "\u001b[0;31m---------------------------------------------------------------------------\u001b[0m",
      "\u001b[0;31mAttributeError\u001b[0m                            Traceback (most recent call last)",
      "Cell \u001b[0;32mIn[79], line 1\u001b[0m\n\u001b[0;32m----> 1\u001b[0m \u001b[43mpw\u001b[49m\u001b[38;5;241;43m.\u001b[39;49m\u001b[43mcourse_price_access\u001b[49m\n",
      "Cell \u001b[0;32mIn[68], line 9\u001b[0m, in \u001b[0;36mpwskills.course_price_access\u001b[0;34m(self)\u001b[0m\n\u001b[1;32m      7\u001b[0m \u001b[38;5;129m@property\u001b[39m\n\u001b[1;32m      8\u001b[0m \u001b[38;5;28;01mdef\u001b[39;00m \u001b[38;5;21mcourse_price_access\u001b[39m(\u001b[38;5;28mself\u001b[39m):\n\u001b[0;32m----> 9\u001b[0m     \u001b[38;5;28;01mreturn\u001b[39;00m \u001b[38;5;28;43mself\u001b[39;49m\u001b[38;5;241;43m.\u001b[39;49m\u001b[43m__course_price\u001b[49m\n",
      "\u001b[0;31mAttributeError\u001b[0m: 'pwskills' object has no attribute '_pwskills__course_price'"
     ]
    }
   ],
   "source": [
    "pw.course_price_access"
   ]
  },
  {
   "cell_type": "code",
   "execution_count": null,
   "id": "fc9fb10c-02c1-461e-b66b-398a8f8f839d",
   "metadata": {},
   "outputs": [],
   "source": []
  }
 ],
 "metadata": {
  "kernelspec": {
   "display_name": "Python 3 (ipykernel)",
   "language": "python",
   "name": "python3"
  },
  "language_info": {
   "codemirror_mode": {
    "name": "ipython",
    "version": 3
   },
   "file_extension": ".py",
   "mimetype": "text/x-python",
   "name": "python",
   "nbconvert_exporter": "python",
   "pygments_lexer": "ipython3",
   "version": "3.10.8"
  }
 },
 "nbformat": 4,
 "nbformat_minor": 5
}
