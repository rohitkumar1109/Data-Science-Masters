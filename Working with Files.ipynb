{
 "cells": [
  {
   "cell_type": "code",
   "execution_count": 1,
   "id": "9a698e64-63d2-40a9-b959-82fe426bf291",
   "metadata": {},
   "outputs": [],
   "source": [
    "f = open(\"test.txt\",'r')"
   ]
  },
  {
   "cell_type": "code",
   "execution_count": 2,
   "id": "c27a562c-8dad-4215-8aa1-8e34331f722e",
   "metadata": {},
   "outputs": [
    {
     "data": {
      "text/plain": [
       "'Dive deep into data science with our Full Stack Data Science Pro curriculum. Acquire end-to-end expertise from data exploration and engineering to machine learning, deep learning, CV, NLP, and prompt engineering implementations. Develop versatile skills for modern data challenges.Cultivate a full spectrum of skills for impactful data-driven results.\\nthis is my second line which I wanna print along with first'"
      ]
     },
     "execution_count": 2,
     "metadata": {},
     "output_type": "execute_result"
    }
   ],
   "source": [
    "f.read()"
   ]
  },
  {
   "cell_type": "code",
   "execution_count": 3,
   "id": "0bc7b106-d2da-4cf9-9b8b-18263749c339",
   "metadata": {},
   "outputs": [],
   "source": [
    "f = open(\"test.txt\",'w')"
   ]
  },
  {
   "cell_type": "code",
   "execution_count": 8,
   "id": "8007bbd6-1442-4c2c-ba86-4fd3774ecdbe",
   "metadata": {},
   "outputs": [
    {
     "data": {
      "text/plain": [
       "399"
      ]
     },
     "execution_count": 8,
     "metadata": {},
     "output_type": "execute_result"
    }
   ],
   "source": [
    "f.write(\"Embark on a transformative learning journey with our Python and Machine Learning Essentials course. Delve into the foundations of Python programming and seamlessly transition into the fascinating world of machine learning. This course is designed for individuals with a keen interest in machine learning and a desire to harness the power of Python for creating intelligent and impactful applications\")"
   ]
  },
  {
   "cell_type": "code",
   "execution_count": 11,
   "id": "4780104d-1482-4b44-b50a-d2243e2d8c31",
   "metadata": {},
   "outputs": [],
   "source": [
    "data = open(\"test.txt\",'r')"
   ]
  },
  {
   "cell_type": "code",
   "execution_count": 12,
   "id": "997d143e-e611-41bf-ae01-bc999bbb58f7",
   "metadata": {},
   "outputs": [
    {
     "data": {
      "text/plain": [
       "'Embark on a transformative learning journey with our Python and Machine Learning Essentials course. Delve into the foundations of Python programming and seamlessly transition into the fascinating world of machine learning. This course is designed for individuals with a keen interest in machine learning and a desire to harness the power of Python for creating intelligent and impactful applications'"
      ]
     },
     "execution_count": 12,
     "metadata": {},
     "output_type": "execute_result"
    }
   ],
   "source": [
    "data.read()"
   ]
  },
  {
   "cell_type": "code",
   "execution_count": 13,
   "id": "1405260d-e502-4e7a-85e8-c575a7ef8720",
   "metadata": {},
   "outputs": [
    {
     "data": {
      "text/plain": [
       "''"
      ]
     },
     "execution_count": 13,
     "metadata": {},
     "output_type": "execute_result"
    }
   ],
   "source": [
    "data.read()"
   ]
  },
  {
   "cell_type": "code",
   "execution_count": 41,
   "id": "02478282-1244-410c-b218-b78482bec2a4",
   "metadata": {},
   "outputs": [
    {
     "data": {
      "text/plain": [
       "0"
      ]
     },
     "execution_count": 41,
     "metadata": {},
     "output_type": "execute_result"
    }
   ],
   "source": [
    "data.seek(0)"
   ]
  },
  {
   "cell_type": "code",
   "execution_count": 24,
   "id": "4a2c3a51-d5c7-416b-902f-75aa64001c79",
   "metadata": {},
   "outputs": [
    {
     "data": {
      "text/plain": [
       "'Embark on a transformative learning journey with our Python and Machine Learning Essentials course. Delve into the foundations of Python programming and seamlessly transition into the fascinating world of machine learning. This course is designed for individuals with a keen interest in machine learning and a desire to harness the power of Python for creating intelligent and impactful applications'"
      ]
     },
     "execution_count": 24,
     "metadata": {},
     "output_type": "execute_result"
    }
   ],
   "source": [
    "data.read()"
   ]
  },
  {
   "cell_type": "code",
   "execution_count": 25,
   "id": "64463687-913a-4b2f-8aba-5ceff44baed4",
   "metadata": {},
   "outputs": [
    {
     "data": {
      "text/plain": [
       "50"
      ]
     },
     "execution_count": 25,
     "metadata": {},
     "output_type": "execute_result"
    }
   ],
   "source": [
    "data.seek(50)"
   ]
  },
  {
   "cell_type": "code",
   "execution_count": 26,
   "id": "5d5d7c62-f2ef-47bf-9cbd-b71cf7094143",
   "metadata": {},
   "outputs": [
    {
     "data": {
      "text/plain": [
       "'ur Python and Machine Learning Essentials course. Delve into the foundations of Python programming and seamlessly transition into the fascinating world of machine learning. This course is designed for individuals with a keen interest in machine learning and a desire to harness the power of Python for creating intelligent and impactful applications'"
      ]
     },
     "execution_count": 26,
     "metadata": {},
     "output_type": "execute_result"
    }
   ],
   "source": [
    "data.read()"
   ]
  },
  {
   "cell_type": "code",
   "execution_count": 42,
   "id": "11504f8b-28f0-4a75-8662-3c1ff85d1c00",
   "metadata": {},
   "outputs": [
    {
     "data": {
      "text/plain": [
       "'Embark on a transformative learning journey with our Python and Machine Learning Essentials course. '"
      ]
     },
     "execution_count": 42,
     "metadata": {},
     "output_type": "execute_result"
    }
   ],
   "source": [
    "data.read(100)"
   ]
  },
  {
   "cell_type": "code",
   "execution_count": 27,
   "id": "d1966dca-d4a2-4cf0-98df-7a6ad8129fd9",
   "metadata": {},
   "outputs": [],
   "source": [
    "file = open(\"test.txt\",'a')"
   ]
  },
  {
   "cell_type": "code",
   "execution_count": 28,
   "id": "1c56532e-5693-4303-b437-0b0fadf4e536",
   "metadata": {},
   "outputs": [
    {
     "data": {
      "text/plain": [
       "402"
      ]
     },
     "execution_count": 28,
     "metadata": {},
     "output_type": "execute_result"
    }
   ],
   "source": [
    "file.write('Embark on a transformative learning journey with our \"Python and Machine Learning Essentials\" course. Delve into the foundations of Python programming and seamlessly transition into the fascinating world of machine learning. This course is designed for individuals with a keen interest in machine learning and a desire to harness the power of Python for creating intelligent and impactful applications.')"
   ]
  },
  {
   "cell_type": "code",
   "execution_count": 29,
   "id": "a885878e-1480-4bbd-a0cb-040833b1f2cb",
   "metadata": {},
   "outputs": [],
   "source": [
    "file.close()"
   ]
  },
  {
   "cell_type": "code",
   "execution_count": 30,
   "id": "b9b1158c-1e7d-4777-9591-e515ab7fd5ea",
   "metadata": {},
   "outputs": [],
   "source": [
    "data1 = open(\"test.txt\",\"r\")"
   ]
  },
  {
   "cell_type": "code",
   "execution_count": 32,
   "id": "6ac30993-e524-4f1a-9301-aad7f4770718",
   "metadata": {},
   "outputs": [
    {
     "name": "stdout",
     "output_type": "stream",
     "text": [
      "Embark on a transformative learning journey with our Python and Machine Learning Essentials course. Delve into the foundations of Python programming and seamlessly transition into the fascinating world of machine learning. This course is designed for individuals with a keen interest in machine learning and a desire to harness the power of Python for creating intelligent and impactful applicationsEmbark on a transformative learning journey with our \"Python and Machine Learning Essentials\" course. Delve into the foundations of Python programming and seamlessly transition into the fascinating world of machine learning. This course is designed for individuals with a keen interest in machine learning and a desire to harness the power of Python for creating intelligent and impactful applications.\n"
     ]
    }
   ],
   "source": [
    "for i in data1:\n",
    "    print (i)"
   ]
  },
  {
   "cell_type": "code",
   "execution_count": 33,
   "id": "e1a3ced9-85c1-4363-8a4b-57ae60903748",
   "metadata": {},
   "outputs": [],
   "source": [
    "import os"
   ]
  },
  {
   "cell_type": "code",
   "execution_count": 34,
   "id": "da7b55d6-24d9-40c4-8781-3da2a443c7d9",
   "metadata": {},
   "outputs": [
    {
     "data": {
      "text/plain": [
       "801"
      ]
     },
     "execution_count": 34,
     "metadata": {},
     "output_type": "execute_result"
    }
   ],
   "source": [
    "os.path.getsize(\"test.txt\")"
   ]
  },
  {
   "cell_type": "code",
   "execution_count": 35,
   "id": "91bd8313-c05c-4d60-a868-27766d150a74",
   "metadata": {},
   "outputs": [],
   "source": [
    "import shutil"
   ]
  },
  {
   "cell_type": "code",
   "execution_count": 36,
   "id": "bf20c460-eb35-4584-8418-95c6ea316aaf",
   "metadata": {},
   "outputs": [
    {
     "data": {
      "text/plain": [
       "'new_test_txt'"
      ]
     },
     "execution_count": 36,
     "metadata": {},
     "output_type": "execute_result"
    }
   ],
   "source": [
    "shutil.copy(\"test.txt\",\"new_test_txt\")"
   ]
  },
  {
   "cell_type": "code",
   "execution_count": 37,
   "id": "55550b5e-1ff7-4e6f-8be5-fb12ae84dac9",
   "metadata": {},
   "outputs": [],
   "source": [
    "os.remove(\"new_test_txt\")"
   ]
  },
  {
   "cell_type": "code",
   "execution_count": 38,
   "id": "bda24a45-8c4f-4dc0-b173-a06d44f4c614",
   "metadata": {},
   "outputs": [],
   "source": [
    "os.rename(\"test.txt\",\"test1.txt\")"
   ]
  },
  {
   "cell_type": "code",
   "execution_count": 39,
   "id": "97e96e52-61b1-4945-9f81-9c4263d7e18c",
   "metadata": {},
   "outputs": [],
   "source": [
    "os.rename(\"test1.txt\",\"test.txt\")"
   ]
  },
  {
   "cell_type": "code",
   "execution_count": 40,
   "id": "4b77a637-cf5c-4689-81fa-da789f77d452",
   "metadata": {},
   "outputs": [
    {
     "name": "stdout",
     "output_type": "stream",
     "text": [
      "Embark on a transformative learning journey with our Python and Machine Learning Essentials course. Delve into the foundations of Python programming and seamlessly transition into the fascinating world of machine learning. This course is designed for individuals with a keen interest in machine learning and a desire to harness the power of Python for creating intelligent and impactful applicationsEmbark on a transformative learning journey with our \"Python and Machine Learning Essentials\" course. Delve into the foundations of Python programming and seamlessly transition into the fascinating world of machine learning. This course is designed for individuals with a keen interest in machine learning and a desire to harness the power of Python for creating intelligent and impactful applications.\n"
     ]
    }
   ],
   "source": [
    "with open(\"test.txt\",'r') as f :\n",
    "    print(f.read())"
   ]
  },
  {
   "cell_type": "code",
   "execution_count": 1,
   "id": "62213b7f-1348-4da9-a25f-75929d1b2960",
   "metadata": {},
   "outputs": [
    {
     "data": {
      "text/plain": [
       "'/home/jovyan/work'"
      ]
     },
     "execution_count": 1,
     "metadata": {},
     "output_type": "execute_result"
    }
   ],
   "source": [
    "pwd"
   ]
  },
  {
   "cell_type": "code",
   "execution_count": 2,
   "id": "a50b2f05-c3ac-4323-992e-12a856231330",
   "metadata": {},
   "outputs": [
    {
     "name": "stdout",
     "output_type": "stream",
     "text": [
      " data1.txt                                   'Python Problems1.ipynb'\n",
      " data2.txt                                   'Reading and Writing Files.ipynb'\n",
      " data3.txt                                    README.md\n",
      "'Data Structures.ipynb'                       test1.log\n",
      " data.txt                                     test2.csv\n",
      "'Exceptions Handling with Try-Except.ipynb'   test2.log\n",
      "'Files & Exceptional Handling.ipynb'          test2.txt\n",
      " Functions.ipynb                              test3.bin\n",
      "'Functions Tutorial.ipynb'                    test3.txt\n",
      "'Logging & Debugger .ipynb'                   test.json\n",
      " MongoDB.ipynb                                test.log\n",
      " Multiprocessing.ipynb                        test.txt\n",
      "'OOPS Concepts1.ipynb'                        Threading.ipynb\n",
      "'OOPS Concepts2.ipynb'                       'Web Scrapper.ipynb'\n",
      " OOPS.ipynb                                  'Working with Files .ipynb'\n",
      " Python_basic.ipynb\n"
     ]
    }
   ],
   "source": [
    "ls"
   ]
  },
  {
   "cell_type": "markdown",
   "id": "eba74490-4ace-4fa1-8ed7-3e9038f3abea",
   "metadata": {},
   "source": [
    "## Reading & Writing Files"
   ]
  },
  {
   "cell_type": "code",
   "execution_count": 3,
   "id": "f95f8710-b26b-49fd-a484-53f910ba1aa2",
   "metadata": {},
   "outputs": [],
   "source": [
    "data = {\"name\" : \"Rohit\",\n",
    "        \"email\": \"rr@gmail.com\",\n",
    "        \"contact_number\" : 8987678767,\n",
    "        \"courses\" : [\"data science masters\",\"Statistics\", \"Generative AI\"]\n",
    "          }"
   ]
  },
  {
   "cell_type": "code",
   "execution_count": 4,
   "id": "f7abbf12-12f5-4810-b8f4-716d4d968e99",
   "metadata": {},
   "outputs": [],
   "source": [
    "import json\n",
    "\n",
    "with open(\"test1.json\",\"w\") as f:\n",
    "    json.dump(data,f)"
   ]
  },
  {
   "cell_type": "code",
   "execution_count": 7,
   "id": "ad3a48be-3aba-4acf-9f3c-ad133fd1cf14",
   "metadata": {},
   "outputs": [],
   "source": [
    "with open(\"test1.json\", 'r') as f:\n",
    "    data1 = json.load(f)"
   ]
  },
  {
   "cell_type": "code",
   "execution_count": 8,
   "id": "ab186a6c-82ac-4b53-879f-ea9b997b7dce",
   "metadata": {},
   "outputs": [
    {
     "data": {
      "text/plain": [
       "{'name': 'Rohit',\n",
       " 'email': 'rr@gmail.com',\n",
       " 'contact_number': 8987678767,\n",
       " 'courses': ['data science masters', 'Statistics', 'Generative AI']}"
      ]
     },
     "execution_count": 8,
     "metadata": {},
     "output_type": "execute_result"
    }
   ],
   "source": [
    "data1"
   ]
  },
  {
   "cell_type": "code",
   "execution_count": 9,
   "id": "1afb04d6-e762-48ce-826f-9d0666543224",
   "metadata": {},
   "outputs": [
    {
     "data": {
      "text/plain": [
       "['data science masters', 'Statistics', 'Generative AI']"
      ]
     },
     "execution_count": 9,
     "metadata": {},
     "output_type": "execute_result"
    }
   ],
   "source": [
    "data1['courses']"
   ]
  },
  {
   "cell_type": "code",
   "execution_count": 10,
   "id": "5e96536c-7853-403c-982c-57d8e8291e36",
   "metadata": {},
   "outputs": [
    {
     "data": {
      "text/plain": [
       "'Generative AI'"
      ]
     },
     "execution_count": 10,
     "metadata": {},
     "output_type": "execute_result"
    }
   ],
   "source": [
    "data1['courses'][2]"
   ]
  },
  {
   "cell_type": "code",
   "execution_count": 11,
   "id": "b53aa276-b631-4a1c-ae6c-f958412d48a5",
   "metadata": {},
   "outputs": [],
   "source": [
    "data = [['name','email_id','number'],['Rohit','rk@gmail.com',8798765676],\n",
    "        ['Anil','as@gmail.com',8987678765]\n",
    "         ]"
   ]
  },
  {
   "cell_type": "code",
   "execution_count": 12,
   "id": "80ac6769-29e5-4d3a-9bd8-1f0dbe33aacd",
   "metadata": {},
   "outputs": [],
   "source": [
    "import csv"
   ]
  },
  {
   "cell_type": "code",
   "execution_count": 15,
   "id": "922f0cc4-0558-4b74-b2f4-c9b5670d72ba",
   "metadata": {},
   "outputs": [],
   "source": [
    "with open(\"test3.csv\",'w') as f:\n",
    "    w = csv.writer(f)\n",
    "    for i in data:\n",
    "        w.writerow(i)"
   ]
  },
  {
   "cell_type": "code",
   "execution_count": 16,
   "id": "28791539-df95-4de1-8857-148e451d7a37",
   "metadata": {},
   "outputs": [
    {
     "name": "stdout",
     "output_type": "stream",
     "text": [
      "['name', 'email_id', 'number']\n",
      "['Rohit', 'rk@gmail.com', '8798765676']\n",
      "['Anil', 'as@gmail.com', '8987678765']\n"
     ]
    }
   ],
   "source": [
    "with open(\"test3.csv\",'r') as f:\n",
    "    read = csv.reader(f)\n",
    "    for i in read:\n",
    "        print(i)"
   ]
  },
  {
   "cell_type": "code",
   "execution_count": 20,
   "id": "105c6ef0-1fd7-4c1c-9c77-88168ed6c508",
   "metadata": {},
   "outputs": [],
   "source": [
    "with open(\"test4.bin\", 'wb') as f:\n",
    "    f.write(b\"\\x01\\x02\\x03\")"
   ]
  },
  {
   "cell_type": "code",
   "execution_count": 21,
   "id": "4f401324-4635-4f73-9b83-e148ecd7b003",
   "metadata": {},
   "outputs": [
    {
     "name": "stdout",
     "output_type": "stream",
     "text": [
      "b'\\x01\\x02\\x03'\n"
     ]
    }
   ],
   "source": [
    "with open(\"test4.bin\", \"rb\") as f:\n",
    "    print(f.read())"
   ]
  },
  {
   "cell_type": "markdown",
   "id": "085afa65-545b-47f3-b688-fdef88be6cc6",
   "metadata": {},
   "source": [
    "## Buffered Read & Write"
   ]
  },
  {
   "cell_type": "code",
   "execution_count": 1,
   "id": "1ba835fc-4693-4648-8ca6-643703c8d333",
   "metadata": {},
   "outputs": [],
   "source": [
    "import io"
   ]
  },
  {
   "cell_type": "code",
   "execution_count": 5,
   "id": "8884f40f-c7d3-4c40-822b-f1b22054603c",
   "metadata": {},
   "outputs": [],
   "source": [
    "with open(\"test1.txt\",\"wb\") as f:\n",
    "    file = io.BufferedWriter(f)\n",
    "    file.write(b\"This is my first line of buffered write\\n\")\n",
    "    file.write(b\"This is my second line which I am trying to print\")\n",
    "    file.flush()"
   ]
  },
  {
   "cell_type": "code",
   "execution_count": 7,
   "id": "f776f917-f8cd-40c2-b02c-b6c69d7571b7",
   "metadata": {},
   "outputs": [
    {
     "name": "stdout",
     "output_type": "stream",
     "text": [
      "b'This is my first line of buffered write\\nThis is my second line which I am trying to print'\n"
     ]
    }
   ],
   "source": [
    "with open(\"test1.txt\",\"rb\") as f:\n",
    "    read_file = io.BufferedReader(f)\n",
    "    print(read_file.read())"
   ]
  },
  {
   "cell_type": "code",
   "execution_count": 8,
   "id": "2fc84804-cafe-4c30-95d8-824464bd82cc",
   "metadata": {},
   "outputs": [
    {
     "name": "stdout",
     "output_type": "stream",
     "text": [
      "b'This is my first line of buffered write\\nThis is my second line which I am trying to print'\n"
     ]
    }
   ],
   "source": [
    "with open(\"test1.txt\",\"rb\") as f:\n",
    "    read_file = io.BufferedReader(f)\n",
    "    data = read_file.read()\n",
    "    print(data)"
   ]
  },
  {
   "cell_type": "markdown",
   "id": "22fcd844-404c-428d-8a30-b3143104cf38",
   "metadata": {},
   "source": [
    "## Logging & Debugger"
   ]
  },
  {
   "cell_type": "code",
   "execution_count": 1,
   "id": "b647e352-b48a-4a9e-8125-73b6375049ba",
   "metadata": {},
   "outputs": [
    {
     "name": "stdout",
     "output_type": "stream",
     "text": [
      "This is my print statement\n"
     ]
    }
   ],
   "source": [
    "print(\"This is my print statement\")"
   ]
  },
  {
   "cell_type": "code",
   "execution_count": 1,
   "id": "ddfdb015-11fe-413d-9da0-9d25e3094324",
   "metadata": {},
   "outputs": [],
   "source": [
    "import logging"
   ]
  },
  {
   "cell_type": "code",
   "execution_count": 14,
   "id": "1d88b781-fc3e-4521-954b-afb335a86e77",
   "metadata": {},
   "outputs": [],
   "source": [
    "logging.basicConfig(filename = \"test3.log\" , level = 'INFO')"
   ]
  },
  {
   "cell_type": "code",
   "execution_count": 34,
   "id": "895ddf76-d94f-4df6-a24d-cdbe555076e4",
   "metadata": {},
   "outputs": [],
   "source": [
    "logging.info(\"This is my first line of code\")"
   ]
  },
  {
   "cell_type": "code",
   "execution_count": 35,
   "id": "c92f3908-1872-4c6f-8c2e-aa6a34904d12",
   "metadata": {},
   "outputs": [],
   "source": [
    "logging.error(\"This is my error\")"
   ]
  },
  {
   "cell_type": "code",
   "execution_count": 36,
   "id": "1d39f070-7203-44a9-a7a5-1a773d420122",
   "metadata": {},
   "outputs": [],
   "source": [
    "logging.critical(\"This is my critical code\")"
   ]
  },
  {
   "cell_type": "code",
   "execution_count": 37,
   "id": "264a45b8-5100-4775-b83d-7a268bcbc446",
   "metadata": {},
   "outputs": [],
   "source": [
    "logging.warning(\"This is my warning\")"
   ]
  },
  {
   "cell_type": "code",
   "execution_count": 38,
   "id": "806d56ea-d86b-4ea6-af9e-e423665b53ac",
   "metadata": {
    "tags": []
   },
   "outputs": [],
   "source": [
    "logging.debug(\"This is my info related to debug\")"
   ]
  },
  {
   "cell_type": "code",
   "execution_count": 39,
   "id": "c805fb3c-8120-4f8c-b825-d986d63c4fc8",
   "metadata": {},
   "outputs": [],
   "source": [
    "logging.shutdown()"
   ]
  },
  {
   "cell_type": "code",
   "execution_count": null,
   "id": "1f5108f6-eab0-414e-a1ef-b5dc95f04bd1",
   "metadata": {},
   "outputs": [],
   "source": [
    "## Hierarchy of Logging\n",
    "1. NOSET\n",
    "2. DEBUG\n",
    "3. INFO\n",
    "4. WARNING\n",
    "5. ERROR\n",
    "6. CRITICAL"
   ]
  },
  {
   "cell_type": "code",
   "execution_count": 6,
   "id": "32ceb3e5-14ef-4052-b14f-acb58dc67db5",
   "metadata": {},
   "outputs": [],
   "source": [
    "logging.basicConfig(filename = \"test4.log\", level = 'DEBUG' , format = ' %(asctime)s %(message)s')"
   ]
  },
  {
   "cell_type": "code",
   "execution_count": 7,
   "id": "558d5c1f-f487-42a8-b1a8-a6672c84b491",
   "metadata": {},
   "outputs": [],
   "source": [
    "logging.info(\"This is my info log\")"
   ]
  },
  {
   "cell_type": "code",
   "execution_count": 8,
   "id": "b8750570-838a-4575-9ed3-86a09c24f19b",
   "metadata": {},
   "outputs": [],
   "source": [
    "logging.debug(\"This is my debug log\")"
   ]
  },
  {
   "cell_type": "code",
   "execution_count": 9,
   "id": "57433f1f-417b-4b5b-9a5e-461091f7b501",
   "metadata": {},
   "outputs": [],
   "source": [
    "logging.error(\"This is my error message\")"
   ]
  },
  {
   "cell_type": "code",
   "execution_count": 10,
   "id": "4e93f4a0-3bf9-4a94-a220-4a87f33b9b58",
   "metadata": {},
   "outputs": [],
   "source": [
    "logging.shutdown()"
   ]
  },
  {
   "cell_type": "code",
   "execution_count": 2,
   "id": "540dbd5e-c220-4dde-adf2-c0602ed7879c",
   "metadata": {},
   "outputs": [],
   "source": [
    "logging.basicConfig(filename = \"test5.log\" , level = \"DEBUG\" , format = ' %(asctime)s %(name)s %(levelname)s %(message)s ')"
   ]
  },
  {
   "cell_type": "code",
   "execution_count": 4,
   "id": "4d6fa206-1def-45c5-856b-b1e0579953ad",
   "metadata": {},
   "outputs": [],
   "source": [
    "logging.info(\"This is my info log\")"
   ]
  },
  {
   "cell_type": "code",
   "execution_count": 5,
   "id": "f04c1e13-f780-4dd9-b584-b1a89f22db68",
   "metadata": {},
   "outputs": [],
   "source": [
    "l = [1,2,3,4,[5,6,7],\"Rohit\",\"Kumar\"]"
   ]
  },
  {
   "cell_type": "code",
   "execution_count": 16,
   "id": "d567aed3-a46d-46ea-960c-7e0c2d054a46",
   "metadata": {},
   "outputs": [],
   "source": [
    "l1_int = []\n",
    "l2_str = []\n",
    "\n",
    "for i in l:\n",
    "    logging.info(\"This is the start of my first for loop {}\".format(l))\n",
    "    logging.info(\"This is the value of i {} which I am logging\".format(i))\n",
    "    if type(i) == list:\n",
    "        for j in i:\n",
    "            logging.info(\"logging my j {j} and i {i}\".format(i=i, j=j))\n",
    "            if type(j) == int:\n",
    "                l1_int.append(j)\n",
    "    elif type(i) == int:\n",
    "        l1_int.append(i)\n",
    "    else:\n",
    "        if type(i) == str:\n",
    "            l2_str.append(i)\n",
    "\n",
    "logging.info(\"This is my final result for list of integers {l1} and list of strings {l2}\".format(l1=l1_int, l2=l2_str))"
   ]
  },
  {
   "cell_type": "code",
   "execution_count": 17,
   "id": "14f9a948-e605-4f98-a009-1d392801d747",
   "metadata": {},
   "outputs": [
    {
     "data": {
      "text/plain": [
       "[1, 2, 3, 4, 5, 6, 7]"
      ]
     },
     "execution_count": 17,
     "metadata": {},
     "output_type": "execute_result"
    }
   ],
   "source": [
    "l1_int"
   ]
  },
  {
   "cell_type": "code",
   "execution_count": 18,
   "id": "25d339a5-d9de-4161-8b57-627857ca9bb3",
   "metadata": {},
   "outputs": [
    {
     "data": {
      "text/plain": [
       "['Rohit', 'Kumar']"
      ]
     },
     "execution_count": 18,
     "metadata": {},
     "output_type": "execute_result"
    }
   ],
   "source": [
    "l2_str"
   ]
  },
  {
   "cell_type": "code",
   "execution_count": null,
   "id": "1ec7fda3-1ce9-4202-9e96-0272e3123e1f",
   "metadata": {},
   "outputs": [],
   "source": []
  },
  {
   "cell_type": "markdown",
   "id": "a2cca297-452a-458f-b32c-7451d1b92bb7",
   "metadata": {},
   "source": [
    "## Modules & Import Statements"
   ]
  },
  {
   "cell_type": "code",
   "execution_count": 19,
   "id": "1ae99716-c908-4400-92a7-c181a34fba1c",
   "metadata": {},
   "outputs": [],
   "source": [
    "## We have to launch VS code for this section"
   ]
  },
  {
   "cell_type": "code",
   "execution_count": null,
   "id": "2db4174b-5a99-42de-be62-934996bc6ef4",
   "metadata": {},
   "outputs": [],
   "source": []
  },
  {
   "cell_type": "code",
   "execution_count": null,
   "id": "95fff854-5af5-4cda-b014-f2f515f687a8",
   "metadata": {},
   "outputs": [],
   "source": []
  }
 ],
 "metadata": {
  "kernelspec": {
   "display_name": "Python 3 (ipykernel)",
   "language": "python",
   "name": "python3"
  },
  "language_info": {
   "codemirror_mode": {
    "name": "ipython",
    "version": 3
   },
   "file_extension": ".py",
   "mimetype": "text/x-python",
   "name": "python",
   "nbconvert_exporter": "python",
   "pygments_lexer": "ipython3",
   "version": "3.10.8"
  }
 },
 "nbformat": 4,
 "nbformat_minor": 5
}
