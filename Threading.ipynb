{
 "cells": [
  {
   "cell_type": "code",
   "execution_count": 10,
   "id": "a6d779a2-54c1-4e67-8fc4-d783f8522740",
   "metadata": {},
   "outputs": [],
   "source": [
    "def test(id):\n",
    "    print(\"this is my test id %d\" % id)"
   ]
  },
  {
   "cell_type": "code",
   "execution_count": 11,
   "id": "8e8abe6b-f155-440a-948c-698c42d28100",
   "metadata": {},
   "outputs": [
    {
     "name": "stdout",
     "output_type": "stream",
     "text": [
      "this is my test id 5\n"
     ]
    }
   ],
   "source": [
    "test (5)"
   ]
  },
  {
   "cell_type": "code",
   "execution_count": 12,
   "id": "1d1c3fb1-33b4-4203-a566-cbb3a184950e",
   "metadata": {},
   "outputs": [
    {
     "name": "stdout",
     "output_type": "stream",
     "text": [
      "this is my test id 8\n"
     ]
    }
   ],
   "source": [
    "test(8)"
   ]
  },
  {
   "cell_type": "code",
   "execution_count": 13,
   "id": "86f8310b-0bd9-4284-b3db-0362d76d73ab",
   "metadata": {},
   "outputs": [
    {
     "name": "stdout",
     "output_type": "stream",
     "text": [
      "this is my test id 11\n"
     ]
    }
   ],
   "source": [
    "test(11)"
   ]
  },
  {
   "cell_type": "code",
   "execution_count": 1,
   "id": "94c4d504-63be-4744-b37d-7aa68e8537ee",
   "metadata": {},
   "outputs": [],
   "source": [
    "import threading"
   ]
  },
  {
   "cell_type": "code",
   "execution_count": 2,
   "id": "415369a2-43f0-4b51-be37-6f80515c6ce7",
   "metadata": {},
   "outputs": [],
   "source": [
    "def test(id):\n",
    "    print(\"this is my test id %d\" % id)"
   ]
  },
  {
   "cell_type": "code",
   "execution_count": 3,
   "id": "04b0dd85-7812-4e08-99a3-694fbd180ea0",
   "metadata": {},
   "outputs": [],
   "source": [
    "thread = [threading.Thread(target = test, args = (i,)) for i in [5,8,11]]"
   ]
  },
  {
   "cell_type": "code",
   "execution_count": 4,
   "id": "f38693a2-cfe0-4272-b12a-a4a01b2adad7",
   "metadata": {},
   "outputs": [
    {
     "data": {
      "text/plain": [
       "[<Thread(Thread-5 (test), initial)>,\n",
       " <Thread(Thread-6 (test), initial)>,\n",
       " <Thread(Thread-7 (test), initial)>]"
      ]
     },
     "execution_count": 4,
     "metadata": {},
     "output_type": "execute_result"
    }
   ],
   "source": [
    "thread"
   ]
  },
  {
   "cell_type": "code",
   "execution_count": 5,
   "id": "65e14e45-7db1-4890-81b6-ccd5522c8346",
   "metadata": {},
   "outputs": [
    {
     "name": "stdout",
     "output_type": "stream",
     "text": [
      "this is my test id 5\n",
      "this is my test id 8\n",
      "this is my test id 11\n"
     ]
    }
   ],
   "source": [
    "for t in thread:\n",
    "    t.start()\n"
   ]
  },
  {
   "cell_type": "code",
   "execution_count": 3,
   "id": "d41ff462-0fad-4d2d-97e6-a4e4aa8cf348",
   "metadata": {},
   "outputs": [],
   "source": [
    "import urllib.request\n",
    "\n",
    "def download_file(url, file_name):\n",
    "    urllib.request.urlretrieve(url, file_name)"
   ]
  },
  {
   "cell_type": "code",
   "execution_count": 4,
   "id": "c5b959e0-78fa-4d4b-879f-12c6c8417637",
   "metadata": {},
   "outputs": [],
   "source": [
    "download_file('https://www.healthline.com/nutrition/foods-high-in-vitamin-e', \"data.txt\")"
   ]
  },
  {
   "cell_type": "code",
   "execution_count": 5,
   "id": "62998faa-a448-4961-8286-9406ed1db73a",
   "metadata": {},
   "outputs": [],
   "source": [
    "url_list = ['https://www.healthline.com/nutrition/foods-high-in-vitamin-e' , 'https://www.coursera.org/learn/data-warehousing-business-intelligence/home/week/1' , 'https://www.jiva.com/blog/natural-remedies-for-ulcerative-colitis-symptoms']"
   ]
  },
  {
   "cell_type": "code",
   "execution_count": 6,
   "id": "3bdb26e5-0b69-4b2e-8969-ca51e7f23707",
   "metadata": {},
   "outputs": [
    {
     "data": {
      "text/plain": [
       "['https://www.healthline.com/nutrition/foods-high-in-vitamin-e',\n",
       " 'https://www.coursera.org/learn/data-warehousing-business-intelligence/home/week/1',\n",
       " 'https://www.jiva.com/blog/natural-remedies-for-ulcerative-colitis-symptoms']"
      ]
     },
     "execution_count": 6,
     "metadata": {},
     "output_type": "execute_result"
    }
   ],
   "source": [
    "url_list"
   ]
  },
  {
   "cell_type": "code",
   "execution_count": 7,
   "id": "9ce98851-10b9-41e5-b5ed-4ecb2fa2582d",
   "metadata": {},
   "outputs": [],
   "source": [
    "data_file_list = ['data1.txt' , 'data2.txt' , 'data3.txt']"
   ]
  },
  {
   "cell_type": "code",
   "execution_count": 8,
   "id": "9faef03f-8921-4efb-ac2f-75f36a01eea2",
   "metadata": {},
   "outputs": [
    {
     "data": {
      "text/plain": [
       "['data1.txt', 'data2.txt', 'data3.txt']"
      ]
     },
     "execution_count": 8,
     "metadata": {},
     "output_type": "execute_result"
    }
   ],
   "source": [
    "data_file_list"
   ]
  },
  {
   "cell_type": "code",
   "execution_count": 9,
   "id": "3a21ca67-1e81-4758-9245-56392b46eb28",
   "metadata": {},
   "outputs": [],
   "source": [
    "thread1 = [threading.Thread(target= download_file , args= (url_list[i] , data_file_list[i])) for i in range(len(url_list))]"
   ]
  },
  {
   "cell_type": "code",
   "execution_count": 10,
   "id": "b9b87b5f-2a09-469b-872f-837ad17a6c10",
   "metadata": {},
   "outputs": [
    {
     "data": {
      "text/plain": [
       "[<Thread(Thread-5 (download_file), initial)>,\n",
       " <Thread(Thread-6 (download_file), initial)>,\n",
       " <Thread(Thread-7 (download_file), initial)>]"
      ]
     },
     "execution_count": 10,
     "metadata": {},
     "output_type": "execute_result"
    }
   ],
   "source": [
    "thread1"
   ]
  },
  {
   "cell_type": "code",
   "execution_count": 11,
   "id": "0a555c4f-1517-4f24-9c94-0e19d746eca5",
   "metadata": {},
   "outputs": [],
   "source": [
    "for t in thread1:\n",
    "    t.start()"
   ]
  },
  {
   "cell_type": "code",
   "execution_count": 7,
   "id": "cb96c458-f32d-4827-95e3-876e4f7aeb60",
   "metadata": {},
   "outputs": [],
   "source": [
    "import time"
   ]
  },
  {
   "cell_type": "code",
   "execution_count": 8,
   "id": "4d664994-6729-4bf2-9b40-c273760e9e20",
   "metadata": {},
   "outputs": [],
   "source": [
    "def test2(x):\n",
    "    for i in range(10):\n",
    "        print(\"test2 will print the value of x %d and the value of i %d\" %(x,i))\n",
    "        time.sleep(1)"
   ]
  },
  {
   "cell_type": "code",
   "execution_count": 9,
   "id": "61e35935-25fe-47a2-b768-832a6e92e06a",
   "metadata": {},
   "outputs": [
    {
     "name": "stdout",
     "output_type": "stream",
     "text": [
      "test2 will print the value of x 5 and the value of i 0\n",
      "test2 will print the value of x 5 and the value of i 1\n",
      "test2 will print the value of x 5 and the value of i 2\n",
      "test2 will print the value of x 5 and the value of i 3\n",
      "test2 will print the value of x 5 and the value of i 4\n",
      "test2 will print the value of x 5 and the value of i 5\n",
      "test2 will print the value of x 5 and the value of i 6\n",
      "test2 will print the value of x 5 and the value of i 7\n",
      "test2 will print the value of x 5 and the value of i 8\n",
      "test2 will print the value of x 5 and the value of i 9\n"
     ]
    }
   ],
   "source": [
    "test2(5)"
   ]
  },
  {
   "cell_type": "code",
   "execution_count": 10,
   "id": "a68d7989-e384-4d9e-9edb-febfe98143f3",
   "metadata": {},
   "outputs": [],
   "source": [
    "thread2 = [threading.Thread(target = test2, args = (i,)) for i in [2, 5, 8, 10]]"
   ]
  },
  {
   "cell_type": "code",
   "execution_count": 11,
   "id": "6d23df29-f888-4a5f-a04a-87c8820c22d0",
   "metadata": {},
   "outputs": [
    {
     "name": "stdout",
     "output_type": "stream",
     "text": [
      "test2 will print the value of x 2 and the value of i 0\n",
      "test2 will print the value of x 5 and the value of i 0\n",
      "test2 will print the value of x 8 and the value of i 0\n",
      "test2 will print the value of x 10 and the value of i 0\n"
     ]
    }
   ],
   "source": [
    "for t in thread2:\n",
    "    t.start()"
   ]
  },
  {
   "cell_type": "code",
   "execution_count": 13,
   "id": "feadd05a-4023-4fc8-a96d-db9206c50111",
   "metadata": {},
   "outputs": [
    {
     "name": "stdout",
     "output_type": "stream",
     "text": [
      "value of x is 1 and value of i is 1\n",
      "value of x is 2 and value of i is 2\n",
      "value of x is 3 and value of i is 3\n",
      "value of x is 4 and value of i is 4\n",
      "value of x is 5 and value of i is 5\n",
      "value of x is 6 and value of i is 6\n"
     ]
    }
   ],
   "source": [
    "shared_var = 0\n",
    "lock_var = threading.Lock()\n",
    "\n",
    "def test3(x):\n",
    "    global shared_var\n",
    "    with lock_var:\n",
    "        shared_var = shared_var + 1\n",
    "        print(\"value of x is %d and value of i is %d\" %(x, shared_var))\n",
    "        time.sleep(1)\n",
    "        \n",
    "thread3 = [threading.Thread(target = test3, args = (i,)) for i in [1,2,3,4,5,6]]\n",
    "\n",
    "for t in thread3:\n",
    "    t.start()"
   ]
  },
  {
   "cell_type": "code",
   "execution_count": null,
   "id": "d5c3796a-3b2c-4df6-b010-7aaf378eee13",
   "metadata": {},
   "outputs": [],
   "source": []
  },
  {
   "cell_type": "code",
   "execution_count": null,
   "id": "d6f8d2f7-5f4e-441d-8d53-5475bec8a239",
   "metadata": {},
   "outputs": [],
   "source": []
  },
  {
   "cell_type": "code",
   "execution_count": null,
   "id": "ebfa456a-0dde-46df-bb98-d7c43475217e",
   "metadata": {},
   "outputs": [],
   "source": []
  },
  {
   "cell_type": "code",
   "execution_count": null,
   "id": "98414eb7-5014-43c4-b9e7-93aa5e9a4549",
   "metadata": {},
   "outputs": [],
   "source": []
  },
  {
   "cell_type": "code",
   "execution_count": null,
   "id": "763c8517-73f5-4fd5-b71f-3980d4cbd407",
   "metadata": {},
   "outputs": [],
   "source": []
  },
  {
   "cell_type": "code",
   "execution_count": null,
   "id": "e0e22ab5-449e-405e-97dc-3fdd1895dcc5",
   "metadata": {},
   "outputs": [],
   "source": []
  }
 ],
 "metadata": {
  "kernelspec": {
   "display_name": "Python 3 (ipykernel)",
   "language": "python",
   "name": "python3"
  },
  "language_info": {
   "codemirror_mode": {
    "name": "ipython",
    "version": 3
   },
   "file_extension": ".py",
   "mimetype": "text/x-python",
   "name": "python",
   "nbconvert_exporter": "python",
   "pygments_lexer": "ipython3",
   "version": "3.10.8"
  }
 },
 "nbformat": 4,
 "nbformat_minor": 5
}
