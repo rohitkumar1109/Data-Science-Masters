{
 "cells": [
  {
   "cell_type": "code",
   "execution_count": 1,
   "id": "87cc0408-9e32-433d-ae91-2bb4e59df9e6",
   "metadata": {},
   "outputs": [],
   "source": [
    "import numpy as np"
   ]
  },
  {
   "cell_type": "code",
   "execution_count": 2,
   "id": "3b584259-5b7a-4cad-a22d-ea1e5675e0a1",
   "metadata": {},
   "outputs": [],
   "source": [
    "## Numpy- Array Manipulation"
   ]
  },
  {
   "cell_type": "code",
   "execution_count": 3,
   "id": "057cc72f-e964-4577-9fcb-beace176e626",
   "metadata": {},
   "outputs": [],
   "source": [
    "arr = np.random.randint(1,10, (4,4))"
   ]
  },
  {
   "cell_type": "code",
   "execution_count": 4,
   "id": "611b471b-cbed-4734-b7a6-eabf89635590",
   "metadata": {},
   "outputs": [
    {
     "data": {
      "text/plain": [
       "array([[2, 3, 5, 9],\n",
       "       [4, 6, 3, 6],\n",
       "       [9, 8, 7, 7],\n",
       "       [8, 7, 6, 8]])"
      ]
     },
     "execution_count": 4,
     "metadata": {},
     "output_type": "execute_result"
    }
   ],
   "source": [
    "arr"
   ]
  },
  {
   "cell_type": "code",
   "execution_count": 5,
   "id": "d506d9c3-2cf5-4db3-a1ab-3a6132dcac18",
   "metadata": {},
   "outputs": [
    {
     "data": {
      "text/plain": [
       "array([[2, 3],\n",
       "       [5, 9],\n",
       "       [4, 6],\n",
       "       [3, 6],\n",
       "       [9, 8],\n",
       "       [7, 7],\n",
       "       [8, 7],\n",
       "       [6, 8]])"
      ]
     },
     "execution_count": 5,
     "metadata": {},
     "output_type": "execute_result"
    }
   ],
   "source": [
    "arr.reshape(8,2)"
   ]
  },
  {
   "cell_type": "code",
   "execution_count": 6,
   "id": "afba1a00-40fc-4184-a154-91d37c61dac0",
   "metadata": {},
   "outputs": [
    {
     "data": {
      "text/plain": [
       "array([[2, 4, 9, 8],\n",
       "       [3, 6, 8, 7],\n",
       "       [5, 3, 7, 6],\n",
       "       [9, 6, 7, 8]])"
      ]
     },
     "execution_count": 6,
     "metadata": {},
     "output_type": "execute_result"
    }
   ],
   "source": [
    "arr.T"
   ]
  },
  {
   "cell_type": "code",
   "execution_count": 7,
   "id": "a7131a7e-7cf4-402c-a768-103a715a5727",
   "metadata": {},
   "outputs": [
    {
     "data": {
      "text/plain": [
       "array([2, 3, 5, 9, 4, 6, 3, 6, 9, 8, 7, 7, 8, 7, 6, 8])"
      ]
     },
     "execution_count": 7,
     "metadata": {},
     "output_type": "execute_result"
    }
   ],
   "source": [
    "arr.flatten()"
   ]
  },
  {
   "cell_type": "code",
   "execution_count": 8,
   "id": "e6a83e91-af17-45a1-aa30-9a677073b8fe",
   "metadata": {},
   "outputs": [
    {
     "data": {
      "text/plain": [
       "array([[2, 3, 5, 9],\n",
       "       [4, 6, 3, 6],\n",
       "       [9, 8, 7, 7],\n",
       "       [8, 7, 6, 8]])"
      ]
     },
     "execution_count": 8,
     "metadata": {},
     "output_type": "execute_result"
    }
   ],
   "source": [
    "arr"
   ]
  },
  {
   "cell_type": "code",
   "execution_count": 9,
   "id": "c9557299-a721-452f-823a-6e63d533efd9",
   "metadata": {},
   "outputs": [
    {
     "data": {
      "text/plain": [
       "array([[[2, 3, 5, 9]],\n",
       "\n",
       "       [[4, 6, 3, 6]],\n",
       "\n",
       "       [[9, 8, 7, 7]],\n",
       "\n",
       "       [[8, 7, 6, 8]]])"
      ]
     },
     "execution_count": 9,
     "metadata": {},
     "output_type": "execute_result"
    }
   ],
   "source": [
    "np.expand_dims(arr, axis=1)"
   ]
  },
  {
   "cell_type": "code",
   "execution_count": 10,
   "id": "6febbb2a-f45b-47d6-9ff7-4c0d67321bbe",
   "metadata": {},
   "outputs": [
    {
     "data": {
      "text/plain": [
       "array([[[2, 3, 5, 9],\n",
       "        [4, 6, 3, 6],\n",
       "        [9, 8, 7, 7],\n",
       "        [8, 7, 6, 8]]])"
      ]
     },
     "execution_count": 10,
     "metadata": {},
     "output_type": "execute_result"
    }
   ],
   "source": [
    "np.expand_dims(arr, axis=0)"
   ]
  },
  {
   "cell_type": "code",
   "execution_count": 11,
   "id": "9138b43e-5700-4ce1-9dbf-22afc4c241f1",
   "metadata": {},
   "outputs": [],
   "source": [
    "data = np.array([[1], [2], [3], [4]])"
   ]
  },
  {
   "cell_type": "code",
   "execution_count": 12,
   "id": "3dc93aff-02bf-4280-aa88-c55f38de07f1",
   "metadata": {},
   "outputs": [
    {
     "data": {
      "text/plain": [
       "array([1, 2, 3, 4])"
      ]
     },
     "execution_count": 12,
     "metadata": {},
     "output_type": "execute_result"
    }
   ],
   "source": [
    "np.squeeze(data)"
   ]
  },
  {
   "cell_type": "code",
   "execution_count": 17,
   "id": "963add73-c305-45cd-9591-b6ae55897efc",
   "metadata": {},
   "outputs": [
    {
     "data": {
      "text/plain": [
       "array([[2, 3, 5, 9],\n",
       "       [4, 6, 3, 6],\n",
       "       [9, 8, 7, 7],\n",
       "       [8, 7, 6, 8]])"
      ]
     },
     "execution_count": 17,
     "metadata": {},
     "output_type": "execute_result"
    }
   ],
   "source": [
    "np.squeeze(arr)"
   ]
  },
  {
   "cell_type": "code",
   "execution_count": 18,
   "id": "63ea20be-e04c-4bd3-9906-1b65ff3317a9",
   "metadata": {},
   "outputs": [
    {
     "data": {
      "text/plain": [
       "array([1, 1, 1, 2, 2, 2, 3, 3, 3, 4, 4, 4])"
      ]
     },
     "execution_count": 18,
     "metadata": {},
     "output_type": "execute_result"
    }
   ],
   "source": [
    "np.repeat(data,3)"
   ]
  },
  {
   "cell_type": "code",
   "execution_count": 19,
   "id": "cbf6b609-e677-4667-aa9b-231eadc61ef7",
   "metadata": {},
   "outputs": [
    {
     "data": {
      "text/plain": [
       "array([[3],\n",
       "       [4],\n",
       "       [1],\n",
       "       [2]])"
      ]
     },
     "execution_count": 19,
     "metadata": {},
     "output_type": "execute_result"
    }
   ],
   "source": [
    "np.roll(data,2)"
   ]
  },
  {
   "cell_type": "code",
   "execution_count": 20,
   "id": "bdfc39c3-ea02-45af-bd71-4633043c0edb",
   "metadata": {},
   "outputs": [
    {
     "data": {
      "text/plain": [
       "array([[1, 0, 0, 0],\n",
       "       [0, 2, 0, 0],\n",
       "       [0, 0, 3, 0],\n",
       "       [0, 0, 0, 4]])"
      ]
     },
     "execution_count": 20,
     "metadata": {},
     "output_type": "execute_result"
    }
   ],
   "source": [
    "np.diag(np.array([1,2,3,4]))"
   ]
  },
  {
   "cell_type": "code",
   "execution_count": 21,
   "id": "d547ab7f-33e1-4398-b999-45df28f6609e",
   "metadata": {},
   "outputs": [],
   "source": [
    "## Numpy- Binary Operators"
   ]
  },
  {
   "cell_type": "code",
   "execution_count": 22,
   "id": "1163a5ed-1bd2-44fd-bbf1-bfd3ddb17512",
   "metadata": {},
   "outputs": [],
   "source": [
    "arr1 = np.random.randint(1,10, (3,4))\n",
    "arr2 = np.random.randint(1,10, (3,4))"
   ]
  },
  {
   "cell_type": "code",
   "execution_count": 23,
   "id": "79d2481c-9193-4d41-ad06-a7d156866898",
   "metadata": {},
   "outputs": [
    {
     "data": {
      "text/plain": [
       "array([[7, 2, 8, 7],\n",
       "       [5, 6, 8, 8],\n",
       "       [6, 7, 4, 3]])"
      ]
     },
     "execution_count": 23,
     "metadata": {},
     "output_type": "execute_result"
    }
   ],
   "source": [
    "arr1"
   ]
  },
  {
   "cell_type": "code",
   "execution_count": 24,
   "id": "a5ad9787-db66-4c51-8e02-d77569fa59f0",
   "metadata": {},
   "outputs": [
    {
     "data": {
      "text/plain": [
       "array([[1, 2, 9, 8],\n",
       "       [5, 3, 4, 6],\n",
       "       [6, 5, 7, 2]])"
      ]
     },
     "execution_count": 24,
     "metadata": {},
     "output_type": "execute_result"
    }
   ],
   "source": [
    "arr2"
   ]
  },
  {
   "cell_type": "code",
   "execution_count": 25,
   "id": "27bc0436-9f96-402e-a2af-4e84effa0d40",
   "metadata": {},
   "outputs": [
    {
     "data": {
      "text/plain": [
       "array([[ 8,  4, 17, 15],\n",
       "       [10,  9, 12, 14],\n",
       "       [12, 12, 11,  5]])"
      ]
     },
     "execution_count": 25,
     "metadata": {},
     "output_type": "execute_result"
    }
   ],
   "source": [
    "arr1+arr2"
   ]
  },
  {
   "cell_type": "code",
   "execution_count": 26,
   "id": "9109dbc9-5c96-4f41-a49e-a76d87091693",
   "metadata": {},
   "outputs": [
    {
     "data": {
      "text/plain": [
       "array([[ 6,  0, -1, -1],\n",
       "       [ 0,  3,  4,  2],\n",
       "       [ 0,  2, -3,  1]])"
      ]
     },
     "execution_count": 26,
     "metadata": {},
     "output_type": "execute_result"
    }
   ],
   "source": [
    "arr1-arr2"
   ]
  },
  {
   "cell_type": "code",
   "execution_count": 27,
   "id": "b5140c09-3b7d-45b4-a5f0-1845e1c620e2",
   "metadata": {},
   "outputs": [
    {
     "data": {
      "text/plain": [
       "array([[ 7,  4, 72, 56],\n",
       "       [25, 18, 32, 48],\n",
       "       [36, 35, 28,  6]])"
      ]
     },
     "execution_count": 27,
     "metadata": {},
     "output_type": "execute_result"
    }
   ],
   "source": [
    "arr1*arr2"
   ]
  },
  {
   "cell_type": "code",
   "execution_count": 28,
   "id": "4acc61f8-f9cc-433a-8520-b4d736104d7a",
   "metadata": {},
   "outputs": [
    {
     "data": {
      "text/plain": [
       "array([[7.        , 1.        , 0.88888889, 0.875     ],\n",
       "       [1.        , 2.        , 2.        , 1.33333333],\n",
       "       [1.        , 1.4       , 0.57142857, 1.5       ]])"
      ]
     },
     "execution_count": 28,
     "metadata": {},
     "output_type": "execute_result"
    }
   ],
   "source": [
    "arr1/arr2"
   ]
  },
  {
   "cell_type": "code",
   "execution_count": 29,
   "id": "a389e1bc-dc57-4b0a-bc54-c62e8d0f0bc9",
   "metadata": {},
   "outputs": [
    {
     "data": {
      "text/plain": [
       "array([[        7,         4, 134217728,   5764801],\n",
       "       [     3125,       216,      4096,    262144],\n",
       "       [    46656,     16807,     16384,         9]])"
      ]
     },
     "execution_count": 29,
     "metadata": {},
     "output_type": "execute_result"
    }
   ],
   "source": [
    "arr1**arr2"
   ]
  },
  {
   "cell_type": "code",
   "execution_count": 30,
   "id": "43300aa2-f3fb-43a1-bdb3-adf3cca2afe1",
   "metadata": {},
   "outputs": [
    {
     "data": {
      "text/plain": [
       "array([[-8, -3, -9, -8],\n",
       "       [-6, -7, -9, -9],\n",
       "       [-7, -8, -5, -4]])"
      ]
     },
     "execution_count": 30,
     "metadata": {},
     "output_type": "execute_result"
    }
   ],
   "source": [
    "~arr1"
   ]
  },
  {
   "cell_type": "code",
   "execution_count": 31,
   "id": "fc08e762-14b7-4a26-8da6-d9634533b850",
   "metadata": {},
   "outputs": [
    {
     "data": {
      "text/plain": [
       "array([[7, 2, 8, 7],\n",
       "       [5, 6, 8, 8],\n",
       "       [6, 7, 4, 3]])"
      ]
     },
     "execution_count": 31,
     "metadata": {},
     "output_type": "execute_result"
    }
   ],
   "source": [
    "arr1"
   ]
  },
  {
   "cell_type": "code",
   "execution_count": 32,
   "id": "d16be307-d676-4896-bd84-d138d0b170ce",
   "metadata": {},
   "outputs": [
    {
     "data": {
      "text/plain": [
       "array([[ True, False, False, False],\n",
       "       [False,  True,  True,  True],\n",
       "       [False,  True, False,  True]])"
      ]
     },
     "execution_count": 32,
     "metadata": {},
     "output_type": "execute_result"
    }
   ],
   "source": [
    "arr1 > arr2 "
   ]
  },
  {
   "cell_type": "code",
   "execution_count": 34,
   "id": "3d980fcf-6d22-4f99-9cad-d1224e20eadd",
   "metadata": {},
   "outputs": [],
   "source": [
    "## Numpy- String Functions"
   ]
  },
  {
   "cell_type": "code",
   "execution_count": 35,
   "id": "98e98a11-871e-46c1-a47c-f531bb139492",
   "metadata": {},
   "outputs": [],
   "source": [
    "arr = np.array([\"rohit\",\"sumit\"])"
   ]
  },
  {
   "cell_type": "code",
   "execution_count": 36,
   "id": "d478855a-b9e6-47ef-9c93-cc296a5287f4",
   "metadata": {},
   "outputs": [
    {
     "data": {
      "text/plain": [
       "array(['rohit', 'sumit'], dtype='<U5')"
      ]
     },
     "execution_count": 36,
     "metadata": {},
     "output_type": "execute_result"
    }
   ],
   "source": [
    "arr"
   ]
  },
  {
   "cell_type": "code",
   "execution_count": 38,
   "id": "7dea538d-45e6-493c-857b-2085e6b2ef62",
   "metadata": {},
   "outputs": [
    {
     "data": {
      "text/plain": [
       "array(['ROHIT', 'SUMIT'], dtype='<U5')"
      ]
     },
     "execution_count": 38,
     "metadata": {},
     "output_type": "execute_result"
    }
   ],
   "source": [
    "np.char.upper(arr)"
   ]
  },
  {
   "cell_type": "code",
   "execution_count": 39,
   "id": "2d6b394c-69c3-4ba1-8def-34a4591c1ad4",
   "metadata": {},
   "outputs": [
    {
     "data": {
      "text/plain": [
       "array(['Rohit', 'Sumit'], dtype='<U5')"
      ]
     },
     "execution_count": 39,
     "metadata": {},
     "output_type": "execute_result"
    }
   ],
   "source": [
    "np.char.capitalize(arr)"
   ]
  },
  {
   "cell_type": "code",
   "execution_count": 40,
   "id": "b24aa02f-ae1b-43e2-887c-1e3241400a3b",
   "metadata": {},
   "outputs": [
    {
     "data": {
      "text/plain": [
       "array(['Rohit', 'Sumit'], dtype='<U5')"
      ]
     },
     "execution_count": 40,
     "metadata": {},
     "output_type": "execute_result"
    }
   ],
   "source": [
    "np.char.title(arr)"
   ]
  },
  {
   "cell_type": "code",
   "execution_count": 47,
   "id": "c45af9bf-a833-472c-b603-7be8950f976f",
   "metadata": {},
   "outputs": [
    {
     "data": {
      "text/plain": [
       "array(['roh', 'sum'], dtype='<U3')"
      ]
     },
     "execution_count": 47,
     "metadata": {},
     "output_type": "execute_result"
    }
   ],
   "source": [
    "np.char.center(arr, 3)"
   ]
  },
  {
   "cell_type": "code",
   "execution_count": 48,
   "id": "938fd2ad-b880-470f-b036-fb97c1026a20",
   "metadata": {},
   "outputs": [],
   "source": [
    "## Numpy- Mathematical Functions"
   ]
  },
  {
   "cell_type": "code",
   "execution_count": 49,
   "id": "85ddbfd7-8569-4624-bdf7-4003d785d418",
   "metadata": {},
   "outputs": [
    {
     "data": {
      "text/plain": [
       "array([[7, 2, 8, 7],\n",
       "       [5, 6, 8, 8],\n",
       "       [6, 7, 4, 3]])"
      ]
     },
     "execution_count": 49,
     "metadata": {},
     "output_type": "execute_result"
    }
   ],
   "source": [
    "arr1"
   ]
  },
  {
   "cell_type": "code",
   "execution_count": 50,
   "id": "987ddbba-2fe5-4ff4-8a0f-e221f0629899",
   "metadata": {},
   "outputs": [
    {
     "data": {
      "text/plain": [
       "array([[ 0.6569866 ,  0.90929743,  0.98935825,  0.6569866 ],\n",
       "       [-0.95892427, -0.2794155 ,  0.98935825,  0.98935825],\n",
       "       [-0.2794155 ,  0.6569866 , -0.7568025 ,  0.14112001]])"
      ]
     },
     "execution_count": 50,
     "metadata": {},
     "output_type": "execute_result"
    }
   ],
   "source": [
    "np.sin(arr1)"
   ]
  },
  {
   "cell_type": "code",
   "execution_count": 51,
   "id": "025cc1d3-fb96-43be-82d3-2066ce2e2119",
   "metadata": {},
   "outputs": [
    {
     "data": {
      "text/plain": [
       "array([[ 0.75390225, -0.41614684, -0.14550003,  0.75390225],\n",
       "       [ 0.28366219,  0.96017029, -0.14550003, -0.14550003],\n",
       "       [ 0.96017029,  0.75390225, -0.65364362, -0.9899925 ]])"
      ]
     },
     "execution_count": 51,
     "metadata": {},
     "output_type": "execute_result"
    }
   ],
   "source": [
    "np.cos(arr1)"
   ]
  },
  {
   "cell_type": "code",
   "execution_count": 52,
   "id": "54bf94d4-88da-446f-83ab-d993d1adf296",
   "metadata": {},
   "outputs": [
    {
     "data": {
      "text/plain": [
       "array([[ 0.87144798, -2.18503986, -6.79971146,  0.87144798],\n",
       "       [-3.38051501, -0.29100619, -6.79971146, -6.79971146],\n",
       "       [-0.29100619,  0.87144798,  1.15782128, -0.14254654]])"
      ]
     },
     "execution_count": 52,
     "metadata": {},
     "output_type": "execute_result"
    }
   ],
   "source": [
    "np.tan(arr1)"
   ]
  },
  {
   "cell_type": "code",
   "execution_count": 53,
   "id": "60f3d738-921e-478c-b422-97418914f32c",
   "metadata": {},
   "outputs": [
    {
     "data": {
      "text/plain": [
       "array([[1096.63315843,    7.3890561 , 2980.95798704, 1096.63315843],\n",
       "       [ 148.4131591 ,  403.42879349, 2980.95798704, 2980.95798704],\n",
       "       [ 403.42879349, 1096.63315843,   54.59815003,   20.08553692]])"
      ]
     },
     "execution_count": 53,
     "metadata": {},
     "output_type": "execute_result"
    }
   ],
   "source": [
    "np.exp(arr1)"
   ]
  },
  {
   "cell_type": "code",
   "execution_count": 54,
   "id": "21bd1b6a-5f78-47cd-bdbf-770eb036eaf5",
   "metadata": {},
   "outputs": [
    {
     "data": {
      "text/plain": [
       "array([[0.84509804, 0.30103   , 0.90308999, 0.84509804],\n",
       "       [0.69897   , 0.77815125, 0.90308999, 0.90308999],\n",
       "       [0.77815125, 0.84509804, 0.60205999, 0.47712125]])"
      ]
     },
     "execution_count": 54,
     "metadata": {},
     "output_type": "execute_result"
    }
   ],
   "source": [
    "np.log10(arr1)"
   ]
  },
  {
   "cell_type": "code",
   "execution_count": 55,
   "id": "941d529b-0c8f-4990-a165-14740328daaf",
   "metadata": {},
   "outputs": [
    {
     "data": {
      "text/plain": [
       "array([[343,   8, 512, 343],\n",
       "       [125, 216, 512, 512],\n",
       "       [216, 343,  64,  27]])"
      ]
     },
     "execution_count": 55,
     "metadata": {},
     "output_type": "execute_result"
    }
   ],
   "source": [
    "np.power(arr1,3)"
   ]
  },
  {
   "cell_type": "code",
   "execution_count": 56,
   "id": "040e94ad-7cb4-49ec-92d0-66e10a2d4c33",
   "metadata": {},
   "outputs": [
    {
     "data": {
      "text/plain": [
       "5.916666666666667"
      ]
     },
     "execution_count": 56,
     "metadata": {},
     "output_type": "execute_result"
    }
   ],
   "source": [
    "np.mean(arr1)"
   ]
  },
  {
   "cell_type": "code",
   "execution_count": 57,
   "id": "9788fbee-8a54-4789-8047-a958d4f3ac39",
   "metadata": {},
   "outputs": [
    {
     "data": {
      "text/plain": [
       "6.5"
      ]
     },
     "execution_count": 57,
     "metadata": {},
     "output_type": "execute_result"
    }
   ],
   "source": [
    "np.median(arr1)"
   ]
  },
  {
   "cell_type": "code",
   "execution_count": 59,
   "id": "3aad4215-5afc-4443-b47a-fb8aaccc2709",
   "metadata": {},
   "outputs": [
    {
     "data": {
      "text/plain": [
       "8"
      ]
     },
     "execution_count": 59,
     "metadata": {},
     "output_type": "execute_result"
    }
   ],
   "source": [
    "np.max(arr1)"
   ]
  },
  {
   "cell_type": "code",
   "execution_count": 60,
   "id": "57f8acb2-28af-4a1b-a982-8fd4097d0657",
   "metadata": {},
   "outputs": [
    {
     "data": {
      "text/plain": [
       "2"
      ]
     },
     "execution_count": 60,
     "metadata": {},
     "output_type": "execute_result"
    }
   ],
   "source": [
    "np.min(arr1)"
   ]
  },
  {
   "cell_type": "code",
   "execution_count": 61,
   "id": "409334b2-823c-4bb3-b0a0-48596a984af9",
   "metadata": {},
   "outputs": [
    {
     "data": {
      "text/plain": [
       "1.9346977943739834"
      ]
     },
     "execution_count": 61,
     "metadata": {},
     "output_type": "execute_result"
    }
   ],
   "source": [
    "np.std(arr1)"
   ]
  },
  {
   "cell_type": "code",
   "execution_count": 62,
   "id": "549351e2-e755-4034-ba8f-526fb914daa5",
   "metadata": {},
   "outputs": [
    {
     "data": {
      "text/plain": [
       "3.743055555555556"
      ]
     },
     "execution_count": 62,
     "metadata": {},
     "output_type": "execute_result"
    }
   ],
   "source": [
    "np.var(arr1)"
   ]
  },
  {
   "cell_type": "code",
   "execution_count": 63,
   "id": "71a41756-73f1-4def-84de-fbc416483ccc",
   "metadata": {},
   "outputs": [
    {
     "data": {
      "text/plain": [
       "array([[2.64575131, 1.41421356, 2.82842712, 2.64575131],\n",
       "       [2.23606798, 2.44948974, 2.82842712, 2.82842712],\n",
       "       [2.44948974, 2.64575131, 2.        , 1.73205081]])"
      ]
     },
     "execution_count": 63,
     "metadata": {},
     "output_type": "execute_result"
    }
   ],
   "source": [
    "np.sqrt(arr1)"
   ]
  },
  {
   "cell_type": "code",
   "execution_count": 64,
   "id": "3d508909-fdc4-48c1-9e19-b7c35d7c83dd",
   "metadata": {},
   "outputs": [],
   "source": [
    "## Numpy- Arithmetic Operations."
   ]
  },
  {
   "cell_type": "code",
   "execution_count": 65,
   "id": "1b4d540f-495d-40be-9517-86cb1cc2da3b",
   "metadata": {},
   "outputs": [
    {
     "data": {
      "text/plain": [
       "array([[7, 2, 8, 7],\n",
       "       [5, 6, 8, 8],\n",
       "       [6, 7, 4, 3]])"
      ]
     },
     "execution_count": 65,
     "metadata": {},
     "output_type": "execute_result"
    }
   ],
   "source": [
    "arr1"
   ]
  },
  {
   "cell_type": "code",
   "execution_count": 66,
   "id": "0a3d46bd-9b22-4a9e-8095-54a195f83042",
   "metadata": {},
   "outputs": [
    {
     "data": {
      "text/plain": [
       "array([[1, 2, 9, 8],\n",
       "       [5, 3, 4, 6],\n",
       "       [6, 5, 7, 2]])"
      ]
     },
     "execution_count": 66,
     "metadata": {},
     "output_type": "execute_result"
    }
   ],
   "source": [
    "arr2"
   ]
  },
  {
   "cell_type": "code",
   "execution_count": 67,
   "id": "87602075-4b21-4a76-9f82-63ec2ff53a96",
   "metadata": {},
   "outputs": [
    {
     "data": {
      "text/plain": [
       "array([[ 8,  4, 17, 15],\n",
       "       [10,  9, 12, 14],\n",
       "       [12, 12, 11,  5]])"
      ]
     },
     "execution_count": 67,
     "metadata": {},
     "output_type": "execute_result"
    }
   ],
   "source": [
    "arr1+arr2"
   ]
  },
  {
   "cell_type": "code",
   "execution_count": 68,
   "id": "7a8d8882-4a0e-499e-aab2-4acd63d31e28",
   "metadata": {},
   "outputs": [
    {
     "data": {
      "text/plain": [
       "array([[ 8,  4, 17, 15],\n",
       "       [10,  9, 12, 14],\n",
       "       [12, 12, 11,  5]])"
      ]
     },
     "execution_count": 68,
     "metadata": {},
     "output_type": "execute_result"
    }
   ],
   "source": [
    "np.add(arr1,arr2)"
   ]
  },
  {
   "cell_type": "code",
   "execution_count": 69,
   "id": "31d0855e-0fa8-4d76-b2ba-a2392304ed7a",
   "metadata": {},
   "outputs": [
    {
     "data": {
      "text/plain": [
       "array([[ 6,  0, -1, -1],\n",
       "       [ 0,  3,  4,  2],\n",
       "       [ 0,  2, -3,  1]])"
      ]
     },
     "execution_count": 69,
     "metadata": {},
     "output_type": "execute_result"
    }
   ],
   "source": [
    "np.subtract(arr1,arr2)"
   ]
  },
  {
   "cell_type": "code",
   "execution_count": 70,
   "id": "bd6b22c1-802c-4e72-8fb3-37bf4a2f6c5c",
   "metadata": {},
   "outputs": [
    {
     "data": {
      "text/plain": [
       "array([[ 7,  4, 72, 56],\n",
       "       [25, 18, 32, 48],\n",
       "       [36, 35, 28,  6]])"
      ]
     },
     "execution_count": 70,
     "metadata": {},
     "output_type": "execute_result"
    }
   ],
   "source": [
    "np.multiply(arr1,arr2)"
   ]
  },
  {
   "cell_type": "code",
   "execution_count": 71,
   "id": "06b7df29-a35c-4cc7-ba65-6a726038272b",
   "metadata": {},
   "outputs": [
    {
     "data": {
      "text/plain": [
       "array([[        7,         4, 134217728,   5764801],\n",
       "       [     3125,       216,      4096,    262144],\n",
       "       [    46656,     16807,     16384,         9]])"
      ]
     },
     "execution_count": 71,
     "metadata": {},
     "output_type": "execute_result"
    }
   ],
   "source": [
    "np.power(arr1,arr2)"
   ]
  },
  {
   "cell_type": "code",
   "execution_count": 72,
   "id": "dbcc224b-f0fc-44d0-9ec0-fbf77089c797",
   "metadata": {},
   "outputs": [
    {
     "data": {
      "text/plain": [
       "array([[0, 0, 8, 7],\n",
       "       [0, 0, 0, 2],\n",
       "       [0, 2, 4, 1]])"
      ]
     },
     "execution_count": 72,
     "metadata": {},
     "output_type": "execute_result"
    }
   ],
   "source": [
    "np.mod(arr1,arr2)"
   ]
  },
  {
   "cell_type": "code",
   "execution_count": 73,
   "id": "ae2f83ac-409a-40cf-942f-d4bb242f79b2",
   "metadata": {},
   "outputs": [
    {
     "data": {
      "text/plain": [
       "array([[2.64575131, 1.41421356, 2.82842712, 2.64575131],\n",
       "       [2.23606798, 2.44948974, 2.82842712, 2.82842712],\n",
       "       [2.44948974, 2.64575131, 2.        , 1.73205081]])"
      ]
     },
     "execution_count": 73,
     "metadata": {},
     "output_type": "execute_result"
    }
   ],
   "source": [
    "np.sqrt(arr1)"
   ]
  },
  {
   "cell_type": "code",
   "execution_count": 74,
   "id": "97f1fcb9-e998-4a2e-99bd-5613d6b381d7",
   "metadata": {},
   "outputs": [
    {
     "data": {
      "text/plain": [
       "array([[1.        , 1.41421356, 3.        , 2.82842712],\n",
       "       [2.23606798, 1.73205081, 2.        , 2.44948974],\n",
       "       [2.44948974, 2.23606798, 2.64575131, 1.41421356]])"
      ]
     },
     "execution_count": 74,
     "metadata": {},
     "output_type": "execute_result"
    }
   ],
   "source": [
    "np.sqrt(arr2)"
   ]
  },
  {
   "cell_type": "code",
   "execution_count": 75,
   "id": "a2308cf5-484e-4fd7-b752-ed7b492e6181",
   "metadata": {},
   "outputs": [],
   "source": [
    "## Numpy- Statistical Functions."
   ]
  },
  {
   "cell_type": "code",
   "execution_count": 76,
   "id": "ace9528a-8554-4be1-b977-5b5018ab04cf",
   "metadata": {},
   "outputs": [
    {
     "data": {
      "text/plain": [
       "array([[7, 2, 8, 7],\n",
       "       [5, 6, 8, 8],\n",
       "       [6, 7, 4, 3]])"
      ]
     },
     "execution_count": 76,
     "metadata": {},
     "output_type": "execute_result"
    }
   ],
   "source": [
    "arr1"
   ]
  },
  {
   "cell_type": "code",
   "execution_count": 77,
   "id": "e19de6e9-fa56-40ba-b400-f941ea493247",
   "metadata": {},
   "outputs": [
    {
     "data": {
      "text/plain": [
       "5.916666666666667"
      ]
     },
     "execution_count": 77,
     "metadata": {},
     "output_type": "execute_result"
    }
   ],
   "source": [
    "np.mean(arr1)"
   ]
  },
  {
   "cell_type": "code",
   "execution_count": 78,
   "id": "8653757f-5478-40b7-ba45-d01497ada0d0",
   "metadata": {},
   "outputs": [
    {
     "data": {
      "text/plain": [
       "6.5"
      ]
     },
     "execution_count": 78,
     "metadata": {},
     "output_type": "execute_result"
    }
   ],
   "source": [
    "np.median(arr1)"
   ]
  },
  {
   "cell_type": "code",
   "execution_count": 79,
   "id": "c833c61d-caa9-4030-84b3-2a1c7e05b678",
   "metadata": {},
   "outputs": [
    {
     "data": {
      "text/plain": [
       "1.9346977943739834"
      ]
     },
     "execution_count": 79,
     "metadata": {},
     "output_type": "execute_result"
    }
   ],
   "source": [
    "np.std(arr1)"
   ]
  },
  {
   "cell_type": "code",
   "execution_count": 80,
   "id": "f013535f-32ce-4aa0-952c-db2b80ac336b",
   "metadata": {},
   "outputs": [
    {
     "data": {
      "text/plain": [
       "3.743055555555556"
      ]
     },
     "execution_count": 80,
     "metadata": {},
     "output_type": "execute_result"
    }
   ],
   "source": [
    "np.var(arr1)"
   ]
  },
  {
   "cell_type": "code",
   "execution_count": 81,
   "id": "14076f6b-a637-4bbb-9a6d-5e8823efb9b4",
   "metadata": {},
   "outputs": [
    {
     "data": {
      "text/plain": [
       "9"
      ]
     },
     "execution_count": 81,
     "metadata": {},
     "output_type": "execute_result"
    }
   ],
   "source": [
    "np.max(arr2)"
   ]
  },
  {
   "cell_type": "code",
   "execution_count": null,
   "id": "592a230b-bcfe-4a58-9503-2504385dc37e",
   "metadata": {},
   "outputs": [],
   "source": []
  },
  {
   "cell_type": "code",
   "execution_count": null,
   "id": "10415596-38b3-4bb9-b23f-51605638ab4e",
   "metadata": {},
   "outputs": [],
   "source": []
  }
 ],
 "metadata": {
  "kernelspec": {
   "display_name": "Python 3 (ipykernel)",
   "language": "python",
   "name": "python3"
  },
  "language_info": {
   "codemirror_mode": {
    "name": "ipython",
    "version": 3
   },
   "file_extension": ".py",
   "mimetype": "text/x-python",
   "name": "python",
   "nbconvert_exporter": "python",
   "pygments_lexer": "ipython3",
   "version": "3.10.8"
  }
 },
 "nbformat": 4,
 "nbformat_minor": 5
}
