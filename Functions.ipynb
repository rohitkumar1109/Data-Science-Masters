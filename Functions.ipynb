{
 "cells": [
  {
   "cell_type": "code",
   "execution_count": 1,
   "id": "5f115057-3761-496b-9912-3a926f263c7d",
   "metadata": {},
   "outputs": [
    {
     "name": "stdout",
     "output_type": "stream",
     "text": [
      "Let's start learning how to define Functions\n"
     ]
    }
   ],
   "source": [
    "print(\"Let's start learning how to define Functions\")"
   ]
  },
  {
   "cell_type": "code",
   "execution_count": 2,
   "id": "3ebff8f8-4e22-4251-a060-1abfab0cfab5",
   "metadata": {},
   "outputs": [
    {
     "data": {
      "text/plain": [
       "7"
      ]
     },
     "execution_count": 2,
     "metadata": {},
     "output_type": "execute_result"
    }
   ],
   "source": [
    "l=[1,6,8,9,5,6,4]\n",
    "len(l)"
   ]
  },
  {
   "cell_type": "code",
   "execution_count": 3,
   "id": "6c81201e-eaa9-425b-af0b-edc9a0566fd4",
   "metadata": {},
   "outputs": [],
   "source": [
    "def test():\n",
    "    pass"
   ]
  },
  {
   "cell_type": "code",
   "execution_count": 6,
   "id": "4d68c643-e1dd-4025-b9e7-b2a8e496a397",
   "metadata": {},
   "outputs": [],
   "source": [
    "def test1():\n",
    "    print(\"this is my very very first function\")"
   ]
  },
  {
   "cell_type": "code",
   "execution_count": 7,
   "id": "af2eed17-9b41-4194-af1f-a1371fdc9809",
   "metadata": {},
   "outputs": [
    {
     "name": "stdout",
     "output_type": "stream",
     "text": [
      "this is my very very first function\n"
     ]
    }
   ],
   "source": [
    "test1()"
   ]
  },
  {
   "cell_type": "code",
   "execution_count": 8,
   "id": "bfa6b6df-425a-4c02-ac92-5db1963e534d",
   "metadata": {},
   "outputs": [
    {
     "name": "stdout",
     "output_type": "stream",
     "text": [
      "this is my very very first function\n"
     ]
    },
    {
     "ename": "TypeError",
     "evalue": "unsupported operand type(s) for +: 'NoneType' and 'str'",
     "output_type": "error",
     "traceback": [
      "\u001b[0;31m---------------------------------------------------------------------------\u001b[0m",
      "\u001b[0;31mTypeError\u001b[0m                                 Traceback (most recent call last)",
      "Cell \u001b[0;32mIn[8], line 1\u001b[0m\n\u001b[0;32m----> 1\u001b[0m \u001b[43mtest1\u001b[49m\u001b[43m(\u001b[49m\u001b[43m)\u001b[49m\u001b[43m \u001b[49m\u001b[38;5;241;43m+\u001b[39;49m\u001b[43m \u001b[49m\u001b[38;5;124;43m\"\u001b[39;49m\u001b[38;5;124;43mRohit\u001b[39;49m\u001b[38;5;124;43m\"\u001b[39;49m\n",
      "\u001b[0;31mTypeError\u001b[0m: unsupported operand type(s) for +: 'NoneType' and 'str'"
     ]
    }
   ],
   "source": [
    "test1() + \"Rohit\""
   ]
  },
  {
   "cell_type": "code",
   "execution_count": 9,
   "id": "040ac8d5-a0f4-4237-9a59-3a29e6effdae",
   "metadata": {},
   "outputs": [],
   "source": [
    "def test2():\n",
    "    return(\"This is my first function \")"
   ]
  },
  {
   "cell_type": "code",
   "execution_count": 10,
   "id": "05a09879-ec87-4041-926e-8c97ea3d1f99",
   "metadata": {},
   "outputs": [
    {
     "data": {
      "text/plain": [
       "'This is my first function '"
      ]
     },
     "execution_count": 10,
     "metadata": {},
     "output_type": "execute_result"
    }
   ],
   "source": [
    "test2()"
   ]
  },
  {
   "cell_type": "code",
   "execution_count": 11,
   "id": "97e5a5ad-3993-4a37-b08c-8f73c1d58c37",
   "metadata": {},
   "outputs": [
    {
     "data": {
      "text/plain": [
       "'This is my first function Rohit'"
      ]
     },
     "execution_count": 11,
     "metadata": {},
     "output_type": "execute_result"
    }
   ],
   "source": [
    "test2() + \"Rohit\""
   ]
  },
  {
   "cell_type": "code",
   "execution_count": 1,
   "id": "713934a0-6c2c-4b41-b486-0f116eef69fc",
   "metadata": {},
   "outputs": [],
   "source": [
    "def test3():\n",
    "    return 2, 9, \"Big Boss\", 45.420"
   ]
  },
  {
   "cell_type": "code",
   "execution_count": 5,
   "id": "3f107d71-291c-4e63-96ae-a73e2d0599e3",
   "metadata": {},
   "outputs": [
    {
     "data": {
      "text/plain": [
       "(2, 9, 'Big Boss', 45.42)"
      ]
     },
     "execution_count": 5,
     "metadata": {},
     "output_type": "execute_result"
    }
   ],
   "source": [
    "test3()"
   ]
  },
  {
   "cell_type": "code",
   "execution_count": 6,
   "id": "f1225b92-3649-4936-831a-0c29d99e5078",
   "metadata": {},
   "outputs": [
    {
     "data": {
      "text/plain": [
       "2"
      ]
     },
     "execution_count": 6,
     "metadata": {},
     "output_type": "execute_result"
    }
   ],
   "source": [
    "test3()[0]"
   ]
  },
  {
   "cell_type": "code",
   "execution_count": 7,
   "id": "3353c970-0476-454f-aa13-02b63310130f",
   "metadata": {},
   "outputs": [
    {
     "data": {
      "text/plain": [
       "'Big Boss'"
      ]
     },
     "execution_count": 7,
     "metadata": {},
     "output_type": "execute_result"
    }
   ],
   "source": [
    "test3()[2]"
   ]
  },
  {
   "cell_type": "code",
   "execution_count": 8,
   "id": "132b5fa2-04cc-4c76-b8d7-ca41d8d2f0b6",
   "metadata": {},
   "outputs": [],
   "source": [
    "a,b,c,d = test3()"
   ]
  },
  {
   "cell_type": "code",
   "execution_count": 9,
   "id": "723b5e9d-6b04-4ca7-bdde-46388dfc410b",
   "metadata": {},
   "outputs": [
    {
     "data": {
      "text/plain": [
       "2"
      ]
     },
     "execution_count": 9,
     "metadata": {},
     "output_type": "execute_result"
    }
   ],
   "source": [
    "a"
   ]
  },
  {
   "cell_type": "code",
   "execution_count": 10,
   "id": "0f305566-932b-42e4-a538-e6532de64af2",
   "metadata": {},
   "outputs": [
    {
     "data": {
      "text/plain": [
       "9"
      ]
     },
     "execution_count": 10,
     "metadata": {},
     "output_type": "execute_result"
    }
   ],
   "source": [
    "b"
   ]
  },
  {
   "cell_type": "code",
   "execution_count": 11,
   "id": "0679f73c-f9ab-4226-8bb5-00c6912f3d41",
   "metadata": {},
   "outputs": [
    {
     "data": {
      "text/plain": [
       "'Big Boss'"
      ]
     },
     "execution_count": 11,
     "metadata": {},
     "output_type": "execute_result"
    }
   ],
   "source": [
    "c"
   ]
  },
  {
   "cell_type": "code",
   "execution_count": 12,
   "id": "112b5202-0952-498f-a273-b13c9bd46d53",
   "metadata": {},
   "outputs": [
    {
     "data": {
      "text/plain": [
       "45.42"
      ]
     },
     "execution_count": 12,
     "metadata": {},
     "output_type": "execute_result"
    }
   ],
   "source": [
    "d"
   ]
  },
  {
   "cell_type": "code",
   "execution_count": 14,
   "id": "5d3ba82c-8962-47a1-b3f0-a14768949951",
   "metadata": {},
   "outputs": [],
   "source": [
    "def test4():\n",
    "    a = 2*5 + 8\n",
    "    return a"
   ]
  },
  {
   "cell_type": "code",
   "execution_count": 15,
   "id": "00ba8395-22ac-416c-8e1a-619eafe7b68e",
   "metadata": {},
   "outputs": [
    {
     "data": {
      "text/plain": [
       "18"
      ]
     },
     "execution_count": 15,
     "metadata": {},
     "output_type": "execute_result"
    }
   ],
   "source": [
    "test4()"
   ]
  },
  {
   "cell_type": "code",
   "execution_count": 17,
   "id": "d63d05ed-d10d-4a73-b717-7f913843a079",
   "metadata": {},
   "outputs": [],
   "source": [
    "def test5(a,b):\n",
    "    c = a + b\n",
    "    return c"
   ]
  },
  {
   "cell_type": "code",
   "execution_count": 18,
   "id": "b031d0b4-d57a-4bb5-b2df-15de5c12b422",
   "metadata": {},
   "outputs": [
    {
     "data": {
      "text/plain": [
       "12"
      ]
     },
     "execution_count": 18,
     "metadata": {},
     "output_type": "execute_result"
    }
   ],
   "source": [
    "test5(4,8)"
   ]
  },
  {
   "cell_type": "code",
   "execution_count": 19,
   "id": "c6902b61-0b0d-4960-84a9-5b679b60f880",
   "metadata": {},
   "outputs": [
    {
     "data": {
      "text/plain": [
       "'Rohit Kumar'"
      ]
     },
     "execution_count": 19,
     "metadata": {},
     "output_type": "execute_result"
    }
   ],
   "source": [
    "test5(\"Rohit\",\" Kumar\")"
   ]
  },
  {
   "cell_type": "code",
   "execution_count": 20,
   "id": "b3ba775d-089b-4d3a-a983-5c8992d3a04e",
   "metadata": {},
   "outputs": [
    {
     "data": {
      "text/plain": [
       "[1, 2, 3, 4, 5, 6, 7, 8, 9]"
      ]
     },
     "execution_count": 20,
     "metadata": {},
     "output_type": "execute_result"
    }
   ],
   "source": [
    "test5([1,2,3,4],[5,6,7,8,9])"
   ]
  },
  {
   "cell_type": "code",
   "execution_count": 21,
   "id": "ffc9d882-fc7e-497f-b2b8-1d1eec463fec",
   "metadata": {},
   "outputs": [],
   "source": [
    "l = [1,2,3,4,5, \"pwskills\", [5,7,8,9,6,4]]"
   ]
  },
  {
   "cell_type": "code",
   "execution_count": 34,
   "id": "a7bf7efe-acb2-4b61-8db2-32497a0efc32",
   "metadata": {},
   "outputs": [],
   "source": [
    "def test6(a):\n",
    "    n = []\n",
    "    for i in a:\n",
    "        if type(i) == int or type(i) == float:\n",
    "            n.append(i)\n",
    "    return n"
   ]
  },
  {
   "cell_type": "code",
   "execution_count": 35,
   "id": "3b63cbc5-f054-4520-aa85-c06255d265c3",
   "metadata": {},
   "outputs": [
    {
     "data": {
      "text/plain": [
       "[1, 2, 3, 4, 5]"
      ]
     },
     "execution_count": 35,
     "metadata": {},
     "output_type": "execute_result"
    }
   ],
   "source": [
    "test6(l)"
   ]
  },
  {
   "cell_type": "code",
   "execution_count": 71,
   "id": "e1436f8d-0a19-4c58-bd9f-d413d35768ed",
   "metadata": {},
   "outputs": [
    {
     "data": {
      "text/plain": [
       "[1, 2, 3, 4, 5, 'pwskills', [5, 7, 8, 9, 6, 4]]"
      ]
     },
     "execution_count": 71,
     "metadata": {},
     "output_type": "execute_result"
    }
   ],
   "source": [
    "l"
   ]
  },
  {
   "cell_type": "code",
   "execution_count": 74,
   "id": "6f076bdb-47e6-4e73-b78e-93c6b9e1abf4",
   "metadata": {},
   "outputs": [],
   "source": [
    "def test7(a):\n",
    "    n = []\n",
    "    for i in a :\n",
    "        if type(i) == list:\n",
    "            for j in i:\n",
    "                if type(j) == int or type(j) == float:\n",
    "                    n.append(j)\n",
    "        else:\n",
    "            if type(i) == int or type(i) == float:\n",
    "                n.append(i)\n",
    "    return n\n",
    "            "
   ]
  },
  {
   "cell_type": "code",
   "execution_count": 75,
   "id": "0bc9250d-49bc-4986-ba41-7f4c19f320ee",
   "metadata": {},
   "outputs": [
    {
     "data": {
      "text/plain": [
       "[1, 2, 3, 4, 5, 5, 7, 8, 9, 6, 4]"
      ]
     },
     "execution_count": 75,
     "metadata": {},
     "output_type": "execute_result"
    }
   ],
   "source": [
    "test7(l)"
   ]
  },
  {
   "cell_type": "markdown",
   "id": "b0a36346-e9c7-4cd0-9db1-319f2279a76d",
   "metadata": {
    "tags": []
   },
   "source": [
    "### How to put multiple arguments in a Function"
   ]
  },
  {
   "cell_type": "code",
   "execution_count": 3,
   "id": "91e65d8c-77a7-4db2-84cd-c32b865dbf44",
   "metadata": {},
   "outputs": [],
   "source": [
    "def t(a,b,c,d):\n",
    "    pass"
   ]
  },
  {
   "cell_type": "code",
   "execution_count": 4,
   "id": "50be5e84-805c-49aa-b272-392725925d77",
   "metadata": {},
   "outputs": [],
   "source": [
    "t(2,4,5,6)"
   ]
  },
  {
   "cell_type": "code",
   "execution_count": 5,
   "id": "9a32030f-2da5-41b5-b0b4-db932eb701af",
   "metadata": {},
   "outputs": [
    {
     "ename": "TypeError",
     "evalue": "t() takes 4 positional arguments but 6 were given",
     "output_type": "error",
     "traceback": [
      "\u001b[0;31m---------------------------------------------------------------------------\u001b[0m",
      "\u001b[0;31mTypeError\u001b[0m                                 Traceback (most recent call last)",
      "Cell \u001b[0;32mIn[5], line 1\u001b[0m\n\u001b[0;32m----> 1\u001b[0m \u001b[43mt\u001b[49m\u001b[43m(\u001b[49m\u001b[38;5;241;43m1\u001b[39;49m\u001b[43m,\u001b[49m\u001b[38;5;241;43m3\u001b[39;49m\u001b[43m,\u001b[49m\u001b[38;5;241;43m5\u001b[39;49m\u001b[43m,\u001b[49m\u001b[38;5;241;43m6\u001b[39;49m\u001b[43m,\u001b[49m\u001b[38;5;241;43m7\u001b[39;49m\u001b[43m,\u001b[49m\u001b[38;5;241;43m9\u001b[39;49m\u001b[43m)\u001b[49m\n",
      "\u001b[0;31mTypeError\u001b[0m: t() takes 4 positional arguments but 6 were given"
     ]
    }
   ],
   "source": [
    "t(1,3,5,6,7,9)"
   ]
  },
  {
   "cell_type": "code",
   "execution_count": 6,
   "id": "e005badc-cb29-45d6-9ded-c23f41746563",
   "metadata": {},
   "outputs": [],
   "source": [
    "def t1(*args):\n",
    "    return args"
   ]
  },
  {
   "cell_type": "code",
   "execution_count": 7,
   "id": "1064c276-a99f-432c-a216-968c23a8d037",
   "metadata": {},
   "outputs": [
    {
     "data": {
      "text/plain": [
       "(5,)"
      ]
     },
     "execution_count": 7,
     "metadata": {},
     "output_type": "execute_result"
    }
   ],
   "source": [
    "t1(5)"
   ]
  },
  {
   "cell_type": "code",
   "execution_count": 8,
   "id": "4076342c-0d3b-4314-8aa1-df4baef64d68",
   "metadata": {},
   "outputs": [
    {
     "data": {
      "text/plain": [
       "(32, 45, 55, 78)"
      ]
     },
     "execution_count": 8,
     "metadata": {},
     "output_type": "execute_result"
    }
   ],
   "source": [
    "t1(32,45,55,78)"
   ]
  },
  {
   "cell_type": "code",
   "execution_count": 9,
   "id": "931ef2dd-e555-4ba0-b2f5-be166fc29380",
   "metadata": {},
   "outputs": [],
   "source": [
    "def t2(*args, a):\n",
    "    return args, a"
   ]
  },
  {
   "cell_type": "code",
   "execution_count": 10,
   "id": "3465944d-effe-4991-8bd7-31f1206ff01a",
   "metadata": {},
   "outputs": [
    {
     "ename": "TypeError",
     "evalue": "t2() missing 1 required keyword-only argument: 'a'",
     "output_type": "error",
     "traceback": [
      "\u001b[0;31m---------------------------------------------------------------------------\u001b[0m",
      "\u001b[0;31mTypeError\u001b[0m                                 Traceback (most recent call last)",
      "Cell \u001b[0;32mIn[10], line 1\u001b[0m\n\u001b[0;32m----> 1\u001b[0m \u001b[43mt2\u001b[49m\u001b[43m(\u001b[49m\u001b[38;5;241;43m1\u001b[39;49m\u001b[43m,\u001b[49m\u001b[38;5;241;43m2\u001b[39;49m\u001b[43m,\u001b[49m\u001b[38;5;241;43m3\u001b[39;49m\u001b[43m)\u001b[49m\n",
      "\u001b[0;31mTypeError\u001b[0m: t2() missing 1 required keyword-only argument: 'a'"
     ]
    }
   ],
   "source": [
    "t2(1,2,3)"
   ]
  },
  {
   "cell_type": "code",
   "execution_count": 11,
   "id": "a9dfca09-5465-4335-b457-17ab52d17c44",
   "metadata": {},
   "outputs": [
    {
     "data": {
      "text/plain": [
       "((2, 3, 6), 'Skills')"
      ]
     },
     "execution_count": 11,
     "metadata": {},
     "output_type": "execute_result"
    }
   ],
   "source": [
    "t2(2,3,6, a= \"Skills\")"
   ]
  },
  {
   "cell_type": "code",
   "execution_count": 13,
   "id": "2c28a09e-c8b0-47c8-97b9-7663039a9a50",
   "metadata": {},
   "outputs": [],
   "source": [
    "def t3(*args):\n",
    "    l = []\n",
    "    for i in args:\n",
    "        if type(i) == list:\n",
    "            l.append(i)\n",
    "            \n",
    "    return l"
   ]
  },
  {
   "cell_type": "code",
   "execution_count": 14,
   "id": "f49defd2-b1df-4d04-8f5a-9a101fb87f3c",
   "metadata": {},
   "outputs": [
    {
     "data": {
      "text/plain": [
       "[[1, 8, 9], [38, 75, 89]]"
      ]
     },
     "execution_count": 14,
     "metadata": {},
     "output_type": "execute_result"
    }
   ],
   "source": [
    "t3(2,3,4,[1,8,9], \"Big Boss\", [38,75,89])"
   ]
  },
  {
   "cell_type": "code",
   "execution_count": 1,
   "id": "40752821-6e82-4e33-b618-51e63a1cdb50",
   "metadata": {},
   "outputs": [],
   "source": [
    "def t4(**kwargs):\n",
    "    return kwargs"
   ]
  },
  {
   "cell_type": "code",
   "execution_count": 2,
   "id": "09522b12-e356-4ecb-b4d3-d446bd34ac94",
   "metadata": {},
   "outputs": [
    {
     "data": {
      "text/plain": [
       "{'a': 3, 'b': 8, 'c': (44, 77), 'd': ('pw', 'skills')}"
      ]
     },
     "execution_count": 2,
     "metadata": {},
     "output_type": "execute_result"
    }
   ],
   "source": [
    "t4(a = 3, b = 8, c = (44,77), d = (\"pw\",\"skills\"))"
   ]
  },
  {
   "cell_type": "code",
   "execution_count": 1,
   "id": "71f4da7d-f202-47d5-a9d1-1d12e6de19f2",
   "metadata": {},
   "outputs": [],
   "source": [
    "def t5(*args, **kwargs):\n",
    "    return args, kwargs"
   ]
  },
  {
   "cell_type": "code",
   "execution_count": 2,
   "id": "d63c19d9-d4d7-4dc7-8c05-0861421e10a7",
   "metadata": {},
   "outputs": [
    {
     "data": {
      "text/plain": [
       "((1, 2, 3, 4, 'skills'), {'a': 98, 'b': 45})"
      ]
     },
     "execution_count": 2,
     "metadata": {},
     "output_type": "execute_result"
    }
   ],
   "source": [
    "t5(1,2,3,4,\"skills\", a = 98, b = 45)"
   ]
  },
  {
   "cell_type": "markdown",
   "id": "cc8aa623-18a8-4b97-8058-bfb0cd3ffa72",
   "metadata": {},
   "source": [
    "## Generator Function"
   ]
  },
  {
   "cell_type": "code",
   "execution_count": 1,
   "id": "bcd8d813-1ffd-43fa-b223-de0172be8ab6",
   "metadata": {},
   "outputs": [
    {
     "data": {
      "text/plain": [
       "range(1, 10)"
      ]
     },
     "execution_count": 1,
     "metadata": {},
     "output_type": "execute_result"
    }
   ],
   "source": [
    "range(1,10)"
   ]
  },
  {
   "cell_type": "code",
   "execution_count": 2,
   "id": "1e1d7d96-40a3-4fd3-9834-9fdf325eb4d6",
   "metadata": {},
   "outputs": [
    {
     "name": "stdout",
     "output_type": "stream",
     "text": [
      "1\n",
      "2\n",
      "3\n",
      "4\n",
      "5\n",
      "6\n",
      "7\n",
      "8\n",
      "9\n"
     ]
    }
   ],
   "source": [
    "for i in range(1,10):\n",
    "    print(i)"
   ]
  },
  {
   "cell_type": "code",
   "execution_count": 3,
   "id": "71efe1e5-25da-4669-8f04-04b2a4612665",
   "metadata": {},
   "outputs": [],
   "source": [
    "l = [1,2,3,3,4,5,5,6,8, \"pw\",\"skills\",\"labs\"]"
   ]
  },
  {
   "cell_type": "code",
   "execution_count": 5,
   "id": "9d2644d7-88c8-4dd1-b048-557b49dc10cd",
   "metadata": {},
   "outputs": [],
   "source": [
    "def test8(a):\n",
    "    n = []\n",
    "    for i in a:\n",
    "        if type(i) == int:\n",
    "            n.append(i)\n",
    "    return n"
   ]
  },
  {
   "cell_type": "code",
   "execution_count": 6,
   "id": "5004e8b5-c36b-46d5-9c2b-a0a0924a8545",
   "metadata": {},
   "outputs": [
    {
     "data": {
      "text/plain": [
       "[1, 2, 3, 3, 4, 5, 5, 6, 8]"
      ]
     },
     "execution_count": 6,
     "metadata": {},
     "output_type": "execute_result"
    }
   ],
   "source": [
    "test8(l)"
   ]
  },
  {
   "cell_type": "code",
   "execution_count": null,
   "id": "cca86614-61e9-414c-8b3c-d34bfca87ad1",
   "metadata": {},
   "outputs": [],
   "source": [
    "Fibonacci :\n",
    "    0,1,1,2,3,5,8,13,21,34,55,98"
   ]
  },
  {
   "cell_type": "code",
   "execution_count": 12,
   "id": "22f40071-522a-4620-97aa-935c185dfdb0",
   "metadata": {},
   "outputs": [],
   "source": [
    "def test_fib(n):\n",
    "    a,b = 0,1\n",
    "    for i in range(n):\n",
    "        yield a\n",
    "        a,b = b, a+b"
   ]
  },
  {
   "cell_type": "code",
   "execution_count": 13,
   "id": "25d19cba-12cd-4e1d-a131-46244f32ea34",
   "metadata": {},
   "outputs": [
    {
     "data": {
      "text/plain": [
       "<generator object test_fib at 0x7f7ab827ab90>"
      ]
     },
     "execution_count": 13,
     "metadata": {},
     "output_type": "execute_result"
    }
   ],
   "source": [
    "test_fib(10)"
   ]
  },
  {
   "cell_type": "code",
   "execution_count": 14,
   "id": "d2ec3282-e144-4a56-877f-1e7f1ffbd657",
   "metadata": {},
   "outputs": [
    {
     "name": "stdout",
     "output_type": "stream",
     "text": [
      "0\n",
      "1\n",
      "1\n",
      "2\n",
      "3\n",
      "5\n",
      "8\n",
      "13\n",
      "21\n",
      "34\n"
     ]
    }
   ],
   "source": [
    "for i in test_fib(10):\n",
    "    print(i)"
   ]
  },
  {
   "cell_type": "markdown",
   "id": "8ea0cd41-029c-4e17-be21-8ebd86e2fb36",
   "metadata": {},
   "source": [
    "## Lambda Functions"
   ]
  },
  {
   "cell_type": "code",
   "execution_count": 15,
   "id": "602d765f-0c16-48f9-a1ea-25009e7c3848",
   "metadata": {},
   "outputs": [],
   "source": [
    "def test(n,p):\n",
    "    return n**p"
   ]
  },
  {
   "cell_type": "code",
   "execution_count": 16,
   "id": "31b54d1a-1409-42e8-bab3-c9443af85748",
   "metadata": {},
   "outputs": [
    {
     "data": {
      "text/plain": [
       "9"
      ]
     },
     "execution_count": 16,
     "metadata": {},
     "output_type": "execute_result"
    }
   ],
   "source": [
    "test(3,2)"
   ]
  },
  {
   "cell_type": "code",
   "execution_count": 19,
   "id": "a70b52ed-e810-4c26-b17f-55634ba60e5a",
   "metadata": {},
   "outputs": [
    {
     "data": {
      "text/plain": [
       "59049"
      ]
     },
     "execution_count": 19,
     "metadata": {},
     "output_type": "execute_result"
    }
   ],
   "source": [
    "test(9,5)"
   ]
  },
  {
   "cell_type": "code",
   "execution_count": 22,
   "id": "6a3ce0ff-326f-4af8-89cb-77d6c5f07bc6",
   "metadata": {},
   "outputs": [],
   "source": [
    "a = lambda n,p: n**p"
   ]
  },
  {
   "cell_type": "code",
   "execution_count": 23,
   "id": "b13984ce-a36c-4d23-ad30-41f624b3b270",
   "metadata": {},
   "outputs": [
    {
     "data": {
      "text/plain": [
       "9"
      ]
     },
     "execution_count": 23,
     "metadata": {},
     "output_type": "execute_result"
    }
   ],
   "source": [
    "a(3,2)"
   ]
  },
  {
   "cell_type": "code",
   "execution_count": 24,
   "id": "be477a70-9d9f-41db-b2cb-bf0467a1d99b",
   "metadata": {},
   "outputs": [
    {
     "data": {
      "text/plain": [
       "59049"
      ]
     },
     "execution_count": 24,
     "metadata": {},
     "output_type": "execute_result"
    }
   ],
   "source": [
    "a(9,5)"
   ]
  },
  {
   "cell_type": "code",
   "execution_count": 25,
   "id": "aa3d5386-bd48-4248-a33d-cd5d1339a565",
   "metadata": {},
   "outputs": [],
   "source": [
    "add = lambda n,p: n+p"
   ]
  },
  {
   "cell_type": "code",
   "execution_count": 27,
   "id": "6b458622-bfc9-49bd-a55d-86809efdf445",
   "metadata": {},
   "outputs": [
    {
     "data": {
      "text/plain": [
       "1665"
      ]
     },
     "execution_count": 27,
     "metadata": {},
     "output_type": "execute_result"
    }
   ],
   "source": [
    "add(876,789)"
   ]
  },
  {
   "cell_type": "code",
   "execution_count": 28,
   "id": "cd5da6df-58ce-456b-b432-be73f79442cf",
   "metadata": {},
   "outputs": [],
   "source": [
    "c_to_f = lambda c : (9/5)*c + 32"
   ]
  },
  {
   "cell_type": "code",
   "execution_count": 29,
   "id": "116072be-24e7-49ec-9038-9c529d45f9c8",
   "metadata": {},
   "outputs": [
    {
     "data": {
      "text/plain": [
       "93.2"
      ]
     },
     "execution_count": 29,
     "metadata": {},
     "output_type": "execute_result"
    }
   ],
   "source": [
    "c_to_f(34)"
   ]
  },
  {
   "cell_type": "code",
   "execution_count": 32,
   "id": "69c4f0c1-4dbf-4a97-ad4a-fa93ac74fba1",
   "metadata": {},
   "outputs": [],
   "source": [
    "max_two = lambda x,y : x if x > y else y"
   ]
  },
  {
   "cell_type": "code",
   "execution_count": 33,
   "id": "f674dbd9-501d-4f78-9fe6-396db71097b7",
   "metadata": {},
   "outputs": [
    {
     "data": {
      "text/plain": [
       "80"
      ]
     },
     "execution_count": 33,
     "metadata": {},
     "output_type": "execute_result"
    }
   ],
   "source": [
    "max(5,80)"
   ]
  },
  {
   "cell_type": "code",
   "execution_count": 34,
   "id": "195d5fbb-ace3-4d63-abac-7cbc788275b2",
   "metadata": {},
   "outputs": [],
   "source": [
    "len_str = lambda s : len(s)"
   ]
  },
  {
   "cell_type": "code",
   "execution_count": 35,
   "id": "802a32a3-0c03-459b-b671-352da605e654",
   "metadata": {},
   "outputs": [
    {
     "data": {
      "text/plain": [
       "8"
      ]
     },
     "execution_count": 35,
     "metadata": {},
     "output_type": "execute_result"
    }
   ],
   "source": [
    "len_str(\"pwskills\")"
   ]
  },
  {
   "cell_type": "markdown",
   "id": "164b8979-e2e5-41fe-89a9-1778c933f84c",
   "metadata": {},
   "source": [
    "## Map Function"
   ]
  },
  {
   "cell_type": "code",
   "execution_count": 1,
   "id": "bf0c3e12-5d94-47c2-934e-5ca2f9c5c963",
   "metadata": {},
   "outputs": [],
   "source": [
    "l = [1,2,3,4,5,6]"
   ]
  },
  {
   "cell_type": "code",
   "execution_count": 2,
   "id": "775b0fe8-2004-4340-9456-0a69db9edeb3",
   "metadata": {},
   "outputs": [],
   "source": [
    "def test(a):\n",
    "    s = []\n",
    "    for i in a:\n",
    "        s.append(i**2)\n",
    "    return s"
   ]
  },
  {
   "cell_type": "code",
   "execution_count": 3,
   "id": "80a0671d-d818-4542-8f17-c166b89ee383",
   "metadata": {},
   "outputs": [
    {
     "data": {
      "text/plain": [
       "[1, 4, 9, 16, 25, 36]"
      ]
     },
     "execution_count": 3,
     "metadata": {},
     "output_type": "execute_result"
    }
   ],
   "source": [
    "test(l)"
   ]
  },
  {
   "cell_type": "code",
   "execution_count": 4,
   "id": "aedf8b0c-faf9-4e8a-abbe-9780e0d9f0d0",
   "metadata": {},
   "outputs": [],
   "source": [
    "def sq(x):\n",
    "    return x**2"
   ]
  },
  {
   "cell_type": "code",
   "execution_count": 7,
   "id": "8b26ec5b-456f-4c7e-a65b-a19bae768f0f",
   "metadata": {},
   "outputs": [
    {
     "data": {
      "text/plain": [
       "[1, 4, 9, 16, 25, 36]"
      ]
     },
     "execution_count": 7,
     "metadata": {},
     "output_type": "execute_result"
    }
   ],
   "source": [
    "list(map(sq,l))"
   ]
  },
  {
   "cell_type": "code",
   "execution_count": 9,
   "id": "5a7682ce-9807-45b3-8458-34160de71fce",
   "metadata": {},
   "outputs": [
    {
     "data": {
      "text/plain": [
       "[1, 4, 9, 16, 25, 36]"
      ]
     },
     "execution_count": 9,
     "metadata": {},
     "output_type": "execute_result"
    }
   ],
   "source": [
    "list(map(lambda x : x**2, l))"
   ]
  },
  {
   "cell_type": "code",
   "execution_count": 10,
   "id": "31827061-6ca5-4a06-9aaa-e0afb5d467c0",
   "metadata": {},
   "outputs": [
    {
     "data": {
      "text/plain": [
       "[11, 12, 13, 14, 15, 16]"
      ]
     },
     "execution_count": 10,
     "metadata": {},
     "output_type": "execute_result"
    }
   ],
   "source": [
    "list(map(lambda x : x+10, l))"
   ]
  },
  {
   "cell_type": "code",
   "execution_count": 11,
   "id": "49732a90-918a-4a16-94f0-70848403e8da",
   "metadata": {},
   "outputs": [
    {
     "data": {
      "text/plain": [
       "['1', '2', '3', '4', '5', '6']"
      ]
     },
     "execution_count": 11,
     "metadata": {},
     "output_type": "execute_result"
    }
   ],
   "source": [
    "list(map(lambda x : str(x), l))"
   ]
  },
  {
   "cell_type": "code",
   "execution_count": 12,
   "id": "9b64a95b-06ea-49bd-8aff-25a96a50a5f3",
   "metadata": {},
   "outputs": [],
   "source": [
    "l1 = [1,2,3,4,5]\n",
    "l2 = [6,7,8,9,4]"
   ]
  },
  {
   "cell_type": "code",
   "execution_count": 16,
   "id": "b6b1db76-4b3e-4d30-a0f1-055507175a4f",
   "metadata": {},
   "outputs": [
    {
     "data": {
      "text/plain": [
       "[7, 9, 11, 13, 9]"
      ]
     },
     "execution_count": 16,
     "metadata": {},
     "output_type": "execute_result"
    }
   ],
   "source": [
    "list(map(lambda x,y : x+y, l1,l2))"
   ]
  },
  {
   "cell_type": "markdown",
   "id": "99bd4536-4789-4d57-a978-d7eb49939025",
   "metadata": {},
   "source": [
    "## Reduce function"
   ]
  },
  {
   "cell_type": "code",
   "execution_count": 17,
   "id": "214100e2-daf1-402d-acc2-2a69210519f4",
   "metadata": {},
   "outputs": [],
   "source": [
    "from functools import reduce"
   ]
  },
  {
   "cell_type": "code",
   "execution_count": 18,
   "id": "0dc4e9d3-122f-4c28-a7c1-1d0118fcb3ca",
   "metadata": {},
   "outputs": [],
   "source": [
    "l = [1,2,3,4,5,6]"
   ]
  },
  {
   "cell_type": "code",
   "execution_count": 19,
   "id": "8caf5de5-0fbb-41b7-9469-2922eac8f239",
   "metadata": {},
   "outputs": [
    {
     "data": {
      "text/plain": [
       "21"
      ]
     },
     "execution_count": 19,
     "metadata": {},
     "output_type": "execute_result"
    }
   ],
   "source": [
    "reduce (lambda x,y : x+y, l)"
   ]
  },
  {
   "cell_type": "code",
   "execution_count": 20,
   "id": "c5a6eeb8-a4ab-43f5-b601-76a58c3ee0f7",
   "metadata": {},
   "outputs": [],
   "source": [
    "def add(x,y):\n",
    "    return x+y"
   ]
  },
  {
   "cell_type": "code",
   "execution_count": 21,
   "id": "70282c75-f0cc-4788-b1c1-b66353ba2a59",
   "metadata": {},
   "outputs": [
    {
     "data": {
      "text/plain": [
       "21"
      ]
     },
     "execution_count": 21,
     "metadata": {},
     "output_type": "execute_result"
    }
   ],
   "source": [
    "reduce (add, l)"
   ]
  },
  {
   "cell_type": "code",
   "execution_count": 22,
   "id": "d8ee424f-5601-4eab-a0e4-68d031a12c8f",
   "metadata": {},
   "outputs": [
    {
     "data": {
      "text/plain": [
       "[1, 2, 3, 4, 5, 6]"
      ]
     },
     "execution_count": 22,
     "metadata": {},
     "output_type": "execute_result"
    }
   ],
   "source": [
    "l"
   ]
  },
  {
   "cell_type": "code",
   "execution_count": 24,
   "id": "75e1d26b-6c0e-4671-be7f-2c47637f58ce",
   "metadata": {},
   "outputs": [
    {
     "data": {
      "text/plain": [
       "6"
      ]
     },
     "execution_count": 24,
     "metadata": {},
     "output_type": "execute_result"
    }
   ],
   "source": [
    "reduce(lambda x,y : x if x > y else y, l)"
   ]
  },
  {
   "cell_type": "markdown",
   "id": "f3cd8ea6-f44a-4203-aaf1-b4d9bcce170d",
   "metadata": {},
   "source": [
    "## Filter function"
   ]
  },
  {
   "cell_type": "code",
   "execution_count": 25,
   "id": "d4d3b95a-d901-4542-9ba5-9264546249cb",
   "metadata": {},
   "outputs": [
    {
     "data": {
      "text/plain": [
       "[1, 2, 3, 4, 5, 6]"
      ]
     },
     "execution_count": 25,
     "metadata": {},
     "output_type": "execute_result"
    }
   ],
   "source": [
    "l"
   ]
  },
  {
   "cell_type": "code",
   "execution_count": 26,
   "id": "1da3227d-25af-42da-a581-3f7248a8f783",
   "metadata": {},
   "outputs": [
    {
     "data": {
      "text/plain": [
       "[2, 4, 6]"
      ]
     },
     "execution_count": 26,
     "metadata": {},
     "output_type": "execute_result"
    }
   ],
   "source": [
    "list(filter(lambda x : x%2 == 0, l))"
   ]
  },
  {
   "cell_type": "code",
   "execution_count": 27,
   "id": "7d87da8f-387c-443d-b0a8-933db39de55d",
   "metadata": {},
   "outputs": [
    {
     "data": {
      "text/plain": [
       "[1, 3, 5]"
      ]
     },
     "execution_count": 27,
     "metadata": {},
     "output_type": "execute_result"
    }
   ],
   "source": [
    "list(filter(lambda x : x%2 != 0, l))"
   ]
  },
  {
   "cell_type": "code",
   "execution_count": 28,
   "id": "f90cf3eb-0b37-484a-b609-5bd31f45785f",
   "metadata": {},
   "outputs": [],
   "source": [
    "l1 = [-2, -4, -5, 8, 9, 9, -6, 3, -9]"
   ]
  },
  {
   "cell_type": "code",
   "execution_count": 29,
   "id": "52d88812-6e6f-41a0-863f-91364dcbfdbb",
   "metadata": {},
   "outputs": [
    {
     "data": {
      "text/plain": [
       "[-2, -4, -5, -6, -9]"
      ]
     },
     "execution_count": 29,
     "metadata": {},
     "output_type": "execute_result"
    }
   ],
   "source": [
    "list(filter(lambda x : x < 0, l1 ))"
   ]
  },
  {
   "cell_type": "code",
   "execution_count": 30,
   "id": "833f8cac-b922-4367-a02e-88b10414de3a",
   "metadata": {},
   "outputs": [
    {
     "data": {
      "text/plain": [
       "[8, 9, 9, 3]"
      ]
     },
     "execution_count": 30,
     "metadata": {},
     "output_type": "execute_result"
    }
   ],
   "source": [
    "list(filter(lambda x : x >= 0, l1))"
   ]
  },
  {
   "cell_type": "code",
   "execution_count": 31,
   "id": "f659888d-b507-4b16-a788-9b41c783a363",
   "metadata": {},
   "outputs": [],
   "source": [
    "l2 = [\"Big\", \"Boss\", \"PWskills\", \"Data\", \"Science\"]"
   ]
  },
  {
   "cell_type": "code",
   "execution_count": 32,
   "id": "8e4d07d3-a374-4323-83cc-17207c32af50",
   "metadata": {},
   "outputs": [
    {
     "data": {
      "text/plain": [
       "['Big', 'Boss', 'Data']"
      ]
     },
     "execution_count": 32,
     "metadata": {},
     "output_type": "execute_result"
    }
   ],
   "source": [
    "list(filter(lambda x : len(x) < 5, l2))"
   ]
  },
  {
   "cell_type": "code",
   "execution_count": null,
   "id": "77bde0c8-71d6-45c3-8d85-ee7147679a17",
   "metadata": {},
   "outputs": [],
   "source": []
  },
  {
   "cell_type": "code",
   "execution_count": null,
   "id": "016464a3-467f-400b-812f-4ccfb522a0be",
   "metadata": {},
   "outputs": [],
   "source": []
  },
  {
   "cell_type": "code",
   "execution_count": null,
   "id": "1d011688-55b2-4d6b-9c2b-46119d979ccb",
   "metadata": {},
   "outputs": [],
   "source": []
  },
  {
   "cell_type": "code",
   "execution_count": null,
   "id": "edf7b7f3-cf5d-4aec-acf9-d8af971c37ad",
   "metadata": {},
   "outputs": [],
   "source": []
  },
  {
   "cell_type": "code",
   "execution_count": null,
   "id": "d19fb758-168a-46a7-b3b9-0adf066dd8f2",
   "metadata": {},
   "outputs": [],
   "source": []
  },
  {
   "cell_type": "code",
   "execution_count": null,
   "id": "4c0440ba-06df-4d62-bc7e-6aa9fb3eaca8",
   "metadata": {},
   "outputs": [],
   "source": []
  }
 ],
 "metadata": {
  "kernelspec": {
   "display_name": "Python 3 (ipykernel)",
   "language": "python",
   "name": "python3"
  },
  "language_info": {
   "codemirror_mode": {
    "name": "ipython",
    "version": 3
   },
   "file_extension": ".py",
   "mimetype": "text/x-python",
   "name": "python",
   "nbconvert_exporter": "python",
   "pygments_lexer": "ipython3",
   "version": "3.10.8"
  }
 },
 "nbformat": 4,
 "nbformat_minor": 5
}
