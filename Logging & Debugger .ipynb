{
 "cells": [
  {
   "cell_type": "code",
   "execution_count": 11,
   "id": "21c33558-54bd-4eec-a215-845043967cc2",
   "metadata": {},
   "outputs": [],
   "source": [
    "import logging"
   ]
  },
  {
   "cell_type": "code",
   "execution_count": 2,
   "id": "9cc5d5d2-22fb-4d87-bb1f-88a705430e97",
   "metadata": {},
   "outputs": [],
   "source": [
    "logging.basicConfig(filename = \"test.log\" , level = logging.INFO)"
   ]
  },
  {
   "cell_type": "code",
   "execution_count": 3,
   "id": "c015dc30-c675-4723-a9a8-c354d080ab58",
   "metadata": {},
   "outputs": [],
   "source": [
    "logging.info(\"this is my first line of code\")"
   ]
  },
  {
   "cell_type": "code",
   "execution_count": 4,
   "id": "29703339-4ea6-4b33-b530-40b0dddf8dca",
   "metadata": {},
   "outputs": [],
   "source": [
    "logging.error(\"this is my error message\")"
   ]
  },
  {
   "cell_type": "code",
   "execution_count": 5,
   "id": "555a89a4-5273-4835-bd0b-73fe226763dd",
   "metadata": {},
   "outputs": [],
   "source": [
    "logging.critical(\"this is my critical line of code\")"
   ]
  },
  {
   "cell_type": "code",
   "execution_count": 6,
   "id": "e73aab2f-9661-4902-b532-12b8d2ac4635",
   "metadata": {},
   "outputs": [],
   "source": [
    "logging.warning(\"this is my warning message\")"
   ]
  },
  {
   "cell_type": "code",
   "execution_count": null,
   "id": "be634225-2a31-403e-8207-6bb8f0304dab",
   "metadata": {},
   "outputs": [],
   "source": [
    "1. NOSET\n",
    "2. DEBUG\n",
    "3. INFO\n",
    "4. WARNING\n",
    "5. ERROR\n",
    "6. CRITICAL"
   ]
  },
  {
   "cell_type": "code",
   "execution_count": 7,
   "id": "a40f080f-3772-47ac-ac0a-c4410ac9a490",
   "metadata": {},
   "outputs": [],
   "source": [
    "logging.debug(\"this is my debug log\")"
   ]
  },
  {
   "cell_type": "code",
   "execution_count": 8,
   "id": "98da8494-0412-4873-9b37-66fa62a9f39d",
   "metadata": {},
   "outputs": [
    {
     "ename": "AttributeError",
     "evalue": "module 'logging' has no attribute 'noset'",
     "output_type": "error",
     "traceback": [
      "\u001b[0;31m---------------------------------------------------------------------------\u001b[0m",
      "\u001b[0;31mAttributeError\u001b[0m                            Traceback (most recent call last)",
      "Cell \u001b[0;32mIn[8], line 1\u001b[0m\n\u001b[0;32m----> 1\u001b[0m \u001b[43mlogging\u001b[49m\u001b[38;5;241;43m.\u001b[39;49m\u001b[43mnoset\u001b[49m(\u001b[38;5;124m\"\u001b[39m\u001b[38;5;124mthis is my noset log\u001b[39m\u001b[38;5;124m\"\u001b[39m)\n",
      "\u001b[0;31mAttributeError\u001b[0m: module 'logging' has no attribute 'noset'"
     ]
    }
   ],
   "source": [
    "logging.noset(\"this is my noset log\")"
   ]
  },
  {
   "cell_type": "code",
   "execution_count": 10,
   "id": "a80010e9-5e48-4291-b706-8c297428b4b1",
   "metadata": {},
   "outputs": [],
   "source": [
    "logging.shutdown()"
   ]
  },
  {
   "cell_type": "code",
   "execution_count": 2,
   "id": "588aec3f-2124-4b48-b068-e076801afb04",
   "metadata": {},
   "outputs": [],
   "source": [
    "logging.basicConfig(filename = \"test1.log\" , level = logging.DEBUG , format = '%(asctime)s %(message)s')"
   ]
  },
  {
   "cell_type": "code",
   "execution_count": 3,
   "id": "8cde1f05-b84b-4258-bb2c-ef62a8996df5",
   "metadata": {},
   "outputs": [],
   "source": [
    "logging.debug(\"this is my debug log\")"
   ]
  },
  {
   "cell_type": "code",
   "execution_count": 4,
   "id": "9a8d3e9b-33b6-4a8e-b371-8c9fdebcbfa7",
   "metadata": {},
   "outputs": [],
   "source": [
    "logging.info(\"this is my info log\")"
   ]
  },
  {
   "cell_type": "code",
   "execution_count": 5,
   "id": "da8bf33f-3a9c-4531-bf0a-ef7201943a49",
   "metadata": {},
   "outputs": [],
   "source": [
    "logging.error(\"this is my error log\")"
   ]
  },
  {
   "cell_type": "code",
   "execution_count": 6,
   "id": "0da948c6-4fb4-45de-b331-22a2abf73ada",
   "metadata": {},
   "outputs": [],
   "source": [
    "logging.shutdown()"
   ]
  },
  {
   "cell_type": "code",
   "execution_count": 12,
   "id": "e0f30b9d-5d60-402e-b905-e1395a368b73",
   "metadata": {},
   "outputs": [],
   "source": [
    "logging.basicConfig(filename = \"test2.log\" , level = logging.DEBUG , format = '%(asctime)s %(name)s %(levelname)s %(message)s' )"
   ]
  },
  {
   "cell_type": "code",
   "execution_count": 13,
   "id": "4d9d9baa-93c2-418a-9f85-4a7cecb32928",
   "metadata": {},
   "outputs": [],
   "source": [
    "logging.info(\"this is my info log\")"
   ]
  },
  {
   "cell_type": "code",
   "execution_count": 14,
   "id": "54bc6df8-e4be-47a9-86e5-ec96c680442c",
   "metadata": {},
   "outputs": [],
   "source": [
    "l = [1,2,3,3,4,[5,6,7,8,9], \"rohit\" , \"mayank\"]"
   ]
  },
  {
   "cell_type": "code",
   "execution_count": 25,
   "id": "96e9e396-2647-40cc-a1b2-2c1ac110eb86",
   "metadata": {},
   "outputs": [],
   "source": [
    "l1_int = []\n",
    "l2_str = []\n",
    "\n",
    "for i in l:\n",
    "    logging.info(\"this is the start of my for loop {}\".format(l))\n",
    "    logging.info(\"the value of i which I am looging = {}\".format(i))\n",
    "    if type(i) == int:\n",
    "        l1_int.append(i)\n",
    "    elif type(i) == list:\n",
    "        for j in i:\n",
    "            logging.info(\"logging the value of j {j} from my i {i}\".format(i = i, j = j))\n",
    "            if type(j) == int:\n",
    "                l1_int.append(j)\n",
    "    else :\n",
    "        if type(i) == str:\n",
    "            l2_str.append(i)\n",
    "logging.info(\"this is my final result with all int {l1} and str {l2}\")"
   ]
  },
  {
   "cell_type": "code",
   "execution_count": 26,
   "id": "e9f834ab-6ae4-497f-8b35-05228a7f8055",
   "metadata": {},
   "outputs": [
    {
     "data": {
      "text/plain": [
       "[1, 2, 3, 3, 4, 5, 6, 7, 8, 9]"
      ]
     },
     "execution_count": 26,
     "metadata": {},
     "output_type": "execute_result"
    }
   ],
   "source": [
    "l1_int"
   ]
  },
  {
   "cell_type": "code",
   "execution_count": 27,
   "id": "e096af19-35e0-407a-92a3-0d06794aff04",
   "metadata": {},
   "outputs": [
    {
     "data": {
      "text/plain": [
       "['rohit', 'mayank']"
      ]
     },
     "execution_count": 27,
     "metadata": {},
     "output_type": "execute_result"
    }
   ],
   "source": [
    "l2_str"
   ]
  },
  {
   "cell_type": "code",
   "execution_count": null,
   "id": "76c3bed9-80da-42e2-aa50-06195062f193",
   "metadata": {},
   "outputs": [],
   "source": []
  },
  {
   "cell_type": "code",
   "execution_count": null,
   "id": "f4f69bac-76fc-4b6d-83d1-c05b00a7f694",
   "metadata": {},
   "outputs": [],
   "source": []
  },
  {
   "cell_type": "code",
   "execution_count": null,
   "id": "425ec544-5fd4-44ab-be92-cdbdebad1e00",
   "metadata": {},
   "outputs": [],
   "source": []
  },
  {
   "cell_type": "code",
   "execution_count": null,
   "id": "09ca8030-9cc4-40f5-880c-a61622d476c1",
   "metadata": {},
   "outputs": [],
   "source": []
  },
  {
   "cell_type": "code",
   "execution_count": null,
   "id": "fe3573be-a3dc-4312-8289-13f577c179f6",
   "metadata": {},
   "outputs": [],
   "source": []
  },
  {
   "cell_type": "code",
   "execution_count": null,
   "id": "978b9370-8aad-4226-8c95-9eaaca746337",
   "metadata": {},
   "outputs": [],
   "source": []
  }
 ],
 "metadata": {
  "kernelspec": {
   "display_name": "Python 3 (ipykernel)",
   "language": "python",
   "name": "python3"
  },
  "language_info": {
   "codemirror_mode": {
    "name": "ipython",
    "version": 3
   },
   "file_extension": ".py",
   "mimetype": "text/x-python",
   "name": "python",
   "nbconvert_exporter": "python",
   "pygments_lexer": "ipython3",
   "version": "3.10.8"
  }
 },
 "nbformat": 4,
 "nbformat_minor": 5
}
