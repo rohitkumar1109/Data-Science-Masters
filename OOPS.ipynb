{
 "cells": [
  {
   "cell_type": "code",
   "execution_count": 1,
   "id": "a19ae5a7-f28f-4f23-8fb4-f615a69296f2",
   "metadata": {},
   "outputs": [],
   "source": [
    "a = \"Rohit\""
   ]
  },
  {
   "cell_type": "code",
   "execution_count": 2,
   "id": "805459f5-b3e1-40d5-afd0-9a1c82f614df",
   "metadata": {},
   "outputs": [
    {
     "data": {
      "text/plain": [
       "str"
      ]
     },
     "execution_count": 2,
     "metadata": {},
     "output_type": "execute_result"
    }
   ],
   "source": [
    "type(a)"
   ]
  },
  {
   "cell_type": "code",
   "execution_count": 3,
   "id": "dcafb80a-7560-469d-8736-3de8ff1c5eaf",
   "metadata": {},
   "outputs": [
    {
     "name": "stdout",
     "output_type": "stream",
     "text": [
      "<class 'str'>\n"
     ]
    }
   ],
   "source": [
    "print(type(a))"
   ]
  },
  {
   "cell_type": "code",
   "execution_count": 4,
   "id": "9a375317-78a3-4221-b050-afdc1ac81286",
   "metadata": {},
   "outputs": [],
   "source": [
    "class test:\n",
    "    pass"
   ]
  },
  {
   "cell_type": "code",
   "execution_count": 6,
   "id": "4c9e7e64-55f9-4458-bbec-78e7034a692b",
   "metadata": {},
   "outputs": [],
   "source": [
    "a = test()"
   ]
  },
  {
   "cell_type": "code",
   "execution_count": 7,
   "id": "08cebaea-6e15-4061-a8dd-5860877d1f16",
   "metadata": {},
   "outputs": [
    {
     "name": "stdout",
     "output_type": "stream",
     "text": [
      "<class '__main__.test'>\n"
     ]
    }
   ],
   "source": [
    "print(type(a))"
   ]
  },
  {
   "cell_type": "code",
   "execution_count": 11,
   "id": "0fcbe9f9-352e-41e1-8cfa-bddca50a1057",
   "metadata": {},
   "outputs": [],
   "source": [
    "class pwskills:\n",
    "    \n",
    "    def welcome_msg(student):\n",
    "        print(\"welcome to pwskills\")"
   ]
  },
  {
   "cell_type": "code",
   "execution_count": 12,
   "id": "0f9c881f-b849-4626-bfe2-58704400f276",
   "metadata": {},
   "outputs": [],
   "source": [
    "Samiksha = pwskills()"
   ]
  },
  {
   "cell_type": "code",
   "execution_count": 13,
   "id": "23f4f356-96e8-43c8-a051-25dcc6c51ce3",
   "metadata": {},
   "outputs": [
    {
     "name": "stdout",
     "output_type": "stream",
     "text": [
      "welcome to pwskills\n"
     ]
    }
   ],
   "source": [
    "Samiksha.welcome_msg()"
   ]
  },
  {
   "cell_type": "code",
   "execution_count": 14,
   "id": "25122236-c887-47bd-b200-ea2d4b06ad65",
   "metadata": {},
   "outputs": [],
   "source": [
    "Amit = pwskills()"
   ]
  },
  {
   "cell_type": "code",
   "execution_count": 15,
   "id": "ed296833-a2f2-47ae-bc7e-dd25faa981ad",
   "metadata": {},
   "outputs": [
    {
     "name": "stdout",
     "output_type": "stream",
     "text": [
      "welcome to pwskills\n"
     ]
    }
   ],
   "source": [
    "Amit.welcome_msg()"
   ]
  },
  {
   "cell_type": "code",
   "execution_count": 30,
   "id": "8df1616e-a5c4-4050-8182-6855ef2ed5d4",
   "metadata": {},
   "outputs": [],
   "source": [
    "class pwskills1:\n",
    "    \n",
    "    def __init__(self, phone_number, email_id, student_id):\n",
    "        \n",
    "        self.phone_number = phone_number\n",
    "        self.email_id = email_id\n",
    "        self.student_id = student_id\n",
    "        \n",
    "    def return_student_details(self):\n",
    "        return self.phone_number, self.email_id, self.student_id"
   ]
  },
  {
   "cell_type": "code",
   "execution_count": 31,
   "id": "f1efbb1b-0af5-4a9f-9ace-456862a54039",
   "metadata": {},
   "outputs": [],
   "source": [
    "rohan = pwskills1(9989876787, \"rohan@gmail.com\", 1)"
   ]
  },
  {
   "cell_type": "code",
   "execution_count": 32,
   "id": "b32fe161-e7c8-4c13-9787-65d10b291f5d",
   "metadata": {},
   "outputs": [
    {
     "data": {
      "text/plain": [
       "(9989876787, 'rohan@gmail.com', 1)"
      ]
     },
     "execution_count": 32,
     "metadata": {},
     "output_type": "execute_result"
    }
   ],
   "source": [
    "rohan.return_student_details()"
   ]
  },
  {
   "cell_type": "code",
   "execution_count": 35,
   "id": "501965a5-f59b-488d-81ce-1ce61372b30c",
   "metadata": {},
   "outputs": [
    {
     "data": {
      "text/plain": [
       "9989876787"
      ]
     },
     "execution_count": 35,
     "metadata": {},
     "output_type": "execute_result"
    }
   ],
   "source": [
    "rohan.phone_number"
   ]
  },
  {
   "cell_type": "code",
   "execution_count": 37,
   "id": "8422790f-5b06-4c9e-baaa-b5a84aee550a",
   "metadata": {},
   "outputs": [
    {
     "data": {
      "text/plain": [
       "'rohan@gmail.com'"
      ]
     },
     "execution_count": 37,
     "metadata": {},
     "output_type": "execute_result"
    }
   ],
   "source": [
    "rohan.email_id"
   ]
  },
  {
   "cell_type": "code",
   "execution_count": 38,
   "id": "a49f7a95-b02c-45b9-89bf-0106eeb03125",
   "metadata": {},
   "outputs": [
    {
     "data": {
      "text/plain": [
       "1"
      ]
     },
     "execution_count": 38,
     "metadata": {},
     "output_type": "execute_result"
    }
   ],
   "source": [
    "rohan.student_id"
   ]
  },
  {
   "cell_type": "code",
   "execution_count": 6,
   "id": "d41dfaff-885a-4dcc-8650-1ca52d4f2973",
   "metadata": {},
   "outputs": [],
   "source": [
    "class pwskills2:\n",
    "    \n",
    "    def __init__(any, phone_number, email_id, student_id):\n",
    "        \n",
    "        any.phone_number1 = phone_number\n",
    "        any.email_id = email_id\n",
    "        any.student_id = student_id\n",
    "        \n",
    "    def return_student_details(any):\n",
    "        return any.phone_number1, any.email_id, any.student_id"
   ]
  },
  {
   "cell_type": "code",
   "execution_count": 7,
   "id": "14bfd87b-78d7-4e09-b3e6-5b048ba66242",
   "metadata": {},
   "outputs": [],
   "source": [
    "sohan = pwskills2(8987876787, \"sohan@gmail.com\", 2)"
   ]
  },
  {
   "cell_type": "code",
   "execution_count": 8,
   "id": "2e74df3e-1888-49c9-a849-a344f9c68c8d",
   "metadata": {},
   "outputs": [
    {
     "data": {
      "text/plain": [
       "8987876787"
      ]
     },
     "execution_count": 8,
     "metadata": {},
     "output_type": "execute_result"
    }
   ],
   "source": [
    "sohan.phone_number1"
   ]
  },
  {
   "cell_type": "code",
   "execution_count": 9,
   "id": "e850a577-9271-4e3b-83fb-2e7533a7b9d1",
   "metadata": {},
   "outputs": [
    {
     "data": {
      "text/plain": [
       "(8987876787, 'sohan@gmail.com', 2)"
      ]
     },
     "execution_count": 9,
     "metadata": {},
     "output_type": "execute_result"
    }
   ],
   "source": [
    "sohan.return_student_details()"
   ]
  },
  {
   "cell_type": "code",
   "execution_count": null,
   "id": "52397c5d-ca3b-46f7-a123-8b7ffad609a1",
   "metadata": {},
   "outputs": [],
   "source": []
  },
  {
   "cell_type": "code",
   "execution_count": 5,
   "id": "8a9c6e54-7955-43b8-b7f2-3cc6046b0510",
   "metadata": {},
   "outputs": [],
   "source": [
    "## Polymorphism\n",
    "\n",
    "class data_science:\n",
    "    def syllabus(self):\n",
    "        print(\"this is my method for data science\")"
   ]
  },
  {
   "cell_type": "code",
   "execution_count": 6,
   "id": "83b30cc3-8c95-4d22-b499-d16efce18755",
   "metadata": {},
   "outputs": [],
   "source": [
    "class web_dev:\n",
    "    def syllabus(self):\n",
    "        print(\"this is my method for web dev\")"
   ]
  },
  {
   "cell_type": "code",
   "execution_count": 7,
   "id": "3f4e566f-9bcf-42e0-88de-1283f7988dce",
   "metadata": {},
   "outputs": [],
   "source": [
    "def class_parcer(class_object):\n",
    "    for i in class_object:\n",
    "        i.syllabus()"
   ]
  },
  {
   "cell_type": "code",
   "execution_count": 8,
   "id": "eaa69473-a3c0-4edb-bc8e-de981752ab0e",
   "metadata": {},
   "outputs": [],
   "source": [
    "obj_data_science = data_science()"
   ]
  },
  {
   "cell_type": "code",
   "execution_count": 9,
   "id": "f85eaeef-c15d-4a97-8fb8-3975a5deb92a",
   "metadata": {},
   "outputs": [],
   "source": [
    "obj_web_dev = web_dev()"
   ]
  },
  {
   "cell_type": "code",
   "execution_count": 10,
   "id": "f4d9cf1f-999a-4fd9-8862-664c1be71dc0",
   "metadata": {},
   "outputs": [],
   "source": [
    "class_obj = [obj_data_science , obj_web_dev]"
   ]
  },
  {
   "cell_type": "code",
   "execution_count": 11,
   "id": "f86793c4-c0cb-4281-9a66-2c309dd0f318",
   "metadata": {},
   "outputs": [
    {
     "name": "stdout",
     "output_type": "stream",
     "text": [
      "this is my method for data science\n",
      "this is my method for web dev\n"
     ]
    }
   ],
   "source": [
    "class_parcer(class_obj)"
   ]
  },
  {
   "cell_type": "code",
   "execution_count": 72,
   "id": "e4780917-b6ba-4286-9b41-eead616cdad6",
   "metadata": {},
   "outputs": [],
   "source": [
    "class car:\n",
    "    \n",
    "    def __init__(self, year, make, model, speed):\n",
    "        \n",
    "        self.__year = year\n",
    "        self.__make = make\n",
    "        self.__model = model\n",
    "        self.__speed = 0\n",
    "    \n",
    "    def set_speed(self, speed):\n",
    "        self.__speed = 0 if speed < 0 else speed\n",
    "        \n",
    "    def get_speed(self):\n",
    "        return self.__speed"
   ]
  },
  {
   "cell_type": "code",
   "execution_count": 75,
   "id": "8dcdbd49-a338-4743-b4bb-0d63d8497550",
   "metadata": {},
   "outputs": [
    {
     "data": {
      "text/plain": [
       "102"
      ]
     },
     "execution_count": 75,
     "metadata": {},
     "output_type": "execute_result"
    }
   ],
   "source": [
    "obj_car.get_speed()"
   ]
  },
  {
   "cell_type": "code",
   "execution_count": 68,
   "id": "223808d5-29c3-4dd3-a473-9d70e8b6d0a0",
   "metadata": {},
   "outputs": [],
   "source": [
    "obj_car = car(2021, \"tata\", \"nexon\", 102)"
   ]
  },
  {
   "cell_type": "code",
   "execution_count": 53,
   "id": "728fe0a4-0002-4260-981e-a0d7d5c676cd",
   "metadata": {},
   "outputs": [
    {
     "data": {
      "text/plain": [
       "'tata'"
      ]
     },
     "execution_count": 53,
     "metadata": {},
     "output_type": "execute_result"
    }
   ],
   "source": [
    "obj_car._car__make"
   ]
  },
  {
   "cell_type": "code",
   "execution_count": 54,
   "id": "599033cc-237d-42ef-a449-95d8a753f7d4",
   "metadata": {},
   "outputs": [],
   "source": [
    "obj_car._car__make = \"skoda\""
   ]
  },
  {
   "cell_type": "code",
   "execution_count": 55,
   "id": "e33800af-9eaf-47d4-bceb-1bbacf08a9a2",
   "metadata": {},
   "outputs": [
    {
     "data": {
      "text/plain": [
       "'skoda'"
      ]
     },
     "execution_count": 55,
     "metadata": {},
     "output_type": "execute_result"
    }
   ],
   "source": [
    "obj_car._car__make"
   ]
  },
  {
   "cell_type": "code",
   "execution_count": 56,
   "id": "555ce17e-3761-4b9c-a4bd-193982bc5002",
   "metadata": {},
   "outputs": [],
   "source": [
    "obj_car.set_speed(-200)"
   ]
  },
  {
   "cell_type": "code",
   "execution_count": 57,
   "id": "25421eac-b4d4-4b4b-bceb-918e0f0d4286",
   "metadata": {},
   "outputs": [
    {
     "data": {
      "text/plain": [
       "0"
      ]
     },
     "execution_count": 57,
     "metadata": {},
     "output_type": "execute_result"
    }
   ],
   "source": [
    "obj_car._car__speed"
   ]
  },
  {
   "cell_type": "code",
   "execution_count": 58,
   "id": "100c38ab-f891-49a0-9a33-a2612cdb908d",
   "metadata": {},
   "outputs": [],
   "source": [
    "obj_car.set_speed(350)"
   ]
  },
  {
   "cell_type": "code",
   "execution_count": 59,
   "id": "cee919f3-3f4f-4cfe-861b-9ff5590ce4e9",
   "metadata": {},
   "outputs": [
    {
     "data": {
      "text/plain": [
       "350"
      ]
     },
     "execution_count": 59,
     "metadata": {},
     "output_type": "execute_result"
    }
   ],
   "source": [
    "obj_car._car__speed"
   ]
  },
  {
   "cell_type": "code",
   "execution_count": 64,
   "id": "1dd00041-e486-484a-8472-9b5afd3b09b0",
   "metadata": {},
   "outputs": [
    {
     "data": {
      "text/plain": [
       "350"
      ]
     },
     "execution_count": 64,
     "metadata": {},
     "output_type": "execute_result"
    }
   ],
   "source": [
    "obj_car.get_speed()"
   ]
  },
  {
   "cell_type": "code",
   "execution_count": 5,
   "id": "95e77fc1-8f3d-4a79-b0c9-30bacde37a10",
   "metadata": {},
   "outputs": [],
   "source": [
    "class bank_account:\n",
    "    \n",
    "    def __init__(self, balance):\n",
    "        self.__balance = balance\n",
    "        \n",
    "    def deposit(self, amount):\n",
    "        self.__balance = self.__balance + amount\n",
    "        \n",
    "    def withdraw(self, amount):\n",
    "        if self.__balance >= amount:\n",
    "            self.__balance = self.__balance - amount\n",
    "            \n",
    "            return True\n",
    "        else:\n",
    "            return False\n",
    "        \n",
    "    def get_balance(self):\n",
    "        return self.__balance"
   ]
  },
  {
   "cell_type": "code",
   "execution_count": 6,
   "id": "7b4e6e5c-1e8a-45dc-9275-b158f53d6a60",
   "metadata": {},
   "outputs": [],
   "source": [
    "obj_bank_account = bank_account(2000)"
   ]
  },
  {
   "cell_type": "code",
   "execution_count": 7,
   "id": "5026c257-65c1-4adc-abdc-8b36c6ef9fb8",
   "metadata": {},
   "outputs": [],
   "source": [
    "obj_bank_account.deposit(5000)"
   ]
  },
  {
   "cell_type": "code",
   "execution_count": 9,
   "id": "5b076920-c3ad-4f11-8bd9-3a5b757fcebb",
   "metadata": {},
   "outputs": [
    {
     "data": {
      "text/plain": [
       "7000"
      ]
     },
     "execution_count": 9,
     "metadata": {},
     "output_type": "execute_result"
    }
   ],
   "source": [
    "obj_bank_account.get_balance()"
   ]
  },
  {
   "cell_type": "code",
   "execution_count": 10,
   "id": "75a621c4-7a0a-4273-a518-e1eeea3c30a9",
   "metadata": {},
   "outputs": [
    {
     "data": {
      "text/plain": [
       "False"
      ]
     },
     "execution_count": 10,
     "metadata": {},
     "output_type": "execute_result"
    }
   ],
   "source": [
    "obj_bank_account.withdraw(10000)"
   ]
  },
  {
   "cell_type": "code",
   "execution_count": 11,
   "id": "8325a801-a135-4d43-8c23-2984ea4451be",
   "metadata": {},
   "outputs": [
    {
     "data": {
      "text/plain": [
       "True"
      ]
     },
     "execution_count": 11,
     "metadata": {},
     "output_type": "execute_result"
    }
   ],
   "source": [
    "obj_bank_account.withdraw(2000)"
   ]
  },
  {
   "cell_type": "code",
   "execution_count": 12,
   "id": "784071e5-dc50-42b7-9ddb-acbff4c85118",
   "metadata": {},
   "outputs": [
    {
     "data": {
      "text/plain": [
       "5000"
      ]
     },
     "execution_count": 12,
     "metadata": {},
     "output_type": "execute_result"
    }
   ],
   "source": [
    "obj_bank_account.get_balance()"
   ]
  },
  {
   "cell_type": "code",
   "execution_count": null,
   "id": "6ff51484-a8c2-45f0-8efc-f4460fca561f",
   "metadata": {},
   "outputs": [],
   "source": []
  },
  {
   "cell_type": "code",
   "execution_count": 13,
   "id": "3b92fed4-38f9-43c4-9fc6-c04f016fcd28",
   "metadata": {},
   "outputs": [],
   "source": [
    "## Inheritance\n",
    "\n",
    "class parent:\n",
    "    \n",
    "    def test_parent(self):\n",
    "        print(\"this is my parent class\")"
   ]
  },
  {
   "cell_type": "code",
   "execution_count": 15,
   "id": "d914cee8-b076-407f-9ec8-d38e5864f8d6",
   "metadata": {},
   "outputs": [],
   "source": [
    "class child(parent):\n",
    "    pass"
   ]
  },
  {
   "cell_type": "code",
   "execution_count": 17,
   "id": "36ad70de-93ad-410a-b32a-a72c5c294f45",
   "metadata": {},
   "outputs": [],
   "source": [
    "obj_child = child()"
   ]
  },
  {
   "cell_type": "code",
   "execution_count": 18,
   "id": "b7572809-76eb-4700-bc17-c2501464b04e",
   "metadata": {},
   "outputs": [
    {
     "name": "stdout",
     "output_type": "stream",
     "text": [
      "this is my parent class\n"
     ]
    }
   ],
   "source": [
    "obj_child.test_parent()"
   ]
  },
  {
   "cell_type": "code",
   "execution_count": 1,
   "id": "8564b142-ea73-4329-9366-6dd6259fb396",
   "metadata": {},
   "outputs": [],
   "source": [
    "class class1:\n",
    "    def test_class1(self):\n",
    "        print(\"this is my class1\")"
   ]
  },
  {
   "cell_type": "code",
   "execution_count": 3,
   "id": "66ab0c50-c6f9-4977-b8ad-4f588f871ecd",
   "metadata": {},
   "outputs": [],
   "source": [
    "class class2(class1):\n",
    "    def test_class2(self):\n",
    "        print(\"this is my class2\")"
   ]
  },
  {
   "cell_type": "code",
   "execution_count": 4,
   "id": "f72d67c3-6962-47f8-ab99-b7421a21ba50",
   "metadata": {},
   "outputs": [],
   "source": [
    "class class3(class2):\n",
    "    def test_class3(self):\n",
    "        print(\"this is my class3\")"
   ]
  },
  {
   "cell_type": "code",
   "execution_count": 7,
   "id": "c5978afa-8bc9-480c-8de6-861593213464",
   "metadata": {},
   "outputs": [],
   "source": [
    "obj_class3 = class3()"
   ]
  },
  {
   "cell_type": "code",
   "execution_count": 9,
   "id": "2acbac25-adc8-4ae4-982f-ba09185b492a",
   "metadata": {},
   "outputs": [
    {
     "name": "stdout",
     "output_type": "stream",
     "text": [
      "this is my class1\n"
     ]
    }
   ],
   "source": [
    "obj_class3.test_class1()"
   ]
  },
  {
   "cell_type": "code",
   "execution_count": 10,
   "id": "9d9957ce-0511-4afe-994a-7494f08aed6c",
   "metadata": {},
   "outputs": [
    {
     "name": "stdout",
     "output_type": "stream",
     "text": [
      "this is my class2\n"
     ]
    }
   ],
   "source": [
    "obj_class3.test_class2()"
   ]
  },
  {
   "cell_type": "code",
   "execution_count": 11,
   "id": "5156d1d1-ba09-497d-94b8-90c82c26b5ee",
   "metadata": {},
   "outputs": [
    {
     "name": "stdout",
     "output_type": "stream",
     "text": [
      "this is my class3\n"
     ]
    }
   ],
   "source": [
    "obj_class3.test_class3()"
   ]
  },
  {
   "cell_type": "code",
   "execution_count": 12,
   "id": "15b3977f-cbc5-41fb-9375-68ec3e54729f",
   "metadata": {},
   "outputs": [],
   "source": [
    "class class4:\n",
    "    def test_class4(self):\n",
    "        print(\"this is my class4\")"
   ]
  },
  {
   "cell_type": "code",
   "execution_count": 17,
   "id": "643bc5eb-83d7-4980-89a8-6c2335fee397",
   "metadata": {},
   "outputs": [],
   "source": [
    "class class5(class1 , class4):\n",
    "    def test_class5(self):\n",
    "        pass"
   ]
  },
  {
   "cell_type": "code",
   "execution_count": 18,
   "id": "2d301993-7f67-46f6-a1e0-baa8528cfa69",
   "metadata": {},
   "outputs": [],
   "source": [
    "obj_class5 = class5()"
   ]
  },
  {
   "cell_type": "code",
   "execution_count": 20,
   "id": "f480e80d-3e4f-4012-a4bc-babef5841bd8",
   "metadata": {},
   "outputs": [
    {
     "name": "stdout",
     "output_type": "stream",
     "text": [
      "this is my class4\n"
     ]
    }
   ],
   "source": [
    "obj_class5.test_class4()"
   ]
  },
  {
   "cell_type": "code",
   "execution_count": 21,
   "id": "a18e2bb1-0686-4d17-abad-ff8cc3872ea8",
   "metadata": {},
   "outputs": [
    {
     "name": "stdout",
     "output_type": "stream",
     "text": [
      "this is my class1\n"
     ]
    }
   ],
   "source": [
    "obj_class5.test_class1()"
   ]
  },
  {
   "cell_type": "code",
   "execution_count": 1,
   "id": "4a28fb7a-afcf-4377-ad89-7c0e6e4a59cb",
   "metadata": {},
   "outputs": [],
   "source": [
    "## Abstraction\n",
    "\n",
    "import abc\n",
    "\n",
    "class pwskills:\n",
    "    \n",
    "    @abc.abstractmethod\n",
    "    def student_details(self):\n",
    "        pass\n",
    "    \n",
    "    @abc.abstractmethod\n",
    "    def student_assignment(self):\n",
    "        pass\n",
    "    \n",
    "    @abc.abstractmethod\n",
    "    def student_marks(self):\n",
    "        pass\n",
    "    "
   ]
  },
  {
   "cell_type": "code",
   "execution_count": 3,
   "id": "e52137ac-dfde-490f-9b36-22d8666a257b",
   "metadata": {},
   "outputs": [],
   "source": [
    "class data_science(pwskills):\n",
    "    \n",
    "    def student_details(self):\n",
    "        return \"it will return student details for data science masters\"\n",
    "    \n",
    "    def student_assignment(self):\n",
    "        return \"it will return student assignment for data science masters\""
   ]
  },
  {
   "cell_type": "code",
   "execution_count": 5,
   "id": "e3a63a96-08ae-4c74-9e38-3b557458aa5c",
   "metadata": {},
   "outputs": [],
   "source": [
    "class web_dev(pwskills):\n",
    "    \n",
    "    def student_details(self):\n",
    "        return \"it will return student details for web dev\"\n",
    "    \n",
    "    def student_marks(self):\n",
    "        return \"it will return student marks for web dev\""
   ]
  },
  {
   "cell_type": "code",
   "execution_count": 8,
   "id": "6bb168ca-0f1e-4727-a290-6595f168b441",
   "metadata": {},
   "outputs": [],
   "source": [
    "obj_student = data_science()"
   ]
  },
  {
   "cell_type": "code",
   "execution_count": 9,
   "id": "d704165b-da78-4f4c-a7ea-c1d9c395fd2c",
   "metadata": {},
   "outputs": [
    {
     "data": {
      "text/plain": [
       "'it will return student details for data science masters'"
      ]
     },
     "execution_count": 9,
     "metadata": {},
     "output_type": "execute_result"
    }
   ],
   "source": [
    "obj_student.student_details()"
   ]
  },
  {
   "cell_type": "code",
   "execution_count": 10,
   "id": "20440d2a-77f1-41b2-bd5e-afb0f2b1e668",
   "metadata": {},
   "outputs": [],
   "source": [
    "wb = web_dev()"
   ]
  },
  {
   "cell_type": "code",
   "execution_count": 11,
   "id": "1d096561-b489-445c-88c3-171749a97ccd",
   "metadata": {},
   "outputs": [
    {
     "data": {
      "text/plain": [
       "'it will return student details for web dev'"
      ]
     },
     "execution_count": 11,
     "metadata": {},
     "output_type": "execute_result"
    }
   ],
   "source": [
    "wb.student_details()"
   ]
  },
  {
   "cell_type": "code",
   "execution_count": 14,
   "id": "f57aae95-401f-4460-ae5a-b25f3e849a00",
   "metadata": {},
   "outputs": [
    {
     "data": {
      "text/plain": [
       "'it will return student marks for web dev'"
      ]
     },
     "execution_count": 14,
     "metadata": {},
     "output_type": "execute_result"
    }
   ],
   "source": [
    "wb.student_marks()"
   ]
  },
  {
   "cell_type": "code",
   "execution_count": 18,
   "id": "680d7beb-ef1e-4e36-9f3c-9692fdd3de25",
   "metadata": {},
   "outputs": [],
   "source": [
    "## Decorators\n",
    "\n",
    "def test():\n",
    "    print(\"this is the start of my function\")\n",
    "    print(3+4)\n",
    "    print(\"this is the end of my function\")"
   ]
  },
  {
   "cell_type": "code",
   "execution_count": 19,
   "id": "0dedc64c-def9-450b-b71b-5f60093a4745",
   "metadata": {},
   "outputs": [
    {
     "name": "stdout",
     "output_type": "stream",
     "text": [
      "this is the start of my function\n",
      "7\n",
      "this is the end of my function\n"
     ]
    }
   ],
   "source": [
    "test()"
   ]
  },
  {
   "cell_type": "code",
   "execution_count": 24,
   "id": "c6a18d63-c261-4afc-aebe-0c4cd8241224",
   "metadata": {},
   "outputs": [],
   "source": [
    "def deco(func):\n",
    "    def inner_deco():\n",
    "        print(\"this is the start of my function\")\n",
    "        func()\n",
    "        print(\"this is the end of my function\")\n",
    "    return inner_deco"
   ]
  },
  {
   "cell_type": "code",
   "execution_count": 27,
   "id": "a246a916-8f4d-4fce-a32d-e9efea61ae55",
   "metadata": {},
   "outputs": [],
   "source": [
    "@deco\n",
    "def test1():\n",
    "    print(55+66)"
   ]
  },
  {
   "cell_type": "code",
   "execution_count": 28,
   "id": "cb06a6e1-4f0c-4b30-82a1-bd4265a4ed1d",
   "metadata": {},
   "outputs": [
    {
     "name": "stdout",
     "output_type": "stream",
     "text": [
      "this is the start of my function\n",
      "121\n",
      "this is the end of my function\n"
     ]
    }
   ],
   "source": [
    "test1()"
   ]
  },
  {
   "cell_type": "code",
   "execution_count": 30,
   "id": "8f242f63-f2e2-4916-86b9-45cf7dded24a",
   "metadata": {},
   "outputs": [],
   "source": [
    "import time\n",
    "\n",
    "def test_timer(func):\n",
    "    def test_timer_inner():\n",
    "        start = time.time()\n",
    "        func()\n",
    "        end = time.time()\n",
    "        print(end - start)\n",
    "        \n",
    "    return test_timer_inner"
   ]
  },
  {
   "cell_type": "code",
   "execution_count": 31,
   "id": "21159c13-6801-49a9-be86-625dff84b3ff",
   "metadata": {},
   "outputs": [],
   "source": [
    "@test_timer\n",
    "def test2():\n",
    "    print(66+88)"
   ]
  },
  {
   "cell_type": "code",
   "execution_count": 32,
   "id": "37d09732-a995-4dbb-b5d9-85140fdceafa",
   "metadata": {},
   "outputs": [
    {
     "name": "stdout",
     "output_type": "stream",
     "text": [
      "154\n",
      "4.649162292480469e-05\n"
     ]
    }
   ],
   "source": [
    "test2()"
   ]
  },
  {
   "cell_type": "code",
   "execution_count": 53,
   "id": "e6c8d2da-0b63-4cd4-91e1-a978ac7f1186",
   "metadata": {},
   "outputs": [],
   "source": [
    "@test_timer\n",
    "def test3():\n",
    "    for i in range(100000000):\n",
    "        pass"
   ]
  },
  {
   "cell_type": "code",
   "execution_count": 54,
   "id": "0da5eeaa-be63-449c-9e6d-580b4117841f",
   "metadata": {},
   "outputs": [
    {
     "name": "stdout",
     "output_type": "stream",
     "text": [
      "2.4759178161621094\n"
     ]
    }
   ],
   "source": [
    "test3()"
   ]
  },
  {
   "cell_type": "code",
   "execution_count": 20,
   "id": "0cb61fc2-a180-4299-9235-ce18fe4f9dc0",
   "metadata": {},
   "outputs": [],
   "source": [
    "## Class Methods\n",
    "\n",
    "class pwskills:\n",
    "    \n",
    "    def __init__(self, name, email):\n",
    "        \n",
    "        self.name = name\n",
    "        self.email = email\n",
    "        \n",
    "    @classmethod\n",
    "    def details(cls, name1, email1):\n",
    "        return cls(name1, email1)\n",
    "        \n",
    "    def student_details(self):\n",
    "        return self.name, self.email\n"
   ]
  },
  {
   "cell_type": "code",
   "execution_count": 21,
   "id": "23148515-8f1f-4e12-aeee-89a92d57523b",
   "metadata": {},
   "outputs": [],
   "source": [
    "pw = pwskills(\"Rohit\" , \"rohit@gmail.com\")"
   ]
  },
  {
   "cell_type": "code",
   "execution_count": 22,
   "id": "2ad80888-d153-4d48-9a5f-8c74a752fbdc",
   "metadata": {},
   "outputs": [
    {
     "data": {
      "text/plain": [
       "<__main__.pwskills at 0x7f3ad5904100>"
      ]
     },
     "execution_count": 22,
     "metadata": {},
     "output_type": "execute_result"
    }
   ],
   "source": [
    "pw.details(\"amit\", \"amit@gmail.com\")"
   ]
  },
  {
   "cell_type": "code",
   "execution_count": 23,
   "id": "0c8d93b4-d98f-4889-b05c-db03d0f35c38",
   "metadata": {},
   "outputs": [
    {
     "data": {
      "text/plain": [
       "'Rohit'"
      ]
     },
     "execution_count": 23,
     "metadata": {},
     "output_type": "execute_result"
    }
   ],
   "source": [
    "pw.name"
   ]
  },
  {
   "cell_type": "code",
   "execution_count": 10,
   "id": "b0d91557-e58c-4493-9d42-526c58543e3c",
   "metadata": {},
   "outputs": [
    {
     "data": {
      "text/plain": [
       "('Rohit', 'rohit@gmail.com')"
      ]
     },
     "execution_count": 10,
     "metadata": {},
     "output_type": "execute_result"
    }
   ],
   "source": [
    "pw.student_details()"
   ]
  },
  {
   "cell_type": "code",
   "execution_count": 11,
   "id": "b103c09c-7435-4c5b-9054-f9886e0d6f30",
   "metadata": {},
   "outputs": [
    {
     "data": {
      "text/plain": [
       "'Rohit'"
      ]
     },
     "execution_count": 11,
     "metadata": {},
     "output_type": "execute_result"
    }
   ],
   "source": [
    "pw.name"
   ]
  },
  {
   "cell_type": "code",
   "execution_count": 29,
   "id": "ac9f7569-11e7-4eb7-97d3-14636a56567d",
   "metadata": {},
   "outputs": [],
   "source": [
    "\n",
    "class pwskills1:\n",
    "    \n",
    "    mobile_number = 9878987898\n",
    "    \n",
    "    def __init__(self, name, email):\n",
    "        \n",
    "        self.name = name\n",
    "        self.email = email\n",
    "        \n",
    "    @classmethod\n",
    "    def change_number(cls, mobile):\n",
    "        pwskills1.mobile_number = mobile\n",
    "        \n",
    "    @classmethod\n",
    "    def details(cls, name1, email1):\n",
    "        return cls(name1, email1)\n",
    "        \n",
    "    def student_details(self):\n",
    "        return self.name, self.email, pwskills1.mobile_number"
   ]
  },
  {
   "cell_type": "code",
   "execution_count": 25,
   "id": "c8b3093b-1f04-4ee6-aae2-80790eacbd56",
   "metadata": {},
   "outputs": [
    {
     "data": {
      "text/plain": [
       "9878987898"
      ]
     },
     "execution_count": 25,
     "metadata": {},
     "output_type": "execute_result"
    }
   ],
   "source": [
    "pwskills1.mobile_number"
   ]
  },
  {
   "cell_type": "code",
   "execution_count": 33,
   "id": "23d25ffe-c631-43eb-a692-a5da2860ff10",
   "metadata": {},
   "outputs": [],
   "source": [
    "pwskills1.change_number(7878987898)"
   ]
  },
  {
   "cell_type": "code",
   "execution_count": 28,
   "id": "7bcba374-a38a-442f-b351-fa3f6b702583",
   "metadata": {},
   "outputs": [
    {
     "data": {
      "text/plain": [
       "7878987898"
      ]
     },
     "execution_count": 28,
     "metadata": {},
     "output_type": "execute_result"
    }
   ],
   "source": [
    "pwskills1.mobile_number"
   ]
  },
  {
   "cell_type": "code",
   "execution_count": 35,
   "id": "18b27813-d6e5-4887-a075-19bddb968093",
   "metadata": {},
   "outputs": [],
   "source": [
    "pw1 = pwskills1(\"raman\", \"raman@gmail.com\")"
   ]
  },
  {
   "cell_type": "code",
   "execution_count": 36,
   "id": "f327eecb-d031-4ff0-8dc6-1d4e7c222620",
   "metadata": {},
   "outputs": [
    {
     "data": {
      "text/plain": [
       "('raman', 'raman@gmail.com', 7878987898)"
      ]
     },
     "execution_count": 36,
     "metadata": {},
     "output_type": "execute_result"
    }
   ],
   "source": [
    "pw1.student_details()"
   ]
  },
  {
   "cell_type": "code",
   "execution_count": 37,
   "id": "c4b016fa-d182-4110-a8bf-24c9313ec9c4",
   "metadata": {},
   "outputs": [],
   "source": [
    "del pwskills1.details"
   ]
  },
  {
   "cell_type": "code",
   "execution_count": 38,
   "id": "ea66625b-d2e3-4b33-a53f-b5e377aee771",
   "metadata": {},
   "outputs": [],
   "source": [
    "delattr(pwskills1, \"mobile_number\")"
   ]
  },
  {
   "cell_type": "code",
   "execution_count": 39,
   "id": "0fb34cfd-11d9-4aee-9b9c-9b1e0d8310e4",
   "metadata": {},
   "outputs": [
    {
     "ename": "AttributeError",
     "evalue": "type object 'pwskills1' has no attribute 'mobile_number'",
     "output_type": "error",
     "traceback": [
      "\u001b[0;31m---------------------------------------------------------------------------\u001b[0m",
      "\u001b[0;31mAttributeError\u001b[0m                            Traceback (most recent call last)",
      "Cell \u001b[0;32mIn[39], line 1\u001b[0m\n\u001b[0;32m----> 1\u001b[0m \u001b[43mpwskills1\u001b[49m\u001b[38;5;241;43m.\u001b[39;49m\u001b[43mmobile_number\u001b[49m\n",
      "\u001b[0;31mAttributeError\u001b[0m: type object 'pwskills1' has no attribute 'mobile_number'"
     ]
    }
   ],
   "source": [
    "pwskills1.mobile_number"
   ]
  },
  {
   "cell_type": "code",
   "execution_count": 68,
   "id": "9fd08650-3ba8-4983-b536-2d5f13430c50",
   "metadata": {},
   "outputs": [],
   "source": [
    "def course(cls, name, batch):\n",
    "    print(\"My course details is\", name, batch)"
   ]
  },
  {
   "cell_type": "code",
   "execution_count": 69,
   "id": "47353e8b-e7ba-4a56-87de-e71fe11ba630",
   "metadata": {},
   "outputs": [],
   "source": [
    "pwskills1.course = classmethod(course)"
   ]
  },
  {
   "cell_type": "code",
   "execution_count": 70,
   "id": "ea13ab13-7703-4992-b00c-3c1556306fdc",
   "metadata": {},
   "outputs": [
    {
     "name": "stdout",
     "output_type": "stream",
     "text": [
      "My course details is data science 2023\n"
     ]
    }
   ],
   "source": [
    "pw2 = pwskills1.course(\"data science\", 2023)"
   ]
  },
  {
   "cell_type": "code",
   "execution_count": 31,
   "id": "5446a0b8-bf94-4e2a-ae6f-306f8803e014",
   "metadata": {},
   "outputs": [],
   "source": [
    "## Static Method\n",
    "\n",
    "class pwskills:\n",
    "    \n",
    "    def student_details(self, name, email, batch):\n",
    "        print(name, email, batch)\n",
    "        \n",
    "    @staticmethod\n",
    "    def mentor_mail(email):\n",
    "        print(email)\n",
    "        \n",
    "    @staticmethod\n",
    "    def mentor_list(list_mentor):\n",
    "        print(list_mentor)\n",
    "        \n",
    "    @classmethod\n",
    "    def mentor_details(cls, mentor_details):\n",
    "        cls.mentor_list([\"sudh\" , \"krish\"])\n",
    "        \n",
    "    def mentor(self, mentor_list):\n",
    "        print(mentor_list)"
   ]
  },
  {
   "cell_type": "code",
   "execution_count": 32,
   "id": "6498843d-995f-461f-9337-be47dba52a2c",
   "metadata": {},
   "outputs": [],
   "source": [
    "pw = pwskills()"
   ]
  },
  {
   "cell_type": "code",
   "execution_count": 33,
   "id": "9513ff0f-daa5-4df6-a65a-11399cec8d1f",
   "metadata": {},
   "outputs": [
    {
     "name": "stdout",
     "output_type": "stream",
     "text": [
      "sudh sudh@gmail.com 2023\n"
     ]
    }
   ],
   "source": [
    "pw.student_details(\"sudh\", \"sudh@gmail.com\", 2023)"
   ]
  },
  {
   "cell_type": "code",
   "execution_count": 34,
   "id": "327453f6-5665-434b-9001-e7445295c920",
   "metadata": {},
   "outputs": [
    {
     "name": "stdout",
     "output_type": "stream",
     "text": [
      "['sudh', 'krish']\n"
     ]
    }
   ],
   "source": [
    "pwskills.mentor_list([\"sudh\" , \"krish\"])"
   ]
  },
  {
   "cell_type": "code",
   "execution_count": 35,
   "id": "77141f02-df47-4a84-8b4d-412cfe043841",
   "metadata": {},
   "outputs": [
    {
     "name": "stdout",
     "output_type": "stream",
     "text": [
      "['sudh', 'krish']\n"
     ]
    }
   ],
   "source": [
    "pwskills.mentor_details(\"mentors\")"
   ]
  },
  {
   "cell_type": "code",
   "execution_count": null,
   "id": "28112dba-a07c-487e-8599-c4b357ea3e78",
   "metadata": {},
   "outputs": [],
   "source": [
    "\n",
    "## Special (Magic / Dunder) Methods\n"
   ]
  },
  {
   "cell_type": "code",
   "execution_count": 1,
   "id": "0e3c9c85-1707-40f8-a909-10c81264bcc1",
   "metadata": {},
   "outputs": [
    {
     "data": {
      "text/plain": [
       "['__abs__',\n",
       " '__add__',\n",
       " '__and__',\n",
       " '__bool__',\n",
       " '__ceil__',\n",
       " '__class__',\n",
       " '__delattr__',\n",
       " '__dir__',\n",
       " '__divmod__',\n",
       " '__doc__',\n",
       " '__eq__',\n",
       " '__float__',\n",
       " '__floor__',\n",
       " '__floordiv__',\n",
       " '__format__',\n",
       " '__ge__',\n",
       " '__getattribute__',\n",
       " '__getnewargs__',\n",
       " '__gt__',\n",
       " '__hash__',\n",
       " '__index__',\n",
       " '__init__',\n",
       " '__init_subclass__',\n",
       " '__int__',\n",
       " '__invert__',\n",
       " '__le__',\n",
       " '__lshift__',\n",
       " '__lt__',\n",
       " '__mod__',\n",
       " '__mul__',\n",
       " '__ne__',\n",
       " '__neg__',\n",
       " '__new__',\n",
       " '__or__',\n",
       " '__pos__',\n",
       " '__pow__',\n",
       " '__radd__',\n",
       " '__rand__',\n",
       " '__rdivmod__',\n",
       " '__reduce__',\n",
       " '__reduce_ex__',\n",
       " '__repr__',\n",
       " '__rfloordiv__',\n",
       " '__rlshift__',\n",
       " '__rmod__',\n",
       " '__rmul__',\n",
       " '__ror__',\n",
       " '__round__',\n",
       " '__rpow__',\n",
       " '__rrshift__',\n",
       " '__rshift__',\n",
       " '__rsub__',\n",
       " '__rtruediv__',\n",
       " '__rxor__',\n",
       " '__setattr__',\n",
       " '__sizeof__',\n",
       " '__str__',\n",
       " '__sub__',\n",
       " '__subclasshook__',\n",
       " '__truediv__',\n",
       " '__trunc__',\n",
       " '__xor__',\n",
       " 'as_integer_ratio',\n",
       " 'bit_count',\n",
       " 'bit_length',\n",
       " 'conjugate',\n",
       " 'denominator',\n",
       " 'from_bytes',\n",
       " 'imag',\n",
       " 'numerator',\n",
       " 'real',\n",
       " 'to_bytes']"
      ]
     },
     "execution_count": 1,
     "metadata": {},
     "output_type": "execute_result"
    }
   ],
   "source": [
    "dir(int)"
   ]
  },
  {
   "cell_type": "code",
   "execution_count": 2,
   "id": "c80cf321-0098-4de6-9424-7258f8482531",
   "metadata": {},
   "outputs": [
    {
     "data": {
      "text/plain": [
       "['__add__',\n",
       " '__class__',\n",
       " '__contains__',\n",
       " '__delattr__',\n",
       " '__dir__',\n",
       " '__doc__',\n",
       " '__eq__',\n",
       " '__format__',\n",
       " '__ge__',\n",
       " '__getattribute__',\n",
       " '__getitem__',\n",
       " '__getnewargs__',\n",
       " '__gt__',\n",
       " '__hash__',\n",
       " '__init__',\n",
       " '__init_subclass__',\n",
       " '__iter__',\n",
       " '__le__',\n",
       " '__len__',\n",
       " '__lt__',\n",
       " '__mod__',\n",
       " '__mul__',\n",
       " '__ne__',\n",
       " '__new__',\n",
       " '__reduce__',\n",
       " '__reduce_ex__',\n",
       " '__repr__',\n",
       " '__rmod__',\n",
       " '__rmul__',\n",
       " '__setattr__',\n",
       " '__sizeof__',\n",
       " '__str__',\n",
       " '__subclasshook__',\n",
       " 'capitalize',\n",
       " 'casefold',\n",
       " 'center',\n",
       " 'count',\n",
       " 'encode',\n",
       " 'endswith',\n",
       " 'expandtabs',\n",
       " 'find',\n",
       " 'format',\n",
       " 'format_map',\n",
       " 'index',\n",
       " 'isalnum',\n",
       " 'isalpha',\n",
       " 'isascii',\n",
       " 'isdecimal',\n",
       " 'isdigit',\n",
       " 'isidentifier',\n",
       " 'islower',\n",
       " 'isnumeric',\n",
       " 'isprintable',\n",
       " 'isspace',\n",
       " 'istitle',\n",
       " 'isupper',\n",
       " 'join',\n",
       " 'ljust',\n",
       " 'lower',\n",
       " 'lstrip',\n",
       " 'maketrans',\n",
       " 'partition',\n",
       " 'removeprefix',\n",
       " 'removesuffix',\n",
       " 'replace',\n",
       " 'rfind',\n",
       " 'rindex',\n",
       " 'rjust',\n",
       " 'rpartition',\n",
       " 'rsplit',\n",
       " 'rstrip',\n",
       " 'split',\n",
       " 'splitlines',\n",
       " 'startswith',\n",
       " 'strip',\n",
       " 'swapcase',\n",
       " 'title',\n",
       " 'translate',\n",
       " 'upper',\n",
       " 'zfill']"
      ]
     },
     "execution_count": 2,
     "metadata": {},
     "output_type": "execute_result"
    }
   ],
   "source": [
    "dir(str)"
   ]
  },
  {
   "cell_type": "code",
   "execution_count": 5,
   "id": "ab632fff-9e0e-4e4a-9c1f-3ebc701828f0",
   "metadata": {},
   "outputs": [],
   "source": [
    "class pwskills:\n",
    "    \n",
    "    def __new__(cls):\n",
    "        print(\"this is my new\")\n",
    "    \n",
    "    def __init__(self):\n",
    "        print(\"this is my init\")"
   ]
  },
  {
   "cell_type": "code",
   "execution_count": 6,
   "id": "b6da20cd-3dcd-4fc0-bc6a-040cca844861",
   "metadata": {},
   "outputs": [
    {
     "name": "stdout",
     "output_type": "stream",
     "text": [
      "this is my new\n"
     ]
    }
   ],
   "source": [
    "pw = pwskills()"
   ]
  },
  {
   "cell_type": "code",
   "execution_count": 20,
   "id": "f581bde1-0963-4eaa-a175-d0847700af34",
   "metadata": {},
   "outputs": [],
   "source": [
    "class pwskills1:\n",
    "    \n",
    "    def __init__(self):\n",
    "        self.mobile_number = 9878987898\n",
    "    \n",
    "    def __str__(self):\n",
    "        return (\"this is my new magic method\")"
   ]
  },
  {
   "cell_type": "code",
   "execution_count": 21,
   "id": "87574d09-ebbf-402c-9eeb-616980162efa",
   "metadata": {},
   "outputs": [],
   "source": [
    "pw1 = pwskills1()"
   ]
  },
  {
   "cell_type": "code",
   "execution_count": 22,
   "id": "30bb02ee-4c2e-4736-a9ee-84eb825511c3",
   "metadata": {},
   "outputs": [
    {
     "name": "stdout",
     "output_type": "stream",
     "text": [
      "this is my new magic method\n"
     ]
    }
   ],
   "source": [
    "print(pw1)"
   ]
  },
  {
   "cell_type": "code",
   "execution_count": 24,
   "id": "e818669c-5723-4228-8060-926e6ff56860",
   "metadata": {},
   "outputs": [
    {
     "data": {
      "text/plain": [
       "['__add__',\n",
       " '__class__',\n",
       " '__class_getitem__',\n",
       " '__contains__',\n",
       " '__delattr__',\n",
       " '__delitem__',\n",
       " '__dir__',\n",
       " '__doc__',\n",
       " '__eq__',\n",
       " '__format__',\n",
       " '__ge__',\n",
       " '__getattribute__',\n",
       " '__getitem__',\n",
       " '__gt__',\n",
       " '__hash__',\n",
       " '__iadd__',\n",
       " '__imul__',\n",
       " '__init__',\n",
       " '__init_subclass__',\n",
       " '__iter__',\n",
       " '__le__',\n",
       " '__len__',\n",
       " '__lt__',\n",
       " '__mul__',\n",
       " '__ne__',\n",
       " '__new__',\n",
       " '__reduce__',\n",
       " '__reduce_ex__',\n",
       " '__repr__',\n",
       " '__reversed__',\n",
       " '__rmul__',\n",
       " '__setattr__',\n",
       " '__setitem__',\n",
       " '__sizeof__',\n",
       " '__str__',\n",
       " '__subclasshook__',\n",
       " 'append',\n",
       " 'clear',\n",
       " 'copy',\n",
       " 'count',\n",
       " 'extend',\n",
       " 'index',\n",
       " 'insert',\n",
       " 'pop',\n",
       " 'remove',\n",
       " 'reverse',\n",
       " 'sort']"
      ]
     },
     "execution_count": 24,
     "metadata": {},
     "output_type": "execute_result"
    }
   ],
   "source": [
    "dir(list)"
   ]
  },
  {
   "cell_type": "code",
   "execution_count": 25,
   "id": "e46e1cb0-81f2-4961-9e62-2a9e43f871b1",
   "metadata": {},
   "outputs": [
    {
     "data": {
      "text/plain": [
       "['__class__',\n",
       " '__class_getitem__',\n",
       " '__contains__',\n",
       " '__delattr__',\n",
       " '__delitem__',\n",
       " '__dir__',\n",
       " '__doc__',\n",
       " '__eq__',\n",
       " '__format__',\n",
       " '__ge__',\n",
       " '__getattribute__',\n",
       " '__getitem__',\n",
       " '__gt__',\n",
       " '__hash__',\n",
       " '__init__',\n",
       " '__init_subclass__',\n",
       " '__ior__',\n",
       " '__iter__',\n",
       " '__le__',\n",
       " '__len__',\n",
       " '__lt__',\n",
       " '__ne__',\n",
       " '__new__',\n",
       " '__or__',\n",
       " '__reduce__',\n",
       " '__reduce_ex__',\n",
       " '__repr__',\n",
       " '__reversed__',\n",
       " '__ror__',\n",
       " '__setattr__',\n",
       " '__setitem__',\n",
       " '__sizeof__',\n",
       " '__str__',\n",
       " '__subclasshook__',\n",
       " 'clear',\n",
       " 'copy',\n",
       " 'fromkeys',\n",
       " 'get',\n",
       " 'items',\n",
       " 'keys',\n",
       " 'pop',\n",
       " 'popitem',\n",
       " 'setdefault',\n",
       " 'update',\n",
       " 'values']"
      ]
     },
     "execution_count": 25,
     "metadata": {},
     "output_type": "execute_result"
    }
   ],
   "source": [
    "dir(dict)"
   ]
  },
  {
   "cell_type": "code",
   "execution_count": 26,
   "id": "94791792-9020-43a1-8df4-d25be3d006f6",
   "metadata": {},
   "outputs": [
    {
     "data": {
      "text/plain": [
       "['__and__',\n",
       " '__class__',\n",
       " '__class_getitem__',\n",
       " '__contains__',\n",
       " '__delattr__',\n",
       " '__dir__',\n",
       " '__doc__',\n",
       " '__eq__',\n",
       " '__format__',\n",
       " '__ge__',\n",
       " '__getattribute__',\n",
       " '__gt__',\n",
       " '__hash__',\n",
       " '__iand__',\n",
       " '__init__',\n",
       " '__init_subclass__',\n",
       " '__ior__',\n",
       " '__isub__',\n",
       " '__iter__',\n",
       " '__ixor__',\n",
       " '__le__',\n",
       " '__len__',\n",
       " '__lt__',\n",
       " '__ne__',\n",
       " '__new__',\n",
       " '__or__',\n",
       " '__rand__',\n",
       " '__reduce__',\n",
       " '__reduce_ex__',\n",
       " '__repr__',\n",
       " '__ror__',\n",
       " '__rsub__',\n",
       " '__rxor__',\n",
       " '__setattr__',\n",
       " '__sizeof__',\n",
       " '__str__',\n",
       " '__sub__',\n",
       " '__subclasshook__',\n",
       " '__xor__',\n",
       " 'add',\n",
       " 'clear',\n",
       " 'copy',\n",
       " 'difference',\n",
       " 'difference_update',\n",
       " 'discard',\n",
       " 'intersection',\n",
       " 'intersection_update',\n",
       " 'isdisjoint',\n",
       " 'issubset',\n",
       " 'issuperset',\n",
       " 'pop',\n",
       " 'remove',\n",
       " 'symmetric_difference',\n",
       " 'symmetric_difference_update',\n",
       " 'union',\n",
       " 'update']"
      ]
     },
     "execution_count": 26,
     "metadata": {},
     "output_type": "execute_result"
    }
   ],
   "source": [
    "dir(set)"
   ]
  },
  {
   "cell_type": "code",
   "execution_count": 27,
   "id": "06396826-8d0a-46df-bde7-6d8d57c37d44",
   "metadata": {},
   "outputs": [],
   "source": [
    "\n",
    "## Property Decorators- Getters, Setters, Deletes\n"
   ]
  },
  {
   "cell_type": "code",
   "execution_count": 52,
   "id": "2b12a746-72a1-45d4-b0ad-dc9ffb64aafc",
   "metadata": {},
   "outputs": [],
   "source": [
    "class PWskills:\n",
    "    \n",
    "    def __init__(self, course_name, course_price):\n",
    "        \n",
    "        self.course_name = course_name\n",
    "        self.__course_price = course_price\n",
    "        \n",
    "    @property\n",
    "    def course_price_access(self):\n",
    "        return self.__course_price\n",
    "    \n",
    "    @course_price_access.setter\n",
    "    def course_price_set(self, price):\n",
    "        if price <= 5000:\n",
    "            pass\n",
    "        else:\n",
    "            self.__course_price = price\n",
    "            \n",
    "    @course_price_access.deleter\n",
    "    def course_price_del(self):\n",
    "        del self.__course_price\n",
    "        "
   ]
  },
  {
   "cell_type": "code",
   "execution_count": 53,
   "id": "fed11971-63fd-4542-9d29-ff303f790e5b",
   "metadata": {},
   "outputs": [],
   "source": [
    "pw9 = PWskills(\"Data science masters\" , 5000)"
   ]
  },
  {
   "cell_type": "code",
   "execution_count": 54,
   "id": "34c1d587-6331-4be5-9e6c-09b2b1f0d331",
   "metadata": {},
   "outputs": [
    {
     "data": {
      "text/plain": [
       "'Data science masters'"
      ]
     },
     "execution_count": 54,
     "metadata": {},
     "output_type": "execute_result"
    }
   ],
   "source": [
    "pw9.course_name"
   ]
  },
  {
   "cell_type": "code",
   "execution_count": 55,
   "id": "88a2817a-a36b-453b-8243-098a6e598dc3",
   "metadata": {},
   "outputs": [
    {
     "data": {
      "text/plain": [
       "5000"
      ]
     },
     "execution_count": 55,
     "metadata": {},
     "output_type": "execute_result"
    }
   ],
   "source": [
    "pw9.course_price_access"
   ]
  },
  {
   "cell_type": "code",
   "execution_count": 56,
   "id": "a705f5d1-6484-431c-8663-73471fa01144",
   "metadata": {},
   "outputs": [],
   "source": [
    "pw9.course_price_set = 8000"
   ]
  },
  {
   "cell_type": "code",
   "execution_count": 57,
   "id": "3e254547-95a4-422b-92b1-b5f8af1a0dc4",
   "metadata": {},
   "outputs": [
    {
     "data": {
      "text/plain": [
       "8000"
      ]
     },
     "execution_count": 57,
     "metadata": {},
     "output_type": "execute_result"
    }
   ],
   "source": [
    "pw9.course_price_access"
   ]
  },
  {
   "cell_type": "code",
   "execution_count": null,
   "id": "7fbffac2-6d2f-4323-96f4-e89f43bfbc45",
   "metadata": {},
   "outputs": [],
   "source": [
    "del "
   ]
  },
  {
   "cell_type": "code",
   "execution_count": null,
   "id": "71338d92-a02b-4320-bda5-8dafc9c09c74",
   "metadata": {},
   "outputs": [],
   "source": []
  },
  {
   "cell_type": "code",
   "execution_count": null,
   "id": "32d06c04-1f7d-4ab8-9751-377f924c165d",
   "metadata": {},
   "outputs": [],
   "source": []
  },
  {
   "cell_type": "code",
   "execution_count": null,
   "id": "deb7941e-76c0-4153-a124-a12c0a818f8d",
   "metadata": {},
   "outputs": [],
   "source": []
  },
  {
   "cell_type": "code",
   "execution_count": null,
   "id": "a4fac6ae-03e5-46af-ae9b-0d9d8d263ff8",
   "metadata": {},
   "outputs": [],
   "source": []
  },
  {
   "cell_type": "code",
   "execution_count": null,
   "id": "c2ffcf1b-a8dc-4bdb-b36d-bc28890e46fb",
   "metadata": {},
   "outputs": [],
   "source": []
  },
  {
   "cell_type": "code",
   "execution_count": null,
   "id": "480ff6c8-cf6e-4e52-a9f4-5fa4c19be256",
   "metadata": {},
   "outputs": [],
   "source": []
  },
  {
   "cell_type": "code",
   "execution_count": null,
   "id": "202b60d7-479b-4199-945e-e428a3313a15",
   "metadata": {},
   "outputs": [],
   "source": []
  },
  {
   "cell_type": "code",
   "execution_count": null,
   "id": "7759334a-b17c-4d9e-88b1-ac1a34549858",
   "metadata": {},
   "outputs": [],
   "source": []
  },
  {
   "cell_type": "code",
   "execution_count": null,
   "id": "d0077969-c338-4c27-bfd0-68942fb6f98f",
   "metadata": {},
   "outputs": [],
   "source": []
  },
  {
   "cell_type": "code",
   "execution_count": null,
   "id": "cafad045-7318-4295-86fc-e32b8cf05637",
   "metadata": {},
   "outputs": [],
   "source": []
  },
  {
   "cell_type": "code",
   "execution_count": null,
   "id": "9754276f-b56e-48d0-876a-9c3a6c2ea1d7",
   "metadata": {},
   "outputs": [],
   "source": []
  },
  {
   "cell_type": "code",
   "execution_count": null,
   "id": "6ecd46cb-b5e5-43fa-bd30-511ea8049c61",
   "metadata": {},
   "outputs": [],
   "source": []
  },
  {
   "cell_type": "code",
   "execution_count": null,
   "id": "9837fb61-88f8-48c3-ac7c-0d4c5886fb65",
   "metadata": {},
   "outputs": [],
   "source": []
  },
  {
   "cell_type": "code",
   "execution_count": null,
   "id": "dddeb16b-100f-4a32-b381-3a17db2c5b26",
   "metadata": {},
   "outputs": [],
   "source": []
  },
  {
   "cell_type": "code",
   "execution_count": null,
   "id": "48501b4f-1125-4899-b442-129dc9c533d1",
   "metadata": {},
   "outputs": [],
   "source": []
  },
  {
   "cell_type": "code",
   "execution_count": null,
   "id": "6b46e39f-0157-4cc1-8b93-b4762c33fc48",
   "metadata": {},
   "outputs": [],
   "source": []
  },
  {
   "cell_type": "code",
   "execution_count": null,
   "id": "a809753f-4ac9-4b7e-9dea-bc3e24eda912",
   "metadata": {},
   "outputs": [],
   "source": []
  },
  {
   "cell_type": "code",
   "execution_count": null,
   "id": "c2117743-3a0d-411c-be3b-abd7f687fd86",
   "metadata": {},
   "outputs": [],
   "source": []
  },
  {
   "cell_type": "code",
   "execution_count": null,
   "id": "c205b257-b223-4b64-a0b5-c60c7bd9bfd0",
   "metadata": {},
   "outputs": [],
   "source": []
  },
  {
   "cell_type": "code",
   "execution_count": null,
   "id": "f5d0e355-3915-49df-bcaa-c6f2538e6de3",
   "metadata": {},
   "outputs": [],
   "source": []
  },
  {
   "cell_type": "code",
   "execution_count": null,
   "id": "c853d0ee-85be-4395-8532-b04a7d9e4560",
   "metadata": {},
   "outputs": [],
   "source": []
  },
  {
   "cell_type": "code",
   "execution_count": null,
   "id": "a07b1d1d-ce28-48cd-84bc-f9c97dadd4ad",
   "metadata": {},
   "outputs": [],
   "source": []
  },
  {
   "cell_type": "code",
   "execution_count": null,
   "id": "93451b99-f1e7-40cb-9c36-c3ca1779c231",
   "metadata": {},
   "outputs": [],
   "source": []
  },
  {
   "cell_type": "code",
   "execution_count": null,
   "id": "bae25366-ff0e-449b-8907-19a468435c8a",
   "metadata": {},
   "outputs": [],
   "source": []
  },
  {
   "cell_type": "code",
   "execution_count": null,
   "id": "d397f258-0c42-4d4a-93ed-8e04a80ad38b",
   "metadata": {},
   "outputs": [],
   "source": []
  },
  {
   "cell_type": "code",
   "execution_count": null,
   "id": "919b59c7-4530-42e3-8416-8316ce6ee9a5",
   "metadata": {},
   "outputs": [],
   "source": []
  },
  {
   "cell_type": "code",
   "execution_count": null,
   "id": "e4edef72-c9cb-4d5c-856b-6b1eb403a50c",
   "metadata": {},
   "outputs": [],
   "source": []
  },
  {
   "cell_type": "code",
   "execution_count": null,
   "id": "2bd2c334-6050-4f42-85d5-839bdbd5a052",
   "metadata": {},
   "outputs": [],
   "source": []
  },
  {
   "cell_type": "code",
   "execution_count": null,
   "id": "6c39037a-f62c-4395-a5d4-2ff903ac67f5",
   "metadata": {},
   "outputs": [],
   "source": []
  },
  {
   "cell_type": "code",
   "execution_count": null,
   "id": "6f802a0d-2cd3-4269-8b6e-02c82b6e53af",
   "metadata": {},
   "outputs": [],
   "source": []
  },
  {
   "cell_type": "code",
   "execution_count": null,
   "id": "184cf0a8-ebc0-4c2a-8ce9-9e7f27777ec9",
   "metadata": {},
   "outputs": [],
   "source": []
  },
  {
   "cell_type": "code",
   "execution_count": null,
   "id": "fbb50a61-b6db-487b-9dbd-32f6ac629bac",
   "metadata": {},
   "outputs": [],
   "source": []
  },
  {
   "cell_type": "code",
   "execution_count": null,
   "id": "49d5ecab-ade2-41f8-96f6-031201658efa",
   "metadata": {},
   "outputs": [],
   "source": []
  },
  {
   "cell_type": "code",
   "execution_count": null,
   "id": "ec9246fa-f76f-4b75-855c-a4ce2dc3d575",
   "metadata": {},
   "outputs": [],
   "source": []
  },
  {
   "cell_type": "code",
   "execution_count": null,
   "id": "be1c6532-9f6e-4376-9bf9-dbd057d59d79",
   "metadata": {},
   "outputs": [],
   "source": []
  },
  {
   "cell_type": "code",
   "execution_count": null,
   "id": "3ad25054-66b1-41e3-a90e-58d32c9b615d",
   "metadata": {},
   "outputs": [],
   "source": []
  },
  {
   "cell_type": "code",
   "execution_count": null,
   "id": "89b80b51-22b1-4626-8271-9021bda3ae19",
   "metadata": {},
   "outputs": [],
   "source": []
  },
  {
   "cell_type": "code",
   "execution_count": null,
   "id": "30a56d02-c3ff-4a3a-b396-d04cff31e5b2",
   "metadata": {},
   "outputs": [],
   "source": []
  },
  {
   "cell_type": "code",
   "execution_count": null,
   "id": "f9930259-e123-4a3c-a697-21deae52155b",
   "metadata": {},
   "outputs": [],
   "source": []
  },
  {
   "cell_type": "code",
   "execution_count": null,
   "id": "3671c7d4-fe1e-4208-9dfe-0500ebfd10c2",
   "metadata": {},
   "outputs": [],
   "source": []
  },
  {
   "cell_type": "code",
   "execution_count": null,
   "id": "83a81778-6cce-42d9-8c5b-2af981addf79",
   "metadata": {},
   "outputs": [],
   "source": []
  },
  {
   "cell_type": "code",
   "execution_count": null,
   "id": "fc8075fc-e72b-48ba-84c2-ef9773afb850",
   "metadata": {},
   "outputs": [],
   "source": []
  },
  {
   "cell_type": "code",
   "execution_count": null,
   "id": "62c8eb1d-263f-4544-84a0-262c77541e7a",
   "metadata": {},
   "outputs": [],
   "source": []
  },
  {
   "cell_type": "code",
   "execution_count": null,
   "id": "7fd95d70-2047-4d00-9973-87a908cb2658",
   "metadata": {},
   "outputs": [],
   "source": []
  },
  {
   "cell_type": "code",
   "execution_count": null,
   "id": "b755cc4c-a14c-4a9e-9768-29720116d899",
   "metadata": {},
   "outputs": [],
   "source": []
  },
  {
   "cell_type": "code",
   "execution_count": null,
   "id": "8edc6bde-bd8e-428c-940e-37902822d085",
   "metadata": {},
   "outputs": [],
   "source": []
  },
  {
   "cell_type": "code",
   "execution_count": null,
   "id": "b7605710-7506-43bd-842b-9124b21f6d5c",
   "metadata": {},
   "outputs": [],
   "source": []
  },
  {
   "cell_type": "code",
   "execution_count": null,
   "id": "0733919f-aadf-4884-9771-fe19127c238b",
   "metadata": {},
   "outputs": [],
   "source": []
  },
  {
   "cell_type": "code",
   "execution_count": null,
   "id": "c3265e4e-296c-48f1-83cb-64aadb707e30",
   "metadata": {},
   "outputs": [],
   "source": []
  },
  {
   "cell_type": "code",
   "execution_count": null,
   "id": "c1072643-a70d-4501-a48b-e80c9fbf00fc",
   "metadata": {},
   "outputs": [],
   "source": []
  },
  {
   "cell_type": "code",
   "execution_count": null,
   "id": "210fe321-d731-4991-a3bd-e2dc135414e0",
   "metadata": {},
   "outputs": [],
   "source": []
  },
  {
   "cell_type": "code",
   "execution_count": null,
   "id": "2d706874-4719-4947-af2b-4a0b85ec3f1d",
   "metadata": {},
   "outputs": [],
   "source": []
  },
  {
   "cell_type": "code",
   "execution_count": null,
   "id": "3c80990c-59d5-4b8d-8170-7393d0338644",
   "metadata": {},
   "outputs": [],
   "source": []
  },
  {
   "cell_type": "code",
   "execution_count": null,
   "id": "f2369764-8d98-4c88-99c8-677fd9cae63f",
   "metadata": {},
   "outputs": [],
   "source": []
  },
  {
   "cell_type": "code",
   "execution_count": null,
   "id": "0d37c3a5-3717-4e87-915f-c090c73a3ca8",
   "metadata": {},
   "outputs": [],
   "source": []
  },
  {
   "cell_type": "code",
   "execution_count": null,
   "id": "45687130-4d84-4360-99d7-03a062d34fa0",
   "metadata": {},
   "outputs": [],
   "source": []
  },
  {
   "cell_type": "code",
   "execution_count": null,
   "id": "dbe9e78f-e4c0-4a4b-bf31-270052b91857",
   "metadata": {},
   "outputs": [],
   "source": []
  },
  {
   "cell_type": "code",
   "execution_count": null,
   "id": "c8eaa5ec-a416-4e1f-bdac-872fc23cf68a",
   "metadata": {},
   "outputs": [],
   "source": []
  },
  {
   "cell_type": "code",
   "execution_count": null,
   "id": "5d64f82b-576b-4799-af37-2069b3f652aa",
   "metadata": {},
   "outputs": [],
   "source": []
  },
  {
   "cell_type": "code",
   "execution_count": null,
   "id": "23a0eb10-aaa2-417b-b4c6-a9579c1e368a",
   "metadata": {},
   "outputs": [],
   "source": []
  },
  {
   "cell_type": "code",
   "execution_count": null,
   "id": "a0ccf79b-807f-4b5d-9644-4305c554d804",
   "metadata": {},
   "outputs": [],
   "source": []
  },
  {
   "cell_type": "code",
   "execution_count": null,
   "id": "5445494a-8a00-403b-8bc2-fc40a78f7411",
   "metadata": {},
   "outputs": [],
   "source": []
  },
  {
   "cell_type": "code",
   "execution_count": null,
   "id": "0f42c8e4-1cb4-4790-a46b-12351569afd5",
   "metadata": {},
   "outputs": [],
   "source": []
  },
  {
   "cell_type": "code",
   "execution_count": null,
   "id": "efba3ef3-626e-49bc-936c-95c428079d6e",
   "metadata": {},
   "outputs": [],
   "source": []
  },
  {
   "cell_type": "code",
   "execution_count": null,
   "id": "e950a7b8-3269-4ec5-ab46-68cbe3833e46",
   "metadata": {},
   "outputs": [],
   "source": []
  },
  {
   "cell_type": "code",
   "execution_count": null,
   "id": "a7809cfd-0b15-4095-b800-02e73bf56528",
   "metadata": {},
   "outputs": [],
   "source": []
  }
 ],
 "metadata": {
  "kernelspec": {
   "display_name": "Python 3 (ipykernel)",
   "language": "python",
   "name": "python3"
  },
  "language_info": {
   "codemirror_mode": {
    "name": "ipython",
    "version": 3
   },
   "file_extension": ".py",
   "mimetype": "text/x-python",
   "name": "python",
   "nbconvert_exporter": "python",
   "pygments_lexer": "ipython3",
   "version": "3.10.8"
  }
 },
 "nbformat": 4,
 "nbformat_minor": 5
}
