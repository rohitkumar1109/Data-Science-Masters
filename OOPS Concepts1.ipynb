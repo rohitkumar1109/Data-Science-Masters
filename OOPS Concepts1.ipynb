{
 "cells": [
  {
   "cell_type": "code",
   "execution_count": 1,
   "id": "a4bbbebf-ef0a-441f-8392-4c1d407a73a6",
   "metadata": {},
   "outputs": [],
   "source": [
    "class test:\n",
    "    pass"
   ]
  },
  {
   "cell_type": "code",
   "execution_count": 2,
   "id": "dc828ce9-f3a7-4c35-8e8a-88fb9e1c18ae",
   "metadata": {},
   "outputs": [],
   "source": [
    "a = test()"
   ]
  },
  {
   "cell_type": "code",
   "execution_count": 3,
   "id": "311b4c31-e672-4d7a-80dc-26d32820492e",
   "metadata": {},
   "outputs": [
    {
     "name": "stdout",
     "output_type": "stream",
     "text": [
      "<class '__main__.test'>\n"
     ]
    }
   ],
   "source": [
    "print(type(a))"
   ]
  },
  {
   "cell_type": "code",
   "execution_count": 4,
   "id": "28f4191c-20c0-41c0-9c68-15e3348a3e1b",
   "metadata": {},
   "outputs": [],
   "source": [
    "class pwskills:\n",
    "    \n",
    "    def welcome_msg(self):\n",
    "        print(\"Welcome to PWskills\")"
   ]
  },
  {
   "cell_type": "code",
   "execution_count": 5,
   "id": "5a2d2cce-1a43-4e52-bc7b-123a68de26a8",
   "metadata": {},
   "outputs": [],
   "source": [
    "amit = pwskills()"
   ]
  },
  {
   "cell_type": "code",
   "execution_count": 6,
   "id": "af49c689-f533-4326-8f46-096b8f634b93",
   "metadata": {},
   "outputs": [
    {
     "name": "stdout",
     "output_type": "stream",
     "text": [
      "Welcome to PWskills\n"
     ]
    }
   ],
   "source": [
    "amit.welcome_msg()"
   ]
  },
  {
   "cell_type": "code",
   "execution_count": 7,
   "id": "7add8e10-8e6b-4bf6-a081-64536a118888",
   "metadata": {},
   "outputs": [],
   "source": [
    "rohit = pwskills()"
   ]
  },
  {
   "cell_type": "code",
   "execution_count": 8,
   "id": "aa4a7580-bab6-4ea6-8913-4fe66a1a8f24",
   "metadata": {},
   "outputs": [
    {
     "name": "stdout",
     "output_type": "stream",
     "text": [
      "Welcome to PWskills\n"
     ]
    }
   ],
   "source": [
    "rohit.welcome_msg()"
   ]
  },
  {
   "cell_type": "code",
   "execution_count": 9,
   "id": "b0121e6c-189b-4e1b-aed8-c70a1e6d29e6",
   "metadata": {},
   "outputs": [],
   "source": [
    "class pwskills1:\n",
    "    \n",
    "    def __init__(self, phone_number, email_id, student_id):\n",
    "        \n",
    "        self.phone_number = phone_number\n",
    "        self.email_id = email_id\n",
    "        self.student_id = student_id\n",
    "        \n",
    "    def return_student_details(self):\n",
    "        return self.phone_number, self.email_id, self.student_id"
   ]
  },
  {
   "cell_type": "code",
   "execution_count": 10,
   "id": "435f049b-aa0d-4b68-9a99-31f698545034",
   "metadata": {},
   "outputs": [],
   "source": [
    "rohan = pwskills1(6578987656, \"roh@gmail.com\", 11)"
   ]
  },
  {
   "cell_type": "code",
   "execution_count": 11,
   "id": "800ce481-9410-4f9c-bf70-e89c37285590",
   "metadata": {},
   "outputs": [
    {
     "data": {
      "text/plain": [
       "6578987656"
      ]
     },
     "execution_count": 11,
     "metadata": {},
     "output_type": "execute_result"
    }
   ],
   "source": [
    "rohan.phone_number"
   ]
  },
  {
   "cell_type": "code",
   "execution_count": 12,
   "id": "6a79f18c-0398-4f55-8834-26f5bb0d7aff",
   "metadata": {},
   "outputs": [
    {
     "data": {
      "text/plain": [
       "11"
      ]
     },
     "execution_count": 12,
     "metadata": {},
     "output_type": "execute_result"
    }
   ],
   "source": [
    "rohan.student_id"
   ]
  },
  {
   "cell_type": "code",
   "execution_count": 13,
   "id": "8c171567-8f7b-4ce1-9efa-b7f609a81c9f",
   "metadata": {},
   "outputs": [
    {
     "data": {
      "text/plain": [
       "'roh@gmail.com'"
      ]
     },
     "execution_count": 13,
     "metadata": {},
     "output_type": "execute_result"
    }
   ],
   "source": [
    "rohan.email_id"
   ]
  },
  {
   "cell_type": "code",
   "execution_count": 14,
   "id": "42ce769b-1136-42cc-a432-f08956e6b065",
   "metadata": {},
   "outputs": [
    {
     "data": {
      "text/plain": [
       "(6578987656, 'roh@gmail.com', 11)"
      ]
     },
     "execution_count": 14,
     "metadata": {},
     "output_type": "execute_result"
    }
   ],
   "source": [
    "rohan.return_student_details()"
   ]
  },
  {
   "cell_type": "code",
   "execution_count": 15,
   "id": "a66ce7a3-0903-417e-9993-096bfd04cacc",
   "metadata": {},
   "outputs": [],
   "source": [
    "class pwskills2:\n",
    "    \n",
    "    def __init__(self, phone_number5, email_id, student_id):\n",
    "        \n",
    "        self.phone_number1 = phone_number5\n",
    "        self.email_id1 = email_id\n",
    "        self.student_id1 = student_id\n",
    "        \n",
    "    def return_student_details(self):\n",
    "        return self.phone_number1, self.email_id1, self.student_id1"
   ]
  },
  {
   "cell_type": "code",
   "execution_count": 16,
   "id": "37b088a6-3581-4233-84a3-b970aadab79a",
   "metadata": {},
   "outputs": [],
   "source": [
    "rohit = pwskills2(9898789987, \"rk@gmail.com\", 12)"
   ]
  },
  {
   "cell_type": "code",
   "execution_count": 17,
   "id": "13d39db5-3148-44ca-adfa-ed187fc211a1",
   "metadata": {},
   "outputs": [
    {
     "data": {
      "text/plain": [
       "9898789987"
      ]
     },
     "execution_count": 17,
     "metadata": {},
     "output_type": "execute_result"
    }
   ],
   "source": [
    "rohit.phone_number1"
   ]
  },
  {
   "cell_type": "code",
   "execution_count": 18,
   "id": "2461ea9b-f68a-4bd0-afc0-aee30a7012ac",
   "metadata": {},
   "outputs": [
    {
     "data": {
      "text/plain": [
       "'rk@gmail.com'"
      ]
     },
     "execution_count": 18,
     "metadata": {},
     "output_type": "execute_result"
    }
   ],
   "source": [
    "rohit.email_id1"
   ]
  },
  {
   "cell_type": "code",
   "execution_count": 19,
   "id": "ef5d147b-a3e7-456a-b5d5-beab2f80f768",
   "metadata": {},
   "outputs": [],
   "source": [
    "class pwskills3:\n",
    "    \n",
    "    def __init__(self, phone_number5, email_id, student_id):\n",
    "        \n",
    "        self.phone_number1 = phone_number5\n",
    "        self.email_id1 = email_id\n",
    "        self.student_id1 = student_id\n",
    "    "
   ]
  },
  {
   "cell_type": "code",
   "execution_count": 20,
   "id": "38062194-28d9-4074-b21f-870d559542ee",
   "metadata": {},
   "outputs": [],
   "source": [
    "sohan = pwskills3(6768998789, \"sh@gmail.com\", 13)"
   ]
  },
  {
   "cell_type": "code",
   "execution_count": 21,
   "id": "bab79e01-4f0e-4b0d-857b-172e7d2b3f8c",
   "metadata": {},
   "outputs": [
    {
     "data": {
      "text/plain": [
       "6768998789"
      ]
     },
     "execution_count": 21,
     "metadata": {},
     "output_type": "execute_result"
    }
   ],
   "source": [
    "sohan.phone_number1"
   ]
  },
  {
   "cell_type": "markdown",
   "id": "bf76bed2-7c90-41d6-8d54-590a71e2b5ec",
   "metadata": {},
   "source": [
    "## Polymorphism"
   ]
  },
  {
   "cell_type": "code",
   "execution_count": 22,
   "id": "e67ec422-76c3-44e7-a1c4-a086a2abd03c",
   "metadata": {},
   "outputs": [],
   "source": [
    "def test(a,b):\n",
    "    return a+b"
   ]
  },
  {
   "cell_type": "code",
   "execution_count": 23,
   "id": "3ac571e4-980e-4a03-9a00-5e65ed5cc96b",
   "metadata": {},
   "outputs": [
    {
     "data": {
      "text/plain": [
       "11"
      ]
     },
     "execution_count": 23,
     "metadata": {},
     "output_type": "execute_result"
    }
   ],
   "source": [
    "test(4,7)"
   ]
  },
  {
   "cell_type": "code",
   "execution_count": 24,
   "id": "48dd9b60-105e-4312-836b-15e42d107473",
   "metadata": {},
   "outputs": [
    {
     "data": {
      "text/plain": [
       "'Rohit Kumar'"
      ]
     },
     "execution_count": 24,
     "metadata": {},
     "output_type": "execute_result"
    }
   ],
   "source": [
    "test(\"Rohit \",\"Kumar\")"
   ]
  },
  {
   "cell_type": "code",
   "execution_count": 25,
   "id": "9a597871-b183-4f23-9c02-bc145b23c13c",
   "metadata": {},
   "outputs": [
    {
     "data": {
      "text/plain": [
       "[1, 2, 3, 4, 5, 6, 7, 8, 4]"
      ]
     },
     "execution_count": 25,
     "metadata": {},
     "output_type": "execute_result"
    }
   ],
   "source": [
    "test([1,2,3,4],[5,6,7,8,4])"
   ]
  },
  {
   "cell_type": "code",
   "execution_count": 26,
   "id": "2476bafd-305f-497f-8114-9f28bbe7d812",
   "metadata": {},
   "outputs": [],
   "source": [
    "class data_science:\n",
    "    def syllabus(self):\n",
    "        print (\"This is my syllabus for data science\")"
   ]
  },
  {
   "cell_type": "code",
   "execution_count": 27,
   "id": "fab4542f-924b-40b7-a55e-0b4d071033f0",
   "metadata": {},
   "outputs": [],
   "source": [
    "class web_dev:\n",
    "    def syllabus(self):\n",
    "        print (\"This is my syllabus for web dev\")"
   ]
  },
  {
   "cell_type": "code",
   "execution_count": 28,
   "id": "442483d7-9ae5-4741-8003-bb1d742e325e",
   "metadata": {},
   "outputs": [],
   "source": [
    "def class_parcer(class_obj):\n",
    "    for i in class_obj :\n",
    "        i.syllabus()"
   ]
  },
  {
   "cell_type": "code",
   "execution_count": 29,
   "id": "0b7dbbcf-1fc0-41ec-b75e-46afd3eb95f6",
   "metadata": {},
   "outputs": [],
   "source": [
    "obj_data_science = data_science()"
   ]
  },
  {
   "cell_type": "code",
   "execution_count": 30,
   "id": "4ed698a6-1cb5-4639-a75b-3ac4190d9869",
   "metadata": {},
   "outputs": [],
   "source": [
    "obj_web_dev = web_dev()"
   ]
  },
  {
   "cell_type": "code",
   "execution_count": 31,
   "id": "4b09920d-d22e-4287-851e-5adf41eef031",
   "metadata": {},
   "outputs": [],
   "source": [
    "class_obj = [obj_data_science , obj_web_dev]"
   ]
  },
  {
   "cell_type": "code",
   "execution_count": 32,
   "id": "436223d1-9316-473d-8b51-fb90b177a1bf",
   "metadata": {},
   "outputs": [
    {
     "name": "stdout",
     "output_type": "stream",
     "text": [
      "This is my syllabus for data science\n",
      "This is my syllabus for web dev\n"
     ]
    }
   ],
   "source": [
    "class_parcer(class_obj)"
   ]
  },
  {
   "cell_type": "markdown",
   "id": "7835ee9e-73f9-494f-a187-ded96d485baf",
   "metadata": {},
   "source": [
    "## Encapsulation"
   ]
  },
  {
   "cell_type": "code",
   "execution_count": 43,
   "id": "b78e4291-7992-49a2-a794-f94a622d3c9b",
   "metadata": {},
   "outputs": [],
   "source": [
    "class car:\n",
    "    \n",
    "    def __init__(self, year, maker, model, speed):\n",
    "        \n",
    "        self.__year = year\n",
    "        self.__maker = maker\n",
    "        self.__model = model\n",
    "        self.__speed = 0\n",
    "        "
   ]
  },
  {
   "cell_type": "code",
   "execution_count": 44,
   "id": "482e101a-ad49-48a5-a349-285967a6c00e",
   "metadata": {},
   "outputs": [],
   "source": [
    "obj_car = car(2011, \"TATA\", \"Safari\", 120)"
   ]
  },
  {
   "cell_type": "code",
   "execution_count": 45,
   "id": "5cdcada0-a73f-4e92-a7d9-97f6f55dfb44",
   "metadata": {},
   "outputs": [
    {
     "data": {
      "text/plain": [
       "2011"
      ]
     },
     "execution_count": 45,
     "metadata": {},
     "output_type": "execute_result"
    }
   ],
   "source": [
    "obj_car._car__year"
   ]
  },
  {
   "cell_type": "code",
   "execution_count": 46,
   "id": "515fe042-b4b8-45fa-82b4-17b535944e5d",
   "metadata": {},
   "outputs": [
    {
     "data": {
      "text/plain": [
       "'TATA'"
      ]
     },
     "execution_count": 46,
     "metadata": {},
     "output_type": "execute_result"
    }
   ],
   "source": [
    "obj_car._car__maker"
   ]
  },
  {
   "cell_type": "code",
   "execution_count": 53,
   "id": "0a66e001-b556-418b-84e7-0d9347389564",
   "metadata": {},
   "outputs": [],
   "source": [
    "class car2:\n",
    "    \n",
    "    def __init__(self, year, maker, model, speed):\n",
    "        \n",
    "        self.__year = year\n",
    "        self.__maker = maker\n",
    "        self.__model = model\n",
    "        self.__speed = 0\n",
    "    \n",
    "    def set_speed(self, speed):\n",
    "        self.__speed = 0 if speed < 0 else speed"
   ]
  },
  {
   "cell_type": "code",
   "execution_count": 54,
   "id": "6b402f15-fa41-40d5-bced-ef9d809c60a3",
   "metadata": {},
   "outputs": [],
   "source": [
    "obj_car1 = car2(2022,\"TATA\", \"Safari\", 120)"
   ]
  },
  {
   "cell_type": "code",
   "execution_count": 55,
   "id": "d448d1e1-3ac1-41ee-a79d-374d35bdded7",
   "metadata": {},
   "outputs": [],
   "source": [
    "obj_car1.set_speed(250)"
   ]
  },
  {
   "cell_type": "code",
   "execution_count": 56,
   "id": "a6899790-f3ab-41f6-946b-c858dd5a74f3",
   "metadata": {},
   "outputs": [
    {
     "data": {
      "text/plain": [
       "250"
      ]
     },
     "execution_count": 56,
     "metadata": {},
     "output_type": "execute_result"
    }
   ],
   "source": [
    "obj_car1._car2__speed"
   ]
  },
  {
   "cell_type": "code",
   "execution_count": 57,
   "id": "f486385b-ff67-46af-a67f-5648d6a531eb",
   "metadata": {},
   "outputs": [],
   "source": [
    "obj_car1.set_speed(-2250)"
   ]
  },
  {
   "cell_type": "code",
   "execution_count": 58,
   "id": "270cef2b-b0ff-4d66-8d75-10b65c983d73",
   "metadata": {},
   "outputs": [
    {
     "data": {
      "text/plain": [
       "0"
      ]
     },
     "execution_count": 58,
     "metadata": {},
     "output_type": "execute_result"
    }
   ],
   "source": [
    "obj_car1._car2__speed"
   ]
  },
  {
   "cell_type": "code",
   "execution_count": 64,
   "id": "c131720f-b992-4bcc-bc97-782636b90f68",
   "metadata": {},
   "outputs": [],
   "source": [
    "class car3:\n",
    "    \n",
    "    def __init__(self, year, maker, model, speed):\n",
    "        \n",
    "        self.__year = year\n",
    "        self.__maker = maker\n",
    "        self.__model = model\n",
    "        self.__speed = 0\n",
    "    \n",
    "    def set_speed(self, speed):\n",
    "        self.__speed = 0 if speed < 0 else speed\n",
    "        \n",
    "    def get_speed(self):\n",
    "        return self.__speed"
   ]
  },
  {
   "cell_type": "code",
   "execution_count": 65,
   "id": "5f440ed5-1168-4695-96dc-15cd89ac47f2",
   "metadata": {},
   "outputs": [],
   "source": [
    "obj_car2 = car3(2010,\"TATA\", \"Safari\", 220)"
   ]
  },
  {
   "cell_type": "code",
   "execution_count": 68,
   "id": "f8473eed-02fd-4d1c-b303-24425a28c934",
   "metadata": {},
   "outputs": [
    {
     "data": {
      "text/plain": [
       "0"
      ]
     },
     "execution_count": 68,
     "metadata": {},
     "output_type": "execute_result"
    }
   ],
   "source": [
    "obj_car2.get_speed()"
   ]
  },
  {
   "cell_type": "code",
   "execution_count": 69,
   "id": "f26eb221-85f7-4df1-9c8c-6c0b760a7b16",
   "metadata": {},
   "outputs": [],
   "source": [
    "obj_car2.set_speed(320)"
   ]
  },
  {
   "cell_type": "code",
   "execution_count": 70,
   "id": "6029cfac-021a-4898-8aa9-c8dab7b0c9f4",
   "metadata": {},
   "outputs": [
    {
     "data": {
      "text/plain": [
       "320"
      ]
     },
     "execution_count": 70,
     "metadata": {},
     "output_type": "execute_result"
    }
   ],
   "source": [
    "obj_car2.get_speed()"
   ]
  },
  {
   "cell_type": "code",
   "execution_count": 11,
   "id": "38f51d52-c1dd-44e6-885b-4fe5e7826619",
   "metadata": {},
   "outputs": [],
   "source": [
    "class bank_account:\n",
    "    \n",
    "    def __init__(self, account_number, balance):\n",
    "        \n",
    "        self.__account_number = account_number\n",
    "        self.__balance = balance\n",
    "        \n",
    "    def deposit(self, amount):\n",
    "        self.__balance = self.__balance + amount\n",
    "        \n",
    "    def withdraw(self, amount):\n",
    "        if self.__balance >= amount:\n",
    "            self.__balance = self.__balance - amount\n",
    "            return True\n",
    "        else:\n",
    "            return False\n",
    "        \n",
    "    def get_balance(self):\n",
    "        return self.__balance"
   ]
  },
  {
   "cell_type": "code",
   "execution_count": 12,
   "id": "d531aeb3-3089-4968-816b-9c2a647696b1",
   "metadata": {},
   "outputs": [],
   "source": [
    "obj_bank_account = bank_account(7887676545, 5000)"
   ]
  },
  {
   "cell_type": "code",
   "execution_count": 13,
   "id": "00af46b6-c88d-4e58-920e-d0f4b8fa01f9",
   "metadata": {},
   "outputs": [],
   "source": [
    "obj_bank_account.deposit(1000)"
   ]
  },
  {
   "cell_type": "code",
   "execution_count": 14,
   "id": "8622eadc-59e5-4e2c-8d86-9f29242c4841",
   "metadata": {},
   "outputs": [
    {
     "data": {
      "text/plain": [
       "6000"
      ]
     },
     "execution_count": 14,
     "metadata": {},
     "output_type": "execute_result"
    }
   ],
   "source": [
    "obj_bank_account.get_balance()"
   ]
  },
  {
   "cell_type": "code",
   "execution_count": 15,
   "id": "44aebec2-8f6a-4648-9403-5933d759570f",
   "metadata": {},
   "outputs": [
    {
     "data": {
      "text/plain": [
       "True"
      ]
     },
     "execution_count": 15,
     "metadata": {},
     "output_type": "execute_result"
    }
   ],
   "source": [
    "obj_bank_account.withdraw(3000)"
   ]
  },
  {
   "cell_type": "code",
   "execution_count": 16,
   "id": "0bd0deb0-dce3-46f9-b5bb-64c53847fc86",
   "metadata": {},
   "outputs": [
    {
     "data": {
      "text/plain": [
       "3000"
      ]
     },
     "execution_count": 16,
     "metadata": {},
     "output_type": "execute_result"
    }
   ],
   "source": [
    "obj_bank_account.get_balance()"
   ]
  },
  {
   "cell_type": "markdown",
   "id": "e07283c5-063d-4857-a87a-93770f216924",
   "metadata": {},
   "source": [
    "## Inheritance"
   ]
  },
  {
   "cell_type": "code",
   "execution_count": 1,
   "id": "48e3ef44-c2bf-4e6f-a9cf-ba658718e0da",
   "metadata": {},
   "outputs": [],
   "source": [
    "class parent:\n",
    "    def test_parent(self):\n",
    "        print(\"This is my parent class\")"
   ]
  },
  {
   "cell_type": "code",
   "execution_count": 2,
   "id": "0f0979a8-90b3-4a5b-9311-e97de073eeef",
   "metadata": {},
   "outputs": [],
   "source": [
    "class child(parent):\n",
    "    pass"
   ]
  },
  {
   "cell_type": "code",
   "execution_count": 3,
   "id": "ae022cd1-7ab0-41ff-b0bd-617e57365e32",
   "metadata": {},
   "outputs": [],
   "source": [
    "obj_child = child()"
   ]
  },
  {
   "cell_type": "code",
   "execution_count": 4,
   "id": "9ed3f695-0ea3-45c6-97e7-f2d533c80a03",
   "metadata": {},
   "outputs": [
    {
     "name": "stdout",
     "output_type": "stream",
     "text": [
      "This is my parent class\n"
     ]
    }
   ],
   "source": [
    "obj_child.test_parent()"
   ]
  },
  {
   "cell_type": "code",
   "execution_count": 7,
   "id": "d171f890-a017-4bfc-a35c-18b773f7823f",
   "metadata": {},
   "outputs": [],
   "source": [
    "## Multi-level Inheritance\n",
    "\n",
    "class class1:\n",
    "    def test_class1(self):\n",
    "        print(\"This is my test class 1\")\n",
    "        \n",
    "class class2(class1):\n",
    "    def test_class2(self):\n",
    "        print(\"This is my test class 2\")\n",
    "        \n",
    "class class3(class2):\n",
    "    def test_class3(self):\n",
    "        print(\"This is my test class 3\")"
   ]
  },
  {
   "cell_type": "code",
   "execution_count": 8,
   "id": "2a6bf1dd-7c9b-444e-a1ec-59f11536cbe4",
   "metadata": {},
   "outputs": [],
   "source": [
    "obj_class = class3()"
   ]
  },
  {
   "cell_type": "code",
   "execution_count": 9,
   "id": "b043210a-8a17-44f1-b0d6-60e7ae3ca898",
   "metadata": {},
   "outputs": [
    {
     "name": "stdout",
     "output_type": "stream",
     "text": [
      "This is my test class 1\n"
     ]
    }
   ],
   "source": [
    "obj_class.test_class1()"
   ]
  },
  {
   "cell_type": "code",
   "execution_count": 10,
   "id": "c1530502-a6dc-4130-87f9-d694ac1e5688",
   "metadata": {},
   "outputs": [
    {
     "name": "stdout",
     "output_type": "stream",
     "text": [
      "This is my test class 2\n"
     ]
    }
   ],
   "source": [
    "obj_class.test_class2()"
   ]
  },
  {
   "cell_type": "code",
   "execution_count": 11,
   "id": "c4f565f7-9919-4dbf-87d4-96c529f06184",
   "metadata": {},
   "outputs": [
    {
     "name": "stdout",
     "output_type": "stream",
     "text": [
      "This is my test class 3\n"
     ]
    }
   ],
   "source": [
    "obj_class.test_class3()"
   ]
  },
  {
   "cell_type": "code",
   "execution_count": 15,
   "id": "34d0e147-dcda-40a3-a90a-9796cab946b2",
   "metadata": {},
   "outputs": [],
   "source": [
    "## Multiple Inheritance\n",
    "\n",
    "class class1:\n",
    "    def test_class1(self):\n",
    "        print(\"This is my test class 1\")\n",
    "        \n",
    "class class2:\n",
    "    def test_class2(self):\n",
    "        print(\"This is my test class 2\")\n",
    "        \n",
    "class class3(class1,class2):\n",
    "    def test_class3(self):\n",
    "        pass"
   ]
  },
  {
   "cell_type": "code",
   "execution_count": 16,
   "id": "e4465c59-52a5-43be-9374-6e3639e71981",
   "metadata": {},
   "outputs": [],
   "source": [
    "obj_class1 = class3()"
   ]
  },
  {
   "cell_type": "code",
   "execution_count": 17,
   "id": "c3a84e2c-b7e0-4406-b1e0-550730eabaab",
   "metadata": {},
   "outputs": [],
   "source": [
    "obj_class1.test_class3()"
   ]
  },
  {
   "cell_type": "code",
   "execution_count": 18,
   "id": "d64dd318-33bb-4ae7-bd9b-8f9275d6f4a5",
   "metadata": {},
   "outputs": [
    {
     "name": "stdout",
     "output_type": "stream",
     "text": [
      "This is my test class 2\n"
     ]
    }
   ],
   "source": [
    "obj_class1.test_class2()"
   ]
  },
  {
   "cell_type": "code",
   "execution_count": 19,
   "id": "1acf3024-d0ba-44ca-934e-5f2394820143",
   "metadata": {},
   "outputs": [
    {
     "name": "stdout",
     "output_type": "stream",
     "text": [
      "This is my test class 1\n"
     ]
    }
   ],
   "source": [
    "obj_class1.test_class1()"
   ]
  },
  {
   "cell_type": "markdown",
   "id": "b1bb0f7a-fd1f-407f-8a6c-31c20d04dead",
   "metadata": {},
   "source": [
    "## Abstraction"
   ]
  },
  {
   "cell_type": "code",
   "execution_count": 1,
   "id": "14a4d01f-4d44-4781-8a2b-1962a6ef2a8c",
   "metadata": {},
   "outputs": [],
   "source": [
    "import abc\n",
    "\n",
    "class pwskills:\n",
    "    \n",
    "    @abc.abstractmethod\n",
    "    def student_details(self):\n",
    "        pass\n",
    "    \n",
    "    @abc.abstractmethod\n",
    "    def student_assignments(self):\n",
    "        pass\n",
    "    \n",
    "    @abc.abstractmethod\n",
    "    def student_marks(self):\n",
    "        pass\n",
    "    "
   ]
  },
  {
   "cell_type": "code",
   "execution_count": 3,
   "id": "66512fc3-50af-4845-9dac-14116e6cc18f",
   "metadata": {},
   "outputs": [],
   "source": [
    "class data_science(pwskills):\n",
    "    \n",
    "    def student_details(self):\n",
    "        return \"This will return the details of our students for data science masters\"\n",
    "    \n",
    "    def student_assignments(self):\n",
    "        return \"This will return the details of assignments for data science masters\""
   ]
  },
  {
   "cell_type": "code",
   "execution_count": 5,
   "id": "d2ccd486-9a31-4ced-b324-5bdb19622a57",
   "metadata": {},
   "outputs": [],
   "source": [
    "class web_dev(pwskills):\n",
    "    \n",
    "    def student_details(self):\n",
    "        return \"This will return the details of our students for web dev\"\n",
    "    \n",
    "    def student_marks(self):\n",
    "        return \"This will return the marks for web dev students\""
   ]
  },
  {
   "cell_type": "code",
   "execution_count": 6,
   "id": "6d8ade66-9ce6-4cd6-8551-fbc29fbd8eee",
   "metadata": {},
   "outputs": [],
   "source": [
    "ds = data_science()"
   ]
  },
  {
   "cell_type": "code",
   "execution_count": 9,
   "id": "2d5497d2-ec1e-4d42-aabd-90c3d9b32480",
   "metadata": {},
   "outputs": [
    {
     "data": {
      "text/plain": [
       "'This will return the details of our students for data science masters'"
      ]
     },
     "execution_count": 9,
     "metadata": {},
     "output_type": "execute_result"
    }
   ],
   "source": [
    "ds.student_details()"
   ]
  },
  {
   "cell_type": "code",
   "execution_count": 10,
   "id": "802274bc-cc3d-4e58-ac5e-551ae27d7ab3",
   "metadata": {},
   "outputs": [],
   "source": [
    "wd = web_dev()"
   ]
  },
  {
   "cell_type": "code",
   "execution_count": 11,
   "id": "136c3ace-3278-4edf-ab0b-45eae2362441",
   "metadata": {},
   "outputs": [
    {
     "data": {
      "text/plain": [
       "'This will return the marks for web dev students'"
      ]
     },
     "execution_count": 11,
     "metadata": {},
     "output_type": "execute_result"
    }
   ],
   "source": [
    "wd.student_marks()"
   ]
  },
  {
   "cell_type": "markdown",
   "id": "7a9fcbdf-29af-4138-8cab-a6feb6851dd7",
   "metadata": {},
   "source": [
    "## Decorators"
   ]
  },
  {
   "cell_type": "code",
   "execution_count": 13,
   "id": "a514b26f-b337-4621-b297-d2d29311c7ba",
   "metadata": {},
   "outputs": [],
   "source": [
    "def deco(func):\n",
    "    \n",
    "    def inner_deco():\n",
    "        print('This is the start of my program')\n",
    "        func()\n",
    "        print('This is the end of my program')\n",
    "    return inner_deco "
   ]
  },
  {
   "cell_type": "code",
   "execution_count": 14,
   "id": "f337683d-d32c-4952-91ca-6ddf26e392e8",
   "metadata": {},
   "outputs": [],
   "source": [
    "@deco\n",
    "def test():\n",
    "    print(87+56)"
   ]
  },
  {
   "cell_type": "code",
   "execution_count": 15,
   "id": "2deaf06c-5bdf-4bdd-946c-26ce9f18250f",
   "metadata": {},
   "outputs": [
    {
     "name": "stdout",
     "output_type": "stream",
     "text": [
      "This is the start of my program\n",
      "143\n",
      "This is the end of my program\n"
     ]
    }
   ],
   "source": [
    "test()"
   ]
  },
  {
   "cell_type": "code",
   "execution_count": 35,
   "id": "c9847304-07ac-48aa-ae51-5830931bca1d",
   "metadata": {},
   "outputs": [],
   "source": [
    "import time\n",
    "\n",
    "def test_timer(func):\n",
    "    \n",
    "    def inner_test_timer():\n",
    "        start = time.time()\n",
    "        func()\n",
    "        end = time.time()\n",
    "        print(end-start)\n",
    "    return inner_test_timer"
   ]
  },
  {
   "cell_type": "code",
   "execution_count": 36,
   "id": "87c949da-7cb4-431f-8377-4f387080ab6e",
   "metadata": {},
   "outputs": [],
   "source": [
    "@test_timer\n",
    "def test1():\n",
    "    print(54+76)"
   ]
  },
  {
   "cell_type": "code",
   "execution_count": 37,
   "id": "f23ab119-1d43-45d9-8920-1b397af095a8",
   "metadata": {},
   "outputs": [
    {
     "name": "stdout",
     "output_type": "stream",
     "text": [
      "130\n",
      "5.364418029785156e-05\n"
     ]
    }
   ],
   "source": [
    "test1()"
   ]
  },
  {
   "cell_type": "code",
   "execution_count": 38,
   "id": "53ebe49a-0d4f-4240-b0fc-f03600ae7381",
   "metadata": {},
   "outputs": [],
   "source": [
    "@test_timer\n",
    "def test2():\n",
    "    for i in range(100000000):\n",
    "        pass"
   ]
  },
  {
   "cell_type": "code",
   "execution_count": 39,
   "id": "f33f1c08-b8ba-412c-bdfd-2ff29ec705ef",
   "metadata": {},
   "outputs": [
    {
     "name": "stdout",
     "output_type": "stream",
     "text": [
      "2.487133741378784\n"
     ]
    }
   ],
   "source": [
    "test2()"
   ]
  },
  {
   "cell_type": "code",
   "execution_count": null,
   "id": "775cf2f0-0f9d-4693-be97-9b2c735d8344",
   "metadata": {},
   "outputs": [],
   "source": []
  },
  {
   "cell_type": "code",
   "execution_count": null,
   "id": "c1642989-6d85-4197-912c-d35c9f5789f3",
   "metadata": {},
   "outputs": [],
   "source": []
  },
  {
   "cell_type": "code",
   "execution_count": null,
   "id": "3d1bf517-8b0b-41f4-8e51-46b9fa788c50",
   "metadata": {},
   "outputs": [],
   "source": []
  }
 ],
 "metadata": {
  "kernelspec": {
   "display_name": "Python 3 (ipykernel)",
   "language": "python",
   "name": "python3"
  },
  "language_info": {
   "codemirror_mode": {
    "name": "ipython",
    "version": 3
   },
   "file_extension": ".py",
   "mimetype": "text/x-python",
   "name": "python",
   "nbconvert_exporter": "python",
   "pygments_lexer": "ipython3",
   "version": "3.10.8"
  }
 },
 "nbformat": 4,
 "nbformat_minor": 5
}
