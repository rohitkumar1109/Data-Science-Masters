{
 "cells": [
  {
   "cell_type": "markdown",
   "id": "a9cb14c4-91a6-4764-854d-13fe19e54bb5",
   "metadata": {},
   "source": [
    "## Sort, Search, and Counting Functions"
   ]
  },
  {
   "cell_type": "code",
   "execution_count": 1,
   "id": "5a0f9c06-2849-44fd-b0c8-eec9a985fea2",
   "metadata": {},
   "outputs": [],
   "source": [
    "import numpy as np"
   ]
  },
  {
   "cell_type": "code",
   "execution_count": 2,
   "id": "baac0e9a-9977-43c2-a553-39ece7fd7b98",
   "metadata": {},
   "outputs": [],
   "source": [
    "arr = np.array([8,4,3,1,9,67,88,45])"
   ]
  },
  {
   "cell_type": "code",
   "execution_count": 3,
   "id": "d7565521-11a3-4134-8352-1e6564dbbff1",
   "metadata": {},
   "outputs": [
    {
     "data": {
      "text/plain": [
       "array([ 8,  4,  3,  1,  9, 67, 88, 45])"
      ]
     },
     "execution_count": 3,
     "metadata": {},
     "output_type": "execute_result"
    }
   ],
   "source": [
    "arr"
   ]
  },
  {
   "cell_type": "code",
   "execution_count": 4,
   "id": "4aec7d9f-3d73-47a4-8c04-f6e3fd6a4c3d",
   "metadata": {},
   "outputs": [
    {
     "data": {
      "text/plain": [
       "array([ 1,  3,  4,  8,  9, 45, 67, 88])"
      ]
     },
     "execution_count": 4,
     "metadata": {},
     "output_type": "execute_result"
    }
   ],
   "source": [
    "np.sort(arr)"
   ]
  },
  {
   "cell_type": "code",
   "execution_count": 6,
   "id": "c6bdfa4d-f7ea-4b7f-93f6-8de178335b5b",
   "metadata": {},
   "outputs": [
    {
     "data": {
      "text/plain": [
       "4"
      ]
     },
     "execution_count": 6,
     "metadata": {},
     "output_type": "execute_result"
    }
   ],
   "source": [
    "np.searchsorted(arr,5)"
   ]
  },
  {
   "cell_type": "code",
   "execution_count": 7,
   "id": "12141ebb-eb5c-434a-8e39-70a46e006673",
   "metadata": {},
   "outputs": [],
   "source": [
    "arr1 = np.array([0,7,6,88,0,23,45,33,0,0,0,0,5,4,8])"
   ]
  },
  {
   "cell_type": "code",
   "execution_count": 8,
   "id": "9206df24-1707-42a1-93cc-e2b6596c845a",
   "metadata": {},
   "outputs": [
    {
     "data": {
      "text/plain": [
       "array([ 0,  7,  6, 88,  0, 23, 45, 33,  0,  0,  0,  0,  5,  4,  8])"
      ]
     },
     "execution_count": 8,
     "metadata": {},
     "output_type": "execute_result"
    }
   ],
   "source": [
    "arr1"
   ]
  },
  {
   "cell_type": "code",
   "execution_count": 9,
   "id": "ced539a1-05f9-4ede-b6e3-2809338b9496",
   "metadata": {},
   "outputs": [
    {
     "data": {
      "text/plain": [
       "9"
      ]
     },
     "execution_count": 9,
     "metadata": {},
     "output_type": "execute_result"
    }
   ],
   "source": [
    "np.count_nonzero(arr1)"
   ]
  },
  {
   "cell_type": "code",
   "execution_count": 10,
   "id": "3bdb9ae9-d8be-4fc8-8bc0-a304459b9fec",
   "metadata": {},
   "outputs": [
    {
     "data": {
      "text/plain": [
       "(array([ 1,  2,  3,  5,  6,  7, 12, 13, 14]),)"
      ]
     },
     "execution_count": 10,
     "metadata": {},
     "output_type": "execute_result"
    }
   ],
   "source": [
    "np.where(arr1>0)"
   ]
  },
  {
   "cell_type": "code",
   "execution_count": 11,
   "id": "cbf87e71-0334-492d-92d9-7cecf53f31e8",
   "metadata": {},
   "outputs": [
    {
     "data": {
      "text/plain": [
       "array([ 7,  6, 88, 23, 45, 33,  8])"
      ]
     },
     "execution_count": 11,
     "metadata": {},
     "output_type": "execute_result"
    }
   ],
   "source": [
    "np.extract(arr1 > 5, arr1)"
   ]
  },
  {
   "cell_type": "markdown",
   "id": "885a6a92-8598-4469-9e51-81184c0e98d0",
   "metadata": {},
   "source": [
    "### Numpy- Byte Swapping"
   ]
  },
  {
   "cell_type": "code",
   "execution_count": 12,
   "id": "bc24ef59-6695-40dd-8a0c-f7abb1aed571",
   "metadata": {},
   "outputs": [
    {
     "data": {
      "text/plain": [
       "array([ 0,  7,  6, 88,  0, 23, 45, 33,  0,  0,  0,  0,  5,  4,  8],\n",
       "      dtype=int8)"
      ]
     },
     "execution_count": 12,
     "metadata": {},
     "output_type": "execute_result"
    }
   ],
   "source": [
    "np.byte(arr1)"
   ]
  },
  {
   "cell_type": "code",
   "execution_count": 13,
   "id": "7dd2594e-dc0c-4a2f-948c-00aa236b9628",
   "metadata": {},
   "outputs": [
    {
     "data": {
      "text/plain": [
       "array([                  0,  504403158265495552,  432345564227567616,\n",
       "       6341068275337658368,                   0, 1657324662872342528,\n",
       "       3242591731706757120, 2377900603251621888,                   0,\n",
       "                         0,                   0,                   0,\n",
       "        360287970189639680,  288230376151711744,  576460752303423488])"
      ]
     },
     "execution_count": 13,
     "metadata": {},
     "output_type": "execute_result"
    }
   ],
   "source": [
    "arr1.byteswap()"
   ]
  },
  {
   "cell_type": "code",
   "execution_count": 14,
   "id": "d4cebdfc-a257-422e-9ebe-9f8ae9bb6854",
   "metadata": {},
   "outputs": [
    {
     "data": {
      "text/plain": [
       "array([ 576460752303423488,  288230376151711744,  216172782113783808,\n",
       "         72057594037927936,  648518346341351424, 4827858800541171712,\n",
       "       6341068275337658368, 3242591731706757120])"
      ]
     },
     "execution_count": 14,
     "metadata": {},
     "output_type": "execute_result"
    }
   ],
   "source": [
    "arr.byteswap()"
   ]
  },
  {
   "cell_type": "code",
   "execution_count": 15,
   "id": "2a832c89-36ae-4843-ab55-0062b116fd08",
   "metadata": {},
   "outputs": [
    {
     "data": {
      "text/plain": [
       "array([ 576460752303423488,  288230376151711744,  216172782113783808,\n",
       "         72057594037927936,  648518346341351424, 4827858800541171712,\n",
       "       6341068275337658368, 3242591731706757120])"
      ]
     },
     "execution_count": 15,
     "metadata": {},
     "output_type": "execute_result"
    }
   ],
   "source": [
    "arr.byteswap(True)"
   ]
  },
  {
   "cell_type": "code",
   "execution_count": 16,
   "id": "48fedcff-fbec-411f-9ac1-f5c16ee6afe7",
   "metadata": {},
   "outputs": [],
   "source": [
    "## Numpy- Copies & Views"
   ]
  },
  {
   "cell_type": "code",
   "execution_count": 17,
   "id": "2023968b-25bd-46e7-a7cf-0af22c9bac12",
   "metadata": {},
   "outputs": [
    {
     "data": {
      "text/plain": [
       "array([ 576460752303423488,  288230376151711744,  216172782113783808,\n",
       "         72057594037927936,  648518346341351424, 4827858800541171712,\n",
       "       6341068275337658368, 3242591731706757120])"
      ]
     },
     "execution_count": 17,
     "metadata": {},
     "output_type": "execute_result"
    }
   ],
   "source": [
    "arr"
   ]
  },
  {
   "cell_type": "code",
   "execution_count": 18,
   "id": "befcf018-06a3-42a9-af48-612439993bf6",
   "metadata": {},
   "outputs": [
    {
     "data": {
      "text/plain": [
       "array([ 0,  7,  6, 88,  0, 23, 45, 33,  0,  0,  0,  0,  5,  4,  8])"
      ]
     },
     "execution_count": 18,
     "metadata": {},
     "output_type": "execute_result"
    }
   ],
   "source": [
    "arr1"
   ]
  },
  {
   "cell_type": "code",
   "execution_count": 43,
   "id": "a20dfeff-9ceb-4639-a7cc-af9bfd5ec2ab",
   "metadata": {},
   "outputs": [],
   "source": [
    "# Creates Deep Copy\n",
    "a = np.copy(arr1)"
   ]
  },
  {
   "cell_type": "code",
   "execution_count": 44,
   "id": "51ebfdfd-9073-45b6-b961-9523187397b5",
   "metadata": {},
   "outputs": [],
   "source": [
    "# Creates Shallow Copy\n",
    "b= arr1.view()"
   ]
  },
  {
   "cell_type": "code",
   "execution_count": 22,
   "id": "1468e729-7d0d-43f9-8e58-f55ed9238567",
   "metadata": {},
   "outputs": [
    {
     "data": {
      "text/plain": [
       "array([ 0,  7,  6, 88,  0, 23, 45, 33,  0,  0,  0,  0,  5,  4,  8])"
      ]
     },
     "execution_count": 22,
     "metadata": {},
     "output_type": "execute_result"
    }
   ],
   "source": [
    "b"
   ]
  },
  {
   "cell_type": "code",
   "execution_count": 23,
   "id": "4498bebf-a083-4dd7-9a6a-f0b97e1292be",
   "metadata": {},
   "outputs": [],
   "source": [
    "b[0] = 76"
   ]
  },
  {
   "cell_type": "code",
   "execution_count": 24,
   "id": "da0359a4-6592-48ac-a3d7-fbbe44333379",
   "metadata": {},
   "outputs": [
    {
     "data": {
      "text/plain": [
       "array([76,  7,  6, 88,  0, 23, 45, 33,  0,  0,  0,  0,  5,  4,  8])"
      ]
     },
     "execution_count": 24,
     "metadata": {},
     "output_type": "execute_result"
    }
   ],
   "source": [
    "b"
   ]
  },
  {
   "cell_type": "code",
   "execution_count": 25,
   "id": "94486616-fe27-43ef-b62d-6ee0691d808a",
   "metadata": {},
   "outputs": [
    {
     "data": {
      "text/plain": [
       "array([76,  7,  6, 88,  0, 23, 45, 33,  0,  0,  0,  0,  5,  4,  8])"
      ]
     },
     "execution_count": 25,
     "metadata": {},
     "output_type": "execute_result"
    }
   ],
   "source": [
    "arr1"
   ]
  },
  {
   "cell_type": "code",
   "execution_count": 26,
   "id": "f35d8e20-c6c2-4078-aac6-f9a3f35c6064",
   "metadata": {},
   "outputs": [],
   "source": [
    "## Numpy- Matrix Library"
   ]
  },
  {
   "cell_type": "code",
   "execution_count": 28,
   "id": "139f941c-d200-478c-a18f-d451d6d7b8f7",
   "metadata": {},
   "outputs": [],
   "source": [
    "import numpy.matlib as nm"
   ]
  },
  {
   "cell_type": "code",
   "execution_count": 29,
   "id": "5a0b6788-0826-42d7-8402-83ca2ee91878",
   "metadata": {},
   "outputs": [
    {
     "data": {
      "text/plain": [
       "matrix([[0., 0., 0., 0., 0.]])"
      ]
     },
     "execution_count": 29,
     "metadata": {},
     "output_type": "execute_result"
    }
   ],
   "source": [
    "nm.zeros(5)"
   ]
  },
  {
   "cell_type": "code",
   "execution_count": 30,
   "id": "ed0f3e29-d52f-4e67-9922-9fc9c39a7cb5",
   "metadata": {},
   "outputs": [
    {
     "data": {
      "text/plain": [
       "matrix([[1., 1., 1., 1.],\n",
       "        [1., 1., 1., 1.],\n",
       "        [1., 1., 1., 1.]])"
      ]
     },
     "execution_count": 30,
     "metadata": {},
     "output_type": "execute_result"
    }
   ],
   "source": [
    "nm.ones((3,4))"
   ]
  },
  {
   "cell_type": "code",
   "execution_count": 31,
   "id": "9c55d06e-31e8-4563-8402-922d4d10a39f",
   "metadata": {},
   "outputs": [
    {
     "data": {
      "text/plain": [
       "matrix([[1., 0., 0., 0.],\n",
       "        [0., 1., 0., 0.],\n",
       "        [0., 0., 1., 0.],\n",
       "        [0., 0., 0., 1.]])"
      ]
     },
     "execution_count": 31,
     "metadata": {},
     "output_type": "execute_result"
    }
   ],
   "source": [
    "nm.eye(4)"
   ]
  },
  {
   "cell_type": "code",
   "execution_count": 32,
   "id": "7105b16e-9e2a-49a2-a79c-13ff6872a349",
   "metadata": {},
   "outputs": [],
   "source": [
    "## Numpy- Linear Algebra"
   ]
  },
  {
   "cell_type": "code",
   "execution_count": 34,
   "id": "19d87565-a933-469b-8c7f-9677397889b1",
   "metadata": {},
   "outputs": [],
   "source": [
    "arr1 = np.random.randint([[2,3],[4,5]])"
   ]
  },
  {
   "cell_type": "code",
   "execution_count": 35,
   "id": "44859467-8ac2-4d73-98cb-dcfdf60652a5",
   "metadata": {},
   "outputs": [],
   "source": [
    "arr2 = np.random.randint([[3,2],[5,4]])"
   ]
  },
  {
   "cell_type": "code",
   "execution_count": 36,
   "id": "6a245549-cb11-44ee-82a9-2500d2195b61",
   "metadata": {},
   "outputs": [
    {
     "data": {
      "text/plain": [
       "array([[0, 2],\n",
       "       [3, 3]])"
      ]
     },
     "execution_count": 36,
     "metadata": {},
     "output_type": "execute_result"
    }
   ],
   "source": [
    "arr1"
   ]
  },
  {
   "cell_type": "code",
   "execution_count": 37,
   "id": "07dd1566-5c77-4537-a6da-0e6e949d4076",
   "metadata": {},
   "outputs": [
    {
     "data": {
      "text/plain": [
       "array([[0, 0],\n",
       "       [1, 2]])"
      ]
     },
     "execution_count": 37,
     "metadata": {},
     "output_type": "execute_result"
    }
   ],
   "source": [
    "arr2"
   ]
  },
  {
   "cell_type": "code",
   "execution_count": 38,
   "id": "1f8584aa-d5ba-45eb-b241-7b7880bfc03a",
   "metadata": {},
   "outputs": [
    {
     "data": {
      "text/plain": [
       "array([[2, 4],\n",
       "       [3, 6]])"
      ]
     },
     "execution_count": 38,
     "metadata": {},
     "output_type": "execute_result"
    }
   ],
   "source": [
    "arr1@arr2"
   ]
  },
  {
   "cell_type": "code",
   "execution_count": 39,
   "id": "e4d61494-c793-4b97-b9c4-e69c393ded4e",
   "metadata": {},
   "outputs": [
    {
     "data": {
      "text/plain": [
       "array([[2, 4],\n",
       "       [3, 6]])"
      ]
     },
     "execution_count": 39,
     "metadata": {},
     "output_type": "execute_result"
    }
   ],
   "source": [
    "np.dot(arr1,arr2)"
   ]
  },
  {
   "cell_type": "code",
   "execution_count": null,
   "id": "9ea99a2a-fae7-4f09-aa98-d7178dadfff8",
   "metadata": {},
   "outputs": [],
   "source": []
  },
  {
   "cell_type": "code",
   "execution_count": null,
   "id": "057f9e32-ae7d-439c-b8c6-7eeeebe5609f",
   "metadata": {},
   "outputs": [],
   "source": []
  }
 ],
 "metadata": {
  "kernelspec": {
   "display_name": "Python 3 (ipykernel)",
   "language": "python",
   "name": "python3"
  },
  "language_info": {
   "codemirror_mode": {
    "name": "ipython",
    "version": 3
   },
   "file_extension": ".py",
   "mimetype": "text/x-python",
   "name": "python",
   "nbconvert_exporter": "python",
   "pygments_lexer": "ipython3",
   "version": "3.10.8"
  }
 },
 "nbformat": 4,
 "nbformat_minor": 5
}
