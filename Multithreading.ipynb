{
 "cells": [
  {
   "cell_type": "code",
   "execution_count": 1,
   "id": "d71aeba6-5dd3-4bdd-80dc-7e8172a195ec",
   "metadata": {},
   "outputs": [],
   "source": [
    "import threading"
   ]
  },
  {
   "cell_type": "code",
   "execution_count": 2,
   "id": "f0ae59bf-d6d9-4208-aeba-9cf26ddf24c2",
   "metadata": {},
   "outputs": [],
   "source": [
    "def test(id):\n",
    "    print(\"This is my test id %d\" %id)"
   ]
  },
  {
   "cell_type": "code",
   "execution_count": 3,
   "id": "3e673223-1717-44b4-ba0a-2351c2a026ad",
   "metadata": {},
   "outputs": [
    {
     "name": "stdout",
     "output_type": "stream",
     "text": [
      "This is my test id 10\n"
     ]
    }
   ],
   "source": [
    "test(10)"
   ]
  },
  {
   "cell_type": "code",
   "execution_count": 4,
   "id": "ec6d3500-5a87-4849-9b76-12ccfead3e66",
   "metadata": {},
   "outputs": [
    {
     "name": "stdout",
     "output_type": "stream",
     "text": [
      "This is my test id 5\n"
     ]
    }
   ],
   "source": [
    "test(5)"
   ]
  },
  {
   "cell_type": "code",
   "execution_count": 5,
   "id": "0ada80e0-47c0-40ac-9d5f-268f97ff9f16",
   "metadata": {},
   "outputs": [
    {
     "name": "stdout",
     "output_type": "stream",
     "text": [
      "This is my test id 21\n"
     ]
    }
   ],
   "source": [
    "test(21)"
   ]
  },
  {
   "cell_type": "code",
   "execution_count": 6,
   "id": "4fd3675a-6919-4a7e-87c0-e93d5440a7f7",
   "metadata": {},
   "outputs": [],
   "source": [
    "thread = [threading.Thread(target= test, args = (i,)) for i in [10,5,21] ]"
   ]
  },
  {
   "cell_type": "code",
   "execution_count": 7,
   "id": "dba92e8a-4f17-4745-95a9-1448b546fe0c",
   "metadata": {},
   "outputs": [
    {
     "data": {
      "text/plain": [
       "[<Thread(Thread-5 (test), initial)>,\n",
       " <Thread(Thread-6 (test), initial)>,\n",
       " <Thread(Thread-7 (test), initial)>]"
      ]
     },
     "execution_count": 7,
     "metadata": {},
     "output_type": "execute_result"
    }
   ],
   "source": [
    "thread"
   ]
  },
  {
   "cell_type": "code",
   "execution_count": 8,
   "id": "b5df47cb-ffa6-47c1-bc56-4acf5daf55a8",
   "metadata": {},
   "outputs": [
    {
     "name": "stdout",
     "output_type": "stream",
     "text": [
      "This is my test id 10\n",
      "This is my test id 5\n",
      "This is my test id 21\n"
     ]
    }
   ],
   "source": [
    "for t in thread:\n",
    "    t.start()"
   ]
  },
  {
   "cell_type": "code",
   "execution_count": 9,
   "id": "e074ae1d-87e4-4fec-ab63-e36155334002",
   "metadata": {},
   "outputs": [],
   "source": [
    "import urllib.request\n",
    "\n",
    "def file_download(url, file_name):\n",
    "    urllib.request.urlretrieve(url, file_name)"
   ]
  },
  {
   "cell_type": "code",
   "execution_count": 10,
   "id": "220e8f89-cdc8-4e8c-b708-4938f9e8929d",
   "metadata": {},
   "outputs": [],
   "source": [
    "file_download(\"https://www.coursera.org/deeplearning-ai\",\"data\")"
   ]
  },
  {
   "cell_type": "code",
   "execution_count": 11,
   "id": "4e85d019-d997-4d73-bc27-e352b1da36d5",
   "metadata": {},
   "outputs": [],
   "source": [
    "url_list = ['https://www.loggly.com/ultimate-guide/python-logging-basics/','https://www.coursera.org/projects/investment-risk-management','https://www.coursera.org/professional-certificates/microsoft-azure-dp-203-data-engineering']"
   ]
  },
  {
   "cell_type": "code",
   "execution_count": 12,
   "id": "846062e0-20c5-40b7-a596-c233d8273c75",
   "metadata": {},
   "outputs": [
    {
     "data": {
      "text/plain": [
       "['https://www.loggly.com/ultimate-guide/python-logging-basics/',\n",
       " 'https://www.coursera.org/projects/investment-risk-management',\n",
       " 'https://www.coursera.org/professional-certificates/microsoft-azure-dp-203-data-engineering']"
      ]
     },
     "execution_count": 12,
     "metadata": {},
     "output_type": "execute_result"
    }
   ],
   "source": [
    "url_list"
   ]
  },
  {
   "cell_type": "code",
   "execution_count": 13,
   "id": "05e1a352-d4e2-4725-8ac6-f95d547c1eae",
   "metadata": {},
   "outputs": [],
   "source": [
    "data_file_list = ['data1','data2','data3']"
   ]
  },
  {
   "cell_type": "code",
   "execution_count": 14,
   "id": "da3dee09-3ce1-4113-a271-bf4d0c2a9dd8",
   "metadata": {},
   "outputs": [
    {
     "data": {
      "text/plain": [
       "['data1', 'data2', 'data3']"
      ]
     },
     "execution_count": 14,
     "metadata": {},
     "output_type": "execute_result"
    }
   ],
   "source": [
    "data_file_list"
   ]
  },
  {
   "cell_type": "code",
   "execution_count": 15,
   "id": "d19be924-e55d-46af-9b5f-3d5808237e9f",
   "metadata": {},
   "outputs": [],
   "source": [
    "thread1 = [threading.Thread(target= file_download, args= (url_list[i],data_file_list[i])) for i in range(len(url_list))]"
   ]
  },
  {
   "cell_type": "code",
   "execution_count": 16,
   "id": "2178e17b-6d64-4e0a-bbbe-aff354ee1bc2",
   "metadata": {},
   "outputs": [
    {
     "data": {
      "text/plain": [
       "[<Thread(Thread-8 (file_download), initial)>,\n",
       " <Thread(Thread-9 (file_download), initial)>,\n",
       " <Thread(Thread-10 (file_download), initial)>]"
      ]
     },
     "execution_count": 16,
     "metadata": {},
     "output_type": "execute_result"
    }
   ],
   "source": [
    "thread1"
   ]
  },
  {
   "cell_type": "code",
   "execution_count": 17,
   "id": "5c18e1ff-f8bd-4920-b7ee-063e1ac0aa38",
   "metadata": {},
   "outputs": [],
   "source": [
    "for t in thread1:\n",
    "    t.start()"
   ]
  },
  {
   "cell_type": "code",
   "execution_count": 18,
   "id": "944030cb-46f6-4158-ac04-37e9d7689f16",
   "metadata": {},
   "outputs": [],
   "source": [
    "import time"
   ]
  },
  {
   "cell_type": "code",
   "execution_count": 31,
   "id": "69fe02e8-7b8f-400d-bcd3-a80693129ff6",
   "metadata": {},
   "outputs": [],
   "source": [
    "def test2(x):\n",
    "    for i in range(10):\n",
    "        print(\"test2 print the value of x %d for the value of i %d\" %(x,i))\n",
    "        #time.sleep(1)"
   ]
  },
  {
   "cell_type": "code",
   "execution_count": 27,
   "id": "8653c5e3-a5ee-4157-9eb8-560e6e2f702f",
   "metadata": {},
   "outputs": [
    {
     "name": "stdout",
     "output_type": "stream",
     "text": [
      "test2 print the value of x 5 for the value of i 0\n",
      "test2 print the value of x 5 for the value of i 1\n",
      "test2 print the value of x 5 for the value of i 2\n",
      "test2 print the value of x 5 for the value of i 3\n",
      "test2 print the value of x 5 for the value of i 4\n",
      "test2 print the value of x 5 for the value of i 5\n",
      "test2 print the value of x 5 for the value of i 6\n",
      "test2 print the value of x 5 for the value of i 7\n",
      "test2 print the value of x 5 for the value of i 8\n",
      "test2 print the value of x 5 for the value of i 9\n"
     ]
    }
   ],
   "source": [
    "test2(5)"
   ]
  },
  {
   "cell_type": "code",
   "execution_count": 28,
   "id": "8807edf4-59ec-4ce4-969e-35291c14643a",
   "metadata": {},
   "outputs": [
    {
     "name": "stdout",
     "output_type": "stream",
     "text": [
      "test2 print the value of x 10 for the value of i 0\n",
      "test2 print the value of x 10 for the value of i 1\n",
      "test2 print the value of x 10 for the value of i 2\n",
      "test2 print the value of x 10 for the value of i 3\n",
      "test2 print the value of x 10 for the value of i 4\n",
      "test2 print the value of x 10 for the value of i 5\n",
      "test2 print the value of x 10 for the value of i 6\n",
      "test2 print the value of x 10 for the value of i 7\n",
      "test2 print the value of x 10 for the value of i 8\n",
      "test2 print the value of x 10 for the value of i 9\n"
     ]
    }
   ],
   "source": [
    "test2(10)"
   ]
  },
  {
   "cell_type": "code",
   "execution_count": 33,
   "id": "e01c7549-7e4a-44e1-8b65-a59b082559b5",
   "metadata": {},
   "outputs": [],
   "source": [
    "thread3 = [threading.Thread(target= test2, args= (i,)) for i in [100,20,10,5]]"
   ]
  },
  {
   "cell_type": "code",
   "execution_count": 34,
   "id": "246d332b-279a-4cd3-b5f5-ef55bd939b98",
   "metadata": {},
   "outputs": [
    {
     "name": "stdout",
     "output_type": "stream",
     "text": [
      "test2 print the value of x 100 for the value of i 0\n",
      "test2 print the value of x 100 for the value of i 1\n",
      "test2 print the value of x 100 for the value of i 2\n",
      "test2 print the value of x 100 for the value of i 3\n",
      "test2 print the value of x 100 for the value of i 4\n",
      "test2 print the value of x 100 for the value of i 5\n",
      "test2 print the value of x 100 for the value of i 6\n",
      "test2 print the value of x 100 for the value of i 7\n",
      "test2 print the value of x 100 for the value of i 8\n",
      "test2 print the value of x 100 for the value of i 9\n",
      "test2 print the value of x 20 for the value of i 0\n",
      "test2 print the value of x 20 for the value of i 1\n",
      "test2 print the value of x 20 for the value of i 2\n",
      "test2 print the value of x 20 for the value of i 3\n",
      "test2 print the value of x 20 for the value of i 4\n",
      "test2 print the value of x 20 for the value of i 5\n",
      "test2 print the value of x 20 for the value of i 6\n",
      "test2 print the value of x 20 for the value of i 7\n",
      "test2 print the value of x 20 for the value of i 8\n",
      "test2 print the value of x 20 for the value of i 9\n",
      "test2 print the value of x 10 for the value of i 0\n",
      "test2 print the value of x 10 for the value of i 1\n",
      "test2 print the value of x 10 for the value of i 2\n",
      "test2 print the value of x 10 for the value of i 3\n",
      "test2 print the value of x 10 for the value of i 4\n",
      "test2 print the value of x 10 for the value of i 5\n",
      "test2 print the value of x 10 for the value of i 6\n",
      "test2 print the value of x 10 for the value of i 7\n",
      "test2 print the value of x 10 for the value of i 8\n",
      "test2 print the value of x 10 for the value of i 9\n",
      "test2 print the value of x 5 for the value of i 0\n",
      "test2 print the value of x 5 for the value of i 1\n",
      "test2 print the value of x 5 for the value of i 2\n",
      "test2 print the value of x 5 for the value of i 3\n",
      "test2 print the value of x 5 for the value of i 4\n",
      "test2 print the value of x 5 for the value of i 5\n",
      "test2 print the value of x 5 for the value of i 6\n",
      "test2 print the value of x 5 for the value of i 7\n",
      "test2 print the value of x 5 for the value of i 8\n",
      "test2 print the value of x 5 for the value of i 9\n"
     ]
    }
   ],
   "source": [
    "for t in thread3:\n",
    "    t.start()"
   ]
  },
  {
   "cell_type": "code",
   "execution_count": 38,
   "id": "9fa817ea-391e-4726-b8b0-958f79dab731",
   "metadata": {},
   "outputs": [],
   "source": [
    "shared_var = 0\n",
    "lock_var = threading.Lock()\n",
    "\n",
    "def test3(x):\n",
    "    global shared_var\n",
    "    with lock_var:\n",
    "        shared_var = shared_var + 1\n",
    "        print(\"for value of x %d , print value of shared_var %d \" %(x, shared_var))\n",
    "        time.sleep(1)"
   ]
  },
  {
   "cell_type": "code",
   "execution_count": 39,
   "id": "ae5495e6-c6da-45d2-ac85-806a98f4771b",
   "metadata": {},
   "outputs": [
    {
     "name": "stdout",
     "output_type": "stream",
     "text": [
      "for value of x 2 , print value of shared_var 1 \n"
     ]
    }
   ],
   "source": [
    "test3(2)"
   ]
  },
  {
   "cell_type": "code",
   "execution_count": 40,
   "id": "ec952633-b60a-4f19-9643-b1fb09cad853",
   "metadata": {},
   "outputs": [
    {
     "name": "stdout",
     "output_type": "stream",
     "text": [
      "for value of x 5 , print value of shared_var 2 \n"
     ]
    }
   ],
   "source": [
    "test3(5)"
   ]
  },
  {
   "cell_type": "code",
   "execution_count": 41,
   "id": "47cd2f69-877a-40bf-b70a-96f55881092d",
   "metadata": {},
   "outputs": [],
   "source": [
    "thread4 = [threading.Thread(target= test3, args = (i,)) for i in [1,2,3,4,5,6]]"
   ]
  },
  {
   "cell_type": "code",
   "execution_count": 42,
   "id": "b4349ae2-f53d-46d8-9244-81baadf40ee6",
   "metadata": {},
   "outputs": [
    {
     "name": "stdout",
     "output_type": "stream",
     "text": [
      "for value of x 1 , print value of shared_var 3 \n",
      "for value of x 2 , print value of shared_var 4 \n",
      "for value of x 3 , print value of shared_var 5 \n",
      "for value of x 4 , print value of shared_var 6 \n",
      "for value of x 5 , print value of shared_var 7 \n",
      "for value of x 6 , print value of shared_var 8 \n"
     ]
    }
   ],
   "source": [
    "for t in thread4:\n",
    "    t.start()"
   ]
  },
  {
   "cell_type": "code",
   "execution_count": null,
   "id": "02226279-ecb0-4a68-aec3-551f3a9f87e7",
   "metadata": {},
   "outputs": [],
   "source": []
  },
  {
   "cell_type": "code",
   "execution_count": null,
   "id": "fc5255b7-5cb5-4ae8-85a5-6ee38eedfd4d",
   "metadata": {},
   "outputs": [],
   "source": []
  },
  {
   "cell_type": "code",
   "execution_count": null,
   "id": "b547c34c-81b1-46f8-9f2a-8c3aeb9de4aa",
   "metadata": {},
   "outputs": [],
   "source": []
  },
  {
   "cell_type": "code",
   "execution_count": null,
   "id": "42082f60-324b-4b13-8c50-40f56fb09769",
   "metadata": {},
   "outputs": [],
   "source": []
  },
  {
   "cell_type": "code",
   "execution_count": null,
   "id": "659dc137-eb8a-4065-a10b-9071bac953f4",
   "metadata": {},
   "outputs": [],
   "source": []
  },
  {
   "cell_type": "code",
   "execution_count": null,
   "id": "069b4ef0-f304-4976-af75-6d4ed233b7ec",
   "metadata": {},
   "outputs": [],
   "source": []
  },
  {
   "cell_type": "code",
   "execution_count": null,
   "id": "f98b1ce9-ac14-4414-9c39-fe1592e3f68f",
   "metadata": {},
   "outputs": [],
   "source": []
  },
  {
   "cell_type": "code",
   "execution_count": null,
   "id": "34bcc275-2713-4b28-bb32-c537e388ec77",
   "metadata": {},
   "outputs": [],
   "source": []
  },
  {
   "cell_type": "code",
   "execution_count": null,
   "id": "cd5efd42-26e0-4d0d-8f47-f2e76cd5f365",
   "metadata": {},
   "outputs": [],
   "source": []
  },
  {
   "cell_type": "code",
   "execution_count": null,
   "id": "0ad2aafe-6350-4d43-8177-8f3ecc8dd99a",
   "metadata": {},
   "outputs": [],
   "source": []
  },
  {
   "cell_type": "code",
   "execution_count": null,
   "id": "6a3abe29-8c12-4f8e-97b2-dba63bfc2aeb",
   "metadata": {},
   "outputs": [],
   "source": []
  },
  {
   "cell_type": "code",
   "execution_count": null,
   "id": "9f997076-00ab-466e-ab06-b4dafec4e89d",
   "metadata": {},
   "outputs": [],
   "source": []
  },
  {
   "cell_type": "code",
   "execution_count": null,
   "id": "f38f649d-fca0-4952-a8e9-2e6f19404f92",
   "metadata": {},
   "outputs": [],
   "source": []
  },
  {
   "cell_type": "code",
   "execution_count": null,
   "id": "f1e704b1-4649-4a39-bd7f-ba7a5ba0057f",
   "metadata": {},
   "outputs": [],
   "source": []
  },
  {
   "cell_type": "code",
   "execution_count": null,
   "id": "9b9ab589-fd0b-473c-9611-df1885bb56f1",
   "metadata": {},
   "outputs": [],
   "source": []
  }
 ],
 "metadata": {
  "kernelspec": {
   "display_name": "Python 3 (ipykernel)",
   "language": "python",
   "name": "python3"
  },
  "language_info": {
   "codemirror_mode": {
    "name": "ipython",
    "version": 3
   },
   "file_extension": ".py",
   "mimetype": "text/x-python",
   "name": "python",
   "nbconvert_exporter": "python",
   "pygments_lexer": "ipython3",
   "version": "3.10.8"
  }
 },
 "nbformat": 4,
 "nbformat_minor": 5
}
