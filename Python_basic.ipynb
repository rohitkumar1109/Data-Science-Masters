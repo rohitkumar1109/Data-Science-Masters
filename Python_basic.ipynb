{
 "cells": [
  {
   "cell_type": "code",
   "execution_count": 1,
   "id": "6bf622d2-902d-4015-95c4-90ce67b4e797",
   "metadata": {},
   "outputs": [
    {
     "name": "stdout",
     "output_type": "stream",
     "text": [
      "Rohit 28\n"
     ]
    }
   ],
   "source": [
    "age = 28\n",
    "name = 'Rohit'\n",
    "print(name,age)"
   ]
  },
  {
   "cell_type": "code",
   "execution_count": 2,
   "id": "2d7bda39-6885-4a82-8daa-342a23167f98",
   "metadata": {},
   "outputs": [
    {
     "name": "stdout",
     "output_type": "stream",
     "text": [
      "My name is Rohit and age is 28\n"
     ]
    }
   ],
   "source": [
    "print(f\"My name is {name} and age is {age}\")"
   ]
  },
  {
   "cell_type": "code",
   "execution_count": 3,
   "id": "d150c1da-85d0-4136-8d5a-b84d973f6ed7",
   "metadata": {},
   "outputs": [
    {
     "name": "stdout",
     "output_type": "stream",
     "text": [
      "My name is Rohit and age is 28\n"
     ]
    }
   ],
   "source": [
    "print(\"My name is {} and age is {}\".format(name,age))"
   ]
  },
  {
   "cell_type": "code",
   "execution_count": 7,
   "id": "9c301343-e4e2-48b0-a3e3-816d95cdb16b",
   "metadata": {},
   "outputs": [
    {
     "name": "stdout",
     "output_type": "stream",
     "text": [
      "He is eligible to vote\n"
     ]
    }
   ],
   "source": [
    "if age>=18:\n",
    "    print('He is eligible to vote')"
   ]
  },
  {
   "cell_type": "code",
   "execution_count": 6,
   "id": "09b69604-57f1-4d46-a013-b3e534a0bd11",
   "metadata": {},
   "outputs": [
    {
     "name": "stdin",
     "output_type": "stream",
     "text": [
      "Enter your name Rohit Kumar\n"
     ]
    }
   ],
   "source": [
    "name=input(\"Enter your name\")"
   ]
  },
  {
   "cell_type": "code",
   "execution_count": 7,
   "id": "395f16a0-72cd-4a7a-a6c1-8ff0ddef3f09",
   "metadata": {},
   "outputs": [
    {
     "data": {
      "text/plain": [
       "'Rohit Kumar'"
      ]
     },
     "execution_count": 7,
     "metadata": {},
     "output_type": "execute_result"
    }
   ],
   "source": [
    "name"
   ]
  },
  {
   "cell_type": "code",
   "execution_count": 10,
   "id": "2e7c2218-65f2-4340-97f6-a1f52f69885f",
   "metadata": {},
   "outputs": [
    {
     "name": "stdin",
     "output_type": "stream",
     "text": [
      "Enter your age 28\n"
     ]
    }
   ],
   "source": [
    "age=int(input(\"Enter your age\"))"
   ]
  },
  {
   "cell_type": "code",
   "execution_count": 16,
   "id": "8b802ea7-0c97-4e4d-9699-7548f60dd4ab",
   "metadata": {},
   "outputs": [
    {
     "name": "stdout",
     "output_type": "stream",
     "text": [
      "28\n"
     ]
    },
    {
     "data": {
      "text/plain": [
       "int"
      ]
     },
     "execution_count": 16,
     "metadata": {},
     "output_type": "execute_result"
    }
   ],
   "source": [
    "print(age)\n",
    "type(age)"
   ]
  },
  {
   "cell_type": "code",
   "execution_count": 5,
   "id": "3b8f20cc-d1ab-493d-868c-0ed3bda4b517",
   "metadata": {},
   "outputs": [
    {
     "name": "stdin",
     "output_type": "stream",
     "text": [
      "Enter the price 800\n"
     ]
    },
    {
     "name": "stdout",
     "output_type": "stream",
     "text": [
      "Final price is 560.0\n"
     ]
    }
   ],
   "source": [
    "price=int(input(\"Enter the price\"))\n",
    "if price >= 1000:\n",
    "    print(\"Final price is\", price - price*0.2)\n",
    "else:\n",
    "    print(\"Final price is\", price - price*0.3)"
   ]
  },
  {
   "cell_type": "code",
   "execution_count": 1,
   "id": "84eecd0f-2252-403d-9715-704b7b566499",
   "metadata": {},
   "outputs": [],
   "source": [
    "course_name='Data Science Masters'"
   ]
  },
  {
   "cell_type": "code",
   "execution_count": 9,
   "id": "9cf6779d-f1c5-433c-adca-51a08057a2c5",
   "metadata": {},
   "outputs": [
    {
     "data": {
      "text/plain": [
       "'Science'"
      ]
     },
     "execution_count": 9,
     "metadata": {},
     "output_type": "execute_result"
    }
   ],
   "source": [
    "course_name[5:12]"
   ]
  },
  {
   "cell_type": "code",
   "execution_count": 8,
   "id": "bb8324a0-b404-4a30-b0ec-71a2356e80e1",
   "metadata": {},
   "outputs": [
    {
     "data": {
      "text/plain": [
       "'ecneicS'"
      ]
     },
     "execution_count": 8,
     "metadata": {},
     "output_type": "execute_result"
    }
   ],
   "source": [
    "course_name[11:4:-1]"
   ]
  },
  {
   "cell_type": "code",
   "execution_count": 13,
   "id": "ffd89e19-eec9-4ffc-9f75-f647a0e90e71",
   "metadata": {},
   "outputs": [],
   "source": [
    "name='Rohit Kumar'"
   ]
  },
  {
   "cell_type": "code",
   "execution_count": 2,
   "id": "ec09a038-7f1b-4aa3-bb3d-a3a01630977d",
   "metadata": {},
   "outputs": [
    {
     "data": {
      "text/plain": [
       "'rOHIT kUMAR'"
      ]
     },
     "execution_count": 2,
     "metadata": {},
     "output_type": "execute_result"
    }
   ],
   "source": [
    "name.swapcase()"
   ]
  },
  {
   "cell_type": "code",
   "execution_count": 14,
   "id": "b54d322b-c707-4c5e-87cc-03a9c14d6e35",
   "metadata": {},
   "outputs": [
    {
     "data": {
      "text/plain": [
       "1"
      ]
     },
     "execution_count": 14,
     "metadata": {},
     "output_type": "execute_result"
    }
   ],
   "source": [
    "name.count('R')"
   ]
  },
  {
   "cell_type": "code",
   "execution_count": 15,
   "id": "07be0133-d1b4-4004-b89c-1d43ccb84c37",
   "metadata": {},
   "outputs": [
    {
     "data": {
      "text/plain": [
       "11"
      ]
     },
     "execution_count": 15,
     "metadata": {},
     "output_type": "execute_result"
    }
   ],
   "source": [
    "len(name)"
   ]
  },
  {
   "cell_type": "code",
   "execution_count": 16,
   "id": "3e456ccf-154f-41c6-a736-e49b2788c260",
   "metadata": {},
   "outputs": [
    {
     "data": {
      "text/plain": [
       "['Rohit', 'Kumar']"
      ]
     },
     "execution_count": 16,
     "metadata": {},
     "output_type": "execute_result"
    }
   ],
   "source": [
    "name.split(' ')"
   ]
  },
  {
   "cell_type": "code",
   "execution_count": 20,
   "id": "f0a85607-019e-45e3-8812-93d034186e41",
   "metadata": {},
   "outputs": [
    {
     "data": {
      "text/plain": [
       "1"
      ]
     },
     "execution_count": 20,
     "metadata": {},
     "output_type": "execute_result"
    }
   ],
   "source": [
    "name.find('o',0,10)"
   ]
  },
  {
   "cell_type": "code",
   "execution_count": 21,
   "id": "a8c94dfa-53ae-40b3-992f-3f192967b4d6",
   "metadata": {},
   "outputs": [
    {
     "data": {
      "text/plain": [
       "'Rohit Kumar'"
      ]
     },
     "execution_count": 21,
     "metadata": {},
     "output_type": "execute_result"
    }
   ],
   "source": [
    "name.title()"
   ]
  },
  {
   "cell_type": "code",
   "execution_count": 1,
   "id": "79ae069a-52bb-49cd-b8a2-0ff4ffea1d80",
   "metadata": {},
   "outputs": [],
   "source": [
    "course=\" Data Science \""
   ]
  },
  {
   "cell_type": "code",
   "execution_count": 2,
   "id": "2b10e943-d374-4587-aa36-6091d70d51b1",
   "metadata": {},
   "outputs": [
    {
     "data": {
      "text/plain": [
       "'Data Science'"
      ]
     },
     "execution_count": 2,
     "metadata": {},
     "output_type": "execute_result"
    }
   ],
   "source": [
    "course.strip(\" \")"
   ]
  },
  {
   "cell_type": "code",
   "execution_count": 3,
   "id": "f51dcb1b-0acd-4fac-b737-08fec1f5fffb",
   "metadata": {},
   "outputs": [
    {
     "data": {
      "text/plain": [
       "'Data Science '"
      ]
     },
     "execution_count": 3,
     "metadata": {},
     "output_type": "execute_result"
    }
   ],
   "source": [
    "course.lstrip(\" \")"
   ]
  },
  {
   "cell_type": "code",
   "execution_count": 4,
   "id": "d36cffa1-e398-4a93-a273-e550a4d88121",
   "metadata": {},
   "outputs": [
    {
     "data": {
      "text/plain": [
       "' Data Science'"
      ]
     },
     "execution_count": 4,
     "metadata": {},
     "output_type": "execute_result"
    }
   ],
   "source": [
    "course.rstrip(\" \")"
   ]
  },
  {
   "cell_type": "code",
   "execution_count": 5,
   "id": "5d593b04-1fe7-4c6c-a414-28ed93928fcd",
   "metadata": {},
   "outputs": [],
   "source": [
    "str1 = \"Welcome to pwskills.Welcome to Dat cience Masters\""
   ]
  },
  {
   "cell_type": "code",
   "execution_count": 6,
   "id": "dfe1f900-6a9c-4ac8-8d0d-5dde3b028129",
   "metadata": {},
   "outputs": [
    {
     "data": {
      "text/plain": [
       "'Welcome to pwskills.Welcome to Data Science Masters'"
      ]
     },
     "execution_count": 6,
     "metadata": {},
     "output_type": "execute_result"
    }
   ],
   "source": [
    "str1.replace(\"Dat\",\"Data\").replace(\"cience\",\"Science\")"
   ]
  },
  {
   "cell_type": "code",
   "execution_count": 4,
   "id": "df2b7572-41f0-4fc7-8de2-17de88a91fd9",
   "metadata": {},
   "outputs": [],
   "source": [
    "str2 = 'pwskills'"
   ]
  },
  {
   "cell_type": "code",
   "execution_count": 30,
   "id": "8bc9c7cb-c9d2-46e5-a72c-81f174d98ec1",
   "metadata": {},
   "outputs": [
    {
     "name": "stdout",
     "output_type": "stream",
     "text": [
      "pwskills"
     ]
    }
   ],
   "source": [
    "for i in str2:\n",
    "    print(i,end=\"\")"
   ]
  },
  {
   "cell_type": "code",
   "execution_count": 21,
   "id": "dd5c58eb-e724-4f51-af76-20d73efbff79",
   "metadata": {},
   "outputs": [
    {
     "name": "stdout",
     "output_type": "stream",
     "text": [
      "8\n"
     ]
    }
   ],
   "source": [
    "count=0\n",
    "for i in str2:\n",
    "    count=count+1\n",
    "    \n",
    "print (count)"
   ]
  },
  {
   "cell_type": "code",
   "execution_count": 25,
   "id": "fb561b0c-b4b4-4f28-8832-ee124e6afccc",
   "metadata": {},
   "outputs": [
    {
     "name": "stdout",
     "output_type": "stream",
     "text": [
      "0 = p\n",
      "1 = w\n",
      "2 = s\n",
      "3 = k\n",
      "4 = i\n",
      "5 = l\n",
      "6 = l\n",
      "7 = s\n"
     ]
    }
   ],
   "source": [
    "for i in range(len(str2)):\n",
    "    print(i,\"=\",str2[i])"
   ]
  },
  {
   "cell_type": "code",
   "execution_count": 44,
   "id": "691dad27-2b72-4226-8d6f-38737869c59f",
   "metadata": {},
   "outputs": [
    {
     "name": "stdout",
     "output_type": "stream",
     "text": [
      "sllikswp"
     ]
    }
   ],
   "source": [
    "for i in range(len(str2)-1,-1,-1):\n",
    "    print(str2[i],end='')"
   ]
  },
  {
   "cell_type": "code",
   "execution_count": 59,
   "id": "41da4dcb-af27-4aa5-aaf5-8b3d11280715",
   "metadata": {},
   "outputs": [
    {
     "name": "stdout",
     "output_type": "stream",
     "text": [
      "sllikswp"
     ]
    }
   ],
   "source": [
    "pw = len(str2)-1\n",
    "\n",
    "while pw>=0:\n",
    "    print(str2[pw],end='')\n",
    "    pw=pw-1"
   ]
  },
  {
   "cell_type": "code",
   "execution_count": 6,
   "id": "276b36eb-1ce0-4ded-a4b5-7229cad28e68",
   "metadata": {},
   "outputs": [
    {
     "name": "stdout",
     "output_type": "stream",
     "text": [
      "sllikswp"
     ]
    }
   ],
   "source": [
    "for i in range(len(str2)):\n",
    "    print(str2[len(str2) - (i+1)],end=\"\")"
   ]
  },
  {
   "cell_type": "code",
   "execution_count": 16,
   "id": "864baa6b-d55b-48ca-97db-e50b26080d20",
   "metadata": {},
   "outputs": [],
   "source": [
    "Name = 'PWskills'\n",
    "Vowels = 'AaEeIiOoUu'"
   ]
  },
  {
   "cell_type": "code",
   "execution_count": 17,
   "id": "9067df5f-458e-4fdb-af95-923fde246fae",
   "metadata": {},
   "outputs": [
    {
     "name": "stdout",
     "output_type": "stream",
     "text": [
      "P is not a Vowel\n",
      "W is not a Vowel\n",
      "s is not a Vowel\n",
      "k is not a Vowel\n",
      "i is a Vowel\n",
      "l is not a Vowel\n",
      "l is not a Vowel\n",
      "s is not a Vowel\n"
     ]
    }
   ],
   "source": [
    "for i in Name:\n",
    "    if i in Vowels:\n",
    "        print(\"{} is a Vowel\".format(i))\n",
    "    else:\n",
    "        print(f\"{i} is not a Vowel\")"
   ]
  },
  {
   "cell_type": "markdown",
   "id": "ee936fe8-1c75-4512-a93d-84dcbca7360f",
   "metadata": {},
   "source": [
    "## List\n"
   ]
  },
  {
   "cell_type": "code",
   "execution_count": 18,
   "id": "7ee2d4fa-6380-4abf-86de-807558586593",
   "metadata": {},
   "outputs": [],
   "source": [
    "lst1 = ['pw','skills','data','science','masters']"
   ]
  },
  {
   "cell_type": "code",
   "execution_count": 20,
   "id": "73feef23-a5ee-4830-9c77-89afbf9b8b04",
   "metadata": {},
   "outputs": [
    {
     "data": {
      "text/plain": [
       "'data'"
      ]
     },
     "execution_count": 20,
     "metadata": {},
     "output_type": "execute_result"
    }
   ],
   "source": [
    "lst1[2]"
   ]
  },
  {
   "cell_type": "code",
   "execution_count": 21,
   "id": "a63a9688-313b-474f-9256-649349cbe428",
   "metadata": {},
   "outputs": [
    {
     "data": {
      "text/plain": [
       "['pw', 'skills', 'data', 'science', 'masters', 'new element', 5]"
      ]
     },
     "execution_count": 21,
     "metadata": {},
     "output_type": "execute_result"
    }
   ],
   "source": [
    "lst1 + ['new element',5]"
   ]
  },
  {
   "cell_type": "code",
   "execution_count": 23,
   "id": "d034539e-e03f-4b3c-9b3f-6c28626e925b",
   "metadata": {},
   "outputs": [],
   "source": [
    "lst2 = lst1 + [['new element',5]]"
   ]
  },
  {
   "cell_type": "code",
   "execution_count": 24,
   "id": "6050aeec-769a-4918-8e88-10b0dfdd780a",
   "metadata": {},
   "outputs": [
    {
     "data": {
      "text/plain": [
       "['pw', 'skills', 'data', 'science', 'masters', ['new element', 5]]"
      ]
     },
     "execution_count": 24,
     "metadata": {},
     "output_type": "execute_result"
    }
   ],
   "source": [
    "lst2"
   ]
  },
  {
   "cell_type": "code",
   "execution_count": 27,
   "id": "7769d705-00be-4da0-afc0-4088ed01f343",
   "metadata": {},
   "outputs": [
    {
     "data": {
      "text/plain": [
       "'new element'"
      ]
     },
     "execution_count": 27,
     "metadata": {},
     "output_type": "execute_result"
    }
   ],
   "source": [
    "lst2[-1][0]"
   ]
  },
  {
   "cell_type": "code",
   "execution_count": 28,
   "id": "82c5025b-53c6-474e-a27e-eba39db822ba",
   "metadata": {},
   "outputs": [
    {
     "data": {
      "text/plain": [
       "['pw',\n",
       " 'skills',\n",
       " 'data',\n",
       " 'science',\n",
       " 'masters',\n",
       " 'pw',\n",
       " 'skills',\n",
       " 'data',\n",
       " 'science',\n",
       " 'masters']"
      ]
     },
     "execution_count": 28,
     "metadata": {},
     "output_type": "execute_result"
    }
   ],
   "source": [
    "lst1 * 2"
   ]
  },
  {
   "cell_type": "code",
   "execution_count": 34,
   "id": "5ae85e83-1f94-4aff-9498-54db747b770f",
   "metadata": {},
   "outputs": [
    {
     "name": "stdout",
     "output_type": "stream",
     "text": [
      "pw\n",
      "skills\n",
      "data\n",
      "science\n"
     ]
    }
   ],
   "source": [
    "for i in lst1:\n",
    "    print(i)\n",
    "    if i == 'science':\n",
    "        break"
   ]
  },
  {
   "cell_type": "code",
   "execution_count": 36,
   "id": "de07cf1b-6ce4-4ce9-a7fa-2063ffba1ce0",
   "metadata": {},
   "outputs": [
    {
     "name": "stdout",
     "output_type": "stream",
     "text": [
      "Present\n"
     ]
    }
   ],
   "source": [
    "if 'science' in lst1:\n",
    "    print('Present')"
   ]
  },
  {
   "cell_type": "code",
   "execution_count": 17,
   "id": "59c5fa1b-9e6a-4753-a2aa-8091e5f1e5ef",
   "metadata": {},
   "outputs": [],
   "source": [
    "lst1 = ['Zebra','Lion','Monkey','Donkey']\n",
    "lst2 = [2,8,9,7,5,6]"
   ]
  },
  {
   "cell_type": "code",
   "execution_count": 2,
   "id": "d1f2d453-4cf7-4e98-b772-d86cd642f3b3",
   "metadata": {},
   "outputs": [
    {
     "name": "stdout",
     "output_type": "stream",
     "text": [
      "Zebra\n"
     ]
    }
   ],
   "source": [
    "print(max(lst1))"
   ]
  },
  {
   "cell_type": "code",
   "execution_count": 4,
   "id": "f5d07ae6-7ff2-4856-87ff-5172d54d6ad7",
   "metadata": {},
   "outputs": [
    {
     "name": "stdout",
     "output_type": "stream",
     "text": [
      "9\n"
     ]
    }
   ],
   "source": [
    "print(max(lst2))"
   ]
  },
  {
   "cell_type": "code",
   "execution_count": 5,
   "id": "5f8e3ca4-4d76-4ea3-8267-317a97e1db27",
   "metadata": {},
   "outputs": [],
   "source": [
    "lst1.append('new')"
   ]
  },
  {
   "cell_type": "code",
   "execution_count": 18,
   "id": "44f83a51-3a35-4524-bec4-2282599f3f21",
   "metadata": {},
   "outputs": [
    {
     "data": {
      "text/plain": [
       "['Zebra', 'Lion', 'Monkey', 'Donkey']"
      ]
     },
     "execution_count": 18,
     "metadata": {},
     "output_type": "execute_result"
    }
   ],
   "source": [
    "lst1"
   ]
  },
  {
   "cell_type": "code",
   "execution_count": 19,
   "id": "c223d344-cb3c-4f4d-bcc1-08f717d7103b",
   "metadata": {},
   "outputs": [
    {
     "data": {
      "text/plain": [
       "'Monkey'"
      ]
     },
     "execution_count": 19,
     "metadata": {},
     "output_type": "execute_result"
    }
   ],
   "source": [
    "lst1.pop(2)"
   ]
  },
  {
   "cell_type": "code",
   "execution_count": 23,
   "id": "ff177783-5b0a-4b4a-b422-c4f1865189c3",
   "metadata": {},
   "outputs": [
    {
     "data": {
      "text/plain": [
       "[[1, 2, 3], [4, 5, 6], [7, 8, 9]]"
      ]
     },
     "execution_count": 23,
     "metadata": {},
     "output_type": "execute_result"
    }
   ],
   "source": [
    "lst1=[1,2,3]\n",
    "lst2=[4,5,6]\n",
    "lst3=[7,8,9]\n",
    "\n",
    "matrix = [lst1,lst2,lst3]\n",
    "matrix"
   ]
  },
  {
   "cell_type": "code",
   "execution_count": 24,
   "id": "c1f34362-6fe8-44c9-9e5b-b2ffbf8d242a",
   "metadata": {},
   "outputs": [
    {
     "ename": "TypeError",
     "evalue": "list indices must be integers or slices, not list",
     "output_type": "error",
     "traceback": [
      "\u001b[0;31m---------------------------------------------------------------------------\u001b[0m",
      "\u001b[0;31mTypeError\u001b[0m                                 Traceback (most recent call last)",
      "Cell \u001b[0;32mIn[24], line 2\u001b[0m\n\u001b[1;32m      1\u001b[0m \u001b[38;5;28;01mfor\u001b[39;00m i \u001b[38;5;129;01min\u001b[39;00m matrix:\n\u001b[0;32m----> 2\u001b[0m     \u001b[38;5;28mprint\u001b[39m(\u001b[43mmatrix\u001b[49m\u001b[43m[\u001b[49m\u001b[43mi\u001b[49m\u001b[43m]\u001b[49m[\u001b[38;5;241m0\u001b[39m])\n",
      "\u001b[0;31mTypeError\u001b[0m: list indices must be integers or slices, not list"
     ]
    }
   ],
   "source": [
    "for i in matrix:\n",
    "    print(matrix[i][0])"
   ]
  },
  {
   "cell_type": "code",
   "execution_count": 26,
   "id": "1fdcf42d-7e01-4400-99c9-1708ba8eae23",
   "metadata": {},
   "outputs": [
    {
     "data": {
      "text/plain": [
       "4"
      ]
     },
     "execution_count": 26,
     "metadata": {},
     "output_type": "execute_result"
    }
   ],
   "source": [
    "matrix[1][0]"
   ]
  },
  {
   "cell_type": "code",
   "execution_count": 27,
   "id": "00fc81ee-1462-496d-996a-ca3e18b0acc8",
   "metadata": {},
   "outputs": [
    {
     "data": {
      "text/plain": [
       "[0, 1, 2, 3, 4, 5, 6, 7, 8, 9, 10, 11, 12, 13, 14, 15, 16, 17, 18, 19]"
      ]
     },
     "execution_count": 27,
     "metadata": {},
     "output_type": "execute_result"
    }
   ],
   "source": [
    "## List Comprehension\n",
    "\n",
    "[i for i in range(0,20)]"
   ]
  },
  {
   "cell_type": "code",
   "execution_count": 29,
   "id": "0477971d-432e-4212-bc0b-a5eb04fd99ed",
   "metadata": {},
   "outputs": [
    {
     "data": {
      "text/plain": [
       "[0,\n",
       " 'Odd',\n",
       " 2,\n",
       " 'Odd',\n",
       " 4,\n",
       " 'Odd',\n",
       " 6,\n",
       " 'Odd',\n",
       " 8,\n",
       " 'Odd',\n",
       " 10,\n",
       " 'Odd',\n",
       " 12,\n",
       " 'Odd',\n",
       " 14,\n",
       " 'Odd',\n",
       " 16,\n",
       " 'Odd',\n",
       " 18,\n",
       " 'Odd']"
      ]
     },
     "execution_count": 29,
     "metadata": {},
     "output_type": "execute_result"
    }
   ],
   "source": [
    "[i if i%2==0 else 'Odd' for i in range(0,20)]"
   ]
  },
  {
   "cell_type": "code",
   "execution_count": 30,
   "id": "1e64fee7-79ae-4c80-985a-560daaa8956a",
   "metadata": {},
   "outputs": [
    {
     "data": {
      "text/plain": [
       "[[1, 2, 3], [4, 5, 6], [7, 8, 9]]"
      ]
     },
     "execution_count": 30,
     "metadata": {},
     "output_type": "execute_result"
    }
   ],
   "source": [
    "matrix"
   ]
  },
  {
   "cell_type": "code",
   "execution_count": 38,
   "id": "39dc5c55-e35f-47ef-a0f5-4456e5bdccc6",
   "metadata": {},
   "outputs": [
    {
     "data": {
      "text/plain": [
       "[1, 4, 7]"
      ]
     },
     "execution_count": 38,
     "metadata": {},
     "output_type": "execute_result"
    }
   ],
   "source": [
    "[list[0] for list in matrix]"
   ]
  },
  {
   "cell_type": "code",
   "execution_count": 39,
   "id": "c86d30b4-6637-450b-9e4b-11bd620eec16",
   "metadata": {},
   "outputs": [
    {
     "data": {
      "text/plain": [
       "[1, 2, 3, 4, 5, 6, 7, 8, 9]"
      ]
     },
     "execution_count": 39,
     "metadata": {},
     "output_type": "execute_result"
    }
   ],
   "source": [
    "[i for j in matrix for i in j]"
   ]
  },
  {
   "cell_type": "code",
   "execution_count": 2,
   "id": "8aee3e02-d3ac-4bf5-b1c0-8a7098dbecdc",
   "metadata": {},
   "outputs": [
    {
     "name": "stdout",
     "output_type": "stream",
     "text": [
      "0\n",
      "1\n",
      "3\n",
      "4\n"
     ]
    }
   ],
   "source": [
    "for i in range(5):\n",
    "    if i == 2:\n",
    "        continue\n",
    "    print(i)"
   ]
  },
  {
   "cell_type": "code",
   "execution_count": 3,
   "id": "8b5ded68-e712-4605-8491-aa3d43dd2f74",
   "metadata": {},
   "outputs": [
    {
     "name": "stdout",
     "output_type": "stream",
     "text": [
      "15\n"
     ]
    }
   ],
   "source": [
    "sum = 0\n",
    "for i in range(1,6):\n",
    "    sum += i\n",
    "print(sum)"
   ]
  },
  {
   "cell_type": "code",
   "execution_count": 7,
   "id": "c1361d39-40a3-4bcc-a655-dbe2f5074411",
   "metadata": {},
   "outputs": [
    {
     "name": "stdout",
     "output_type": "stream",
     "text": [
      "1\n",
      "2\n",
      "3\n",
      "4\n",
      "5\n"
     ]
    }
   ],
   "source": [
    "count=0\n",
    "while count<5:\n",
    "    count += 1\n",
    "    print(count)"
   ]
  },
  {
   "cell_type": "code",
   "execution_count": 8,
   "id": "83a7d220-9d9f-4185-820e-a9aee8ce149c",
   "metadata": {},
   "outputs": [
    {
     "name": "stdout",
     "output_type": "stream",
     "text": [
      "[1, 2, 3, 4]\n"
     ]
    }
   ],
   "source": [
    "my_list = [1, 2, 3]\n",
    "\n",
    "new_list = my_list\n",
    "\n",
    "new_list.append(4)\n",
    "\n",
    "print(my_list)"
   ]
  },
  {
   "cell_type": "code",
   "execution_count": 1,
   "id": "2561e589-80bc-4a86-b580-df162fad2a40",
   "metadata": {},
   "outputs": [],
   "source": [
    "tup1= (1,6,8,9,7,6)"
   ]
  },
  {
   "cell_type": "code",
   "execution_count": 2,
   "id": "39ccb968-22e2-40f0-ade9-b5ba6ae8cd84",
   "metadata": {},
   "outputs": [
    {
     "data": {
      "text/plain": [
       "(1, 6, 8, 9, 7, 6)"
      ]
     },
     "execution_count": 2,
     "metadata": {},
     "output_type": "execute_result"
    }
   ],
   "source": [
    "tup1"
   ]
  },
  {
   "cell_type": "code",
   "execution_count": 3,
   "id": "6d710a9c-3f06-4c6c-97d5-d6d5bd7ed463",
   "metadata": {},
   "outputs": [
    {
     "data": {
      "text/plain": [
       "9"
      ]
     },
     "execution_count": 3,
     "metadata": {},
     "output_type": "execute_result"
    }
   ],
   "source": [
    "max(tup1)"
   ]
  },
  {
   "cell_type": "code",
   "execution_count": 7,
   "id": "6b9c0736-2b85-40f7-a7b9-067c25b0a435",
   "metadata": {},
   "outputs": [
    {
     "data": {
      "text/plain": [
       "7"
      ]
     },
     "execution_count": 7,
     "metadata": {},
     "output_type": "execute_result"
    }
   ],
   "source": [
    "tup1[4]"
   ]
  },
  {
   "cell_type": "code",
   "execution_count": 38,
   "id": "b62545b1-127b-48c0-a4a6-eaced775cd43",
   "metadata": {},
   "outputs": [],
   "source": [
    "tup2= ((4,6,7),(1,8,9))"
   ]
  },
  {
   "cell_type": "code",
   "execution_count": 21,
   "id": "98a8563b-7a75-4302-949c-91a12b9fe330",
   "metadata": {},
   "outputs": [
    {
     "data": {
      "text/plain": [
       "9"
      ]
     },
     "execution_count": 21,
     "metadata": {},
     "output_type": "execute_result"
    }
   ],
   "source": [
    "tup2[1][2]"
   ]
  },
  {
   "cell_type": "code",
   "execution_count": 23,
   "id": "0285e111-cbb1-4015-be8d-308173cf7597",
   "metadata": {},
   "outputs": [],
   "source": [
    "del tup2"
   ]
  },
  {
   "cell_type": "code",
   "execution_count": 44,
   "id": "90b30f91-477e-4623-8917-56a135fb8ab3",
   "metadata": {},
   "outputs": [
    {
     "data": {
      "text/plain": [
       "0"
      ]
     },
     "execution_count": 44,
     "metadata": {},
     "output_type": "execute_result"
    }
   ],
   "source": [
    "tup2.count(4)"
   ]
  },
  {
   "cell_type": "code",
   "execution_count": 49,
   "id": "df59d49d-315c-4c8a-955e-ab8de3e48338",
   "metadata": {},
   "outputs": [],
   "source": [
    "set1= {1,1,2,3,5,5,5,6,8,8,9}"
   ]
  },
  {
   "cell_type": "code",
   "execution_count": 68,
   "id": "d46a97bf-fb39-49ff-be38-27d714321eb2",
   "metadata": {},
   "outputs": [],
   "source": [
    "set2= {'Rohit','Amit','Aman'}"
   ]
  },
  {
   "cell_type": "code",
   "execution_count": 58,
   "id": "de256755-1cb6-47c6-8565-ded898f13df6",
   "metadata": {},
   "outputs": [],
   "source": [
    "set1.update(set2)"
   ]
  },
  {
   "cell_type": "code",
   "execution_count": 59,
   "id": "61b20621-e654-44cb-97da-692c7334f1ba",
   "metadata": {},
   "outputs": [
    {
     "data": {
      "text/plain": [
       "{1, 2, 3, 5, 6, 8, 9, 'Aman', 'Amit', 'Rohit'}"
      ]
     },
     "execution_count": 59,
     "metadata": {},
     "output_type": "execute_result"
    }
   ],
   "source": [
    "set1"
   ]
  },
  {
   "cell_type": "code",
   "execution_count": 60,
   "id": "624adedd-14f6-4361-bffe-6710eacb62a5",
   "metadata": {},
   "outputs": [
    {
     "data": {
      "text/plain": [
       "{'Aman', 'Amit', 'Rohit'}"
      ]
     },
     "execution_count": 60,
     "metadata": {},
     "output_type": "execute_result"
    }
   ],
   "source": [
    "set2"
   ]
  },
  {
   "cell_type": "code",
   "execution_count": 70,
   "id": "076a3b28-05ec-4e27-add3-e256f51d32db",
   "metadata": {},
   "outputs": [],
   "source": [
    "set2.add(9)"
   ]
  },
  {
   "cell_type": "code",
   "execution_count": 71,
   "id": "50946c45-b5a0-4146-8300-c397eb667444",
   "metadata": {},
   "outputs": [
    {
     "data": {
      "text/plain": [
       "{9, 'Aman', 'Amit', 'Rohit'}"
      ]
     },
     "execution_count": 71,
     "metadata": {},
     "output_type": "execute_result"
    }
   ],
   "source": [
    "set2"
   ]
  },
  {
   "cell_type": "code",
   "execution_count": 72,
   "id": "092610bf-60fb-4d9e-85c9-44cc24d702cb",
   "metadata": {},
   "outputs": [],
   "source": [
    "set2.clear()"
   ]
  },
  {
   "cell_type": "code",
   "execution_count": 73,
   "id": "9fe330f5-ec4e-4e06-b1a3-f0d37bf447f6",
   "metadata": {},
   "outputs": [
    {
     "data": {
      "text/plain": [
       "set()"
      ]
     },
     "execution_count": 73,
     "metadata": {},
     "output_type": "execute_result"
    }
   ],
   "source": [
    "set2"
   ]
  },
  {
   "cell_type": "code",
   "execution_count": 76,
   "id": "e8dbdb0c-6ae3-404e-918b-dcf23e7f282c",
   "metadata": {},
   "outputs": [],
   "source": [
    "set3={(1,2,4),(5,8,9)}"
   ]
  },
  {
   "cell_type": "code",
   "execution_count": 77,
   "id": "64fded53-30df-4dbe-bd31-24664f57bdde",
   "metadata": {},
   "outputs": [
    {
     "data": {
      "text/plain": [
       "{(1, 2, 4), (5, 8, 9)}"
      ]
     },
     "execution_count": 77,
     "metadata": {},
     "output_type": "execute_result"
    }
   ],
   "source": [
    "set3"
   ]
  },
  {
   "cell_type": "code",
   "execution_count": 78,
   "id": "4ad461db-c0ca-42a2-bbcd-f6e146632d38",
   "metadata": {},
   "outputs": [],
   "source": [
    "dict1 = {\"name\":\"Rohit\",\"age\":27}"
   ]
  },
  {
   "cell_type": "code",
   "execution_count": 79,
   "id": "6f26a45d-ff6e-4205-b753-2f231c3f8056",
   "metadata": {},
   "outputs": [
    {
     "data": {
      "text/plain": [
       "{'name': 'Rohit', 'age': 27}"
      ]
     },
     "execution_count": 79,
     "metadata": {},
     "output_type": "execute_result"
    }
   ],
   "source": [
    "dict1"
   ]
  },
  {
   "cell_type": "code",
   "execution_count": 80,
   "id": "7866c2fc-ea81-469f-b24b-3605565f9c0e",
   "metadata": {},
   "outputs": [
    {
     "data": {
      "text/plain": [
       "2"
      ]
     },
     "execution_count": 80,
     "metadata": {},
     "output_type": "execute_result"
    }
   ],
   "source": [
    "len(dict1)"
   ]
  },
  {
   "cell_type": "code",
   "execution_count": 81,
   "id": "0d25999c-40b7-4fe9-8585-d53383152256",
   "metadata": {},
   "outputs": [
    {
     "data": {
      "text/plain": [
       "dict_keys(['name', 'age'])"
      ]
     },
     "execution_count": 81,
     "metadata": {},
     "output_type": "execute_result"
    }
   ],
   "source": [
    "dict1.keys()"
   ]
  },
  {
   "cell_type": "code",
   "execution_count": 82,
   "id": "333af598-3c44-43f9-a03d-5f3c8018744f",
   "metadata": {},
   "outputs": [
    {
     "data": {
      "text/plain": [
       "dict_values(['Rohit', 27])"
      ]
     },
     "execution_count": 82,
     "metadata": {},
     "output_type": "execute_result"
    }
   ],
   "source": [
    "dict1.values()"
   ]
  },
  {
   "cell_type": "code",
   "execution_count": 85,
   "id": "c8bfbdf5-c783-4208-bcd3-8a1004d4e9bf",
   "metadata": {},
   "outputs": [],
   "source": [
    "dict1 ['course'] = 'Data Science Masters'"
   ]
  },
  {
   "cell_type": "code",
   "execution_count": 86,
   "id": "b479c4f7-0695-4e19-aa6e-698d081e7569",
   "metadata": {},
   "outputs": [
    {
     "data": {
      "text/plain": [
       "{'name': 'Rohit', 'age': 27, 'course': 'Data Science Masters'}"
      ]
     },
     "execution_count": 86,
     "metadata": {},
     "output_type": "execute_result"
    }
   ],
   "source": [
    "dict1"
   ]
  },
  {
   "cell_type": "code",
   "execution_count": 87,
   "id": "5804ddbe-e3f6-4680-b94a-073dbb2b64da",
   "metadata": {},
   "outputs": [],
   "source": [
    "del dict1['course']"
   ]
  },
  {
   "cell_type": "code",
   "execution_count": 88,
   "id": "4a7f0113-fae4-4e80-8064-ca52ff4fa3de",
   "metadata": {},
   "outputs": [
    {
     "data": {
      "text/plain": [
       "{'name': 'Rohit', 'age': 27}"
      ]
     },
     "execution_count": 88,
     "metadata": {},
     "output_type": "execute_result"
    }
   ],
   "source": [
    "dict1"
   ]
  },
  {
   "cell_type": "code",
   "execution_count": 91,
   "id": "e1288204-e71b-41ab-b18d-55a8e5a59d91",
   "metadata": {},
   "outputs": [
    {
     "data": {
      "text/plain": [
       "'Rohit'"
      ]
     },
     "execution_count": 91,
     "metadata": {},
     "output_type": "execute_result"
    }
   ],
   "source": [
    "dict1['name']"
   ]
  },
  {
   "cell_type": "code",
   "execution_count": 92,
   "id": "44d813ef-979e-4d14-8ac4-c18e4f83cd07",
   "metadata": {},
   "outputs": [],
   "source": [
    "dict2 = {\"name\":{'Rohit','Vinay','Mayank'},'age':[27,47,29],'course':('Data Science Masters','Project Management','SQL')}"
   ]
  },
  {
   "cell_type": "code",
   "execution_count": 93,
   "id": "0cfd1187-03b3-416c-8b9a-085d7b5d4ddd",
   "metadata": {},
   "outputs": [
    {
     "data": {
      "text/plain": [
       "{'name': {'Mayank', 'Rohit', 'Vinay'},\n",
       " 'age': [27, 47, 29],\n",
       " 'course': ('Data Science Masters', 'Project Management', 'SQL')}"
      ]
     },
     "execution_count": 93,
     "metadata": {},
     "output_type": "execute_result"
    }
   ],
   "source": [
    "dict2"
   ]
  },
  {
   "cell_type": "code",
   "execution_count": 94,
   "id": "774d9327-d4d8-44a2-a606-a7f9b102ebc6",
   "metadata": {},
   "outputs": [
    {
     "data": {
      "text/plain": [
       "['name', 'age', 'course']"
      ]
     },
     "execution_count": 94,
     "metadata": {},
     "output_type": "execute_result"
    }
   ],
   "source": [
    "list(dict2.keys())"
   ]
  },
  {
   "cell_type": "code",
   "execution_count": 95,
   "id": "5523984e-e75b-4124-af6e-152ec1e53db6",
   "metadata": {},
   "outputs": [
    {
     "data": {
      "text/plain": [
       "[{'Mayank', 'Rohit', 'Vinay'},\n",
       " [27, 47, 29],\n",
       " ('Data Science Masters', 'Project Management', 'SQL')]"
      ]
     },
     "execution_count": 95,
     "metadata": {},
     "output_type": "execute_result"
    }
   ],
   "source": [
    "list(dict2.values())"
   ]
  },
  {
   "cell_type": "code",
   "execution_count": 98,
   "id": "22681218-5c6d-4d29-abe0-96c246bbef8d",
   "metadata": {},
   "outputs": [
    {
     "data": {
      "text/plain": [
       "[('name', {'Mayank', 'Rohit', 'Vinay'}),\n",
       " ('age', [27, 47, 29]),\n",
       " ('course', ('Data Science Masters', 'Project Management', 'SQL'))]"
      ]
     },
     "execution_count": 98,
     "metadata": {},
     "output_type": "execute_result"
    }
   ],
   "source": [
    "list(dict2.items())"
   ]
  },
  {
   "cell_type": "code",
   "execution_count": 101,
   "id": "307e54b7-cb1b-4e61-8c52-26760bb1c7cc",
   "metadata": {},
   "outputs": [],
   "source": [
    "d3 = dict2.copy()"
   ]
  },
  {
   "cell_type": "code",
   "execution_count": 102,
   "id": "b720798c-0741-4d9b-a8d5-cc798d586429",
   "metadata": {},
   "outputs": [
    {
     "data": {
      "text/plain": [
       "{'name': {'Mayank', 'Rohit', 'Vinay'},\n",
       " 'age': [27, 47, 29],\n",
       " 'course': ('Data Science Masters', 'Project Management', 'SQL')}"
      ]
     },
     "execution_count": 102,
     "metadata": {},
     "output_type": "execute_result"
    }
   ],
   "source": [
    "d3"
   ]
  },
  {
   "cell_type": "code",
   "execution_count": 103,
   "id": "a65e9ef3-486f-4c81-adaa-7edd8cfcd248",
   "metadata": {},
   "outputs": [
    {
     "data": {
      "text/plain": [
       "[27, 47, 29]"
      ]
     },
     "execution_count": 103,
     "metadata": {},
     "output_type": "execute_result"
    }
   ],
   "source": [
    "d3.pop('age')"
   ]
  },
  {
   "cell_type": "code",
   "execution_count": 104,
   "id": "37a6bd2a-3bfb-438f-a759-ccc71b247a24",
   "metadata": {},
   "outputs": [
    {
     "data": {
      "text/plain": [
       "{'name': {'Mayank', 'Rohit', 'Vinay'},\n",
       " 'course': ('Data Science Masters', 'Project Management', 'SQL')}"
      ]
     },
     "execution_count": 104,
     "metadata": {},
     "output_type": "execute_result"
    }
   ],
   "source": [
    "d3"
   ]
  },
  {
   "cell_type": "markdown",
   "id": "7c6d2614-5f32-4a9e-99c8-429fc3e07b5f",
   "metadata": {},
   "source": [
    "### Dictionary Comprehension"
   ]
  },
  {
   "cell_type": "code",
   "execution_count": 1,
   "id": "dd8e88de-60e8-4a15-a5e8-f0edddd9ccae",
   "metadata": {},
   "outputs": [
    {
     "data": {
      "text/plain": [
       "{1: 1, 2: 4, 3: 9, 4: 16, 5: 25, 6: 36, 7: 49, 8: 64, 9: 81, 10: 100}"
      ]
     },
     "execution_count": 1,
     "metadata": {},
     "output_type": "execute_result"
    }
   ],
   "source": [
    "{i : i**2 for i in range(1,11)}"
   ]
  },
  {
   "cell_type": "code",
   "execution_count": 2,
   "id": "56021571-2eb9-46c6-bfdf-a519ce95be6e",
   "metadata": {},
   "outputs": [
    {
     "data": {
      "text/plain": [
       "{1: 0.0,\n",
       " 2: 0.3010299956639812,\n",
       " 3: 0.47712125471966244,\n",
       " 4: 0.6020599913279624,\n",
       " 5: 0.6989700043360189,\n",
       " 6: 0.7781512503836436,\n",
       " 7: 0.8450980400142568,\n",
       " 8: 0.9030899869919435,\n",
       " 9: 0.9542425094393249,\n",
       " 10: 1.0}"
      ]
     },
     "execution_count": 2,
     "metadata": {},
     "output_type": "execute_result"
    }
   ],
   "source": [
    "import math\n",
    "{i : math.log10(i) for i in range(1,11)}"
   ]
  },
  {
   "cell_type": "code",
   "execution_count": null,
   "id": "84ebe15d-cd20-4ab9-8c05-0aa423858559",
   "metadata": {},
   "outputs": [],
   "source": []
  },
  {
   "cell_type": "code",
   "execution_count": null,
   "id": "63327f52-2bc5-47ae-aa5c-0c130ed4c4d7",
   "metadata": {},
   "outputs": [],
   "source": []
  },
  {
   "cell_type": "code",
   "execution_count": null,
   "id": "9f6a18f5-36f4-4944-bbfe-eb815cb95be6",
   "metadata": {},
   "outputs": [],
   "source": []
  },
  {
   "cell_type": "code",
   "execution_count": null,
   "id": "fd1d79ef-8977-4d84-b24c-df7dbdde8f5f",
   "metadata": {},
   "outputs": [],
   "source": []
  },
  {
   "cell_type": "code",
   "execution_count": null,
   "id": "0b6c3c7c-7a3f-451f-b452-59d772e93b1d",
   "metadata": {},
   "outputs": [],
   "source": []
  },
  {
   "cell_type": "code",
   "execution_count": null,
   "id": "3e2fe24e-b5ef-468e-8d13-6cff54b38f43",
   "metadata": {},
   "outputs": [],
   "source": []
  },
  {
   "cell_type": "code",
   "execution_count": null,
   "id": "17f7c7c4-cf60-4bdf-b7d3-d226fb8ab04a",
   "metadata": {},
   "outputs": [],
   "source": []
  },
  {
   "cell_type": "code",
   "execution_count": null,
   "id": "18ddeccf-83bc-4f33-b38f-331b88e8f06c",
   "metadata": {},
   "outputs": [],
   "source": []
  },
  {
   "cell_type": "code",
   "execution_count": null,
   "id": "3c13a850-05ea-4dcd-8854-4167b207883d",
   "metadata": {},
   "outputs": [],
   "source": []
  },
  {
   "cell_type": "code",
   "execution_count": null,
   "id": "5e26e70a-9cb2-4809-be57-8d9d9bd6eccf",
   "metadata": {},
   "outputs": [],
   "source": []
  },
  {
   "cell_type": "code",
   "execution_count": null,
   "id": "815df5a5-197f-4872-9d44-92fb5b71ead2",
   "metadata": {},
   "outputs": [],
   "source": []
  },
  {
   "cell_type": "code",
   "execution_count": null,
   "id": "c2ed1fcd-a12f-40a5-8ace-3224408abf89",
   "metadata": {},
   "outputs": [],
   "source": []
  },
  {
   "cell_type": "code",
   "execution_count": null,
   "id": "9a82bc7d-e7d5-4aa8-ab39-e5fa42636e93",
   "metadata": {},
   "outputs": [],
   "source": []
  },
  {
   "cell_type": "code",
   "execution_count": null,
   "id": "17930e0b-01f2-4fd1-b3a9-1c8a41ed6ddb",
   "metadata": {},
   "outputs": [],
   "source": []
  },
  {
   "cell_type": "code",
   "execution_count": null,
   "id": "da19d590-f5d7-4387-841d-989cc07c9877",
   "metadata": {},
   "outputs": [],
   "source": []
  },
  {
   "cell_type": "code",
   "execution_count": null,
   "id": "45941cf2-2b1b-45be-aad2-07795101ca35",
   "metadata": {},
   "outputs": [],
   "source": []
  },
  {
   "cell_type": "code",
   "execution_count": null,
   "id": "ca6be7e9-e843-4ef8-b2f4-5a4ecb2ac74e",
   "metadata": {},
   "outputs": [],
   "source": []
  },
  {
   "cell_type": "code",
   "execution_count": null,
   "id": "aa4af7c5-bede-42a1-8ed3-7ead80a8b0c9",
   "metadata": {},
   "outputs": [],
   "source": []
  },
  {
   "cell_type": "code",
   "execution_count": null,
   "id": "2f5ec153-2d27-4919-91fe-d5110c8b2096",
   "metadata": {},
   "outputs": [],
   "source": []
  },
  {
   "cell_type": "code",
   "execution_count": null,
   "id": "5758529f-3a7a-4691-a196-3c8490d51632",
   "metadata": {},
   "outputs": [],
   "source": []
  },
  {
   "cell_type": "code",
   "execution_count": null,
   "id": "15fe083d-4f62-4113-a683-a52004aff431",
   "metadata": {},
   "outputs": [],
   "source": []
  },
  {
   "cell_type": "code",
   "execution_count": null,
   "id": "00f4a5ee-6659-4adb-85da-147d2e1ed886",
   "metadata": {},
   "outputs": [],
   "source": []
  },
  {
   "cell_type": "code",
   "execution_count": null,
   "id": "161a3363-1bc2-45af-8f14-014a0c1eb621",
   "metadata": {},
   "outputs": [],
   "source": []
  },
  {
   "cell_type": "code",
   "execution_count": null,
   "id": "c4ff6041-c14d-49bb-86e1-ea3da9529bdd",
   "metadata": {},
   "outputs": [],
   "source": []
  },
  {
   "cell_type": "code",
   "execution_count": null,
   "id": "f8c9c5df-1720-477b-8efe-c0009e105a97",
   "metadata": {},
   "outputs": [],
   "source": []
  },
  {
   "cell_type": "code",
   "execution_count": null,
   "id": "8c85466d-7c34-446d-bd76-ae6ab607a474",
   "metadata": {},
   "outputs": [],
   "source": []
  }
 ],
 "metadata": {
  "kernelspec": {
   "display_name": "Python 3 (ipykernel)",
   "language": "python",
   "name": "python3"
  },
  "language_info": {
   "codemirror_mode": {
    "name": "ipython",
    "version": 3
   },
   "file_extension": ".py",
   "mimetype": "text/x-python",
   "name": "python",
   "nbconvert_exporter": "python",
   "pygments_lexer": "ipython3",
   "version": "3.10.8"
  }
 },
 "nbformat": 4,
 "nbformat_minor": 5
}
